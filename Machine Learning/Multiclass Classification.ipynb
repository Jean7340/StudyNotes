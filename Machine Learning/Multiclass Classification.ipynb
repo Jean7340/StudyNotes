{
  "cells": [
    {
      "cell_type": "markdown",
      "source": [
        "# Asynchronous Lecture 05\n",
        "\n",
        "## Atrificial neural networks\n",
        "\n",
        "### CIS432 Machine Learning for Business Analytics\n",
        "\n"
      ],
      "metadata": {
        "id": "_CSToPoKo3XE"
      }
    },
    {
      "cell_type": "markdown",
      "metadata": {
        "id": "8zMF6SffolDT"
      },
      "source": [
        "# Multiclass Classification\n",
        "\n",
        "From \"Deep Learning with Python\" by François Chollet. For additional explanations, see https://github.com/fchollet/deep-learning-with-python-notebooks\n",
        "\n",
        "\n",
        "* In the previous example, each observation belonged to one of two classes (positive/negative reviews)\n",
        "* In this example, each observation belongs to one of 46 classes\n",
        "    - the classes are mutually exclusive (an observation in the training data belongs to EXACTLY one class)\n",
        "    - a slightly different problem is the _multilabel, multiclass classification_ problem where each observation could correspond to more than one class"
      ]
    },
    {
      "cell_type": "markdown",
      "metadata": {
        "id": "I_kzUc-golDW"
      },
      "source": [
        "## Data\n",
        "* Reuters newswires dataset (\"an electronically transmitted service providing up-to-the-minute news stories, financial market updates, and other information.\")\n",
        "* Textual data, encoded as integers (similarly to previous example)"
      ]
    },
    {
      "cell_type": "code",
      "execution_count": null,
      "metadata": {
        "id": "1qdhozOQolDX",
        "outputId": "4f5b457d-6a64-4567-c03a-dcc6a710983b",
        "colab": {
          "base_uri": "https://localhost:8080/"
        }
      },
      "outputs": [
        {
          "output_type": "stream",
          "name": "stdout",
          "text": [
            "Downloading data from https://storage.googleapis.com/tensorflow/tf-keras-datasets/reuters.npz\n",
            "\u001b[1m2110848/2110848\u001b[0m \u001b[32m━━━━━━━━━━━━━━━━━━━━\u001b[0m\u001b[37m\u001b[0m \u001b[1m0s\u001b[0m 0us/step\n"
          ]
        }
      ],
      "source": [
        "from tensorflow.keras.datasets import reuters\n",
        "(train_data, train_labels), (test_data, test_labels) = reuters.load_data(num_words=10000)"
      ]
    },
    {
      "cell_type": "code",
      "execution_count": null,
      "metadata": {
        "id": "yVlFe3IeolDY",
        "outputId": "2b41b3ae-c124-4eed-8909-b3c09d271e3e",
        "colab": {
          "base_uri": "https://localhost:8080/"
        }
      },
      "outputs": [
        {
          "output_type": "execute_result",
          "data": {
            "text/plain": [
              "8982"
            ]
          },
          "metadata": {},
          "execution_count": 2
        }
      ],
      "source": [
        "len(train_data)"
      ]
    },
    {
      "cell_type": "code",
      "execution_count": null,
      "metadata": {
        "id": "SOuZY701olDY",
        "outputId": "fa278a12-e7c8-4058-899d-c36d547facbc",
        "colab": {
          "base_uri": "https://localhost:8080/"
        }
      },
      "outputs": [
        {
          "output_type": "execute_result",
          "data": {
            "text/plain": [
              "2246"
            ]
          },
          "metadata": {},
          "execution_count": 3
        }
      ],
      "source": [
        "len(test_data)"
      ]
    },
    {
      "cell_type": "code",
      "execution_count": null,
      "metadata": {
        "id": "ur3QUONOolDY",
        "outputId": "94f4ef91-f254-4c4e-8215-68cc6da6573a",
        "colab": {
          "base_uri": "https://localhost:8080/"
        }
      },
      "outputs": [
        {
          "output_type": "stream",
          "name": "stdout",
          "text": [
            "[1, 2, 2, 8, 43, 10, 447, 5, 25, 207, 270, 5, 3095, 111, 16, 369, 186, 90, 67, 7, 89, 5, 19, 102, 6, 19, 124, 15, 90, 67, 84, 22, 482, 26, 7, 48, 4, 49, 8, 864, 39, 209, 154, 6, 151, 6, 83, 11, 15, 22, 155, 11, 15, 7, 48, 9, 4579, 1005, 504, 6, 258, 6, 272, 11, 15, 22, 134, 44, 11, 15, 16, 8, 197, 1245, 90, 67, 52, 29, 209, 30, 32, 132, 6, 109, 15, 17, 12]\n"
          ]
        }
      ],
      "source": [
        "print(train_data[0])"
      ]
    },
    {
      "cell_type": "code",
      "execution_count": null,
      "metadata": {
        "scrolled": true,
        "id": "AjH-xSAbolDZ",
        "outputId": "80c7466b-9afb-497f-9da2-3422fb80b264",
        "colab": {
          "base_uri": "https://localhost:8080/"
        }
      },
      "outputs": [
        {
          "output_type": "stream",
          "name": "stdout",
          "text": [
            "Downloading data from https://storage.googleapis.com/tensorflow/tf-keras-datasets/reuters_word_index.json\n",
            "\u001b[1m550378/550378\u001b[0m \u001b[32m━━━━━━━━━━━━━━━━━━━━\u001b[0m\u001b[37m\u001b[0m \u001b[1m0s\u001b[0m 0us/step\n",
            "['?', '?', '?', 'said', 'as', 'a', 'result', 'of', 'its', 'december', 'acquisition', 'of', 'space', 'co', 'it', 'expects', 'earnings', 'per', 'share', 'in', '1987', 'of', '1', '15', 'to', '1', '30', 'dlrs', 'per', 'share', 'up', 'from', '70', 'cts', 'in', '1986', 'the', 'company', 'said', 'pretax', 'net', 'should', 'rise', 'to', 'nine', 'to', '10', 'mln', 'dlrs', 'from', 'six', 'mln', 'dlrs', 'in', '1986', 'and', 'rental', 'operation', 'revenues', 'to', '19', 'to', '22', 'mln', 'dlrs', 'from', '12', '5', 'mln', 'dlrs', 'it', 'said', 'cash', 'flow', 'per', 'share', 'this', 'year', 'should', 'be', '2', '50', 'to', 'three', 'dlrs', 'reuter', '3']\n"
          ]
        }
      ],
      "source": [
        "# decoding numbers to text\n",
        "word_index = reuters.get_word_index()\n",
        "reverse_word_index = dict([(value,key) for (key, value) in word_index.items()])\n",
        "print([reverse_word_index.get(i-3,'?') for i in train_data[0]])"
      ]
    },
    {
      "cell_type": "code",
      "execution_count": null,
      "metadata": {
        "id": "PjdlHVdyolDZ",
        "outputId": "afe87d9a-a501-4ada-92e9-523ed0545bf6",
        "colab": {
          "base_uri": "https://localhost:8080/"
        }
      },
      "outputs": [
        {
          "output_type": "execute_result",
          "data": {
            "text/plain": [
              "3"
            ]
          },
          "metadata": {},
          "execution_count": 6
        }
      ],
      "source": [
        "train_labels[0]"
      ]
    },
    {
      "cell_type": "markdown",
      "metadata": {
        "id": "hI6HWxSmolDZ"
      },
      "source": [
        "## Preparing the data"
      ]
    },
    {
      "cell_type": "code",
      "execution_count": null,
      "metadata": {
        "id": "3NUHyf5iolDZ"
      },
      "outputs": [],
      "source": [
        "import numpy as np\n",
        "\n",
        "def vectorize_sequence(sequences, dimension=10000):\n",
        "    results = np.zeros((len(sequences),dimension))\n",
        "    for i, sequence in enumerate(sequences):\n",
        "        results[i,sequence] = 1.\n",
        "    return(results)\n",
        "\n",
        "x_train = vectorize_sequence(train_data)\n",
        "x_test = vectorize_sequence(test_data)"
      ]
    },
    {
      "cell_type": "code",
      "execution_count": null,
      "metadata": {
        "id": "ep_OVJnXolDa"
      },
      "outputs": [],
      "source": [
        "def to_one_hot(labels, dimension=46):\n",
        "    results = np.zeros((len(labels),dimension))\n",
        "    for i, label in enumerate(labels):\n",
        "        results[i,label]=1.\n",
        "    return(results)\n",
        "\n",
        "one_hot_train_labels = to_one_hot(train_labels)\n",
        "one_hot_test_labels = to_one_hot(test_labels)\n",
        "\n",
        "# built-in-way using Keras\n",
        "#from tensorflow.keras.utils.np_utils import to_categorical\n",
        "#one_hot_train_labels2 = to_categorical(train_labels)\n",
        "#one_hot_test_labels2 = to_categorical(test_labels)"
      ]
    },
    {
      "cell_type": "markdown",
      "metadata": {
        "id": "DKOuWr5qolDa"
      },
      "source": [
        "### Prepering a validation set"
      ]
    },
    {
      "cell_type": "code",
      "execution_count": null,
      "metadata": {
        "id": "q7CwfLuDolDa"
      },
      "outputs": [],
      "source": [
        "x_val = x_train[:1000]\n",
        "partial_x_train = x_train[1000:]\n",
        "y_val = one_hot_train_labels[:1000]\n",
        "partial_y_train = one_hot_train_labels[1000:]"
      ]
    },
    {
      "cell_type": "markdown",
      "metadata": {
        "id": "Eu3yTJIaolDa"
      },
      "source": [
        "## Model definition\n",
        "* In exmaple 2, we had a single neuron in the output layer whose activation was the sigmoid function (which produced a value between 0 to 1).\n",
        "* We also had 16 neurons in each of the hidden layers.\n",
        "* Now we'll have 46 neurons in the output layer.\n",
        "* The value of each neuron varies between 0 to 1, and their total summation is 1 (in order to represent a probability distribution).\n",
        "* This can be achieved using the 'softmax' activation function.\n",
        "* We'll use 64 neurons for each of the hidden layers.\n",
        "* Intuitively, we lose information when we decrease the size of layers. It would be hard to classify 46 classes when the size of the hidden layers is significantly smaller than the output layer.\n"
      ]
    },
    {
      "cell_type": "markdown",
      "metadata": {
        "id": "bdeXB8gNolDa"
      },
      "source": [
        "__DRAW ON BOARD__"
      ]
    },
    {
      "cell_type": "code",
      "execution_count": null,
      "metadata": {
        "id": "0v6s9GbZolDa",
        "outputId": "d6e7571b-874d-4ff4-f9cc-b44487fb799b",
        "colab": {
          "base_uri": "https://localhost:8080/"
        }
      },
      "outputs": [
        {
          "output_type": "stream",
          "name": "stderr",
          "text": [
            "/usr/local/lib/python3.11/dist-packages/keras/src/layers/core/dense.py:87: UserWarning: Do not pass an `input_shape`/`input_dim` argument to a layer. When using Sequential models, prefer using an `Input(shape)` object as the first layer in the model instead.\n",
            "  super().__init__(activity_regularizer=activity_regularizer, **kwargs)\n"
          ]
        }
      ],
      "source": [
        "from tensorflow.keras import models\n",
        "from tensorflow.keras import layers\n",
        "\n",
        "model = models.Sequential()\n",
        "model.add(layers.Dense(64, activation='relu', input_shape=(10000,)))\n",
        "model.add(layers.Dense(64, activation='relu'))\n",
        "model.add(layers.Dense(46, activation='softmax'))"
      ]
    },
    {
      "cell_type": "markdown",
      "metadata": {
        "id": "U8jrx_-iolDb"
      },
      "source": [
        "### Softmax regression\n",
        "* There are $K=46$ classes\n",
        "* We associate with each class $k$ a score function $s_k(x)=W_k\\cdot x$\n",
        "* We predict according to the largest score\n",
        "* How to estimate probabilities?\n",
        "\n",
        "$$\\hat{p}_k(x) = \\frac{e^{s_k(x)}}{\\sum_{j=1}^K e^{s_j(x)}}$$\n",
        "\n",
        "* Observations\n",
        "    - each prediction is between 0 and 1\n",
        "    - for each observation the predictions sum to 1    "
      ]
    },
    {
      "cell_type": "markdown",
      "metadata": {
        "id": "SbEs8kL9olDb"
      },
      "source": [
        "## Compiling the model"
      ]
    },
    {
      "cell_type": "code",
      "execution_count": null,
      "metadata": {
        "id": "T3zPuaTeolDb"
      },
      "outputs": [],
      "source": [
        "model.compile(optimizer='rmsprop', loss='categorical_crossentropy', metrics=['accuracy'])"
      ]
    },
    {
      "cell_type": "markdown",
      "metadata": {
        "id": "QrmD9jHholDb"
      },
      "source": [
        "__Logistic loss (categorical_crossentropy)__\n",
        "\n",
        "Negative log-loss = $-\\sum_{i=1}^{n}\\sum_{k=1}^{K} y_k^{(i)}\\cdot log(\\hat{p}_k(x^{(i)}))$"
      ]
    },
    {
      "cell_type": "markdown",
      "metadata": {
        "id": "NjNoBDEdolDb"
      },
      "source": [
        "## Training the model"
      ]
    },
    {
      "cell_type": "code",
      "execution_count": null,
      "metadata": {
        "id": "Aq1y23ulolDb",
        "outputId": "94e22879-2bc4-45e4-ba37-40bb0c30abc2",
        "colab": {
          "base_uri": "https://localhost:8080/"
        }
      },
      "outputs": [
        {
          "output_type": "stream",
          "name": "stdout",
          "text": [
            "Epoch 1/20\n",
            "\u001b[1m16/16\u001b[0m \u001b[32m━━━━━━━━━━━━━━━━━━━━\u001b[0m\u001b[37m\u001b[0m \u001b[1m4s\u001b[0m 133ms/step - accuracy: 0.3092 - loss: 3.3274 - val_accuracy: 0.5870 - val_loss: 1.9439\n",
            "Epoch 2/20\n",
            "\u001b[1m16/16\u001b[0m \u001b[32m━━━━━━━━━━━━━━━━━━━━\u001b[0m\u001b[37m\u001b[0m \u001b[1m2s\u001b[0m 104ms/step - accuracy: 0.6590 - loss: 1.7147 - val_accuracy: 0.6870 - val_loss: 1.4160\n",
            "Epoch 3/20\n",
            "\u001b[1m16/16\u001b[0m \u001b[32m━━━━━━━━━━━━━━━━━━━━\u001b[0m\u001b[37m\u001b[0m \u001b[1m3s\u001b[0m 104ms/step - accuracy: 0.7280 - loss: 1.2726 - val_accuracy: 0.7430 - val_loss: 1.1952\n",
            "Epoch 4/20\n",
            "\u001b[1m16/16\u001b[0m \u001b[32m━━━━━━━━━━━━━━━━━━━━\u001b[0m\u001b[37m\u001b[0m \u001b[1m1s\u001b[0m 83ms/step - accuracy: 0.7773 - loss: 1.0061 - val_accuracy: 0.7540 - val_loss: 1.1052\n",
            "Epoch 5/20\n",
            "\u001b[1m16/16\u001b[0m \u001b[32m━━━━━━━━━━━━━━━━━━━━\u001b[0m\u001b[37m\u001b[0m \u001b[1m2s\u001b[0m 57ms/step - accuracy: 0.8213 - loss: 0.8434 - val_accuracy: 0.7740 - val_loss: 1.0146\n",
            "Epoch 6/20\n",
            "\u001b[1m16/16\u001b[0m \u001b[32m━━━━━━━━━━━━━━━━━━━━\u001b[0m\u001b[37m\u001b[0m \u001b[1m1s\u001b[0m 54ms/step - accuracy: 0.8408 - loss: 0.7133 - val_accuracy: 0.8100 - val_loss: 0.9470\n",
            "Epoch 7/20\n",
            "\u001b[1m16/16\u001b[0m \u001b[32m━━━━━━━━━━━━━━━━━━━━\u001b[0m\u001b[37m\u001b[0m \u001b[1m1s\u001b[0m 50ms/step - accuracy: 0.8760 - loss: 0.5806 - val_accuracy: 0.8100 - val_loss: 0.8966\n",
            "Epoch 8/20\n",
            "\u001b[1m16/16\u001b[0m \u001b[32m━━━━━━━━━━━━━━━━━━━━\u001b[0m\u001b[37m\u001b[0m \u001b[1m1s\u001b[0m 52ms/step - accuracy: 0.9027 - loss: 0.4755 - val_accuracy: 0.8090 - val_loss: 0.8840\n",
            "Epoch 9/20\n",
            "\u001b[1m16/16\u001b[0m \u001b[32m━━━━━━━━━━━━━━━━━━━━\u001b[0m\u001b[37m\u001b[0m \u001b[1m1s\u001b[0m 52ms/step - accuracy: 0.9121 - loss: 0.4073 - val_accuracy: 0.8160 - val_loss: 0.8623\n",
            "Epoch 10/20\n",
            "\u001b[1m16/16\u001b[0m \u001b[32m━━━━━━━━━━━━━━━━━━━━\u001b[0m\u001b[37m\u001b[0m \u001b[1m1s\u001b[0m 55ms/step - accuracy: 0.9280 - loss: 0.3593 - val_accuracy: 0.8150 - val_loss: 0.8449\n",
            "Epoch 11/20\n",
            "\u001b[1m16/16\u001b[0m \u001b[32m━━━━━━━━━━━━━━━━━━━━\u001b[0m\u001b[37m\u001b[0m \u001b[1m1s\u001b[0m 50ms/step - accuracy: 0.9368 - loss: 0.3009 - val_accuracy: 0.8160 - val_loss: 0.8568\n",
            "Epoch 12/20\n",
            "\u001b[1m16/16\u001b[0m \u001b[32m━━━━━━━━━━━━━━━━━━━━\u001b[0m\u001b[37m\u001b[0m \u001b[1m1s\u001b[0m 85ms/step - accuracy: 0.9417 - loss: 0.2596 - val_accuracy: 0.8140 - val_loss: 0.8585\n",
            "Epoch 13/20\n",
            "\u001b[1m16/16\u001b[0m \u001b[32m━━━━━━━━━━━━━━━━━━━━\u001b[0m\u001b[37m\u001b[0m \u001b[1m1s\u001b[0m 88ms/step - accuracy: 0.9450 - loss: 0.2417 - val_accuracy: 0.8150 - val_loss: 0.8772\n",
            "Epoch 14/20\n",
            "\u001b[1m16/16\u001b[0m \u001b[32m━━━━━━━━━━━━━━━━━━━━\u001b[0m\u001b[37m\u001b[0m \u001b[1m3s\u001b[0m 93ms/step - accuracy: 0.9504 - loss: 0.2077 - val_accuracy: 0.8120 - val_loss: 0.8667\n",
            "Epoch 15/20\n",
            "\u001b[1m16/16\u001b[0m \u001b[32m━━━━━━━━━━━━━━━━━━━━\u001b[0m\u001b[37m\u001b[0m \u001b[1m2s\u001b[0m 88ms/step - accuracy: 0.9563 - loss: 0.1817 - val_accuracy: 0.8170 - val_loss: 0.8698\n",
            "Epoch 16/20\n",
            "\u001b[1m16/16\u001b[0m \u001b[32m━━━━━━━━━━━━━━━━━━━━\u001b[0m\u001b[37m\u001b[0m \u001b[1m2s\u001b[0m 99ms/step - accuracy: 0.9548 - loss: 0.1745 - val_accuracy: 0.8210 - val_loss: 0.8699\n",
            "Epoch 17/20\n",
            "\u001b[1m16/16\u001b[0m \u001b[32m━━━━━━━━━━━━━━━━━━━━\u001b[0m\u001b[37m\u001b[0m \u001b[1m2s\u001b[0m 88ms/step - accuracy: 0.9549 - loss: 0.1583 - val_accuracy: 0.8180 - val_loss: 0.8917\n",
            "Epoch 18/20\n",
            "\u001b[1m16/16\u001b[0m \u001b[32m━━━━━━━━━━━━━━━━━━━━\u001b[0m\u001b[37m\u001b[0m \u001b[1m3s\u001b[0m 91ms/step - accuracy: 0.9588 - loss: 0.1449 - val_accuracy: 0.8270 - val_loss: 0.8969\n",
            "Epoch 19/20\n",
            "\u001b[1m16/16\u001b[0m \u001b[32m━━━━━━━━━━━━━━━━━━━━\u001b[0m\u001b[37m\u001b[0m \u001b[1m2s\u001b[0m 97ms/step - accuracy: 0.9643 - loss: 0.1315 - val_accuracy: 0.8150 - val_loss: 0.9222\n",
            "Epoch 20/20\n",
            "\u001b[1m16/16\u001b[0m \u001b[32m━━━━━━━━━━━━━━━━━━━━\u001b[0m\u001b[37m\u001b[0m \u001b[1m2s\u001b[0m 86ms/step - accuracy: 0.9625 - loss: 0.1279 - val_accuracy: 0.8110 - val_loss: 0.9061\n"
          ]
        }
      ],
      "source": [
        "history = model.fit(partial_x_train, partial_y_train, epochs=20, batch_size=512, validation_data=(x_val,y_val))"
      ]
    },
    {
      "cell_type": "markdown",
      "metadata": {
        "id": "umgADBxAolDb"
      },
      "source": [
        "## Visualizing training and validation errors"
      ]
    },
    {
      "cell_type": "code",
      "execution_count": null,
      "metadata": {
        "id": "1Gd_qfDcolDb"
      },
      "outputs": [],
      "source": [
        "import matplotlib.pyplot as plt\n",
        "\n",
        "def plot_history(h):\n",
        "    history_dict = h.history\n",
        "    loss_values = history_dict['loss']\n",
        "    val_loss_values = history_dict['val_loss']\n",
        "    epochs = range(1,len(loss_values)+1)\n",
        "    plt.plot(epochs, loss_values, 'bo', label='Training loss')\n",
        "    plt.plot(epochs, val_loss_values, 'b', label='Validation loss')\n",
        "    plt.xlabel('Epochs')\n",
        "    plt.ylabel('Loss')\n",
        "    plt.legend()\n",
        "    plt.show()\n",
        "\n",
        "    acc_values = history_dict['accuracy']\n",
        "    val_acc_values = history_dict['val_accuracy']\n",
        "    plt.plot(epochs, acc_values, 'bo', label='Training accuracy')\n",
        "    plt.plot(epochs, val_acc_values, 'b', label='Validation accuracy')\n",
        "    plt.xlabel('Epochs')\n",
        "    plt.ylabel('Accuracy')\n",
        "    plt.legend()\n",
        "    plt.show()"
      ]
    },
    {
      "cell_type": "code",
      "execution_count": null,
      "metadata": {
        "id": "h9RPaFldolDb",
        "outputId": "6cbc15ef-07df-4840-9d66-6be36ea13fd1",
        "colab": {
          "base_uri": "https://localhost:8080/",
          "height": 886
        }
      },
      "outputs": [
        {
          "output_type": "display_data",
          "data": {
            "text/plain": [
              "<Figure size 640x480 with 1 Axes>"
            ],
            "image/png": "[encoded data removed]"
          },
          "metadata": {}
        },
        {
          "output_type": "display_data",
          "data": {
            "text/plain": [
              "<Figure size 640x480 with 1 Axes>"
            ],
            "image/png": "[encoded data removed]"
          },
          "metadata": {}
        }
      ],
      "source": [
        "plot_history(history)"
      ]
    },
    {
      "cell_type": "markdown",
      "metadata": {
        "id": "KsxCgDs9olDb"
      },
      "source": [
        "## Retrain model\n",
        "* Run for 9 epochs (accuracy stops improving)"
      ]
    },
    {
      "cell_type": "code",
      "execution_count": null,
      "metadata": {
        "id": "fziyyNXwolDb",
        "outputId": "aa089fc0-2686-4abd-b500-76b7231be126",
        "colab": {
          "base_uri": "https://localhost:8080/"
        }
      },
      "outputs": [
        {
          "output_type": "stream",
          "name": "stdout",
          "text": [
            "Epoch 1/9\n",
            "\u001b[1m16/16\u001b[0m \u001b[32m━━━━━━━━━━━━━━━━━━━━\u001b[0m\u001b[37m\u001b[0m \u001b[1m3s\u001b[0m 116ms/step - accuracy: 0.4166 - loss: 3.2081 - val_accuracy: 0.6210 - val_loss: 1.8519\n",
            "Epoch 2/9\n",
            "\u001b[1m16/16\u001b[0m \u001b[32m━━━━━━━━━━━━━━━━━━━━\u001b[0m\u001b[37m\u001b[0m \u001b[1m2s\u001b[0m 68ms/step - accuracy: 0.6773 - loss: 1.6255 - val_accuracy: 0.6830 - val_loss: 1.3739\n",
            "Epoch 3/9\n",
            "\u001b[1m16/16\u001b[0m \u001b[32m━━━━━━━━━━━━━━━━━━━━\u001b[0m\u001b[37m\u001b[0m \u001b[1m1s\u001b[0m 62ms/step - accuracy: 0.7384 - loss: 1.2225 - val_accuracy: 0.7390 - val_loss: 1.1951\n",
            "Epoch 4/9\n",
            "\u001b[1m16/16\u001b[0m \u001b[32m━━━━━━━━━━━━━━━━━━━━\u001b[0m\u001b[37m\u001b[0m \u001b[1m1s\u001b[0m 67ms/step - accuracy: 0.7814 - loss: 1.0095 - val_accuracy: 0.7630 - val_loss: 1.0965\n",
            "Epoch 5/9\n",
            "\u001b[1m16/16\u001b[0m \u001b[32m━━━━━━━━━━━━━━━━━━━━\u001b[0m\u001b[37m\u001b[0m \u001b[1m1s\u001b[0m 68ms/step - accuracy: 0.8211 - loss: 0.8361 - val_accuracy: 0.7750 - val_loss: 1.0178\n",
            "Epoch 6/9\n",
            "\u001b[1m16/16\u001b[0m \u001b[32m━━━━━━━━━━━━━━━━━━━━\u001b[0m\u001b[37m\u001b[0m \u001b[1m2s\u001b[0m 92ms/step - accuracy: 0.8497 - loss: 0.6878 - val_accuracy: 0.8060 - val_loss: 0.9425\n",
            "Epoch 7/9\n",
            "\u001b[1m16/16\u001b[0m \u001b[32m━━━━━━━━━━━━━━━━━━━━\u001b[0m\u001b[37m\u001b[0m \u001b[1m3s\u001b[0m 94ms/step - accuracy: 0.8825 - loss: 0.5530 - val_accuracy: 0.8100 - val_loss: 0.9237\n",
            "Epoch 8/9\n",
            "\u001b[1m16/16\u001b[0m \u001b[32m━━━━━━━━━━━━━━━━━━━━\u001b[0m\u001b[37m\u001b[0m \u001b[1m1s\u001b[0m 66ms/step - accuracy: 0.9033 - loss: 0.4846 - val_accuracy: 0.8190 - val_loss: 0.8922\n",
            "Epoch 9/9\n",
            "\u001b[1m16/16\u001b[0m \u001b[32m━━━━━━━━━━━━━━━━━━━━\u001b[0m\u001b[37m\u001b[0m \u001b[1m1s\u001b[0m 67ms/step - accuracy: 0.9198 - loss: 0.4109 - val_accuracy: 0.8170 - val_loss: 0.8716\n",
            "\u001b[1m71/71\u001b[0m \u001b[32m━━━━━━━━━━━━━━━━━━━━\u001b[0m\u001b[37m\u001b[0m \u001b[1m0s\u001b[0m 4ms/step - accuracy: 0.8007 - loss: 0.8892\n"
          ]
        }
      ],
      "source": [
        "model = models.Sequential()\n",
        "model.add(layers.Dense(64, activation='relu', input_shape=(10000,)))\n",
        "model.add(layers.Dense(64, activation='relu'))\n",
        "model.add(layers.Dense(46, activation='softmax'))\n",
        "\n",
        "model.compile(optimizer='rmsprop', loss='categorical_crossentropy', metrics=['accuracy'])\n",
        "\n",
        "model.fit(partial_x_train, partial_y_train, epochs=9, batch_size=512, validation_data=(x_val, y_val))\n",
        "results = model.evaluate(x_test, one_hot_test_labels)"
      ]
    },
    {
      "cell_type": "code",
      "execution_count": null,
      "metadata": {
        "id": "d4PHyY7NolDc",
        "outputId": "09260206-5ac4-46b7-aa2d-6b94f999e2ea",
        "colab": {
          "base_uri": "https://localhost:8080/"
        }
      },
      "outputs": [
        {
          "output_type": "execute_result",
          "data": {
            "text/plain": [
              "[0.9329736232757568, 0.7885128855705261]"
            ]
          },
          "metadata": {},
          "execution_count": 16
        }
      ],
      "source": [
        "results"
      ]
    },
    {
      "cell_type": "markdown",
      "metadata": {
        "id": "ODcCoK2colDc"
      },
      "source": [
        "Is 78% accuracy high? (there are 46 classes)"
      ]
    },
    {
      "cell_type": "code",
      "execution_count": null,
      "metadata": {
        "id": "jbqOAhInolDc",
        "outputId": "97293345-d009-4c4f-cff4-31bda3fa4101",
        "colab": {
          "base_uri": "https://localhost:8080/"
        }
      },
      "outputs": [
        {
          "output_type": "execute_result",
          "data": {
            "text/plain": [
              "0.19145146927871773"
            ]
          },
          "metadata": {},
          "execution_count": 17
        }
      ],
      "source": [
        "# accuracy of a random classifier\n",
        "import copy\n",
        "test_labels_copy = copy.copy(test_labels)\n",
        "np.random.shuffle(test_labels_copy)\n",
        "hits_array = np.array(test_labels) == np.array(test_labels_copy)\n",
        "float(np.sum(hits_array)/len(test_labels))"
      ]
    },
    {
      "cell_type": "markdown",
      "metadata": {
        "id": "81aUet-OolDc"
      },
      "source": [
        "## Generating predictions on new data"
      ]
    },
    {
      "cell_type": "code",
      "execution_count": null,
      "metadata": {
        "id": "0BFQE7efolDc",
        "outputId": "973c3460-7ddd-4959-848d-98abc15ef6bd",
        "colab": {
          "base_uri": "https://localhost:8080/"
        }
      },
      "outputs": [
        {
          "output_type": "stream",
          "name": "stdout",
          "text": [
            "\u001b[1m71/71\u001b[0m \u001b[32m━━━━━━━━━━━━━━━━━━━━\u001b[0m\u001b[37m\u001b[0m \u001b[1m0s\u001b[0m 3ms/step\n",
            "(2246, 46)\n"
          ]
        },
        {
          "output_type": "execute_result",
          "data": {
            "text/plain": [
              "array([1.6791451e-05, 6.6007342e-04, 3.2182925e-05, 8.7855995e-01,\n",
              "       1.1026338e-01, 4.0033797e-06, 1.1073357e-04, 5.5579534e-05,\n",
              "       1.9000508e-03, 2.0005218e-05, 6.0458657e-05, 5.4801727e-04,\n",
              "       6.3062209e-05, 1.2202645e-04, 1.9846168e-05, 3.6007641e-05,\n",
              "       4.7243212e-04, 7.7079821e-05, 3.3032641e-04, 5.8467052e-04,\n",
              "       1.7035169e-03, 3.2800500e-04, 2.9194323e-05, 1.5875504e-04,\n",
              "       2.1972366e-04, 2.6553115e-04, 9.8180230e-05, 5.6146269e-05,\n",
              "       1.4494849e-05, 2.9333375e-04, 2.3247537e-04, 7.2355015e-04,\n",
              "       6.8220259e-05, 3.1311095e-06, 1.6531165e-04, 5.0787994e-06,\n",
              "       8.2193152e-04, 3.1444546e-05, 1.0369508e-05, 3.0075372e-04,\n",
              "       6.9498446e-06, 4.5192696e-04, 4.5216943e-06, 1.0184880e-05,\n",
              "       3.7795649e-05, 2.2898983e-05], dtype=float32)"
            ]
          },
          "metadata": {},
          "execution_count": 18
        }
      ],
      "source": [
        "predictions = model.predict(x_test)\n",
        "print(predictions.shape)\n",
        "predictions[0]"
      ]
    },
    {
      "cell_type": "code",
      "execution_count": null,
      "metadata": {
        "id": "dfOu7VyRolDc",
        "outputId": "9608bb15-4e1f-4cc9-cba2-ca916184aa01",
        "colab": {
          "base_uri": "https://localhost:8080/"
        }
      },
      "outputs": [
        {
          "output_type": "execute_result",
          "data": {
            "text/plain": [
              "1.0000001"
            ]
          },
          "metadata": {},
          "execution_count": 19
        }
      ],
      "source": [
        "np.sum(predictions[0])"
      ]
    },
    {
      "cell_type": "code",
      "execution_count": null,
      "metadata": {
        "id": "q6XIJOc7olDc",
        "outputId": "a14e933e-34b3-45f7-95a1-cc06e489ff76",
        "colab": {
          "base_uri": "https://localhost:8080/"
        }
      },
      "outputs": [
        {
          "output_type": "execute_result",
          "data": {
            "text/plain": [
              "3"
            ]
          },
          "metadata": {},
          "execution_count": 20
        }
      ],
      "source": [
        "np.argmax(predictions[0])"
      ]
    },
    {
      "cell_type": "markdown",
      "metadata": {
        "id": "mCQ5j5vAolDc"
      },
      "source": [
        "# Experiment: small intermediate layers (information bottleneck)\n",
        "Similar experiment, this time the second hidden layer has 4 units"
      ]
    },
    {
      "cell_type": "code",
      "execution_count": null,
      "metadata": {
        "id": "LYAd-GIuolDc",
        "outputId": "db9545bf-f7da-4490-879f-f50b5d854f72",
        "colab": {
          "base_uri": "https://localhost:8080/",
          "height": 1000
        }
      },
      "outputs": [
        {
          "output_type": "stream",
          "name": "stdout",
          "text": [
            "Epoch 1/20\n",
            "\u001b[1m16/16\u001b[0m \u001b[32m━━━━━━━━━━━━━━━━━━━━\u001b[0m\u001b[37m\u001b[0m \u001b[1m2s\u001b[0m 68ms/step - accuracy: 0.1574 - loss: 3.7337 - val_accuracy: 0.3610 - val_loss: 3.3040\n",
            "Epoch 2/20\n",
            "\u001b[1m16/16\u001b[0m \u001b[32m━━━━━━━━━━━━━━━━━━━━\u001b[0m\u001b[37m\u001b[0m \u001b[1m1s\u001b[0m 54ms/step - accuracy: 0.3760 - loss: 3.1915 - val_accuracy: 0.4210 - val_loss: 2.9163\n",
            "Epoch 3/20\n",
            "\u001b[1m16/16\u001b[0m \u001b[32m━━━━━━━━━━━━━━━━━━━━\u001b[0m\u001b[37m\u001b[0m \u001b[1m1s\u001b[0m 53ms/step - accuracy: 0.4326 - loss: 2.7807 - val_accuracy: 0.4320 - val_loss: 2.5206\n",
            "Epoch 4/20\n",
            "\u001b[1m16/16\u001b[0m \u001b[32m━━━━━━━━━━━━━━━━━━━━\u001b[0m\u001b[37m\u001b[0m \u001b[1m1s\u001b[0m 51ms/step - accuracy: 0.4410 - loss: 2.4016 - val_accuracy: 0.4440 - val_loss: 2.2144\n",
            "Epoch 5/20\n",
            "\u001b[1m16/16\u001b[0m \u001b[32m━━━━━━━━━━━━━━━━━━━━\u001b[0m\u001b[37m\u001b[0m \u001b[1m2s\u001b[0m 93ms/step - accuracy: 0.4490 - loss: 2.1024 - val_accuracy: 0.4500 - val_loss: 1.9932\n",
            "Epoch 6/20\n",
            "\u001b[1m16/16\u001b[0m \u001b[32m━━━━━━━━━━━━━━━━━━━━\u001b[0m\u001b[37m\u001b[0m \u001b[1m2s\u001b[0m 51ms/step - accuracy: 0.4603 - loss: 1.8622 - val_accuracy: 0.4630 - val_loss: 1.8310\n",
            "Epoch 7/20\n",
            "\u001b[1m16/16\u001b[0m \u001b[32m━━━━━━━━━━━━━━━━━━━━\u001b[0m\u001b[37m\u001b[0m \u001b[1m1s\u001b[0m 52ms/step - accuracy: 0.4884 - loss: 1.6717 - val_accuracy: 0.4750 - val_loss: 1.7092\n",
            "Epoch 8/20\n",
            "\u001b[1m16/16\u001b[0m \u001b[32m━━━━━━━━━━━━━━━━━━━━\u001b[0m\u001b[37m\u001b[0m \u001b[1m1s\u001b[0m 52ms/step - accuracy: 0.5304 - loss: 1.5742 - val_accuracy: 0.6520 - val_loss: 1.6156\n",
            "Epoch 9/20\n",
            "\u001b[1m16/16\u001b[0m \u001b[32m━━━━━━━━━━━━━━━━━━━━\u001b[0m\u001b[37m\u001b[0m \u001b[1m1s\u001b[0m 51ms/step - accuracy: 0.6805 - loss: 1.4447 - val_accuracy: 0.6660 - val_loss: 1.5264\n",
            "Epoch 10/20\n",
            "\u001b[1m16/16\u001b[0m \u001b[32m━━━━━━━━━━━━━━━━━━━━\u001b[0m\u001b[37m\u001b[0m \u001b[1m1s\u001b[0m 54ms/step - accuracy: 0.6948 - loss: 1.3473 - val_accuracy: 0.6750 - val_loss: 1.4625\n",
            "Epoch 11/20\n",
            "\u001b[1m16/16\u001b[0m \u001b[32m━━━━━━━━━━━━━━━━━━━━\u001b[0m\u001b[37m\u001b[0m \u001b[1m1s\u001b[0m 53ms/step - accuracy: 0.7108 - loss: 1.2431 - val_accuracy: 0.6760 - val_loss: 1.4161\n",
            "Epoch 12/20\n",
            "\u001b[1m16/16\u001b[0m \u001b[32m━━━━━━━━━━━━━━━━━━━━\u001b[0m\u001b[37m\u001b[0m \u001b[1m1s\u001b[0m 55ms/step - accuracy: 0.7098 - loss: 1.1981 - val_accuracy: 0.6780 - val_loss: 1.3772\n",
            "Epoch 13/20\n",
            "\u001b[1m16/16\u001b[0m \u001b[32m━━━━━━━━━━━━━━━━━━━━\u001b[0m\u001b[37m\u001b[0m \u001b[1m1s\u001b[0m 51ms/step - accuracy: 0.7197 - loss: 1.1377 - val_accuracy: 0.6810 - val_loss: 1.3469\n",
            "Epoch 14/20\n",
            "\u001b[1m16/16\u001b[0m \u001b[32m━━━━━━━━━━━━━━━━━━━━\u001b[0m\u001b[37m\u001b[0m \u001b[1m1s\u001b[0m 54ms/step - accuracy: 0.7326 - loss: 1.0497 - val_accuracy: 0.6760 - val_loss: 1.3306\n",
            "Epoch 15/20\n",
            "\u001b[1m16/16\u001b[0m \u001b[32m━━━━━━━━━━━━━━━━━━━━\u001b[0m\u001b[37m\u001b[0m \u001b[1m2s\u001b[0m 84ms/step - accuracy: 0.7322 - loss: 1.0094 - val_accuracy: 0.6750 - val_loss: 1.3028\n",
            "Epoch 16/20\n",
            "\u001b[1m16/16\u001b[0m \u001b[32m━━━━━━━━━━━━━━━━━━━━\u001b[0m\u001b[37m\u001b[0m \u001b[1m1s\u001b[0m 84ms/step - accuracy: 0.7353 - loss: 0.9913 - val_accuracy: 0.6800 - val_loss: 1.2985\n",
            "Epoch 17/20\n",
            "\u001b[1m16/16\u001b[0m \u001b[32m━━━━━━━━━━━━━━━━━━━━\u001b[0m\u001b[37m\u001b[0m \u001b[1m2s\u001b[0m 50ms/step - accuracy: 0.7398 - loss: 0.9723 - val_accuracy: 0.6930 - val_loss: 1.2863\n",
            "Epoch 18/20\n",
            "\u001b[1m16/16\u001b[0m \u001b[32m━━━━━━━━━━━━━━━━━━━━\u001b[0m\u001b[37m\u001b[0m \u001b[1m1s\u001b[0m 49ms/step - accuracy: 0.7663 - loss: 0.9391 - val_accuracy: 0.7040 - val_loss: 1.2830\n",
            "Epoch 19/20\n",
            "\u001b[1m16/16\u001b[0m \u001b[32m━━━━━━━━━━━━━━━━━━━━\u001b[0m\u001b[37m\u001b[0m \u001b[1m1s\u001b[0m 51ms/step - accuracy: 0.7825 - loss: 0.8783 - val_accuracy: 0.6990 - val_loss: 1.2788\n",
            "Epoch 20/20\n",
            "\u001b[1m16/16\u001b[0m \u001b[32m━━━━━━━━━━━━━━━━━━━━\u001b[0m\u001b[37m\u001b[0m \u001b[1m1s\u001b[0m 55ms/step - accuracy: 0.7810 - loss: 0.8769 - val_accuracy: 0.7040 - val_loss: 1.2882\n"
          ]
        },
        {
          "output_type": "display_data",
          "data": {
            "text/plain": [
              "<Figure size 640x480 with 1 Axes>"
            ],
            "image/png": "[encoded data removed]"
          },
          "metadata": {}
        },
        {
          "output_type": "display_data",
          "data": {
            "text/plain": [
              "<Figure size 640x480 with 1 Axes>"
            ],
            "image/png": "[encoded data removed]"
          },
          "metadata": {}
        }
      ],
      "source": [
        "model = models.Sequential()\n",
        "model.add(layers.Dense(64, activation='relu', input_shape=(10000,)))\n",
        "model.add(layers.Dense(4, activation='relu')) # different\n",
        "model.add(layers.Dense(46, activation='softmax'))\n",
        "model.compile(optimizer='rmsprop', loss='categorical_crossentropy', metrics=['accuracy'])\n",
        "history = model.fit(partial_x_train, partial_y_train, epochs=20, batch_size=512, validation_data=(x_val,y_val))\n",
        "plot_history(history)"
      ]
    },
    {
      "cell_type": "markdown",
      "metadata": {
        "id": "kk6hZUh0olDc"
      },
      "source": [
        "# Further experiments\n",
        "\n",
        "* Use larger and smaller layers (32 and 128 units)\n",
        "* Increase/decrease the number of hidden layers"
      ]
    },
    {
      "cell_type": "code",
      "execution_count": null,
      "metadata": {
        "id": "UuJyYYYHolDc",
        "outputId": "18e41d4f-8c0f-4488-df41-f5c03e6ac543",
        "colab": {
          "base_uri": "https://localhost:8080/",
          "height": 1000
        }
      },
      "outputs": [
        {
          "output_type": "stream",
          "name": "stdout",
          "text": [
            "Epoch 1/20\n",
            "\u001b[1m16/16\u001b[0m \u001b[32m━━━━━━━━━━━━━━━━━━━━\u001b[0m\u001b[37m\u001b[0m \u001b[1m2s\u001b[0m 71ms/step - accuracy: 0.3654 - loss: 3.2560 - val_accuracy: 0.6190 - val_loss: 1.9476\n",
            "Epoch 2/20\n",
            "\u001b[1m16/16\u001b[0m \u001b[32m━━━━━━━━━━━━━━━━━━━━\u001b[0m\u001b[37m\u001b[0m \u001b[1m1s\u001b[0m 53ms/step - accuracy: 0.6636 - loss: 1.7309 - val_accuracy: 0.6790 - val_loss: 1.4434\n",
            "Epoch 3/20\n",
            "\u001b[1m16/16\u001b[0m \u001b[32m━━━━━━━━━━━━━━━━━━━━\u001b[0m\u001b[37m\u001b[0m \u001b[1m1s\u001b[0m 56ms/step - accuracy: 0.7193 - loss: 1.2789 - val_accuracy: 0.7290 - val_loss: 1.2387\n",
            "Epoch 4/20\n",
            "\u001b[1m16/16\u001b[0m \u001b[32m━━━━━━━━━━━━━━━━━━━━\u001b[0m\u001b[37m\u001b[0m \u001b[1m1s\u001b[0m 87ms/step - accuracy: 0.7735 - loss: 1.0199 - val_accuracy: 0.7520 - val_loss: 1.1186\n",
            "Epoch 5/20\n",
            "\u001b[1m16/16\u001b[0m \u001b[32m━━━━━━━━━━━━━━━━━━━━\u001b[0m\u001b[37m\u001b[0m \u001b[1m2s\u001b[0m 55ms/step - accuracy: 0.8253 - loss: 0.8183 - val_accuracy: 0.7780 - val_loss: 1.0390\n",
            "Epoch 6/20\n",
            "\u001b[1m16/16\u001b[0m \u001b[32m━━━━━━━━━━━━━━━━━━━━\u001b[0m\u001b[37m\u001b[0m \u001b[1m1s\u001b[0m 50ms/step - accuracy: 0.8591 - loss: 0.6717 - val_accuracy: 0.7920 - val_loss: 1.0090\n",
            "Epoch 7/20\n",
            "\u001b[1m16/16\u001b[0m \u001b[32m━━━━━━━━━━━━━━━━━━━━\u001b[0m\u001b[37m\u001b[0m \u001b[1m1s\u001b[0m 55ms/step - accuracy: 0.8858 - loss: 0.5546 - val_accuracy: 0.8030 - val_loss: 0.9579\n",
            "Epoch 8/20\n",
            "\u001b[1m16/16\u001b[0m \u001b[32m━━━━━━━━━━━━━━━━━━━━\u001b[0m\u001b[37m\u001b[0m \u001b[1m1s\u001b[0m 53ms/step - accuracy: 0.9094 - loss: 0.4532 - val_accuracy: 0.7990 - val_loss: 0.9438\n",
            "Epoch 9/20\n",
            "\u001b[1m16/16\u001b[0m \u001b[32m━━━━━━━━━━━━━━━━━━━━\u001b[0m\u001b[37m\u001b[0m \u001b[1m1s\u001b[0m 61ms/step - accuracy: 0.9213 - loss: 0.3836 - val_accuracy: 0.8120 - val_loss: 0.9171\n",
            "Epoch 10/20\n",
            "\u001b[1m16/16\u001b[0m \u001b[32m━━━━━━━━━━━━━━━━━━━━\u001b[0m\u001b[37m\u001b[0m \u001b[1m1s\u001b[0m 63ms/step - accuracy: 0.9317 - loss: 0.3328 - val_accuracy: 0.8110 - val_loss: 0.8969\n",
            "Epoch 11/20\n",
            "\u001b[1m16/16\u001b[0m \u001b[32m━━━━━━━━━━━━━━━━━━━━\u001b[0m\u001b[37m\u001b[0m \u001b[1m1s\u001b[0m 54ms/step - accuracy: 0.9408 - loss: 0.2835 - val_accuracy: 0.8160 - val_loss: 0.9342\n",
            "Epoch 12/20\n",
            "\u001b[1m16/16\u001b[0m \u001b[32m━━━━━━━━━━━━━━━━━━━━\u001b[0m\u001b[37m\u001b[0m \u001b[1m1s\u001b[0m 52ms/step - accuracy: 0.9475 - loss: 0.2464 - val_accuracy: 0.8050 - val_loss: 0.9747\n",
            "Epoch 13/20\n",
            "\u001b[1m16/16\u001b[0m \u001b[32m━━━━━━━━━━━━━━━━━━━━\u001b[0m\u001b[37m\u001b[0m \u001b[1m1s\u001b[0m 55ms/step - accuracy: 0.9467 - loss: 0.2164 - val_accuracy: 0.8110 - val_loss: 0.9260\n",
            "Epoch 14/20\n",
            "\u001b[1m16/16\u001b[0m \u001b[32m━━━━━━━━━━━━━━━━━━━━\u001b[0m\u001b[37m\u001b[0m \u001b[1m1s\u001b[0m 81ms/step - accuracy: 0.9515 - loss: 0.1994 - val_accuracy: 0.8210 - val_loss: 0.9543\n",
            "Epoch 15/20\n",
            "\u001b[1m16/16\u001b[0m \u001b[32m━━━━━━━━━━━━━━━━━━━━\u001b[0m\u001b[37m\u001b[0m \u001b[1m2s\u001b[0m 54ms/step - accuracy: 0.9551 - loss: 0.1779 - val_accuracy: 0.8240 - val_loss: 0.9168\n",
            "Epoch 16/20\n",
            "\u001b[1m16/16\u001b[0m \u001b[32m━━━━━━━━━━━━━━━━━━━━\u001b[0m\u001b[37m\u001b[0m \u001b[1m1s\u001b[0m 51ms/step - accuracy: 0.9556 - loss: 0.1571 - val_accuracy: 0.8120 - val_loss: 0.9667\n",
            "Epoch 17/20\n",
            "\u001b[1m16/16\u001b[0m \u001b[32m━━━━━━━━━━━━━━━━━━━━\u001b[0m\u001b[37m\u001b[0m \u001b[1m1s\u001b[0m 52ms/step - accuracy: 0.9579 - loss: 0.1474 - val_accuracy: 0.8270 - val_loss: 0.9367\n",
            "Epoch 18/20\n",
            "\u001b[1m16/16\u001b[0m \u001b[32m━━━━━━━━━━━━━━━━━━━━\u001b[0m\u001b[37m\u001b[0m \u001b[1m1s\u001b[0m 53ms/step - accuracy: 0.9614 - loss: 0.1341 - val_accuracy: 0.8150 - val_loss: 0.9616\n",
            "Epoch 19/20\n",
            "\u001b[1m16/16\u001b[0m \u001b[32m━━━━━━━━━━━━━━━━━━━━\u001b[0m\u001b[37m\u001b[0m \u001b[1m1s\u001b[0m 49ms/step - accuracy: 0.9601 - loss: 0.1311 - val_accuracy: 0.8110 - val_loss: 1.0164\n",
            "Epoch 20/20\n",
            "\u001b[1m16/16\u001b[0m \u001b[32m━━━━━━━━━━━━━━━━━━━━\u001b[0m\u001b[37m\u001b[0m \u001b[1m1s\u001b[0m 51ms/step - accuracy: 0.9598 - loss: 0.1306 - val_accuracy: 0.8150 - val_loss: 0.9859\n"
          ]
        },
        {
          "output_type": "display_data",
          "data": {
            "text/plain": [
              "<Figure size 640x480 with 1 Axes>"
            ],
            "image/png": "[encoded data removed]"
          },
          "metadata": {}
        },
        {
          "output_type": "display_data",
          "data": {
            "text/plain": [
              "<Figure size 640x480 with 1 Axes>"
            ],
            "image/png": "[encoded data removed]"
          },
          "metadata": {}
        }
      ],
      "source": [
        "model = models.Sequential()\n",
        "model.add(layers.Dense(64, activation='relu'))\n",
        "model.add(layers.Dense(64, activation='relu'))\n",
        "model.add(layers.Dense(46, activation='softmax'))\n",
        "model.compile(optimizer='rmsprop', loss='categorical_crossentropy', metrics=['accuracy'])\n",
        "history = model.fit(partial_x_train, partial_y_train, epochs=20, batch_size=512, validation_data=(x_val,y_val))\n",
        "plot_history(history)"
      ]
    },
    {
      "cell_type": "markdown",
      "metadata": {
        "id": "K1cnuS59olDd"
      },
      "source": [
        "# Key points\n",
        "* If you are trying to classify data points among _K_ classes, your network should end with a _Dense_ layer of size _K_.\n",
        "* In a single-label, multiclass classification problem, your network should end with a _softmax_ activation so that it will output a probability distribution over the _K_ outputs.\n",
        "* Categorical crossentropy is almost always the loss function you should use for such problems. It minimizes the distance between the proability distributions output by the network and the true distribution of the targets.\n",
        "* If you need to classify data into a large number of categories, you should avoid creating information bottlenecks in your network due to intermediate layers that are too small.\n"
      ]
    },
    {
      "cell_type": "code",
      "execution_count": null,
      "metadata": {
        "id": "ObyVMILZolDg"
      },
      "outputs": [],
      "source": []
    },
    {
      "cell_type": "code",
      "execution_count": null,
      "metadata": {
        "id": "HvA2ZkM5olDg"
      },
      "outputs": [],
      "source": []
    },
    {
      "cell_type": "code",
      "execution_count": null,
      "metadata": {
        "id": "HBmXB95aolDg"
      },
      "outputs": [],
      "source": []
    }
  ],
  "metadata": {
    "kernelspec": {
      "display_name": "Python 3.7 (CIS432)",
      "language": "python",
      "name": "cis432_py37"
    },
    "language_info": {
      "codemirror_mode": {
        "name": "ipython",
        "version": 3
      },
      "file_extension": ".py",
      "mimetype": "text/x-python",
      "name": "python",
      "nbconvert_exporter": "python",
      "pygments_lexer": "ipython3",
      "version": "3.7.5"
    },
    "latex_envs": {
      "LaTeX_envs_menu_present": true,
      "autoclose": false,
      "autocomplete": true,
      "bibliofile": "biblio.bib",
      "cite_by": "apalike",
      "current_citInitial": 1,
      "eqLabelWithNumbers": true,
      "eqNumInitial": 1,
      "hotkeys": {
        "equation": "Ctrl-E",
        "itemize": "Ctrl-I"
      },
      "labels_anchors": false,
      "latex_user_defs": false,
      "report_style_numbering": false,
      "user_envs_cfg": false
    },
    "toc": {
      "base_numbering": 1,
      "nav_menu": {},
      "number_sections": false,
      "sideBar": true,
      "skip_h1_title": false,
      "title_cell": "Table of Contents",
      "title_sidebar": "Contents",
      "toc_cell": false,
      "toc_position": {
        "height": "calc(100% - 180px)",
        "left": "10px",
        "top": "150px",
        "width": "211.989px"
      },
      "toc_section_display": true,
      "toc_window_display": true
    },
    "colab": {
      "provenance": []
    }
  },
  "nbformat": 4,
  "nbformat_minor": 0
}