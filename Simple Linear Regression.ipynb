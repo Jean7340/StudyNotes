{
 "cells": [
  {
   "cell_type": "markdown",
   "id": "f1ea0aac",
   "metadata": {},
   "source": [
    "# Core Statistics Using Python\n",
    "### Hana Choi, Simon Business School, University of Rochester\n"
   ]
  },
  {
   "cell_type": "markdown",
   "id": "2d622844",
   "metadata": {},
   "source": [
    "# Simple Linear Regression in Python\n",
    "\n",
    "## Topics covered\n",
    "\n",
    "- Simple linear regression in Python: two ways\n",
    "- Some other examples (Diamonds, Wines)\n",
    "\n",
    "## Required packages"
   ]
  },
  {
   "cell_type": "code",
   "execution_count": null,
   "id": "ab4a85e6",
   "metadata": {},
   "outputs": [],
   "source": [
    "import pandas as pd\n",
    "import matplotlib.pyplot as plt\n",
    "import seaborn as sns\n",
    "import statsmodels.api as sm"
   ]
  },
  {
   "cell_type": "markdown",
   "id": "837e7293",
   "metadata": {},
   "source": [
    "# Example: House Prices"
   ]
  },
  {
   "cell_type": "markdown",
   "id": "b0d8c39e",
   "metadata": {},
   "source": [
    "## Load data: hprices.csv"
   ]
  },
  {
   "cell_type": "code",
   "execution_count": null,
   "id": "bf9bfed8",
   "metadata": {},
   "outputs": [],
   "source": [
    "# Method 1: Save the data file directly to your working directory\n",
    "# hprices = pd.read_csv('hprices.csv')\n",
    "\n",
    "# Method 2: Tell Python where your data file exists \"explicitly\"\n",
    "# Below is \"my\" file path, you should specify yours instead.\n",
    "hprices = pd.read_csv(\"/Users/hanachoi/Dropbox/teaching/core_statistics/Data/hprices.csv\")\n",
    "\n",
    "# Method 3: We can also import a dataset from the web\n",
    "# hprices = pd.read_csv(\"http://hanachoi.github.io/datasets/hprices.csv\")\n",
    "\n",
    "# Display the first few rows of the dataframe\n",
    "print(hprices.head())"
   ]
  },
  {
   "cell_type": "markdown",
   "id": "b7df65ac",
   "metadata": {},
   "source": [
    "## Describe data"
   ]
  },
  {
   "cell_type": "code",
   "execution_count": null,
   "id": "af7ed110",
   "metadata": {
    "scrolled": false
   },
   "outputs": [],
   "source": [
    "# Display basic descriptive statistics\n",
    "print(hprices.describe())"
   ]
  },
  {
   "cell_type": "code",
   "execution_count": null,
   "id": "f9c1506c",
   "metadata": {},
   "outputs": [],
   "source": [
    "# Correlation between size and price\n",
    "\n",
    "print(hprices.corr())"
   ]
  },
  {
   "cell_type": "markdown",
   "id": "e636be8a",
   "metadata": {},
   "source": [
    "## Visualize data"
   ]
  },
  {
   "cell_type": "code",
   "execution_count": null,
   "id": "45144158",
   "metadata": {},
   "outputs": [],
   "source": [
    "# Create the scatterplot with a regression line using regplot()\n",
    "sns.regplot(x='sqrft', y='price', scatter_kws={'s': 20}, \n",
    "            line_kws={'color': 'red', 'label': 'Fitted Line'}, data=hprices)\n",
    "\n",
    "# Add labels and title\n",
    "plt.title('House Size vs Price', fontsize=14)\n",
    "plt.xlabel('Size', fontsize=12)\n",
    "plt.ylabel('Price', fontsize=12)\n",
    "plt.legend()\n",
    "\n",
    "# Show the plot\n",
    "plt.show()"
   ]
  },
  {
   "cell_type": "markdown",
   "id": "acc186db",
   "metadata": {},
   "source": [
    "## Using the formulas directly to estimate regression coefficients"
   ]
  },
  {
   "cell_type": "code",
   "execution_count": null,
   "id": "95e2ba61",
   "metadata": {},
   "outputs": [],
   "source": [
    "# Calculating slope \n",
    "cov_sqrft_price = hprices[['sqrft', 'price']].cov().iloc[0, 1]  # Covariance between sqrft and price\n",
    "var_sqrft = hprices['sqrft'].var()  # Variance of sqrft\n",
    "beta1_hat = cov_sqrft_price / var_sqrft\n",
    "\n",
    "# Calculating intercept \n",
    "mean_price = hprices['price'].mean()\n",
    "mean_sqrft = hprices['sqrft'].mean()\n",
    "beta0_hat = mean_price - beta1_hat * mean_sqrft\n",
    "\n",
    "# Print the result\n",
    "print(f\"Intercept: {beta0_hat}\")\n",
    "print(f\"Slope: {beta1_hat}\")"
   ]
  },
  {
   "cell_type": "markdown",
   "id": "038f80b1",
   "metadata": {},
   "source": [
    "# Using `statsmodels` to Run Linear Regressions\n",
    "\n",
    "- Linear regression can be run using `statsmodels` package.\n",
    "- Recall our basic linear regression model:\n",
    "\n",
    "$$Y_i = \\beta_0 + \\beta_1 X_i + e_i$$\n",
    "\n",
    "$~~~~~~$ in which we are trying to obtain the coefficient estimates $\\widehat{\\beta}_0$ and $\\widehat{\\beta}_1$ using a sample of data\n",
    "\n",
    "- Using the statsmodels package, there are two ways to run a regression in Python.\n",
    "- Both require you to tell Python what the $Y$ and $X$ are.\n",
    "- The second method is easier."
   ]
  },
  {
   "cell_type": "markdown",
   "id": "445c5593",
   "metadata": {},
   "source": [
    "## Method 1: using `.OLS` functionality\n",
    "\n",
    "- The first way is to use the `.OLS` functionality in `statsmodels`, which uses matrix notation.\n",
    "- You need to specify what your $Y$ is and what your $X$ is in your dataset\n",
    "- You also need to augment the $X$ \"matrix\" to include a constant"
   ]
  },
  {
   "cell_type": "code",
   "execution_count": null,
   "id": "74f2b020",
   "metadata": {
    "scrolled": false
   },
   "outputs": [],
   "source": [
    "# Specifying X, Y in your dataset\n",
    "y = hprices[['price']]\n",
    "X = hprices[['sqrft']]\n",
    "\n",
    "# Add a constant (intercept term)\n",
    "X = sm.add_constant(X) # This adds the intercept term to the model\n",
    "\n",
    "# Fit the linear regression model\n",
    "hprices_fit = sm.OLS(y, X).fit() # OLS stands for Ordinary Least Squares"
   ]
  },
  {
   "cell_type": "code",
   "execution_count": null,
   "id": "eb8384ed",
   "metadata": {},
   "outputs": [],
   "source": [
    "# Print the summary of the regression results\n",
    "print(hprices_fit.summary())"
   ]
  },
  {
   "cell_type": "code",
   "execution_count": null,
   "id": "802b514f",
   "metadata": {
    "scrolled": true
   },
   "outputs": [],
   "source": [
    "# Print the intercept and slope of the regression results\n",
    "print(hprices_fit.params)"
   ]
  },
  {
   "cell_type": "code",
   "execution_count": null,
   "id": "a5c4114c",
   "metadata": {},
   "outputs": [],
   "source": [
    "intercept = hprices_fit.params.iloc[0]\n",
    "slope = hprices_fit.params.iloc[1]\n",
    "\n",
    "print(f\"Intercept: {intercept}\")\n",
    "print(f\"Slope: {slope}\")"
   ]
  },
  {
   "cell_type": "markdown",
   "id": "ec17da51",
   "metadata": {},
   "source": [
    "## Method 2: using `formula.api` functionality\n",
    "\n",
    "- The formula API allows you to specify a model. It uses formulas rather than matrix notation (very similar to how it works in R or Stata)\n",
    "- Note that the output is exactly the same as the matrix version above.\n",
    "- It is performing the same calculations, you are just calling it using a different syntax.\n",
    "- I will use this method for the remainder of the course, but the matrix version works just fine too (I just find using formula easier)."
   ]
  },
  {
   "cell_type": "code",
   "execution_count": null,
   "id": "35b090fc",
   "metadata": {},
   "outputs": [],
   "source": [
    "# You need to import formula API from statsmodels first\n",
    "import statsmodels.formula.api as smf"
   ]
  },
  {
   "cell_type": "code",
   "execution_count": null,
   "id": "a131dba8",
   "metadata": {
    "scrolled": false
   },
   "outputs": [],
   "source": [
    "# Here's how to run a simple linear regression using the formula api\n",
    "\n",
    "# Formula format: y ~ x\n",
    "hprices_fit = smf.ols(formula='price ~ sqrft', data=hprices).fit()\n",
    "\n",
    "# Print the summary of the regression results\n",
    "print(hprices_fit.summary())"
   ]
  },
  {
   "cell_type": "markdown",
   "id": "f58cc8c8",
   "metadata": {},
   "source": [
    "# Some Other Examples\n",
    "\n",
    "## Example: diamonds\n",
    "\n",
    "- Here is the scatter plot we saw in Excel, with a linear trend line included: <br> \n",
    "\n",
    "<img src='http://hanachoi.github.io/datasets/Lec7Diamond.png' alt=\"Smiley face\" align=\"center\" style=\"width: 50%; height: auto\"> <br>\n",
    "\n",
    "\n",
    "- Excel provided an equation with an intercept of 5573.3 and a slope of -1679.2.\n",
    "- Let's verify whether the linear regression yields the same results."
   ]
  },
  {
   "cell_type": "code",
   "execution_count": null,
   "id": "856b3a23",
   "metadata": {},
   "outputs": [],
   "source": [
    "# Data\n",
    "diamonds = pd.read_csv(\"/Users/hanachoi/Dropbox/teaching/core_statistics/Data/diamonds.csv\")\n",
    "\n",
    "# Run a simple linear regression of price on carats\n",
    "diamonds_fit = smf.ols(formula='price ~ carats', data=diamonds).fit()\n",
    "\n",
    "# Print the intercept and slope of the regression results\n",
    "print(f\"Intercept: {diamonds_fit.params.iloc[0]}\")\n",
    "print(f\"Slope: {diamonds_fit.params.iloc[1]}\")"
   ]
  },
  {
   "cell_type": "markdown",
   "id": "9cfa583c",
   "metadata": {},
   "source": [
    "## Example: wines"
   ]
  },
  {
   "cell_type": "code",
   "execution_count": null,
   "id": "c83eb8fe",
   "metadata": {},
   "outputs": [],
   "source": [
    "# Data\n",
    "wines = pd.read_csv(\"/Users/hanachoi/Dropbox/teaching/core_statistics/Data/wines.csv\")\n",
    "\n",
    "# Run a simple linear regression of price on rating and print the summary\n",
    "print(smf.ols(formula='Price ~ Score', data=wines).fit().summary())"
   ]
  }
 ],
 "metadata": {
  "kernelspec": {
   "display_name": "Python 3 (ipykernel)",
   "language": "python",
   "name": "python3"
  },
  "language_info": {
   "codemirror_mode": {
    "name": "ipython",
    "version": 3
   },
   "file_extension": ".py",
   "mimetype": "text/x-python",
   "name": "python",
   "nbconvert_exporter": "python",
   "pygments_lexer": "ipython3",
   "version": "3.12.4"
  },
  "toc": {
   "base_numbering": 1,
   "nav_menu": {},
   "number_sections": true,
   "sideBar": true,
   "skip_h1_title": false,
   "title_cell": "Table of Contents",
   "title_sidebar": "Contents",
   "toc_cell": false,
   "toc_position": {},
   "toc_section_display": true,
   "toc_window_display": false
  }
 },
 "nbformat": 4,
 "nbformat_minor": 5
}
