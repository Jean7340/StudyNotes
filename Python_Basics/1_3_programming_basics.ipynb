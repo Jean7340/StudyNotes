{
 "cells": [
  {
   "cell_type": "markdown",
   "metadata": {},
   "source": [
    "# Flow Control, Functions, and Object-oriented Programming: A Quick Overview\n",
    "#### Yufeng Huang\n",
    "#### Associate Professor of Marketing, Simon Business School\n",
    "#### July 25, 2024\n"
   ]
  },
  {
   "cell_type": "markdown",
   "metadata": {},
   "source": [
    "### Outline\n",
    "\n",
    "- This lecture notes discusses flow control basics\n",
    "    - understand the order in which multiple lines of code are executed\n",
    "    - and ways to modify this process with simple syntax\n",
    "\n",
    "- Outline\n",
    "    - natural flow of code\n",
    "    - conditionals: `if` and `else`\n",
    "    - loops: `while` and `for`\n",
    "    - functions and methods\n",
    "\n",
    "- We will return to this topic in week 4. So the objective for now is to know that these structures exist and can understand basic forms of it."
   ]
  },
  {
   "cell_type": "markdown",
   "metadata": {},
   "source": [
    "## The natural flow of code\n",
    "- Python code goes from top to bottom\n",
    "\n",
    "- We should always respect this order when we code\n"
   ]
  },
  {
   "cell_type": "code",
   "execution_count": null,
   "metadata": {},
   "outputs": [],
   "source": [
    "# Example\n",
    "a = 1\n",
    "b = a + 2\n",
    "print(b)\n",
    "\n",
    "# what if we modify a\n",
    "a = 2\n",
    "print(b)    # why is b still 3?"
   ]
  },
  {
   "cell_type": "markdown",
   "metadata": {},
   "source": [
    "- Why is `b` still 3?\n",
    "\n",
    "- The code runs in the strict order of (skipping print lines)\n",
    "    1. `a = 1` \n",
    "    2. `b = a + 2`  \n",
    "    3. `a = 2`  \n",
    "\n",
    "- Therefore, the value of `b` is not affected by the new value of `a`"
   ]
  },
  {
   "cell_type": "markdown",
   "metadata": {},
   "source": [
    "- Side note: this will become important later\n",
    "\n",
    "- *\"I understand the order of execution, but why exactly doesn't `b` point at the new value of `a`\"*\n",
    "    1. `a = 1` creates a variable `a`, which is a pointer to the integer value 1 (which is `immutable`)\n",
    "    2. `b = a + 2`  calculates the integer value from `a + 2`, which is 3, and creates the pointer `b` to that value (also an integer, also immutable)\n",
    "    3. `a = 2`  replaces the variable `a` by a **different** pointer to a new value 2\n",
    "\n",
    "- I emphasize \"mutable\" because, if we can modify the value directly, instead of the pointer, it will affect both `a` and `b`\n",
    "    - we cannot do this here because `1` is immutable\n",
    "    - but try assign `a` into a list, then `b = a`, then modify `a`'s element\n"
   ]
  },
  {
   "cell_type": "markdown",
   "metadata": {},
   "source": [
    "- Implication: always read and write Python code with the understanding that `the code will flow from top to bottom`\n",
    "\n",
    "- Like Yufeng's daily routine below"
   ]
  },
  {
   "cell_type": "code",
   "execution_count": null,
   "metadata": {},
   "outputs": [],
   "source": [
    "# Yufeng's daily routine\n",
    "weekdays = [\"Monday\", \"Tuesday\", \"Wednesday\", \"Thursday\", \"Friday\", \"Saturday\", \"Sunday\"]\n",
    "\n",
    "wkday = weekdays[0]   # index starts at zero\n",
    "activity = \"teach\"\n",
    "print(f\"today is {wkday}, Yufeng will {activity}\")\n",
    "\n",
    "wkday = weekdays[1]\n",
    "activity = \"teach\"\n",
    "print(f\"today is {wkday}, Yufeng will {activity}\")\n",
    "\n",
    "wkday = weekdays[2]\n",
    "activity = \"teach\"\n",
    "print(f\"today is {wkday}, Yufeng will {activity}\")\n",
    "\n",
    "wkday = weekdays[3]\n",
    "activity = \"do research\"\n",
    "print(f\"today is {wkday}, Yufeng will {activity}\")\n",
    "\n",
    "wkday = weekdays[4]\n",
    "activity = \"teach\"\n",
    "print(f\"today is {wkday}, Yufeng will {activity}\")\n",
    "\n",
    "wkday = weekdays[5]\n",
    "activity = \"do research\"\n",
    "print(f\"today is {wkday}, Yufeng will {activity}\")\n",
    "\n",
    "wkday = weekdays[6]\n",
    "activity = \"do research\"\n",
    "print(f\"today is {wkday}, Yufeng will {activity}\")\n",
    "\n"
   ]
  },
  {
   "cell_type": "code",
   "execution_count": null,
   "metadata": {},
   "outputs": [],
   "source": [
    "# Block 1: what happens on a day?"
   ]
  },
  {
   "cell_type": "code",
   "execution_count": null,
   "metadata": {},
   "outputs": [],
   "source": [
    "# Block 2: How do things happen?"
   ]
  },
  {
   "cell_type": "markdown",
   "metadata": {},
   "source": [
    "- But question: we often need to modify the natural flow\n",
    "    \n",
    "- In the above example\n",
    "    - the days advance\n",
    "    - but Yufeng's decision rule stays fixed\n",
    "    - so there are three things we can do to simplify this routine\n",
    "\n",
    "- These three things are: conditional statements, loops, and functions"
   ]
  },
  {
   "cell_type": "markdown",
   "metadata": {},
   "source": [
    "## Conditionals\n",
    "- Conditionals, loosely referred to as \"if-else statements,\" are used to execute different actions based on different conditions \n",
    "\n",
    "- The general syntax follows:"
   ]
  },
  {
   "cell_type": "code",
   "execution_count": null,
   "metadata": {},
   "outputs": [],
   "source": [
    "condition = True    # this is a boolean variable, which acts as a traffic director\n",
    "\n",
    "if condition:\n",
    "    print(\"Do action 1 if condition is True\")\n",
    "else:\n",
    "    print(\"Do action 2 if condition is False\")\n",
    "\n",
    "# Modify the value of condition to see console output"
   ]
  },
  {
   "cell_type": "code",
   "execution_count": null,
   "metadata": {},
   "outputs": [],
   "source": [
    "# Example: tell underaged people how many years until allowed to drink\n",
    "age = 16\n",
    "if age >= 21:\n",
    "    print(f\"Age is {age} >= 21, allowed to drink\")\n",
    "else:\n",
    "    print(f\"Age is {age} < 21, not allowed to drink\")   \n",
    "    age_diff = 21 - age\n",
    "    print(f\"{age_diff} years to go until allowed to drink\")"
   ]
  },
  {
   "cell_type": "markdown",
   "metadata": {},
   "source": [
    "- Indentations are very important in Python and are used by the system to understand the structure of the code\n",
    "\n",
    "- In the above example, the indented lines, `print(f\"Age is ...`, are recognized as the code within the `if` and `else` part\n",
    "\n",
    "- Try removing the indentation and you'll see that the code structure is broken, most likely resulting in errors\n",
    "\n",
    "- Therefore, we should get into the habit of respecting indentations"
   ]
  },
  {
   "cell_type": "code",
   "execution_count": null,
   "metadata": {},
   "outputs": [],
   "source": [
    "# # Example: bad indentation\n",
    "# age = 16\n",
    "# if age >= 21:\n",
    "# print(f\"Age is {age} >= 21, allowed to drink\")\n",
    "# else:\n",
    "# print(f\"Age is {age} < 21, not allowed to drink\")"
   ]
  },
  {
   "cell_type": "markdown",
   "metadata": {},
   "source": [
    "- Can suppress the `else` part of the code, in which case we won't do anything if we run into a False condition\n",
    "- Example: In the opening of Gladiator, Maximus asks the Roman army to wait for his signal before attacking"
   ]
  },
  {
   "cell_type": "code",
   "execution_count": 1,
   "metadata": {},
   "outputs": [],
   "source": [
    "# If there is no signal, the army stays put\n",
    "is_signal = False\n",
    "if is_signal:\n",
    "    print(\"March forward and attack\")"
   ]
  },
  {
   "cell_type": "markdown",
   "metadata": {},
   "source": [
    "- Each of the if and else part of the code can be anything\n",
    "    - they can be multiple lines of code\n",
    "    - or another if/else structure\n",
    "    - or something more complicated\n",
    "\n",
    "- Complete the example below:\n",
    "    - hint, the \"elseif\" condition in Python is `elif`"
   ]
  },
  {
   "cell_type": "code",
   "execution_count": null,
   "metadata": {},
   "outputs": [],
   "source": [
    "# Nest if/else\n",
    "# Probability is in-between zero and one. \n",
    "#   If a probability is negative, say it is negative. \n",
    "#   If it is greater than one, say it is greater than one.\n",
    "#   If it is between zero and one, which meets the definition, say that the value is between zero and one. \n",
    "\n",
    "pr = 0.5\n",
    "if pr < 0:\n",
    "    print(\"egative, not a probability\")\n",
    "else:\n",
    "    if pr > 1:\n",
    "        print(\"greater than 1, not a probability\")\n",
    "    else:\n",
    "        print(f\"between 0 and 1, number {pr} is a probability\")\n",
    "\n",
    "# elif way\n",
    "\n",
    "if pr < 0:\n",
    "    print(\"negative, not a probability\")\n",
    "elif pr > 1:\n",
    "    print(\"print than 1, not a probability\")\n",
    "# we can keep using elif, but should always be end with \"else\"\n",
    "else:\n",
    "    print(f\"between 0 and 1, number {pr} is a probability\")\n"
   ]
  },
  {
   "cell_type": "markdown",
   "metadata": {},
   "source": [
    "## Loops\n",
    "- Loops are structures that repeat a certain section of code, allowing the user to specify\n",
    "    - which variables change between repetitions\n",
    "    - what are the conditions that end the repetition\n",
    "\n",
    "- There are two different (but similar) syntaxes, `while` and `for`\n",
    "\n",
    "- Like the if-else structure, each section of loops also permits multiple lines of codes and can nest other structures"
   ]
  },
  {
   "cell_type": "markdown",
   "metadata": {},
   "source": [
    "- One side remark: can add a value to a variable itself using `+=` syntax\n",
    "    - the analogy goes with minus equal, `-=`"
   ]
  },
  {
   "cell_type": "code",
   "execution_count": 2,
   "metadata": {},
   "outputs": [
    {
     "data": {
      "text/plain": [
       "3"
      ]
     },
     "execution_count": 2,
     "metadata": {},
     "output_type": "execute_result"
    }
   ],
   "source": [
    "a = 1\n",
    "\n",
    "# add two to a\n",
    "a += 2\n",
    "a"
   ]
  },
  {
   "cell_type": "code",
   "execution_count": null,
   "metadata": {},
   "outputs": [],
   "source": [
    "# equivalent\n",
    "a = 1\n",
    "a = a + 2\n",
    "a"
   ]
  },
  {
   "cell_type": "markdown",
   "metadata": {},
   "source": [
    "### \"While\" loops\n",
    "While loops repeatedly checks a condition and continues executing a section of code **unless** the condition is false"
   ]
  },
  {
   "cell_type": "code",
   "execution_count": 3,
   "metadata": {},
   "outputs": [
    {
     "name": "stdout",
     "output_type": "stream",
     "text": [
      "0\n",
      "1\n"
     ]
    }
   ],
   "source": [
    "count = 0           # initialize the variable count\n",
    "while count < 2:    # continuation condition, if count < 3\n",
    "    print(count)    # print count\n",
    "    count += 1      # add count by 1 and return to the while line\n"
   ]
  },
  {
   "cell_type": "markdown",
   "metadata": {},
   "source": [
    "Explanation\n",
    "\n",
    "- Check `count < 2` is `True`\n",
    "    - print `count`, which is 0\n",
    "    - then we make `count = 0 + 1`\n",
    "\n",
    "- Check `count < 2`, which is still `True`\n",
    "    - print `count`, which is 1\n",
    "    - then we make `count = 1 + 1`\n",
    "\n",
    "- Check `count < 2`, which is now `False`\n",
    "    - exit the loop"
   ]
  },
  {
   "cell_type": "markdown",
   "metadata": {},
   "source": [
    "#### **CRUCIAL: AVOID INFINITE LOOPS**\n",
    "- If we do not update the continuation condition\n",
    "\n",
    "- Then, either the loop never runs, or it never stops\n",
    "    - side note: hit the square button to interrupt (does not always work, sometimes need to restart IDE/console)"
   ]
  },
  {
   "cell_type": "code",
   "execution_count": null,
   "metadata": {},
   "outputs": [],
   "source": [
    "# # Infinite loop, comment out please\n",
    "# while True:\n",
    "#     print(\"the code is still running\")"
   ]
  },
  {
   "cell_type": "code",
   "execution_count": null,
   "metadata": {},
   "outputs": [],
   "source": [
    "# # This is also an infinite loop, why?\n",
    "x = 0\n",
    "while x <= 2:\n",
    "    x += 1\n",
    "    print(x)"
   ]
  },
  {
   "cell_type": "markdown",
   "metadata": {},
   "source": [
    "### \"For\" loops\n",
    "- For loops takes a variable (called \"iterator\"), assigns a range of values to this variable, and for each value executes the same section of code\n",
    "- Simple example:"
   ]
  },
  {
   "cell_type": "code",
   "execution_count": 4,
   "metadata": {},
   "outputs": [
    {
     "name": "stdout",
     "output_type": "stream",
     "text": [
      "0\n",
      "1\n",
      "2\n",
      "3\n"
     ]
    }
   ],
   "source": [
    "# Example\n",
    "for i in [0, 1, 2, 3]: # general lists\n",
    "    print(i)"
   ]
  },
  {
   "cell_type": "markdown",
   "metadata": {},
   "source": [
    "- Oftentimes, the function `range(n)` is used in a for loop to let i take a range of value from `0` to `n-1`"
   ]
  },
  {
   "cell_type": "code",
   "execution_count": 5,
   "metadata": {},
   "outputs": [
    {
     "name": "stdout",
     "output_type": "stream",
     "text": [
      "0\n",
      "1\n",
      "2\n",
      "3\n"
     ]
    }
   ],
   "source": [
    "# Example with the range function, note that range(n) starts at 0 and ends before the value n\n",
    "for i in range(4):\n",
    "    print(i)"
   ]
  },
  {
   "cell_type": "markdown",
   "metadata": {},
   "source": [
    "### A special case of \"for\" loops: list comprehension\n",
    "- We often need to generate a list of values that follow a certain rule\n",
    "    - for example, `2 ** n` for n taking 0, 1, 2, ..., N\n",
    "    - we can write a loop that continues to append values to the list, which we've seen but probably never done ourselves"
   ]
  },
  {
   "cell_type": "code",
   "execution_count": 79,
   "metadata": {},
   "outputs": [
    {
     "data": {
      "text/plain": [
       "[1, 2, 4, 8, 16, 32, 64, 128, 256, 512]"
      ]
     },
     "execution_count": 79,
     "metadata": {},
     "output_type": "execute_result"
    }
   ],
   "source": [
    "# Task: write a for-loop that computes 2 ** n for n in 0, 1, 2, ..., 9, return results in a list\n",
    "\n",
    "# example 1\n",
    "\n",
    "res = []\n",
    "\n",
    "n = 0\n",
    "res.append(2 ** n)\n",
    "\n",
    "n = 1\n",
    "res.append(2 ** n)\n",
    "\n",
    "n = 2\n",
    "res.append(2 ** n)\n",
    "\n",
    "res\n",
    "\n",
    "# example 2\n",
    "\n",
    "opt = []\n",
    "\n",
    "for n in range(10):\n",
    "    opt.append(2 ** n)\n",
    "\n",
    "opt\n",
    "\n",
    "# example 3\n",
    "\n",
    "oth = [0]*10\n",
    "\n",
    "for n in range(10):\n",
    "    oth[n] = 2 ** n\n",
    "\n",
    "oth\n",
    "\n",
    "#\n",
    "\n",
    "#N = 10\n",
    "#result = 2 ** n\n",
    "#for n in range(N):\n",
    "#    print(result)"
   ]
  },
  {
   "cell_type": "markdown",
   "metadata": {},
   "source": [
    "- But for this usecase, we have *list comprehension*, which is a simpler syntax\n",
    "\n",
    "- The syntax is quite straightforward once you've seen it, agree?"
   ]
  },
  {
   "cell_type": "code",
   "execution_count": 36,
   "metadata": {},
   "outputs": [
    {
     "data": {
      "text/plain": [
       "[2, 8, 32, 128, 512]"
      ]
     },
     "execution_count": 36,
     "metadata": {},
     "output_type": "execute_result"
    }
   ],
   "source": [
    "# List comprehension\n",
    "res_list = [2 ** n for n in range(10) if n % 2 == 1]\n",
    "res_list"
   ]
  },
  {
   "cell_type": "code",
   "execution_count": 35,
   "metadata": {},
   "outputs": [
    {
     "name": "stdout",
     "output_type": "stream",
     "text": [
      "[2, 8, 32, 128, 512]\n"
     ]
    }
   ],
   "source": [
    "# only for n is odd\n",
    "\n",
    "result = []\n",
    "N = 9\n",
    "\n",
    "for n in range(N + 1):\n",
    "    if n % 2 == 1:\n",
    "        result.append(2 ** n)\n",
    "\n",
    "print(result)"
   ]
  },
  {
   "cell_type": "markdown",
   "metadata": {},
   "source": [
    "## Functions\n",
    "- While the loop executes a section of code in a repeated manner, it allows for little flexibility\n",
    "\n",
    "- Functions, on the other hand:\n",
    "    - segment a block of code that serves a given purpose\n",
    "    - package them so that they can be repeated used when needed\n",
    "    - in contrast to loops, functions do not specify *when* you need these code\n",
    "\n",
    "- Example:"
   ]
  },
  {
   "cell_type": "code",
   "execution_count": 6,
   "metadata": {},
   "outputs": [
    {
     "data": {
      "text/plain": [
       "7"
      ]
     },
     "execution_count": 6,
     "metadata": {},
     "output_type": "execute_result"
    }
   ],
   "source": [
    "# Example: \n",
    "def add_numbers(x, y):\n",
    "    return x + y\n",
    "\n",
    "# This is how you would call a function (function call)\n",
    "add_numbers(3, 4)"
   ]
  },
  {
   "cell_type": "code",
   "execution_count": 81,
   "metadata": {},
   "outputs": [
    {
     "data": {
      "text/plain": [
       "[1, 2, 3, 3, 4, 5]"
      ]
     },
     "execution_count": 81,
     "metadata": {},
     "output_type": "execute_result"
    }
   ],
   "source": [
    "add_numbers(x=3, y=4)\n",
    "\n",
    "add_numbers(x=[1,2,3], y=[3,4,5]) # concatanation????\n",
    "\n",
    "# it is assign values to variables. \n",
    "# assignment and different function calls???\n"
   ]
  },
  {
   "cell_type": "markdown",
   "metadata": {},
   "source": [
    "### Standard syntax\n",
    "- A function definition has \n",
    "    - `def` that indicates function definition\n",
    "    - a function name (`add_numbers`)\n",
    "    - parenthesis indicating the **parameters** in the function (`x` and `y` as symbols)\n",
    "    - what value to return using `return`\n",
    "\n",
    "- A function **call**, which is a line that executes a previously defined function, has\n",
    "    - function name\n",
    "    - parenthesis indicating **arguments** in the function call (which are values corresponding to its **parameters**, here `x=3` and `y=4`)\n",
    "\n",
    "- More on these in Week 4"
   ]
  },
  {
   "cell_type": "code",
   "execution_count": 83,
   "metadata": {},
   "outputs": [
    {
     "data": {
      "text/plain": [
       "30"
      ]
     },
     "execution_count": 83,
     "metadata": {},
     "output_type": "execute_result"
    }
   ],
   "source": [
    "# Another Example\n",
    "def product(n, m):\n",
    "    p = m * n\n",
    "    return p\n",
    "\n",
    "# call the function\n",
    "product(5, 6)"
   ]
  },
  {
   "cell_type": "code",
   "execution_count": 38,
   "metadata": {},
   "outputs": [
    {
     "name": "stdout",
     "output_type": "stream",
     "text": [
      "hello, Yufeng\n"
     ]
    }
   ],
   "source": [
    "# Yet another example\n",
    "def greet(name):\n",
    "    \"\"\" This function greets the person by name \"\"\" # triple quote is another way to comment - these cooments are mostly used to descibe purpose of the function\n",
    "    # print(f\"Hello, {name}\")\n",
    "    return f\"hello, {name}\"\n",
    "\n",
    "\n",
    "# what does function \"return\" means? what if we don't have return?\n",
    "\n",
    "# call the function\n",
    "y = greet(\"Yufeng\")\n",
    "print(y)"
   ]
  },
  {
   "cell_type": "markdown",
   "metadata": {},
   "source": [
    "`return is totally different from print: it is the result of the function call`"
   ]
  },
  {
   "cell_type": "code",
   "execution_count": 87,
   "metadata": {},
   "outputs": [],
   "source": [
    "y = greet(\"world\")"
   ]
  },
  {
   "cell_type": "code",
   "execution_count": 88,
   "metadata": {},
   "outputs": [
    {
     "name": "stdout",
     "output_type": "stream",
     "text": [
      "hello, world\n"
     ]
    }
   ],
   "source": [
    "print(y)"
   ]
  },
  {
   "cell_type": "markdown",
   "metadata": {},
   "source": [
    "### Lambda functions\n",
    "- Lambda functions are simpler syntax that allow us to define a simple function more quickly\n",
    "- Syntax is `lambda: param: func_body`\n",
    "- I would encourage you to start working with normal functions first, and we'll return to lambda functions in Week 4"
   ]
  },
  {
   "cell_type": "code",
   "execution_count": 39,
   "metadata": {},
   "outputs": [
    {
     "data": {
      "text/plain": [
       "7"
      ]
     },
     "execution_count": 39,
     "metadata": {},
     "output_type": "execute_result"
    }
   ],
   "source": [
    "# Example\n",
    "add_numbers_2 = lambda x, y: x + y\n",
    "add_numbers_2(3, 4)"
   ]
  },
  {
   "cell_type": "code",
   "execution_count": 90,
   "metadata": {},
   "outputs": [
    {
     "data": {
      "text/plain": [
       "<function __main__.<lambda>(p)>"
      ]
     },
     "execution_count": 90,
     "metadata": {},
     "output_type": "execute_result"
    }
   ],
   "source": [
    "lambda p: (p - 1)"
   ]
  },
  {
   "cell_type": "markdown",
   "metadata": {},
   "source": [
    "## Object-Oriented Programming (OOP) -- a very brief introduction\n",
    "- We often code in the style of procedural programming\n",
    "    - focuses on writing functions or procedures that operate on data\n",
    "    - emphasize the \"things we do\" rather than the \"things that are\"\n",
    "    \n",
    "- OOP in Python\n",
    "    - focuses on \"things that exist,\" where things refers to objects\n",
    "    - objects are instances of classes, which can belong to hierarchies through *inheritance* (subclass inherits the attributes/methods in their parent class)\n",
    "\n",
    "- Python does not force OOP onto the programmer\n",
    "    - so you can write in the procedural paradigm (and I mostly still do)\n",
    "    - but even simple data types are treated as objects, making it important that we understand OOP at least at the surface level"
   ]
  },
  {
   "cell_type": "code",
   "execution_count": 94,
   "metadata": {},
   "outputs": [
    {
     "ename": "NameError",
     "evalue": "name 'mean' is not defined",
     "output_type": "error",
     "traceback": [
      "\u001b[0;31m---------------------------------------------------------------------------\u001b[0m",
      "\u001b[0;31mNameError\u001b[0m                                 Traceback (most recent call last)",
      "Cell \u001b[0;32mIn[94], line 4\u001b[0m\n\u001b[1;32m      1\u001b[0m \u001b[38;5;66;03m##\u001b[39;00m\n\u001b[1;32m      3\u001b[0m data \u001b[38;5;241m=\u001b[39m [\u001b[38;5;241m23\u001b[39m, \u001b[38;5;241m34\u001b[39m, \u001b[38;5;241m89\u001b[39m, \u001b[38;5;241m90\u001b[39m] \u001b[38;5;66;03m# genetic data function\u001b[39;00m\n\u001b[0;32m----> 4\u001b[0m mean(data)\n\u001b[1;32m      5\u001b[0m sort(data)\n\u001b[1;32m      7\u001b[0m \u001b[38;5;28;01mimport\u001b[39;00m \u001b[38;5;21;01mnumpy\u001b[39;00m \u001b[38;5;28;01mas\u001b[39;00m \u001b[38;5;21;01mnp\u001b[39;00m\n",
      "\u001b[0;31mNameError\u001b[0m: name 'mean' is not defined"
     ]
    }
   ],
   "source": [
    "##\n",
    "\n",
    "data = [23, 34, 89, 90] # genetic data function\n",
    "mean(data)\n",
    "sort(data)\n",
    "\n",
    "import numpy as np\n",
    "data = np.array([23, 34, 89, 90]) # np.array class ## also a class with assets?\n",
    "data.mean()\n",
    "data.sort()\n",
    "\n"
   ]
  },
  {
   "cell_type": "markdown",
   "metadata": {},
   "source": [
    "`object.attribute`"
   ]
  },
  {
   "cell_type": "markdown",
   "metadata": {},
   "source": [
    "### Trivial example: a dog that barks\n",
    "- Define a class \"dog\" that has attribute \"name\" and method \"bark\"\n",
    "- Each dog can bark, so a specific dog will inherit the class's attributes"
   ]
  },
  {
   "cell_type": "code",
   "execution_count": 7,
   "metadata": {},
   "outputs": [
    {
     "name": "stdout",
     "output_type": "stream",
     "text": [
      "Kitty\n",
      "mammal\n",
      "Woof woof!\n"
     ]
    }
   ],
   "source": [
    "# Example: a dog\n",
    "class Dog:  # note: class to define a class, and no `()` for now\n",
    "    def __init__(self, name):   # __init__ captures core attributes passed by the user when defining an instance\n",
    "        self.name = name        # passes attribute \"name\" to the class, or \"self\" (just a convention that self is always a parameter)\n",
    "        self.domain = \"animal\"  # these are fixed attributes\n",
    "        self.cls = \"mammal\"     # unfortunately I cannot use \"class here\"\n",
    "        self.family = \"canidae\"\n",
    "    def bark(self):\n",
    "        return \"Woof woof!\"\n",
    "\n",
    "# my_dog is an instance of Dog\n",
    "my_dog = Dog(\"Kitty\")\n",
    "\n",
    "# name, class, bark\n",
    "print(my_dog.name)\n",
    "print(my_dog.cls)\n",
    "print(my_dog.bark())\n"
   ]
  },
  {
   "cell_type": "code",
   "execution_count": 8,
   "metadata": {},
   "outputs": [
    {
     "name": "stdout",
     "output_type": "stream",
     "text": [
      "Kitty\n",
      "mammal\n",
      "Woof woof!\n",
      "Hello Bone!\n"
     ]
    }
   ],
   "source": [
    "# But my dog is well-trained, so she can write Python code!\n",
    "class Trained_dog(Dog):     # Trained_dog is a subclass of Dog  \n",
    "    def write_python_code(self):\n",
    "        return \"Hello Bone!\"\n",
    "\n",
    "# my_dog is an instance of Trained_dog\n",
    "my_dog = Trained_dog(\"Kitty\")\n",
    "\n",
    "# name, class, bark, write code\n",
    "print(my_dog.name)\n",
    "print(my_dog.cls)\n",
    "print(my_dog.bark())\n",
    "print(my_dog.write_python_code())\n"
   ]
  },
  {
   "cell_type": "markdown",
   "metadata": {},
   "source": [
    "### Less trivial example: a calculator that records work history\n",
    "- We can also write a calculator that not only returns basic arithmetic operations but also stores history\n",
    "    - the code below shows a Calculator class that can perform add and times\n",
    "    - let's add the ability to record history\n",
    "\n",
    "- This example shows that \n",
    "    - the series of calculations, using this calculator, is actually focused on an instance\n",
    "    - similar ideas emerge in many machine learning / deep learning exercises"
   ]
  },
  {
   "cell_type": "code",
   "execution_count": 44,
   "metadata": {},
   "outputs": [],
   "source": [
    "# Define a calculator class\n",
    "class Calculator:\n",
    "    history = []\n",
    "    def add(self, a, b):\n",
    "        r = a + b\n",
    "        self.history.append(f\"{a} + {b} = {r}\")\n",
    "        return r\n",
    "    def times(self, a, b):\n",
    "        r = a * b\n",
    "        self.history.append(f\"{a} * {b} = {r}\")\n",
    "        return r\n",
    "    def print_history(self):\n",
    "        print(self.history)"
   ]
  },
  {
   "cell_type": "code",
   "execution_count": 45,
   "metadata": {},
   "outputs": [
    {
     "data": {
      "text/plain": [
       "15"
      ]
     },
     "execution_count": 45,
     "metadata": {},
     "output_type": "execute_result"
    }
   ],
   "source": [
    "# Now start an instance and do some calculations\n",
    "my_calc = Calculator()\n",
    "\n",
    "# compute 5 times 3\n",
    "my_calc.times(5, 3)"
   ]
  },
  {
   "cell_type": "code",
   "execution_count": 46,
   "metadata": {},
   "outputs": [
    {
     "data": {
      "text/plain": [
       "7"
      ]
     },
     "execution_count": 46,
     "metadata": {},
     "output_type": "execute_result"
    }
   ],
   "source": [
    "# compute 2 plus 5\n",
    "my_calc.add(2, 5)"
   ]
  },
  {
   "cell_type": "code",
   "execution_count": 48,
   "metadata": {},
   "outputs": [
    {
     "name": "stdout",
     "output_type": "stream",
     "text": [
      "15.0\n",
      "15.0\n",
      "10.0\n"
     ]
    }
   ],
   "source": [
    "# compute a bunch more stuff\n",
    "print(my_calc.times(1.5, 10))\n",
    "print(my_calc.add(5.9, 9.1))\n",
    "print(my_calc.times(2.5, 4))"
   ]
  },
  {
   "cell_type": "code",
   "execution_count": 49,
   "metadata": {},
   "outputs": [
    {
     "name": "stdout",
     "output_type": "stream",
     "text": [
      "['5 * 3 = 15', '2 + 5 = 7', '1.5 * 10 = 15.0', '5.9 + 9.1 = 15.0', '2.5 * 4 = 10.0']\n"
     ]
    }
   ],
   "source": [
    "# Now return calculation history\n",
    "#   note: need to add this \"ability\" first\n",
    "\n",
    "my_calc.print_history()"
   ]
  },
  {
   "cell_type": "markdown",
   "metadata": {},
   "source": [
    "\n"
   ]
  },
  {
   "cell_type": "markdown",
   "metadata": {},
   "source": [
    "## Summary\n",
    "- This lecture aims to provide a very quick general introduction to Python programming\n",
    "\n",
    "- Key items to know\n",
    "    - code goes top to bottom\n",
    "    - `if`/`else` regulates which way the code goes `based on a boolean values`\n",
    "    - `for`/`while` loops iterates a section of code either over a range of values or based on a continuation condition\n",
    "    - `def` defines a function, which is a set of code that can be used in various situations\n",
    "    - in Python, we often use OOP concepts such as class and instances (class is a general concept of objects, instance is a specific object in that class) and call attributes and methods "
   ]
  },
  {
   "cell_type": "markdown",
   "metadata": {},
   "source": [
    "### Optional homework (not graded, will return to this in Week 4)\n",
    "1. Simplify Yufeng's daily routine into a conditional statement\n",
    "2. Write a loop around this statement, so that what Yufeng does can be automated day after day\n",
    "3. Write the daily routine into a function so that we can call this depending on the date"
   ]
  },
  {
   "cell_type": "code",
   "execution_count": 52,
   "metadata": {},
   "outputs": [
    {
     "name": "stdout",
     "output_type": "stream",
     "text": [
      "today is Monday, yufeng will teach\n",
      "today is Tuesday, yufeng will teach\n",
      "today is Wednesday, yufeng will teach\n",
      "today is Thursday, yufeng will do research\n",
      "today is Friday, yufeng will teach\n"
     ]
    }
   ],
   "source": [
    "name = \"yufeng\"\n",
    "activity_1 = \"teach\"\n",
    "activity_2 = \"do research\"\n",
    "day = [\"Monday\", \"Tuesday\", \"Wednesday\", \"Thursday\", \"Friday\"]\n",
    "\n",
    "for time in day:\n",
    "    if time == \"Thursday\":\n",
    "        print(f\"today is {time}, {name} will {activity_2}\")\n",
    "\n",
    "    else:\n",
    "        print(f\"today is {time}, {name} will {activity_1}\")\n",
    "\n",
    "# dictionary"
   ]
  },
  {
   "cell_type": "code",
   "execution_count": 27,
   "metadata": {},
   "outputs": [
    {
     "data": {
      "text/plain": [
       "\"today is ['Monday', 'Tuesday', 'Wednesday', 'Friday'], yufeng will teach\""
      ]
     },
     "execution_count": 27,
     "metadata": {},
     "output_type": "execute_result"
    }
   ],
   "source": [
    "def date(day):\n",
    "    day = [\"Monday\", \"Tuesday\", \"Wednesday\", \"Friday\"]\n",
    "    return f\"today is {day}, {name} will {activity_1}\"\n",
    "\n",
    "date(\"Monday\")\n",
    "\n"
   ]
  },
  {
   "cell_type": "markdown",
   "metadata": {},
   "source": [
    "### 2. A first-last name mapping machine\n",
    "- The marketing area at Simon has the following list of research (or formally research) faculty \n",
    "    - Kristina Brecko\n",
    "    - Hana Choi\n",
    "    - Paul Ellickson\n",
    "    - Ron Goettler\n",
    "    - Avery Haviv\n",
    "    - Yufeng Huang\n",
    "    - Paul Nelson\n",
    "    - Takeaki Sunada\n",
    "    - Tianli Xia\n",
    "\n",
    "- Now, write code to return the last name given a first name\n",
    "    - for example, if the first name is \"Hana,\" return \"Choi\"\n",
    "    - for example, if the first name is \"Paul,\" return \"which Paul are you looking for?\"\n",
    "\n",
    "- Note that this will be a large chunk of code, so it's better to write it as a function so we can call it many times"
   ]
  },
  {
   "cell_type": "code",
   "execution_count": 53,
   "metadata": {},
   "outputs": [
    {
     "name": "stdout",
     "output_type": "stream",
     "text": [
      "Choi\n",
      "Haviv\n",
      "Which Paul are you looking for?\n"
     ]
    }
   ],
   "source": [
    "# Approach 1\n",
    "#   \"brute-force\" if/else\n",
    "def get_last_name(first):\n",
    "    if first == \"Kristina\":     # note the double ==\n",
    "        last = \"Brecko\"         # note the single =, why?\n",
    "    elif first == \"Hana\":\n",
    "        last = \"Choi\"\n",
    "    elif first == \"Ron\":\n",
    "        last = \"Goettler\"\n",
    "    elif first == \"Avery\":\n",
    "        last = \"Haviv\"\n",
    "    elif first == \"Yufeng\":\n",
    "        last = \"Huang\"\n",
    "    elif first == \"Takeaki\":\n",
    "        last = \"Sunada\"\n",
    "    elif first == \"Tianli\":\n",
    "        last = \"Xia\"\n",
    "    else:\n",
    "        last = \"Which Paul are you looking for?\"\n",
    "    return last\n",
    "\n",
    "# test\n",
    "print(get_last_name(\"Hana\"))\n",
    "print(get_last_name(\"Avery\"))\n",
    "print(get_last_name(\"Paul\"))"
   ]
  },
  {
   "cell_type": "markdown",
   "metadata": {},
   "source": [
    "But in a multiple choice problem, using a dictionary will give you an easier time. So, we'll try rewriting this into a dictionary."
   ]
  },
  {
   "cell_type": "code",
   "execution_count": 54,
   "metadata": {},
   "outputs": [
    {
     "data": {
      "text/plain": [
       "'Brecko'"
      ]
     },
     "execution_count": 54,
     "metadata": {},
     "output_type": "execute_result"
    }
   ],
   "source": [
    "# Approach 2: dictionary approach\n",
    "\n",
    "name = {\"Kristina\": \"Brecko\", \"Hana\": \"Choi\", \"Paul_1\": \"Ellickson\", \"Ron\": \"Goettler\", \"Avery\": \"Haviv\", \"Yufeng\": \"Huang\", \"Paul\": \"Nelson\", \"Takeaki\": \"Sunada\", \"Tianli\": \"Xia\"}\n",
    "\n",
    "name[\"Kristina\"]"
   ]
  },
  {
   "cell_type": "markdown",
   "metadata": {},
   "source": [
    "- Finally, loop this over a list of first names\n",
    "    - for each one, call the function you constructed\n",
    "    - and print the results in an f-string that follows the format \"{first}'s last name is {last}\" (e.g., Hana's last name is Choi)"
   ]
  },
  {
   "cell_type": "code",
   "execution_count": null,
   "metadata": {},
   "outputs": [],
   "source": [
    "# Combine approach 2 with a for loop\n",
    "\n",
    "def last_name(name):\n",
    "    return f\"{first}'s last name is {last}\"\n",
    "\n"
   ]
  },
  {
   "cell_type": "markdown",
   "metadata": {},
   "source": [
    "### 3. Multiply a list by 1,000\n",
    "- We have some sales quantity data\n",
    "- Read them as a list\n",
    "- Question: the sales quantities are recorded in thousands. Convert the unit so that they are in dollars."
   ]
  },
  {
   "cell_type": "code",
   "execution_count": 55,
   "metadata": {},
   "outputs": [
    {
     "data": {
      "text/plain": [
       "[36, 28, 56, 42, 37, 92, 34, 55, 106]"
      ]
     },
     "execution_count": 55,
     "metadata": {},
     "output_type": "execute_result"
    }
   ],
   "source": [
    "# Create sales quantity as a list -- note the unit is 1,000\n",
    "quantity_k = [36, 28, 56, 42, 37, 92, 34, 55, 106]\n",
    "quantity_k"
   ]
  },
  {
   "cell_type": "code",
   "execution_count": 62,
   "metadata": {},
   "outputs": [
    {
     "data": {
      "text/plain": [
       "[36,\n",
       " 28,\n",
       " 56,\n",
       " 42,\n",
       " 37,\n",
       " 92,\n",
       " 34,\n",
       " 55,\n",
       " 106,\n",
       " 36,\n",
       " 28,\n",
       " 56,\n",
       " 42,\n",
       " 37,\n",
       " 92,\n",
       " 34,\n",
       " 55,\n",
       " 106,\n",
       " 36,\n",
       " 28,\n",
       " 56,\n",
       " 42,\n",
       " 37,\n",
       " 92,\n",
       " 34,\n",
       " 55,\n",
       " 106,\n",
       " 36,\n",
       " 28,\n",
       " 56,\n",
       " 42,\n",
       " 37,\n",
       " 92,\n",
       " 34,\n",
       " 55,\n",
       " 106,\n",
       " 36,\n",
       " 28,\n",
       " 56,\n",
       " 42,\n",
       " 37,\n",
       " 92,\n",
       " 34,\n",
       " 55,\n",
       " 106,\n",
       " 36,\n",
       " 28,\n",
       " 56,\n",
       " 42,\n",
       " 37,\n",
       " 92,\n",
       " 34,\n",
       " 55,\n",
       " 106,\n",
       " 36,\n",
       " 28,\n",
       " 56,\n",
       " 42,\n",
       " 37,\n",
       " 92,\n",
       " 34,\n",
       " 55,\n",
       " 106,\n",
       " 36,\n",
       " 28,\n",
       " 56,\n",
       " 42,\n",
       " 37,\n",
       " 92,\n",
       " 34,\n",
       " 55,\n",
       " 106,\n",
       " 36,\n",
       " 28,\n",
       " 56,\n",
       " 42,\n",
       " 37,\n",
       " 92,\n",
       " 34,\n",
       " 55,\n",
       " 106,\n",
       " 36,\n",
       " 28,\n",
       " 56,\n",
       " 42,\n",
       " 37,\n",
       " 92,\n",
       " 34,\n",
       " 55,\n",
       " 106,\n",
       " 36,\n",
       " 28,\n",
       " 56,\n",
       " 42,\n",
       " 37,\n",
       " 92,\n",
       " 34,\n",
       " 55,\n",
       " 106,\n",
       " 36,\n",
       " 28,\n",
       " 56,\n",
       " 42,\n",
       " 37,\n",
       " 92,\n",
       " 34,\n",
       " 55,\n",
       " 106,\n",
       " 36,\n",
       " 28,\n",
       " 56,\n",
       " 42,\n",
       " 37,\n",
       " 92,\n",
       " 34,\n",
       " 55,\n",
       " 106,\n",
       " 36,\n",
       " 28,\n",
       " 56,\n",
       " 42,\n",
       " 37,\n",
       " 92,\n",
       " 34,\n",
       " 55,\n",
       " 106,\n",
       " 36,\n",
       " 28,\n",
       " 56,\n",
       " 42,\n",
       " 37,\n",
       " 92,\n",
       " 34,\n",
       " 55,\n",
       " 106,\n",
       " 36,\n",
       " 28,\n",
       " 56,\n",
       " 42,\n",
       " 37,\n",
       " 92,\n",
       " 34,\n",
       " 55,\n",
       " 106,\n",
       " 36,\n",
       " 28,\n",
       " 56,\n",
       " 42,\n",
       " 37,\n",
       " 92,\n",
       " 34,\n",
       " 55,\n",
       " 106,\n",
       " 36,\n",
       " 28,\n",
       " 56,\n",
       " 42,\n",
       " 37,\n",
       " 92,\n",
       " 34,\n",
       " 55,\n",
       " 106,\n",
       " 36,\n",
       " 28,\n",
       " 56,\n",
       " 42,\n",
       " 37,\n",
       " 92,\n",
       " 34,\n",
       " 55,\n",
       " 106,\n",
       " 36,\n",
       " 28,\n",
       " 56,\n",
       " 42,\n",
       " 37,\n",
       " 92,\n",
       " 34,\n",
       " 55,\n",
       " 106,\n",
       " 36,\n",
       " 28,\n",
       " 56,\n",
       " 42,\n",
       " 37,\n",
       " 92,\n",
       " 34,\n",
       " 55,\n",
       " 106,\n",
       " 36,\n",
       " 28,\n",
       " 56,\n",
       " 42,\n",
       " 37,\n",
       " 92,\n",
       " 34,\n",
       " 55,\n",
       " 106,\n",
       " 36,\n",
       " 28,\n",
       " 56,\n",
       " 42,\n",
       " 37,\n",
       " 92,\n",
       " 34,\n",
       " 55,\n",
       " 106,\n",
       " 36,\n",
       " 28,\n",
       " 56,\n",
       " 42,\n",
       " 37,\n",
       " 92,\n",
       " 34,\n",
       " 55,\n",
       " 106,\n",
       " 36,\n",
       " 28,\n",
       " 56,\n",
       " 42,\n",
       " 37,\n",
       " 92,\n",
       " 34,\n",
       " 55,\n",
       " 106,\n",
       " 36,\n",
       " 28,\n",
       " 56,\n",
       " 42,\n",
       " 37,\n",
       " 92,\n",
       " 34,\n",
       " 55,\n",
       " 106,\n",
       " 36,\n",
       " 28,\n",
       " 56,\n",
       " 42,\n",
       " 37,\n",
       " 92,\n",
       " 34,\n",
       " 55,\n",
       " 106,\n",
       " 36,\n",
       " 28,\n",
       " 56,\n",
       " 42,\n",
       " 37,\n",
       " 92,\n",
       " 34,\n",
       " 55,\n",
       " 106,\n",
       " 36,\n",
       " 28,\n",
       " 56,\n",
       " 42,\n",
       " 37,\n",
       " 92,\n",
       " 34,\n",
       " 55,\n",
       " 106,\n",
       " 36,\n",
       " 28,\n",
       " 56,\n",
       " 42,\n",
       " 37,\n",
       " 92,\n",
       " 34,\n",
       " 55,\n",
       " 106,\n",
       " 36,\n",
       " 28,\n",
       " 56,\n",
       " 42,\n",
       " 37,\n",
       " 92,\n",
       " 34,\n",
       " 55,\n",
       " 106,\n",
       " 36,\n",
       " 28,\n",
       " 56,\n",
       " 42,\n",
       " 37,\n",
       " 92,\n",
       " 34,\n",
       " 55,\n",
       " 106,\n",
       " 36,\n",
       " 28,\n",
       " 56,\n",
       " 42,\n",
       " 37,\n",
       " 92,\n",
       " 34,\n",
       " 55,\n",
       " 106,\n",
       " 36,\n",
       " 28,\n",
       " 56,\n",
       " 42,\n",
       " 37,\n",
       " 92,\n",
       " 34,\n",
       " 55,\n",
       " 106,\n",
       " 36,\n",
       " 28,\n",
       " 56,\n",
       " 42,\n",
       " 37,\n",
       " 92,\n",
       " 34,\n",
       " 55,\n",
       " 106,\n",
       " 36,\n",
       " 28,\n",
       " 56,\n",
       " 42,\n",
       " 37,\n",
       " 92,\n",
       " 34,\n",
       " 55,\n",
       " 106,\n",
       " 36,\n",
       " 28,\n",
       " 56,\n",
       " 42,\n",
       " 37,\n",
       " 92,\n",
       " 34,\n",
       " 55,\n",
       " 106,\n",
       " 36,\n",
       " 28,\n",
       " 56,\n",
       " 42,\n",
       " 37,\n",
       " 92,\n",
       " 34,\n",
       " 55,\n",
       " 106,\n",
       " 36,\n",
       " 28,\n",
       " 56,\n",
       " 42,\n",
       " 37,\n",
       " 92,\n",
       " 34,\n",
       " 55,\n",
       " 106,\n",
       " 36,\n",
       " 28,\n",
       " 56,\n",
       " 42,\n",
       " 37,\n",
       " 92,\n",
       " 34,\n",
       " 55,\n",
       " 106,\n",
       " 36,\n",
       " 28,\n",
       " 56,\n",
       " 42,\n",
       " 37,\n",
       " 92,\n",
       " 34,\n",
       " 55,\n",
       " 106,\n",
       " 36,\n",
       " 28,\n",
       " 56,\n",
       " 42,\n",
       " 37,\n",
       " 92,\n",
       " 34,\n",
       " 55,\n",
       " 106,\n",
       " 36,\n",
       " 28,\n",
       " 56,\n",
       " 42,\n",
       " 37,\n",
       " 92,\n",
       " 34,\n",
       " 55,\n",
       " 106,\n",
       " 36,\n",
       " 28,\n",
       " 56,\n",
       " 42,\n",
       " 37,\n",
       " 92,\n",
       " 34,\n",
       " 55,\n",
       " 106,\n",
       " 36,\n",
       " 28,\n",
       " 56,\n",
       " 42,\n",
       " 37,\n",
       " 92,\n",
       " 34,\n",
       " 55,\n",
       " 106,\n",
       " 36,\n",
       " 28,\n",
       " 56,\n",
       " 42,\n",
       " 37,\n",
       " 92,\n",
       " 34,\n",
       " 55,\n",
       " 106,\n",
       " 36,\n",
       " 28,\n",
       " 56,\n",
       " 42,\n",
       " 37,\n",
       " 92,\n",
       " 34,\n",
       " 55,\n",
       " 106,\n",
       " 36,\n",
       " 28,\n",
       " 56,\n",
       " 42,\n",
       " 37,\n",
       " 92,\n",
       " 34,\n",
       " 55,\n",
       " 106,\n",
       " 36,\n",
       " 28,\n",
       " 56,\n",
       " 42,\n",
       " 37,\n",
       " 92,\n",
       " 34,\n",
       " 55,\n",
       " 106,\n",
       " 36,\n",
       " 28,\n",
       " 56,\n",
       " 42,\n",
       " 37,\n",
       " 92,\n",
       " 34,\n",
       " 55,\n",
       " 106,\n",
       " 36,\n",
       " 28,\n",
       " 56,\n",
       " 42,\n",
       " 37,\n",
       " 92,\n",
       " 34,\n",
       " 55,\n",
       " 106,\n",
       " 36,\n",
       " 28,\n",
       " 56,\n",
       " 42,\n",
       " 37,\n",
       " 92,\n",
       " 34,\n",
       " 55,\n",
       " 106,\n",
       " 36,\n",
       " 28,\n",
       " 56,\n",
       " 42,\n",
       " 37,\n",
       " 92,\n",
       " 34,\n",
       " 55,\n",
       " 106,\n",
       " 36,\n",
       " 28,\n",
       " 56,\n",
       " 42,\n",
       " 37,\n",
       " 92,\n",
       " 34,\n",
       " 55,\n",
       " 106,\n",
       " 36,\n",
       " 28,\n",
       " 56,\n",
       " 42,\n",
       " 37,\n",
       " 92,\n",
       " 34,\n",
       " 55,\n",
       " 106,\n",
       " 36,\n",
       " 28,\n",
       " 56,\n",
       " 42,\n",
       " 37,\n",
       " 92,\n",
       " 34,\n",
       " 55,\n",
       " 106,\n",
       " 36,\n",
       " 28,\n",
       " 56,\n",
       " 42,\n",
       " 37,\n",
       " 92,\n",
       " 34,\n",
       " 55,\n",
       " 106,\n",
       " 36,\n",
       " 28,\n",
       " 56,\n",
       " 42,\n",
       " 37,\n",
       " 92,\n",
       " 34,\n",
       " 55,\n",
       " 106,\n",
       " 36,\n",
       " 28,\n",
       " 56,\n",
       " 42,\n",
       " 37,\n",
       " 92,\n",
       " 34,\n",
       " 55,\n",
       " 106,\n",
       " 36,\n",
       " 28,\n",
       " 56,\n",
       " 42,\n",
       " 37,\n",
       " 92,\n",
       " 34,\n",
       " 55,\n",
       " 106,\n",
       " 36,\n",
       " 28,\n",
       " 56,\n",
       " 42,\n",
       " 37,\n",
       " 92,\n",
       " 34,\n",
       " 55,\n",
       " 106,\n",
       " 36,\n",
       " 28,\n",
       " 56,\n",
       " 42,\n",
       " 37,\n",
       " 92,\n",
       " 34,\n",
       " 55,\n",
       " 106,\n",
       " 36,\n",
       " 28,\n",
       " 56,\n",
       " 42,\n",
       " 37,\n",
       " 92,\n",
       " 34,\n",
       " 55,\n",
       " 106,\n",
       " 36,\n",
       " 28,\n",
       " 56,\n",
       " 42,\n",
       " 37,\n",
       " 92,\n",
       " 34,\n",
       " 55,\n",
       " 106,\n",
       " 36,\n",
       " 28,\n",
       " 56,\n",
       " 42,\n",
       " 37,\n",
       " 92,\n",
       " 34,\n",
       " 55,\n",
       " 106,\n",
       " 36,\n",
       " 28,\n",
       " 56,\n",
       " 42,\n",
       " 37,\n",
       " 92,\n",
       " 34,\n",
       " 55,\n",
       " 106,\n",
       " 36,\n",
       " 28,\n",
       " 56,\n",
       " 42,\n",
       " 37,\n",
       " 92,\n",
       " 34,\n",
       " 55,\n",
       " 106,\n",
       " 36,\n",
       " 28,\n",
       " 56,\n",
       " 42,\n",
       " 37,\n",
       " 92,\n",
       " 34,\n",
       " 55,\n",
       " 106,\n",
       " 36,\n",
       " 28,\n",
       " 56,\n",
       " 42,\n",
       " 37,\n",
       " 92,\n",
       " 34,\n",
       " 55,\n",
       " 106,\n",
       " 36,\n",
       " 28,\n",
       " 56,\n",
       " 42,\n",
       " 37,\n",
       " 92,\n",
       " 34,\n",
       " 55,\n",
       " 106,\n",
       " 36,\n",
       " 28,\n",
       " 56,\n",
       " 42,\n",
       " 37,\n",
       " 92,\n",
       " 34,\n",
       " 55,\n",
       " 106,\n",
       " 36,\n",
       " 28,\n",
       " 56,\n",
       " 42,\n",
       " 37,\n",
       " 92,\n",
       " 34,\n",
       " 55,\n",
       " 106,\n",
       " 36,\n",
       " 28,\n",
       " 56,\n",
       " 42,\n",
       " 37,\n",
       " 92,\n",
       " 34,\n",
       " 55,\n",
       " 106,\n",
       " 36,\n",
       " 28,\n",
       " 56,\n",
       " 42,\n",
       " 37,\n",
       " 92,\n",
       " 34,\n",
       " 55,\n",
       " 106,\n",
       " 36,\n",
       " 28,\n",
       " 56,\n",
       " 42,\n",
       " 37,\n",
       " 92,\n",
       " 34,\n",
       " 55,\n",
       " 106,\n",
       " 36,\n",
       " 28,\n",
       " 56,\n",
       " 42,\n",
       " 37,\n",
       " 92,\n",
       " 34,\n",
       " 55,\n",
       " 106,\n",
       " 36,\n",
       " 28,\n",
       " 56,\n",
       " 42,\n",
       " 37,\n",
       " 92,\n",
       " 34,\n",
       " 55,\n",
       " 106,\n",
       " 36,\n",
       " 28,\n",
       " 56,\n",
       " 42,\n",
       " 37,\n",
       " 92,\n",
       " 34,\n",
       " 55,\n",
       " 106,\n",
       " 36,\n",
       " 28,\n",
       " 56,\n",
       " 42,\n",
       " 37,\n",
       " 92,\n",
       " 34,\n",
       " 55,\n",
       " 106,\n",
       " 36,\n",
       " 28,\n",
       " 56,\n",
       " 42,\n",
       " 37,\n",
       " 92,\n",
       " 34,\n",
       " 55,\n",
       " 106,\n",
       " 36,\n",
       " 28,\n",
       " 56,\n",
       " 42,\n",
       " 37,\n",
       " 92,\n",
       " 34,\n",
       " 55,\n",
       " 106,\n",
       " 36,\n",
       " 28,\n",
       " 56,\n",
       " 42,\n",
       " 37,\n",
       " 92,\n",
       " 34,\n",
       " 55,\n",
       " 106,\n",
       " 36,\n",
       " 28,\n",
       " 56,\n",
       " 42,\n",
       " 37,\n",
       " 92,\n",
       " 34,\n",
       " 55,\n",
       " 106,\n",
       " 36,\n",
       " 28,\n",
       " 56,\n",
       " 42,\n",
       " 37,\n",
       " 92,\n",
       " 34,\n",
       " 55,\n",
       " 106,\n",
       " 36,\n",
       " 28,\n",
       " 56,\n",
       " 42,\n",
       " 37,\n",
       " 92,\n",
       " 34,\n",
       " 55,\n",
       " 106,\n",
       " 36,\n",
       " 28,\n",
       " 56,\n",
       " 42,\n",
       " 37,\n",
       " 92,\n",
       " 34,\n",
       " 55,\n",
       " 106,\n",
       " 36,\n",
       " 28,\n",
       " 56,\n",
       " 42,\n",
       " 37,\n",
       " 92,\n",
       " 34,\n",
       " 55,\n",
       " 106,\n",
       " 36,\n",
       " 28,\n",
       " 56,\n",
       " 42,\n",
       " 37,\n",
       " 92,\n",
       " 34,\n",
       " 55,\n",
       " 106,\n",
       " 36,\n",
       " 28,\n",
       " 56,\n",
       " 42,\n",
       " 37,\n",
       " 92,\n",
       " 34,\n",
       " 55,\n",
       " 106,\n",
       " 36,\n",
       " 28,\n",
       " 56,\n",
       " 42,\n",
       " 37,\n",
       " 92,\n",
       " 34,\n",
       " 55,\n",
       " 106,\n",
       " 36,\n",
       " 28,\n",
       " 56,\n",
       " 42,\n",
       " 37,\n",
       " 92,\n",
       " 34,\n",
       " 55,\n",
       " 106,\n",
       " 36,\n",
       " 28,\n",
       " 56,\n",
       " 42,\n",
       " 37,\n",
       " 92,\n",
       " 34,\n",
       " 55,\n",
       " 106,\n",
       " 36,\n",
       " 28,\n",
       " 56,\n",
       " 42,\n",
       " 37,\n",
       " 92,\n",
       " 34,\n",
       " 55,\n",
       " 106,\n",
       " 36,\n",
       " 28,\n",
       " 56,\n",
       " 42,\n",
       " 37,\n",
       " 92,\n",
       " 34,\n",
       " 55,\n",
       " 106,\n",
       " 36,\n",
       " 28,\n",
       " 56,\n",
       " 42,\n",
       " 37,\n",
       " 92,\n",
       " 34,\n",
       " 55,\n",
       " 106,\n",
       " 36,\n",
       " 28,\n",
       " 56,\n",
       " 42,\n",
       " 37,\n",
       " 92,\n",
       " 34,\n",
       " 55,\n",
       " 106,\n",
       " 36,\n",
       " 28,\n",
       " 56,\n",
       " 42,\n",
       " 37,\n",
       " 92,\n",
       " 34,\n",
       " 55,\n",
       " 106,\n",
       " 36,\n",
       " 28,\n",
       " 56,\n",
       " 42,\n",
       " 37,\n",
       " 92,\n",
       " 34,\n",
       " 55,\n",
       " 106,\n",
       " 36,\n",
       " 28,\n",
       " 56,\n",
       " 42,\n",
       " 37,\n",
       " 92,\n",
       " 34,\n",
       " 55,\n",
       " 106,\n",
       " 36,\n",
       " 28,\n",
       " 56,\n",
       " 42,\n",
       " 37,\n",
       " 92,\n",
       " 34,\n",
       " 55,\n",
       " 106,\n",
       " 36,\n",
       " 28,\n",
       " 56,\n",
       " 42,\n",
       " 37,\n",
       " 92,\n",
       " 34,\n",
       " 55,\n",
       " 106,\n",
       " 36,\n",
       " 28,\n",
       " 56,\n",
       " 42,\n",
       " 37,\n",
       " 92,\n",
       " 34,\n",
       " 55,\n",
       " 106,\n",
       " 36,\n",
       " 28,\n",
       " 56,\n",
       " 42,\n",
       " 37,\n",
       " 92,\n",
       " 34,\n",
       " 55,\n",
       " 106,\n",
       " 36,\n",
       " 28,\n",
       " 56,\n",
       " 42,\n",
       " 37,\n",
       " 92,\n",
       " 34,\n",
       " 55,\n",
       " 106,\n",
       " 36,\n",
       " 28,\n",
       " 56,\n",
       " 42,\n",
       " 37,\n",
       " 92,\n",
       " 34,\n",
       " 55,\n",
       " 106,\n",
       " 36,\n",
       " 28,\n",
       " 56,\n",
       " 42,\n",
       " 37,\n",
       " 92,\n",
       " 34,\n",
       " 55,\n",
       " 106,\n",
       " 36,\n",
       " 28,\n",
       " 56,\n",
       " 42,\n",
       " 37,\n",
       " 92,\n",
       " 34,\n",
       " 55,\n",
       " 106,\n",
       " 36,\n",
       " 28,\n",
       " 56,\n",
       " 42,\n",
       " 37,\n",
       " 92,\n",
       " 34,\n",
       " 55,\n",
       " 106,\n",
       " 36,\n",
       " 28,\n",
       " 56,\n",
       " 42,\n",
       " 37,\n",
       " 92,\n",
       " 34,\n",
       " 55,\n",
       " 106,\n",
       " 36,\n",
       " 28,\n",
       " 56,\n",
       " 42,\n",
       " 37,\n",
       " 92,\n",
       " 34,\n",
       " 55,\n",
       " 106,\n",
       " 36,\n",
       " 28,\n",
       " 56,\n",
       " 42,\n",
       " 37,\n",
       " 92,\n",
       " 34,\n",
       " 55,\n",
       " 106,\n",
       " 36,\n",
       " ...]"
      ]
     },
     "execution_count": 62,
     "metadata": {},
     "output_type": "execute_result"
    }
   ],
   "source": [
    "# Multiply quantity by 1,000 to get quantity (unit is 1 unit)\n",
    "quantity = quantity_k * 1000 # In Python, when you multiply a list by an integer (e.g., quantity_k * 1000), it creates a new list that repeats the original list that many times.\n",
    "quantity "
   ]
  },
  {
   "cell_type": "markdown",
   "metadata": {},
   "source": [
    "- Oops, we didn't multiply the values, but we \"multiplied\" the list!\n",
    "    - we explained that list_1 + list_2 means concatenation\n",
    "    - same with list_1 * 2, which just concatenates list_1 with list_1"
   ]
  },
  {
   "cell_type": "code",
   "execution_count": 66,
   "metadata": {},
   "outputs": [],
   "source": [
    "# So, delete quantity\n",
    "del quantity"
   ]
  },
  {
   "cell_type": "markdown",
   "metadata": {},
   "source": [
    "What to do? We can use a loop!\n",
    "Question: construct `quantity` as intended. First do it once (without a function).\n"
   ]
  },
  {
   "cell_type": "code",
   "execution_count": 67,
   "metadata": {},
   "outputs": [
    {
     "name": "stdout",
     "output_type": "stream",
     "text": [
      "[36000, 28000, 56000, 42000, 37000, 92000, 34000, 55000, 106000]\n"
     ]
    }
   ],
   "source": [
    "# Code here\n",
    "\n",
    "quantity = []\n",
    "\n",
    "for num in quantity_k:\n",
    "    num_a = num * 1000\n",
    "    quantity.append(num_a)\n",
    "\n",
    "print(quantity)\n",
    "\n",
    "# quantity = [num for num in quantity_k * 1000]\n",
    "# quantity\n"
   ]
  },
  {
   "cell_type": "markdown",
   "metadata": {},
   "source": [
    "Then, use list comprehension to simplify the syntax"
   ]
  },
  {
   "cell_type": "code",
   "execution_count": 69,
   "metadata": {},
   "outputs": [
    {
     "data": {
      "text/plain": [
       "[36000, 28000, 56000, 42000, 37000, 92000, 34000, 55000, 106000]"
      ]
     },
     "execution_count": 69,
     "metadata": {},
     "output_type": "execute_result"
    }
   ],
   "source": [
    "# Code here\n",
    "\n",
    "del quantity\n",
    "\n",
    "quantity = []\n",
    "\n",
    "for i in range(len(quantity_k)):\n",
    "    quantity.append(quantity_k[i] * 1000)\n",
    "\n",
    "quantity"
   ]
  },
  {
   "cell_type": "markdown",
   "metadata": {},
   "source": [
    "Lastly, make it even more general by constructing a function such that, for any list `x` as a input variable, and any number `a` as an input variable, return a list that adds or multiplies each element of `x` with constant `a` (whether it adds or multiplies depends on user specification)."
   ]
  },
  {
   "cell_type": "code",
   "execution_count": 71,
   "metadata": {},
   "outputs": [
    {
     "data": {
      "text/plain": [
       "[36000, 28000, 56000, 42000, 37000, 92000, 34000, 55000, 106000]"
      ]
     },
     "execution_count": 71,
     "metadata": {},
     "output_type": "execute_result"
    }
   ],
   "source": [
    "# Code here\n",
    "\n",
    "x = quantity_k\n",
    "multiplier = 1000\n",
    "res = []\n",
    "\n",
    "def multiply_list(x, multiplier):\n",
    "    for i in range(len(x)):\n",
    "        res.append(x[i] * multiplier)\n",
    "    return res\n",
    "\n",
    "multiply_list(x, multiplier)\n"
   ]
  },
  {
   "cell_type": "code",
   "execution_count": 72,
   "metadata": {},
   "outputs": [
    {
     "name": "stdout",
     "output_type": "stream",
     "text": [
      "[ 36000  28000  56000  42000  37000  92000  34000  55000 106000]\n"
     ]
    }
   ],
   "source": [
    "import numpy as np\n",
    "\n",
    "quantity = np.array(quantity_k) * 1000\n",
    "print(quantity)"
   ]
  }
 ],
 "metadata": {
  "kernelspec": {
   "display_name": "gba464",
   "language": "python",
   "name": "python3"
  },
  "language_info": {
   "codemirror_mode": {
    "name": "ipython",
    "version": 3
   },
   "file_extension": ".py",
   "mimetype": "text/x-python",
   "name": "python",
   "nbconvert_exporter": "python",
   "pygments_lexer": "ipython3",
   "version": "3.12.4"
  }
 },
 "nbformat": 4,
 "nbformat_minor": 2
}
