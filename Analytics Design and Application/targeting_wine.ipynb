{
 "cells": [
  {
   "cell_type": "code",
   "execution_count": 41,
   "metadata": {
    "id": "OmN4nZm93IEZ"
   },
   "outputs": [],
   "source": [
    "import numpy as np\n",
    "import pandas as pd\n",
    "import matplotlib.pyplot as plt\n",
    "\n",
    "import statsmodels.formula.api as smf"
   ]
  },
  {
   "cell_type": "markdown",
   "metadata": {
    "id": "IEMt0hUCfcDM"
   },
   "source": [
    "## Wine retailer experiment\n",
    "original author: Elea McDonnell Feit 6/10/2019, adapted for OMSBAM GBA 474  \n",
    "\n",
    "\n",
    "**Test setting**: email to retailer customers\n",
    "\n",
    "**Unit**: customer (email address)\n",
    "\n",
    "**Treatments**: email version A, email version B, holdout\n",
    "\n",
    "**Reponse**: open, click and 1-month purchase (\\$)\n",
    "\n",
    "**Selection**: all active customers\n",
    "\n",
    "**Assignment**: randomly assigned (1/3 each) to email A, email B or control (ctrl)"
   ]
  },
  {
   "cell_type": "code",
   "execution_count": 42,
   "metadata": {
    "colab": {
     "base_uri": "https://localhost:8080/",
     "height": 424
    },
    "id": "jjWttkAH3U-Z",
    "outputId": "8b7f19f9-f5e5-470b-ff65-a173f10905d9"
   },
   "outputs": [
    {
     "data": {
      "text/html": [
       "<div>\n",
       "<style scoped>\n",
       "    .dataframe tbody tr th:only-of-type {\n",
       "        vertical-align: middle;\n",
       "    }\n",
       "\n",
       "    .dataframe tbody tr th {\n",
       "        vertical-align: top;\n",
       "    }\n",
       "\n",
       "    .dataframe thead th {\n",
       "        text-align: right;\n",
       "    }\n",
       "</style>\n",
       "<table border=\"1\" class=\"dataframe\">\n",
       "  <thead>\n",
       "    <tr style=\"text-align: right;\">\n",
       "      <th></th>\n",
       "      <th>user_id</th>\n",
       "      <th>cpgn_id</th>\n",
       "      <th>group</th>\n",
       "      <th>open</th>\n",
       "      <th>click</th>\n",
       "      <th>purch</th>\n",
       "      <th>past_purch</th>\n",
       "      <th>last_purch</th>\n",
       "      <th>visits</th>\n",
       "    </tr>\n",
       "  </thead>\n",
       "  <tbody>\n",
       "    <tr>\n",
       "      <th>0</th>\n",
       "      <td>1000001</td>\n",
       "      <td>1901Email</td>\n",
       "      <td>ctrl</td>\n",
       "      <td>0</td>\n",
       "      <td>0</td>\n",
       "      <td>0.00</td>\n",
       "      <td>33.94</td>\n",
       "      <td>119</td>\n",
       "      <td>11</td>\n",
       "    </tr>\n",
       "    <tr>\n",
       "      <th>1</th>\n",
       "      <td>1000002</td>\n",
       "      <td>1901Email</td>\n",
       "      <td>email_B</td>\n",
       "      <td>0</td>\n",
       "      <td>0</td>\n",
       "      <td>0.00</td>\n",
       "      <td>92.54</td>\n",
       "      <td>60</td>\n",
       "      <td>3</td>\n",
       "    </tr>\n",
       "    <tr>\n",
       "      <th>2</th>\n",
       "      <td>1000003</td>\n",
       "      <td>1901Email</td>\n",
       "      <td>email_A</td>\n",
       "      <td>1</td>\n",
       "      <td>1</td>\n",
       "      <td>12.95</td>\n",
       "      <td>533.02</td>\n",
       "      <td>9</td>\n",
       "      <td>9</td>\n",
       "    </tr>\n",
       "    <tr>\n",
       "      <th>3</th>\n",
       "      <td>1000004</td>\n",
       "      <td>1901Email</td>\n",
       "      <td>email_A</td>\n",
       "      <td>0</td>\n",
       "      <td>0</td>\n",
       "      <td>0.00</td>\n",
       "      <td>41.21</td>\n",
       "      <td>195</td>\n",
       "      <td>6</td>\n",
       "    </tr>\n",
       "    <tr>\n",
       "      <th>4</th>\n",
       "      <td>1000005</td>\n",
       "      <td>1901Email</td>\n",
       "      <td>email_B</td>\n",
       "      <td>1</td>\n",
       "      <td>0</td>\n",
       "      <td>18.85</td>\n",
       "      <td>1649.01</td>\n",
       "      <td>48</td>\n",
       "      <td>9</td>\n",
       "    </tr>\n",
       "    <tr>\n",
       "      <th>...</th>\n",
       "      <td>...</td>\n",
       "      <td>...</td>\n",
       "      <td>...</td>\n",
       "      <td>...</td>\n",
       "      <td>...</td>\n",
       "      <td>...</td>\n",
       "      <td>...</td>\n",
       "      <td>...</td>\n",
       "      <td>...</td>\n",
       "    </tr>\n",
       "    <tr>\n",
       "      <th>123983</th>\n",
       "      <td>1123984</td>\n",
       "      <td>1901Email</td>\n",
       "      <td>ctrl</td>\n",
       "      <td>0</td>\n",
       "      <td>0</td>\n",
       "      <td>0.00</td>\n",
       "      <td>414.70</td>\n",
       "      <td>138</td>\n",
       "      <td>7</td>\n",
       "    </tr>\n",
       "    <tr>\n",
       "      <th>123984</th>\n",
       "      <td>1123985</td>\n",
       "      <td>1901Email</td>\n",
       "      <td>ctrl</td>\n",
       "      <td>0</td>\n",
       "      <td>0</td>\n",
       "      <td>0.00</td>\n",
       "      <td>85.27</td>\n",
       "      <td>159</td>\n",
       "      <td>6</td>\n",
       "    </tr>\n",
       "    <tr>\n",
       "      <th>123985</th>\n",
       "      <td>1123986</td>\n",
       "      <td>1901Email</td>\n",
       "      <td>ctrl</td>\n",
       "      <td>0</td>\n",
       "      <td>0</td>\n",
       "      <td>0.00</td>\n",
       "      <td>53.38</td>\n",
       "      <td>16</td>\n",
       "      <td>10</td>\n",
       "    </tr>\n",
       "    <tr>\n",
       "      <th>123986</th>\n",
       "      <td>1123987</td>\n",
       "      <td>1901Email</td>\n",
       "      <td>email_A</td>\n",
       "      <td>1</td>\n",
       "      <td>0</td>\n",
       "      <td>0.00</td>\n",
       "      <td>39.31</td>\n",
       "      <td>30</td>\n",
       "      <td>9</td>\n",
       "    </tr>\n",
       "    <tr>\n",
       "      <th>123987</th>\n",
       "      <td>1123988</td>\n",
       "      <td>1901Email</td>\n",
       "      <td>email_A</td>\n",
       "      <td>1</td>\n",
       "      <td>0</td>\n",
       "      <td>0.00</td>\n",
       "      <td>0.00</td>\n",
       "      <td>1</td>\n",
       "      <td>2</td>\n",
       "    </tr>\n",
       "  </tbody>\n",
       "</table>\n",
       "<p>123988 rows × 9 columns</p>\n",
       "</div>"
      ],
      "text/plain": [
       "        user_id    cpgn_id    group  open  click  purch  past_purch  \\\n",
       "0       1000001  1901Email     ctrl     0      0   0.00       33.94   \n",
       "1       1000002  1901Email  email_B     0      0   0.00       92.54   \n",
       "2       1000003  1901Email  email_A     1      1  12.95      533.02   \n",
       "3       1000004  1901Email  email_A     0      0   0.00       41.21   \n",
       "4       1000005  1901Email  email_B     1      0  18.85     1649.01   \n",
       "...         ...        ...      ...   ...    ...    ...         ...   \n",
       "123983  1123984  1901Email     ctrl     0      0   0.00      414.70   \n",
       "123984  1123985  1901Email     ctrl     0      0   0.00       85.27   \n",
       "123985  1123986  1901Email     ctrl     0      0   0.00       53.38   \n",
       "123986  1123987  1901Email  email_A     1      0   0.00       39.31   \n",
       "123987  1123988  1901Email  email_A     1      0   0.00        0.00   \n",
       "\n",
       "        last_purch  visits  \n",
       "0              119      11  \n",
       "1               60       3  \n",
       "2                9       9  \n",
       "3              195       6  \n",
       "4               48       9  \n",
       "...            ...     ...  \n",
       "123983         138       7  \n",
       "123984         159       6  \n",
       "123985          16      10  \n",
       "123986          30       9  \n",
       "123987           1       2  \n",
       "\n",
       "[123988 rows x 9 columns]"
      ]
     },
     "execution_count": 42,
     "metadata": {},
     "output_type": "execute_result"
    }
   ],
   "source": [
    "data = pd.read_csv('data_targeting_wine.csv')\n",
    "data"
   ]
  },
  {
   "cell_type": "markdown",
   "metadata": {
    "id": "dJ-QNUV2fwR2"
   },
   "source": [
    "## Types of variables associated with experiment\n",
    "- **Treatment indicator** (W's)\n",
    "    - Which (randomized) treatment was received  \n",
    "    - Here these are group: email A, B (grouped together as email) or ctrl\n",
    "      \n",
    "- **Response** (Y's)\n",
    "    - Outcome(s) measured for each customer. Aka the DV or dependent variable.  \n",
    "    - Here these are: open, click, and purch\n",
    "    \n",
    "- **Baseline variables** (\"X's\")\n",
    "    - Other features we know about customers **prior** to the randomization  \n",
    "    - here includes: \n",
    "    - total purchases in past year (past_purch)\n",
    "    - days since last purchase or 2 years if more than 2 years ago (last_purch)\n",
    "    - number of website visits (visits)\n",
    "\n",
    "\n",
    "We can depict the average effects in table and graph form as follows:"
   ]
  },
  {
   "cell_type": "code",
   "execution_count": 43,
   "metadata": {
    "colab": {
     "base_uri": "https://localhost:8080/",
     "height": 143
    },
    "id": "VWpRuQ0sBbrs",
    "outputId": "770a2b4b-4ef2-499b-faed-ab8288e532ff"
   },
   "outputs": [
    {
     "data": {
      "text/html": [
       "<div>\n",
       "<style scoped>\n",
       "    .dataframe tbody tr th:only-of-type {\n",
       "        vertical-align: middle;\n",
       "    }\n",
       "\n",
       "    .dataframe tbody tr th {\n",
       "        vertical-align: top;\n",
       "    }\n",
       "\n",
       "    .dataframe thead th {\n",
       "        text-align: right;\n",
       "    }\n",
       "</style>\n",
       "<table border=\"1\" class=\"dataframe\">\n",
       "  <thead>\n",
       "    <tr style=\"text-align: right;\">\n",
       "      <th></th>\n",
       "      <th>group</th>\n",
       "      <th>count</th>\n",
       "      <th>purch_mean</th>\n",
       "      <th>purch_std</th>\n",
       "      <th>open_mean</th>\n",
       "      <th>open_std</th>\n",
       "      <th>click_mean</th>\n",
       "      <th>click_std</th>\n",
       "    </tr>\n",
       "  </thead>\n",
       "  <tbody>\n",
       "    <tr>\n",
       "      <th>0</th>\n",
       "      <td>ctrl</td>\n",
       "      <td>41330</td>\n",
       "      <td>12.321663</td>\n",
       "      <td>42.248307</td>\n",
       "      <td>0.000000</td>\n",
       "      <td>0.000000</td>\n",
       "      <td>0.000000</td>\n",
       "      <td>0.000000</td>\n",
       "    </tr>\n",
       "    <tr>\n",
       "      <th>1</th>\n",
       "      <td>email_A</td>\n",
       "      <td>41329</td>\n",
       "      <td>13.815919</td>\n",
       "      <td>46.855404</td>\n",
       "      <td>0.717099</td>\n",
       "      <td>0.450414</td>\n",
       "      <td>0.131530</td>\n",
       "      <td>0.337983</td>\n",
       "    </tr>\n",
       "    <tr>\n",
       "      <th>2</th>\n",
       "      <td>email_B</td>\n",
       "      <td>41329</td>\n",
       "      <td>13.683477</td>\n",
       "      <td>44.961076</td>\n",
       "      <td>0.653681</td>\n",
       "      <td>0.475802</td>\n",
       "      <td>0.089695</td>\n",
       "      <td>0.285748</td>\n",
       "    </tr>\n",
       "  </tbody>\n",
       "</table>\n",
       "</div>"
      ],
      "text/plain": [
       "     group  count  purch_mean  purch_std  open_mean  open_std  click_mean  \\\n",
       "0     ctrl  41330   12.321663  42.248307   0.000000  0.000000    0.000000   \n",
       "1  email_A  41329   13.815919  46.855404   0.717099  0.450414    0.131530   \n",
       "2  email_B  41329   13.683477  44.961076   0.653681  0.475802    0.089695   \n",
       "\n",
       "   click_std  \n",
       "0   0.000000  \n",
       "1   0.337983  \n",
       "2   0.285748  "
      ]
     },
     "execution_count": 43,
     "metadata": {},
     "output_type": "execute_result"
    }
   ],
   "source": [
    "summ = data.groupby('group').agg({'purch': ['count', 'mean', 'std'], 'open': ['mean', 'std'], 'click': ['mean', 'std']})\n",
    "summ.columns = ['count', 'purch_mean', 'purch_std', 'open_mean', 'open_std', 'click_mean', 'click_std']\n",
    "summ = summ.reset_index()\n",
    "summ"
   ]
  },
  {
   "cell_type": "code",
   "execution_count": 44,
   "metadata": {
    "colab": {
     "base_uri": "https://localhost:8080/",
     "height": 880
    },
    "id": "ooFfrk6NCVm5",
    "outputId": "764ce8dc-e491-45f0-bb68-7202161f980c"
   },
   "outputs": [
    {
     "data": {
      "image/png": "[encoded data removed]",
      "text/plain": [
       "<Figure size 1000x1500 with 1 Axes>"
      ]
     },
     "metadata": {},
     "output_type": "display_data"
    }
   ],
   "source": [
    "plt.figure(figsize = (10,15))\n",
    "\n",
    "plt.bar(summ['group'], summ['purch_mean'])\n",
    "\n",
    "error = summ['purch_std']/np.sqrt(summ['count'])\n",
    "plt.errorbar(summ['group'], summ['purch_mean'], yerr=error, fmt=\"o\", color=\"r\")\n",
    "plt.title(\"Mean Purchases by Experimental Group\")\n",
    "plt.ylabel('Mean Purchases')\n",
    "\n",
    "plt.show()"
   ]
  },
  {
   "cell_type": "markdown",
   "metadata": {
    "id": "Ce3yI3D8hC4L"
   },
   "source": [
    "##Average Treatment Effects\n",
    "\n",
    "To evaluate the average causal effect on purchases we use linear regression as follows. \n",
    "\n"
   ]
  },
  {
   "cell_type": "code",
   "execution_count": 45,
   "metadata": {
    "colab": {
     "base_uri": "https://localhost:8080/"
    },
    "id": "zAx7AiUl3VVR",
    "outputId": "74efbb95-1ee5-4e30-b104-b91e16ede751"
   },
   "outputs": [
    {
     "name": "stdout",
     "output_type": "stream",
     "text": [
      "                            OLS Regression Results                            \n",
      "==============================================================================\n",
      "Dep. Variable:                  purch   R-squared:                       0.000\n",
      "Model:                            OLS   Adj. R-squared:                  0.000\n",
      "Method:                 Least Squares   F-statistic:                     14.13\n",
      "Date:                Sun, 01 Dec 2024   Prob (F-statistic):           7.29e-07\n",
      "Time:                        23:02:35   Log-Likelihood:            -6.4716e+05\n",
      "No. Observations:              123988   AIC:                         1.294e+06\n",
      "Df Residuals:                  123985   BIC:                         1.294e+06\n",
      "Df Model:                           2                                         \n",
      "Covariance Type:            nonrobust                                         \n",
      "====================================================================================\n",
      "                       coef    std err          t      P>|t|      [0.025      0.975]\n",
      "------------------------------------------------------------------------------------\n",
      "Intercept           12.3217      0.220     56.004      0.000      11.890      12.753\n",
      "group[T.email_A]     1.4943      0.311      4.802      0.000       0.884       2.104\n",
      "group[T.email_B]     1.3618      0.311      4.377      0.000       0.752       1.972\n",
      "==============================================================================\n",
      "Omnibus:                   179898.954   Durbin-Watson:                   1.999\n",
      "Prob(Omnibus):                  0.000   Jarque-Bera (JB):        102650904.698\n",
      "Skew:                           8.629   Prob(JB):                         0.00\n",
      "Kurtosis:                     142.900   Cond. No.                         3.73\n",
      "==============================================================================\n",
      "\n",
      "Notes:\n",
      "[1] Standard Errors assume that the covariance matrix of the errors is correctly specified.\n"
     ]
    }
   ],
   "source": [
    "model = smf.ols(formula =\"purch ~ group\", data=data).fit()\n",
    "print(model.summary())\n"
   ]
  },
  {
   "cell_type": "code",
   "execution_count": 46,
   "metadata": {
    "colab": {
     "base_uri": "https://localhost:8080/",
     "height": 143
    },
    "id": "JIQPlhY6jd44",
    "outputId": "f4dcaa16-ded5-4cb2-eba3-06680520835f"
   },
   "outputs": [
    {
     "data": {
      "text/html": [
       "<div>\n",
       "<style scoped>\n",
       "    .dataframe tbody tr th:only-of-type {\n",
       "        vertical-align: middle;\n",
       "    }\n",
       "\n",
       "    .dataframe tbody tr th {\n",
       "        vertical-align: top;\n",
       "    }\n",
       "\n",
       "    .dataframe thead th {\n",
       "        text-align: right;\n",
       "    }\n",
       "</style>\n",
       "<table border=\"1\" class=\"dataframe\">\n",
       "  <thead>\n",
       "    <tr style=\"text-align: right;\">\n",
       "      <th></th>\n",
       "      <th>Coefficient</th>\n",
       "    </tr>\n",
       "  </thead>\n",
       "  <tbody>\n",
       "    <tr>\n",
       "      <th>Intercept</th>\n",
       "      <td>12.321663</td>\n",
       "    </tr>\n",
       "    <tr>\n",
       "      <th>group[T.email_A]</th>\n",
       "      <td>1.494256</td>\n",
       "    </tr>\n",
       "    <tr>\n",
       "      <th>group[T.email_B]</th>\n",
       "      <td>1.361814</td>\n",
       "    </tr>\n",
       "  </tbody>\n",
       "</table>\n",
       "</div>"
      ],
      "text/plain": [
       "                  Coefficient\n",
       "Intercept           12.321663\n",
       "group[T.email_A]     1.494256\n",
       "group[T.email_B]     1.361814"
      ]
     },
     "execution_count": 46,
     "metadata": {},
     "output_type": "execute_result"
    }
   ],
   "source": [
    "pd.DataFrame(model.params, columns = ['Coefficient'])"
   ]
  },
  {
   "cell_type": "markdown",
   "metadata": {
    "id": "iL13LGWmhWjE"
   },
   "source": [
    "All effects are both highly significant and the effect sizes are \\\\$1.49 for email A and \\$1.36 for email B. Notice further that the two emails do not appear to be significantly different from one another. As a result, we create a variable, emailTRUE, that pools the two together. We then rerun the analysis with the pooled variables. "
   ]
  },
  {
   "cell_type": "code",
   "execution_count": 47,
   "metadata": {
    "colab": {
     "base_uri": "https://localhost:8080/",
     "height": 424
    },
    "id": "uyFRt1-XMQvM",
    "outputId": "b44069b6-e43e-4b9f-ad89-a334ea5ebf1d"
   },
   "outputs": [
    {
     "data": {
      "text/html": [
       "<div>\n",
       "<style scoped>\n",
       "    .dataframe tbody tr th:only-of-type {\n",
       "        vertical-align: middle;\n",
       "    }\n",
       "\n",
       "    .dataframe tbody tr th {\n",
       "        vertical-align: top;\n",
       "    }\n",
       "\n",
       "    .dataframe thead th {\n",
       "        text-align: right;\n",
       "    }\n",
       "</style>\n",
       "<table border=\"1\" class=\"dataframe\">\n",
       "  <thead>\n",
       "    <tr style=\"text-align: right;\">\n",
       "      <th></th>\n",
       "      <th>user_id</th>\n",
       "      <th>cpgn_id</th>\n",
       "      <th>group</th>\n",
       "      <th>open</th>\n",
       "      <th>click</th>\n",
       "      <th>purch</th>\n",
       "      <th>past_purch</th>\n",
       "      <th>last_purch</th>\n",
       "      <th>visits</th>\n",
       "      <th>email</th>\n",
       "    </tr>\n",
       "  </thead>\n",
       "  <tbody>\n",
       "    <tr>\n",
       "      <th>0</th>\n",
       "      <td>1000001</td>\n",
       "      <td>1901Email</td>\n",
       "      <td>ctrl</td>\n",
       "      <td>0</td>\n",
       "      <td>0</td>\n",
       "      <td>0.00</td>\n",
       "      <td>33.94</td>\n",
       "      <td>119</td>\n",
       "      <td>11</td>\n",
       "      <td>False</td>\n",
       "    </tr>\n",
       "    <tr>\n",
       "      <th>1</th>\n",
       "      <td>1000002</td>\n",
       "      <td>1901Email</td>\n",
       "      <td>email_B</td>\n",
       "      <td>0</td>\n",
       "      <td>0</td>\n",
       "      <td>0.00</td>\n",
       "      <td>92.54</td>\n",
       "      <td>60</td>\n",
       "      <td>3</td>\n",
       "      <td>True</td>\n",
       "    </tr>\n",
       "    <tr>\n",
       "      <th>2</th>\n",
       "      <td>1000003</td>\n",
       "      <td>1901Email</td>\n",
       "      <td>email_A</td>\n",
       "      <td>1</td>\n",
       "      <td>1</td>\n",
       "      <td>12.95</td>\n",
       "      <td>533.02</td>\n",
       "      <td>9</td>\n",
       "      <td>9</td>\n",
       "      <td>True</td>\n",
       "    </tr>\n",
       "    <tr>\n",
       "      <th>3</th>\n",
       "      <td>1000004</td>\n",
       "      <td>1901Email</td>\n",
       "      <td>email_A</td>\n",
       "      <td>0</td>\n",
       "      <td>0</td>\n",
       "      <td>0.00</td>\n",
       "      <td>41.21</td>\n",
       "      <td>195</td>\n",
       "      <td>6</td>\n",
       "      <td>True</td>\n",
       "    </tr>\n",
       "    <tr>\n",
       "      <th>4</th>\n",
       "      <td>1000005</td>\n",
       "      <td>1901Email</td>\n",
       "      <td>email_B</td>\n",
       "      <td>1</td>\n",
       "      <td>0</td>\n",
       "      <td>18.85</td>\n",
       "      <td>1649.01</td>\n",
       "      <td>48</td>\n",
       "      <td>9</td>\n",
       "      <td>True</td>\n",
       "    </tr>\n",
       "    <tr>\n",
       "      <th>...</th>\n",
       "      <td>...</td>\n",
       "      <td>...</td>\n",
       "      <td>...</td>\n",
       "      <td>...</td>\n",
       "      <td>...</td>\n",
       "      <td>...</td>\n",
       "      <td>...</td>\n",
       "      <td>...</td>\n",
       "      <td>...</td>\n",
       "      <td>...</td>\n",
       "    </tr>\n",
       "    <tr>\n",
       "      <th>123983</th>\n",
       "      <td>1123984</td>\n",
       "      <td>1901Email</td>\n",
       "      <td>ctrl</td>\n",
       "      <td>0</td>\n",
       "      <td>0</td>\n",
       "      <td>0.00</td>\n",
       "      <td>414.70</td>\n",
       "      <td>138</td>\n",
       "      <td>7</td>\n",
       "      <td>False</td>\n",
       "    </tr>\n",
       "    <tr>\n",
       "      <th>123984</th>\n",
       "      <td>1123985</td>\n",
       "      <td>1901Email</td>\n",
       "      <td>ctrl</td>\n",
       "      <td>0</td>\n",
       "      <td>0</td>\n",
       "      <td>0.00</td>\n",
       "      <td>85.27</td>\n",
       "      <td>159</td>\n",
       "      <td>6</td>\n",
       "      <td>False</td>\n",
       "    </tr>\n",
       "    <tr>\n",
       "      <th>123985</th>\n",
       "      <td>1123986</td>\n",
       "      <td>1901Email</td>\n",
       "      <td>ctrl</td>\n",
       "      <td>0</td>\n",
       "      <td>0</td>\n",
       "      <td>0.00</td>\n",
       "      <td>53.38</td>\n",
       "      <td>16</td>\n",
       "      <td>10</td>\n",
       "      <td>False</td>\n",
       "    </tr>\n",
       "    <tr>\n",
       "      <th>123986</th>\n",
       "      <td>1123987</td>\n",
       "      <td>1901Email</td>\n",
       "      <td>email_A</td>\n",
       "      <td>1</td>\n",
       "      <td>0</td>\n",
       "      <td>0.00</td>\n",
       "      <td>39.31</td>\n",
       "      <td>30</td>\n",
       "      <td>9</td>\n",
       "      <td>True</td>\n",
       "    </tr>\n",
       "    <tr>\n",
       "      <th>123987</th>\n",
       "      <td>1123988</td>\n",
       "      <td>1901Email</td>\n",
       "      <td>email_A</td>\n",
       "      <td>1</td>\n",
       "      <td>0</td>\n",
       "      <td>0.00</td>\n",
       "      <td>0.00</td>\n",
       "      <td>1</td>\n",
       "      <td>2</td>\n",
       "      <td>True</td>\n",
       "    </tr>\n",
       "  </tbody>\n",
       "</table>\n",
       "<p>123988 rows × 10 columns</p>\n",
       "</div>"
      ],
      "text/plain": [
       "        user_id    cpgn_id    group  open  click  purch  past_purch  \\\n",
       "0       1000001  1901Email     ctrl     0      0   0.00       33.94   \n",
       "1       1000002  1901Email  email_B     0      0   0.00       92.54   \n",
       "2       1000003  1901Email  email_A     1      1  12.95      533.02   \n",
       "3       1000004  1901Email  email_A     0      0   0.00       41.21   \n",
       "4       1000005  1901Email  email_B     1      0  18.85     1649.01   \n",
       "...         ...        ...      ...   ...    ...    ...         ...   \n",
       "123983  1123984  1901Email     ctrl     0      0   0.00      414.70   \n",
       "123984  1123985  1901Email     ctrl     0      0   0.00       85.27   \n",
       "123985  1123986  1901Email     ctrl     0      0   0.00       53.38   \n",
       "123986  1123987  1901Email  email_A     1      0   0.00       39.31   \n",
       "123987  1123988  1901Email  email_A     1      0   0.00        0.00   \n",
       "\n",
       "        last_purch  visits  email  \n",
       "0              119      11  False  \n",
       "1               60       3   True  \n",
       "2                9       9   True  \n",
       "3              195       6   True  \n",
       "4               48       9   True  \n",
       "...            ...     ...    ...  \n",
       "123983         138       7  False  \n",
       "123984         159       6  False  \n",
       "123985          16      10  False  \n",
       "123986          30       9   True  \n",
       "123987           1       2   True  \n",
       "\n",
       "[123988 rows x 10 columns]"
      ]
     },
     "execution_count": 47,
     "metadata": {},
     "output_type": "execute_result"
    }
   ],
   "source": [
    "data['email'] = data['group'] != 'ctrl'\n",
    "data"
   ]
  },
  {
   "cell_type": "code",
   "execution_count": 48,
   "metadata": {
    "colab": {
     "base_uri": "https://localhost:8080/"
    },
    "id": "YPuhR0GLMkRM",
    "outputId": "eba61e53-2543-446b-ad36-79b37b773351"
   },
   "outputs": [
    {
     "name": "stdout",
     "output_type": "stream",
     "text": [
      "                            OLS Regression Results                            \n",
      "==============================================================================\n",
      "Dep. Variable:                  purch   R-squared:                       0.000\n",
      "Model:                            OLS   Adj. R-squared:                  0.000\n",
      "Method:                 Least Squares   F-statistic:                     28.09\n",
      "Date:                Sun, 01 Dec 2024   Prob (F-statistic):           1.16e-07\n",
      "Time:                        23:02:37   Log-Likelihood:            -6.4716e+05\n",
      "No. Observations:              123988   AIC:                         1.294e+06\n",
      "Df Residuals:                  123986   BIC:                         1.294e+06\n",
      "Df Model:                           1                                         \n",
      "Covariance Type:            nonrobust                                         \n",
      "=================================================================================\n",
      "                    coef    std err          t      P>|t|      [0.025      0.975]\n",
      "---------------------------------------------------------------------------------\n",
      "Intercept        12.3217      0.220     56.004      0.000      11.890      12.753\n",
      "email[T.True]     1.4280      0.269      5.300      0.000       0.900       1.956\n",
      "==============================================================================\n",
      "Omnibus:                   179900.377   Durbin-Watson:                   1.999\n",
      "Prob(Omnibus):                  0.000   Jarque-Bera (JB):        102658881.288\n",
      "Skew:                           8.629   Prob(JB):                         0.00\n",
      "Kurtosis:                     142.906   Cond. No.                         3.23\n",
      "==============================================================================\n",
      "\n",
      "Notes:\n",
      "[1] Standard Errors assume that the covariance matrix of the errors is correctly specified.\n"
     ]
    }
   ],
   "source": [
    "model = smf.ols(formula =\"purch ~ email\", data=data).fit()\n",
    "print(model.summary())\n"
   ]
  },
  {
   "cell_type": "markdown",
   "metadata": {
    "id": "7rzxY6CqhkOj"
   },
   "source": [
    "## Baseline variable: Days since last purchase\n",
    "\n",
    "Looking at the distribution of the variable last_purch.  We will define \"recent purchasers\" customers who have made a purchase in the last 60 days."
   ]
  },
  {
   "cell_type": "code",
   "execution_count": 49,
   "metadata": {
    "colab": {
     "base_uri": "https://localhost:8080/",
     "height": 513
    },
    "id": "Hl3H5szoMvBa",
    "outputId": "87bab3c6-a96a-4829-abb7-c9e3c28266db"
   },
   "outputs": [
    {
     "data": {
      "image/png": "[encoded data removed]",
      "text/plain": [
       "<Figure size 800x800 with 1 Axes>"
      ]
     },
     "metadata": {},
     "output_type": "display_data"
    }
   ],
   "source": [
    "plt.figure(figsize=(8,8))\n",
    "\n",
    "n, bins, patches = plt.hist(data['last_purch'], bins = 50)\n",
    "plt.xlabel('Days Since Last Purchase')\n",
    "plt.ylabel('Frequency')\n",
    "plt.title('Histogram of Last Purch')\n",
    "plt.show()"
   ]
  },
  {
   "cell_type": "code",
   "execution_count": 50,
   "metadata": {
    "colab": {
     "base_uri": "https://localhost:8080/",
     "height": 424
    },
    "id": "fSU5DH_RPt4S",
    "outputId": "4196b317-fa3b-475c-fb9d-b2a04cb92e10"
   },
   "outputs": [
    {
     "data": {
      "text/html": [
       "<div>\n",
       "<style scoped>\n",
       "    .dataframe tbody tr th:only-of-type {\n",
       "        vertical-align: middle;\n",
       "    }\n",
       "\n",
       "    .dataframe tbody tr th {\n",
       "        vertical-align: top;\n",
       "    }\n",
       "\n",
       "    .dataframe thead th {\n",
       "        text-align: right;\n",
       "    }\n",
       "</style>\n",
       "<table border=\"1\" class=\"dataframe\">\n",
       "  <thead>\n",
       "    <tr style=\"text-align: right;\">\n",
       "      <th></th>\n",
       "      <th>user_id</th>\n",
       "      <th>cpgn_id</th>\n",
       "      <th>group</th>\n",
       "      <th>open</th>\n",
       "      <th>click</th>\n",
       "      <th>purch</th>\n",
       "      <th>past_purch</th>\n",
       "      <th>last_purch</th>\n",
       "      <th>visits</th>\n",
       "      <th>email</th>\n",
       "      <th>recentPurch</th>\n",
       "    </tr>\n",
       "  </thead>\n",
       "  <tbody>\n",
       "    <tr>\n",
       "      <th>0</th>\n",
       "      <td>1000001</td>\n",
       "      <td>1901Email</td>\n",
       "      <td>ctrl</td>\n",
       "      <td>0</td>\n",
       "      <td>0</td>\n",
       "      <td>0.00</td>\n",
       "      <td>33.94</td>\n",
       "      <td>119</td>\n",
       "      <td>11</td>\n",
       "      <td>False</td>\n",
       "      <td>False</td>\n",
       "    </tr>\n",
       "    <tr>\n",
       "      <th>1</th>\n",
       "      <td>1000002</td>\n",
       "      <td>1901Email</td>\n",
       "      <td>email_B</td>\n",
       "      <td>0</td>\n",
       "      <td>0</td>\n",
       "      <td>0.00</td>\n",
       "      <td>92.54</td>\n",
       "      <td>60</td>\n",
       "      <td>3</td>\n",
       "      <td>True</td>\n",
       "      <td>False</td>\n",
       "    </tr>\n",
       "    <tr>\n",
       "      <th>2</th>\n",
       "      <td>1000003</td>\n",
       "      <td>1901Email</td>\n",
       "      <td>email_A</td>\n",
       "      <td>1</td>\n",
       "      <td>1</td>\n",
       "      <td>12.95</td>\n",
       "      <td>533.02</td>\n",
       "      <td>9</td>\n",
       "      <td>9</td>\n",
       "      <td>True</td>\n",
       "      <td>True</td>\n",
       "    </tr>\n",
       "    <tr>\n",
       "      <th>3</th>\n",
       "      <td>1000004</td>\n",
       "      <td>1901Email</td>\n",
       "      <td>email_A</td>\n",
       "      <td>0</td>\n",
       "      <td>0</td>\n",
       "      <td>0.00</td>\n",
       "      <td>41.21</td>\n",
       "      <td>195</td>\n",
       "      <td>6</td>\n",
       "      <td>True</td>\n",
       "      <td>False</td>\n",
       "    </tr>\n",
       "    <tr>\n",
       "      <th>4</th>\n",
       "      <td>1000005</td>\n",
       "      <td>1901Email</td>\n",
       "      <td>email_B</td>\n",
       "      <td>1</td>\n",
       "      <td>0</td>\n",
       "      <td>18.85</td>\n",
       "      <td>1649.01</td>\n",
       "      <td>48</td>\n",
       "      <td>9</td>\n",
       "      <td>True</td>\n",
       "      <td>True</td>\n",
       "    </tr>\n",
       "    <tr>\n",
       "      <th>...</th>\n",
       "      <td>...</td>\n",
       "      <td>...</td>\n",
       "      <td>...</td>\n",
       "      <td>...</td>\n",
       "      <td>...</td>\n",
       "      <td>...</td>\n",
       "      <td>...</td>\n",
       "      <td>...</td>\n",
       "      <td>...</td>\n",
       "      <td>...</td>\n",
       "      <td>...</td>\n",
       "    </tr>\n",
       "    <tr>\n",
       "      <th>123983</th>\n",
       "      <td>1123984</td>\n",
       "      <td>1901Email</td>\n",
       "      <td>ctrl</td>\n",
       "      <td>0</td>\n",
       "      <td>0</td>\n",
       "      <td>0.00</td>\n",
       "      <td>414.70</td>\n",
       "      <td>138</td>\n",
       "      <td>7</td>\n",
       "      <td>False</td>\n",
       "      <td>False</td>\n",
       "    </tr>\n",
       "    <tr>\n",
       "      <th>123984</th>\n",
       "      <td>1123985</td>\n",
       "      <td>1901Email</td>\n",
       "      <td>ctrl</td>\n",
       "      <td>0</td>\n",
       "      <td>0</td>\n",
       "      <td>0.00</td>\n",
       "      <td>85.27</td>\n",
       "      <td>159</td>\n",
       "      <td>6</td>\n",
       "      <td>False</td>\n",
       "      <td>False</td>\n",
       "    </tr>\n",
       "    <tr>\n",
       "      <th>123985</th>\n",
       "      <td>1123986</td>\n",
       "      <td>1901Email</td>\n",
       "      <td>ctrl</td>\n",
       "      <td>0</td>\n",
       "      <td>0</td>\n",
       "      <td>0.00</td>\n",
       "      <td>53.38</td>\n",
       "      <td>16</td>\n",
       "      <td>10</td>\n",
       "      <td>False</td>\n",
       "      <td>True</td>\n",
       "    </tr>\n",
       "    <tr>\n",
       "      <th>123986</th>\n",
       "      <td>1123987</td>\n",
       "      <td>1901Email</td>\n",
       "      <td>email_A</td>\n",
       "      <td>1</td>\n",
       "      <td>0</td>\n",
       "      <td>0.00</td>\n",
       "      <td>39.31</td>\n",
       "      <td>30</td>\n",
       "      <td>9</td>\n",
       "      <td>True</td>\n",
       "      <td>True</td>\n",
       "    </tr>\n",
       "    <tr>\n",
       "      <th>123987</th>\n",
       "      <td>1123988</td>\n",
       "      <td>1901Email</td>\n",
       "      <td>email_A</td>\n",
       "      <td>1</td>\n",
       "      <td>0</td>\n",
       "      <td>0.00</td>\n",
       "      <td>0.00</td>\n",
       "      <td>1</td>\n",
       "      <td>2</td>\n",
       "      <td>True</td>\n",
       "      <td>True</td>\n",
       "    </tr>\n",
       "  </tbody>\n",
       "</table>\n",
       "<p>123988 rows × 11 columns</p>\n",
       "</div>"
      ],
      "text/plain": [
       "        user_id    cpgn_id    group  open  click  purch  past_purch  \\\n",
       "0       1000001  1901Email     ctrl     0      0   0.00       33.94   \n",
       "1       1000002  1901Email  email_B     0      0   0.00       92.54   \n",
       "2       1000003  1901Email  email_A     1      1  12.95      533.02   \n",
       "3       1000004  1901Email  email_A     0      0   0.00       41.21   \n",
       "4       1000005  1901Email  email_B     1      0  18.85     1649.01   \n",
       "...         ...        ...      ...   ...    ...    ...         ...   \n",
       "123983  1123984  1901Email     ctrl     0      0   0.00      414.70   \n",
       "123984  1123985  1901Email     ctrl     0      0   0.00       85.27   \n",
       "123985  1123986  1901Email     ctrl     0      0   0.00       53.38   \n",
       "123986  1123987  1901Email  email_A     1      0   0.00       39.31   \n",
       "123987  1123988  1901Email  email_A     1      0   0.00        0.00   \n",
       "\n",
       "        last_purch  visits  email  recentPurch  \n",
       "0              119      11  False        False  \n",
       "1               60       3   True        False  \n",
       "2                9       9   True         True  \n",
       "3              195       6   True        False  \n",
       "4               48       9   True         True  \n",
       "...            ...     ...    ...          ...  \n",
       "123983         138       7  False        False  \n",
       "123984         159       6  False        False  \n",
       "123985          16      10  False         True  \n",
       "123986          30       9   True         True  \n",
       "123987           1       2   True         True  \n",
       "\n",
       "[123988 rows x 11 columns]"
      ]
     },
     "execution_count": 50,
     "metadata": {},
     "output_type": "execute_result"
    }
   ],
   "source": [
    "data['recentPurch'] = data['last_purch'] < 60\n",
    "data"
   ]
  },
  {
   "cell_type": "markdown",
   "metadata": {
    "id": "UA853aS2iCi5"
   },
   "source": [
    "Is email more effective for recent buyers? "
   ]
  },
  {
   "cell_type": "code",
   "execution_count": 51,
   "metadata": {
    "colab": {
     "base_uri": "https://localhost:8080/",
     "height": 175
    },
    "id": "lcMl31MaP1oJ",
    "outputId": "5eee7bc8-6cf9-44bb-83fa-03beb5f43e2b"
   },
   "outputs": [
    {
     "data": {
      "text/html": [
       "<div>\n",
       "<style scoped>\n",
       "    .dataframe tbody tr th:only-of-type {\n",
       "        vertical-align: middle;\n",
       "    }\n",
       "\n",
       "    .dataframe tbody tr th {\n",
       "        vertical-align: top;\n",
       "    }\n",
       "\n",
       "    .dataframe thead th {\n",
       "        text-align: right;\n",
       "    }\n",
       "</style>\n",
       "<table border=\"1\" class=\"dataframe\">\n",
       "  <thead>\n",
       "    <tr style=\"text-align: right;\">\n",
       "      <th>recentPurch</th>\n",
       "      <th>False</th>\n",
       "      <th>True</th>\n",
       "    </tr>\n",
       "    <tr>\n",
       "      <th>email</th>\n",
       "      <th></th>\n",
       "      <th></th>\n",
       "    </tr>\n",
       "  </thead>\n",
       "  <tbody>\n",
       "    <tr>\n",
       "      <th>False</th>\n",
       "      <td>6.406703</td>\n",
       "      <td>18.667363</td>\n",
       "    </tr>\n",
       "    <tr>\n",
       "      <th>True</th>\n",
       "      <td>7.288236</td>\n",
       "      <td>20.717406</td>\n",
       "    </tr>\n",
       "  </tbody>\n",
       "</table>\n",
       "</div>"
      ],
      "text/plain": [
       "recentPurch     False      True \n",
       "email                           \n",
       "False        6.406703  18.667363\n",
       "True         7.288236  20.717406"
      ]
     },
     "execution_count": 51,
     "metadata": {},
     "output_type": "execute_result"
    }
   ],
   "source": [
    "summ = data.groupby(['recentPurch','email']).agg({'purch': ['mean', 'std', 'count']})\n",
    "summ.columns = ['purch_mean', 'purch_std', 'purch_count']\n",
    "summ = summ.reset_index()\n",
    "\n",
    "cross_tab = pd.pivot_table(\n",
    "    summ,\n",
    "    values='purch_mean',  \n",
    "    index='email',\n",
    "    columns='recentPurch',\n",
    "    aggfunc='mean',  \n",
    "    fill_value=0\n",
    ")\n",
    "\n",
    "cross_tab"
   ]
  },
  {
   "cell_type": "markdown",
   "metadata": {
    "id": "sNCBSl9_idd5"
   },
   "source": [
    "## Conditional Treatment Effects\n",
    "\n",
    "To evaluate the average causal effect on purchases we use linear regression as follows. "
   ]
  },
  {
   "cell_type": "code",
   "execution_count": 52,
   "metadata": {
    "colab": {
     "base_uri": "https://localhost:8080/"
    },
    "id": "-jtv5tL8oFvb",
    "outputId": "e3b34cef-317d-4b0f-be85-7cb3ef8159a0"
   },
   "outputs": [
    {
     "name": "stdout",
     "output_type": "stream",
     "text": [
      "                            OLS Regression Results                            \n",
      "==============================================================================\n",
      "Dep. Variable:                  purch   R-squared:                       0.021\n",
      "Model:                            OLS   Adj. R-squared:                  0.021\n",
      "Method:                 Least Squares   F-statistic:                     907.1\n",
      "Date:                Sun, 01 Dec 2024   Prob (F-statistic):               0.00\n",
      "Time:                        23:02:43   Log-Likelihood:            -6.4583e+05\n",
      "No. Observations:              123988   AIC:                         1.292e+06\n",
      "Df Residuals:                  123984   BIC:                         1.292e+06\n",
      "Df Model:                           3                                         \n",
      "Covariance Type:            nonrobust                                         \n",
      "=====================================================================================================\n",
      "                                        coef    std err          t      P>|t|      [0.025      0.975]\n",
      "-----------------------------------------------------------------------------------------------------\n",
      "Intercept                             6.4067      0.303     21.175      0.000       5.814       7.000\n",
      "email[T.True]                         0.8815      0.370      2.380      0.017       0.156       1.608\n",
      "recentPurch[T.True]                  12.2607      0.436     28.147      0.000      11.407      13.114\n",
      "email[T.True]:recentPurch[T.True]     1.1685      0.534      2.190      0.029       0.123       2.214\n",
      "==============================================================================\n",
      "Omnibus:                   180983.140   Durbin-Watson:                   1.998\n",
      "Prob(Omnibus):                  0.000   Jarque-Bera (JB):        108413102.676\n",
      "Skew:                           8.715   Prob(JB):                         0.00\n",
      "Kurtosis:                     146.810   Cond. No.                         8.31\n",
      "==============================================================================\n",
      "\n",
      "Notes:\n",
      "[1] Standard Errors assume that the covariance matrix of the errors is correctly specified.\n"
     ]
    }
   ],
   "source": [
    "model = smf.ols(formula =\"purch ~ email*recentPurch\", data=data).fit()\n",
    "print(model.summary())"
   ]
  },
  {
   "cell_type": "code",
   "execution_count": 53,
   "metadata": {
    "colab": {
     "base_uri": "https://localhost:8080/",
     "height": 175
    },
    "id": "042Hj68qoM3s",
    "outputId": "0848d060-3c07-46b0-947d-0948bfee14b2"
   },
   "outputs": [
    {
     "data": {
      "text/html": [
       "<div>\n",
       "<style scoped>\n",
       "    .dataframe tbody tr th:only-of-type {\n",
       "        vertical-align: middle;\n",
       "    }\n",
       "\n",
       "    .dataframe tbody tr th {\n",
       "        vertical-align: top;\n",
       "    }\n",
       "\n",
       "    .dataframe thead th {\n",
       "        text-align: right;\n",
       "    }\n",
       "</style>\n",
       "<table border=\"1\" class=\"dataframe\">\n",
       "  <thead>\n",
       "    <tr style=\"text-align: right;\">\n",
       "      <th></th>\n",
       "      <th>Coefficient</th>\n",
       "    </tr>\n",
       "  </thead>\n",
       "  <tbody>\n",
       "    <tr>\n",
       "      <th>Intercept</th>\n",
       "      <td>6.406703</td>\n",
       "    </tr>\n",
       "    <tr>\n",
       "      <th>email[T.True]</th>\n",
       "      <td>0.881533</td>\n",
       "    </tr>\n",
       "    <tr>\n",
       "      <th>recentPurch[T.True]</th>\n",
       "      <td>12.260661</td>\n",
       "    </tr>\n",
       "    <tr>\n",
       "      <th>email[T.True]:recentPurch[T.True]</th>\n",
       "      <td>1.168509</td>\n",
       "    </tr>\n",
       "  </tbody>\n",
       "</table>\n",
       "</div>"
      ],
      "text/plain": [
       "                                   Coefficient\n",
       "Intercept                             6.406703\n",
       "email[T.True]                         0.881533\n",
       "recentPurch[T.True]                  12.260661\n",
       "email[T.True]:recentPurch[T.True]     1.168509"
      ]
     },
     "execution_count": 53,
     "metadata": {},
     "output_type": "execute_result"
    }
   ],
   "source": [
    "pd.DataFrame(model.params, columns = ['Coefficient'])"
   ]
  },
  {
   "cell_type": "markdown",
   "metadata": {
    "id": "sh5WlpJMivCM"
   },
   "source": [
    "The main effect of the email variable is significant still, leading to $0.88 more sales. However, the interpretation is different. Now this effect relates to the omitted group from the interaction effect (when the recentPurch variable=0 or FALSE). Hence, the effect of emailTRUE is for those that have not bought recently. This group of customers are still significantly affected by the email.  \n",
    "\n",
    "This analysis reveals two other things about subgroups of customers. \n",
    "\n",
    "1. Subgroups will vary in how much they engage in behaviors (main effect of baseline variables)\n",
    "    - Recent buyers tend to have \\$12.26 higher average purchases in the future\n",
    "   \n",
    "2. Subgroups vary in how much they respond to treatments (interaction effects)\n",
    "    - Recent buyers are more affected by the email, leading to addition \\$1.17 in spending\n",
    "\n",
    "Since the segmentation variable is categorical, to interpret the exact level of effect for each of the subgroups we use the main for the omitted group, and we add the main and interaction effects together for the included group. Here that means that the customers without recent purchases have an effect of \\$0.88 and the customers with recent purchase have an effect of \\\\$2.05. \n",
    "\n",
    "We can also obtain this by rerunning the analysis in a slightly different formula as shown below:"
   ]
  },
  {
   "cell_type": "code",
   "execution_count": 54,
   "metadata": {
    "colab": {
     "base_uri": "https://localhost:8080/"
    },
    "id": "shgShl6aoU3F",
    "outputId": "6837ec7c-5709-43e0-f077-18cdb36f06a0"
   },
   "outputs": [
    {
     "name": "stdout",
     "output_type": "stream",
     "text": [
      "                            OLS Regression Results                            \n",
      "==============================================================================\n",
      "Dep. Variable:                  purch   R-squared:                       0.021\n",
      "Model:                            OLS   Adj. R-squared:                  0.021\n",
      "Method:                 Least Squares   F-statistic:                     907.1\n",
      "Date:                Sun, 01 Dec 2024   Prob (F-statistic):               0.00\n",
      "Time:                        23:02:47   Log-Likelihood:            -6.4583e+05\n",
      "No. Observations:              123988   AIC:                         1.292e+06\n",
      "Df Residuals:                  123984   BIC:                         1.292e+06\n",
      "Df Model:                           3                                         \n",
      "Covariance Type:            nonrobust                                         \n",
      "====================================================================================================\n",
      "                                       coef    std err          t      P>|t|      [0.025      0.975]\n",
      "----------------------------------------------------------------------------------------------------\n",
      "Intercept                            6.4067      0.303     21.175      0.000       5.814       7.000\n",
      "recentPurch[T.True]                 12.2607      0.436     28.147      0.000      11.407      13.114\n",
      "email[T.True]:recentPurch[False]     0.8815      0.370      2.380      0.017       0.156       1.608\n",
      "email[T.True]:recentPurch[True]      2.0500      0.384      5.339      0.000       1.297       2.803\n",
      "==============================================================================\n",
      "Omnibus:                   180983.140   Durbin-Watson:                   1.998\n",
      "Prob(Omnibus):                  0.000   Jarque-Bera (JB):        108413102.676\n",
      "Skew:                           8.715   Prob(JB):                         0.00\n",
      "Kurtosis:                     146.810   Cond. No.                         5.83\n",
      "==============================================================================\n",
      "\n",
      "Notes:\n",
      "[1] Standard Errors assume that the covariance matrix of the errors is correctly specified.\n"
     ]
    }
   ],
   "source": [
    "model = smf.ols(formula =\"purch ~ recentPurch + email:recentPurch\", data=data).fit()\n",
    "print(model.summary())"
   ]
  },
  {
   "cell_type": "markdown",
   "metadata": {
    "id": "n_FsX9lksqLg"
   },
   "source": [
    "Finally, we could also get the results by running regressions separately for recentPurch = True and recentPurch = False"
   ]
  },
  {
   "cell_type": "code",
   "execution_count": 55,
   "metadata": {
    "colab": {
     "base_uri": "https://localhost:8080/"
    },
    "id": "ixhXjY64sMNL",
    "outputId": "7986cb15-edb4-47f2-c3bd-6ccca0efd831"
   },
   "outputs": [
    {
     "name": "stdout",
     "output_type": "stream",
     "text": [
      "                            OLS Regression Results                            \n",
      "==============================================================================\n",
      "Dep. Variable:                  purch   R-squared:                       0.000\n",
      "Model:                            OLS   Adj. R-squared:                  0.000\n",
      "Method:                 Least Squares   F-statistic:                     19.53\n",
      "Date:                Sun, 01 Dec 2024   Prob (F-statistic):           9.90e-06\n",
      "Time:                        23:02:49   Log-Likelihood:            -3.2230e+05\n",
      "No. Observations:               59710   AIC:                         6.446e+05\n",
      "Df Residuals:                   59708   BIC:                         6.446e+05\n",
      "Df Model:                           1                                         \n",
      "Covariance Type:            nonrobust                                         \n",
      "=================================================================================\n",
      "                    coef    std err          t      P>|t|      [0.025      0.975]\n",
      "---------------------------------------------------------------------------------\n",
      "Intercept        18.6674      0.379     49.312      0.000      17.925      19.409\n",
      "email[T.True]     2.0500      0.464      4.420      0.000       1.141       2.959\n",
      "==============================================================================\n",
      "Omnibus:                    77715.437   Durbin-Watson:                   2.002\n",
      "Prob(Omnibus):                  0.000   Jarque-Bera (JB):         24009465.862\n",
      "Skew:                           7.161   Prob(JB):                         0.00\n",
      "Kurtosis:                     100.187   Cond. No.                         3.22\n",
      "==============================================================================\n",
      "\n",
      "Notes:\n",
      "[1] Standard Errors assume that the covariance matrix of the errors is correctly specified.\n"
     ]
    }
   ],
   "source": [
    "model = smf.ols(formula =\"purch ~ email\", data=data[data['recentPurch']]).fit()\n",
    "print(model.summary())"
   ]
  },
  {
   "cell_type": "code",
   "execution_count": 36,
   "metadata": {
    "colab": {
     "base_uri": "https://localhost:8080/"
    },
    "id": "dpWjlu2jsx0i",
    "outputId": "ce2db0c7-7e4b-464d-c38e-a5668606aab7"
   },
   "outputs": [
    {
     "name": "stdout",
     "output_type": "stream",
     "text": [
      "                            OLS Regression Results                            \n",
      "==============================================================================\n",
      "Dep. Variable:                  purch   R-squared:                       0.000\n",
      "Model:                            OLS   Adj. R-squared:                  0.000\n",
      "Method:                 Least Squares   F-statistic:                     9.878\n",
      "Date:                Sun, 01 Dec 2024   Prob (F-statistic):            0.00167\n",
      "Time:                        22:47:50   Log-Likelihood:            -3.1694e+05\n",
      "No. Observations:               64278   AIC:                         6.339e+05\n",
      "Df Residuals:                   64276   BIC:                         6.339e+05\n",
      "Df Model:                           1                                         \n",
      "Covariance Type:            nonrobust                                         \n",
      "=================================================================================\n",
      "                    coef    std err          t      P>|t|      [0.025      0.975]\n",
      "---------------------------------------------------------------------------------\n",
      "Intercept         6.4067      0.229     27.964      0.000       5.958       6.856\n",
      "email[T.True]     0.8815      0.280      3.143      0.002       0.332       1.431\n",
      "==============================================================================\n",
      "Omnibus:                   109880.192   Durbin-Watson:                   2.000\n",
      "Prob(Omnibus):                  0.000   Jarque-Bera (JB):        176396106.619\n",
      "Skew:                          11.709   Prob(JB):                         0.00\n",
      "Kurtosis:                     258.566   Cond. No.                         3.23\n",
      "==============================================================================\n",
      "\n",
      "Notes:\n",
      "[1] Standard Errors assume that the covariance matrix of the errors is correctly specified.\n"
     ]
    }
   ],
   "source": [
    "model = smf.ols(formula =\"purch ~ email\", data=data[~data['recentPurch']]).fit()\n",
    "print(model.summary())"
   ]
  },
  {
   "cell_type": "markdown",
   "metadata": {},
   "source": [
    "Some sample code when you have more than one group..."
   ]
  },
  {
   "cell_type": "code",
   "execution_count": 61,
   "metadata": {
    "id": "aOZqL25rjOZc"
   },
   "outputs": [
    {
     "name": "stdout",
     "output_type": "stream",
     "text": [
      "                            OLS Regression Results                            \n",
      "==============================================================================\n",
      "Dep. Variable:                  purch   R-squared:                       0.021\n",
      "Model:                            OLS   Adj. R-squared:                  0.021\n",
      "Method:                 Least Squares   F-statistic:                     544.4\n",
      "Date:                Sun, 01 Dec 2024   Prob (F-statistic):               0.00\n",
      "Time:                        23:04:13   Log-Likelihood:            -6.4583e+05\n",
      "No. Observations:              123988   AIC:                         1.292e+06\n",
      "Df Residuals:                  123982   BIC:                         1.292e+06\n",
      "Df Model:                           5                                         \n",
      "Covariance Type:            nonrobust                                         \n",
      "=============================================================================================================\n",
      "                                                coef    std err          t      P>|t|      [0.025      0.975]\n",
      "-------------------------------------------------------------------------------------------------------------\n",
      "Intercept                                     6.4067      0.303     21.175      0.000       5.814       7.000\n",
      "recentPurch[T.True]                          12.2607      0.436     28.147      0.000      11.407      13.114\n",
      "group_email_A[T.True]                         1.0262      0.428      2.400      0.016       0.188       1.864\n",
      "group_email_B[T.True]                         0.7367      0.428      1.723      0.085      -0.101       1.575\n",
      "recentPurch[T.True]:group_email_A[T.True]     1.0118      0.616      1.642      0.101      -0.196       2.219\n",
      "recentPurch[T.True]:group_email_B[T.True]     1.3253      0.616      2.151      0.031       0.118       2.533\n",
      "==============================================================================\n",
      "Omnibus:                   180980.578   Durbin-Watson:                   1.998\n",
      "Prob(Omnibus):                  0.000   Jarque-Bera (JB):        108399885.288\n",
      "Skew:                           8.715   Prob(JB):                         0.00\n",
      "Kurtosis:                     146.802   Cond. No.                         9.62\n",
      "==============================================================================\n",
      "\n",
      "Notes:\n",
      "[1] Standard Errors assume that the covariance matrix of the errors is correctly specified.\n"
     ]
    }
   ],
   "source": [
    "data_model = data.copy()\n",
    "\n",
    "data_model['group'] = pd.Categorical(\n",
    "    data_model['group'], \n",
    "    categories=['ctrl', 'email_A', 'email_B'],  # Specify the order explicitly\n",
    "    ordered=True\n",
    ")\n",
    "\n",
    "data_model = pd.get_dummies(data_model, columns=['group'], drop_first=True)\n",
    "\n",
    "formula = \"purch ~ recentPurch * (group_email_A + group_email_B)\"\n",
    "\n",
    "# Fit the regression model\n",
    "model = smf.ols(formula=formula, data=data_model).fit()\n",
    "\n",
    "# Display the regression summary\n",
    "print(model.summary())"
   ]
  }
 ],
 "metadata": {
  "colab": {
   "provenance": []
  },
  "kernelspec": {
   "display_name": "Python 3 (ipykernel)",
   "language": "python",
   "name": "python3"
  },
  "language_info": {
   "codemirror_mode": {
    "name": "ipython",
    "version": 3
   },
   "file_extension": ".py",
   "mimetype": "text/x-python",
   "name": "python",
   "nbconvert_exporter": "python",
   "pygments_lexer": "ipython3",
   "version": "3.12.4"
  }
 },
 "nbformat": 4,
 "nbformat_minor": 4
}
