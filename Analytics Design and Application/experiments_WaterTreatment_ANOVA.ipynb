{
 "cells": [
  {
   "cell_type": "code",
   "execution_count": null,
   "metadata": {},
   "outputs": [],
   "source": [
    "#!pip import statsmodels"
   ]
  },
  {
   "cell_type": "code",
   "execution_count": 1,
   "metadata": {
    "id": "OmN4nZm93IEZ"
   },
   "outputs": [],
   "source": [
    "import numpy as np\n",
    "import pandas as pd\n",
    "\n",
    "from scipy import stats\n",
    "from statsmodels.stats.multicomp import pairwise_tukeyhsd\n"
   ]
  },
  {
   "cell_type": "markdown",
   "metadata": {
    "id": "IEMt0hUCfcDM"
   },
   "source": [
    "## Water Treatment Experiment\n",
    "\n",
    "A company which manufactures chemicals for residential swimming pools was testing 4 different formulas for their popular Pool Clarifier product.  For the experiment, a researcher tested 2500 water samples for each of the 4 formulations and measured te time it took the sample to become clear.  The results are included in the data_experiments_WaterTreatment.csv file.\n"
   ]
  },
  {
   "cell_type": "code",
   "execution_count": 2,
   "metadata": {
    "colab": {
     "base_uri": "https://localhost:8080/",
     "height": 455
    },
    "id": "jjWttkAH3U-Z",
    "outputId": "cec86690-00e4-4842-f377-9f667023b9b8"
   },
   "outputs": [
    {
     "data": {
      "text/html": [
       "<div>\n",
       "<style scoped>\n",
       "    .dataframe tbody tr th:only-of-type {\n",
       "        vertical-align: middle;\n",
       "    }\n",
       "\n",
       "    .dataframe tbody tr th {\n",
       "        vertical-align: top;\n",
       "    }\n",
       "\n",
       "    .dataframe thead th {\n",
       "        text-align: right;\n",
       "    }\n",
       "</style>\n",
       "<table border=\"1\" class=\"dataframe\">\n",
       "  <thead>\n",
       "    <tr style=\"text-align: right;\">\n",
       "      <th></th>\n",
       "      <th>Treatment</th>\n",
       "      <th>TimeToClear</th>\n",
       "    </tr>\n",
       "    <tr>\n",
       "      <th>SampID</th>\n",
       "      <th></th>\n",
       "      <th></th>\n",
       "    </tr>\n",
       "  </thead>\n",
       "  <tbody>\n",
       "    <tr>\n",
       "      <th>10000</th>\n",
       "      <td>C</td>\n",
       "      <td>1556.776937</td>\n",
       "    </tr>\n",
       "    <tr>\n",
       "      <th>10003</th>\n",
       "      <td>D</td>\n",
       "      <td>825.006227</td>\n",
       "    </tr>\n",
       "    <tr>\n",
       "      <th>10008</th>\n",
       "      <td>A</td>\n",
       "      <td>2674.875595</td>\n",
       "    </tr>\n",
       "    <tr>\n",
       "      <th>10017</th>\n",
       "      <td>C</td>\n",
       "      <td>2053.963141</td>\n",
       "    </tr>\n",
       "    <tr>\n",
       "      <th>10018</th>\n",
       "      <td>B</td>\n",
       "      <td>2355.740818</td>\n",
       "    </tr>\n",
       "    <tr>\n",
       "      <th>...</th>\n",
       "      <td>...</td>\n",
       "      <td>...</td>\n",
       "    </tr>\n",
       "    <tr>\n",
       "      <th>39991</th>\n",
       "      <td>C</td>\n",
       "      <td>2405.901726</td>\n",
       "    </tr>\n",
       "    <tr>\n",
       "      <th>39992</th>\n",
       "      <td>A</td>\n",
       "      <td>1909.103429</td>\n",
       "    </tr>\n",
       "    <tr>\n",
       "      <th>39995</th>\n",
       "      <td>B</td>\n",
       "      <td>1934.744664</td>\n",
       "    </tr>\n",
       "    <tr>\n",
       "      <th>39995</th>\n",
       "      <td>D</td>\n",
       "      <td>1968.393357</td>\n",
       "    </tr>\n",
       "    <tr>\n",
       "      <th>39997</th>\n",
       "      <td>C</td>\n",
       "      <td>1912.955369</td>\n",
       "    </tr>\n",
       "  </tbody>\n",
       "</table>\n",
       "<p>10000 rows × 2 columns</p>\n",
       "</div>"
      ],
      "text/plain": [
       "       Treatment  TimeToClear\n",
       "SampID                       \n",
       "10000          C  1556.776937\n",
       "10003          D   825.006227\n",
       "10008          A  2674.875595\n",
       "10017          C  2053.963141\n",
       "10018          B  2355.740818\n",
       "...          ...          ...\n",
       "39991          C  2405.901726\n",
       "39992          A  1909.103429\n",
       "39995          B  1934.744664\n",
       "39995          D  1968.393357\n",
       "39997          C  1912.955369\n",
       "\n",
       "[10000 rows x 2 columns]"
      ]
     },
     "execution_count": 2,
     "metadata": {},
     "output_type": "execute_result"
    }
   ],
   "source": [
    "data = pd.read_csv('data_experiments_WaterTreatment.csv')\n",
    "data = data.set_index('SampID')\n",
    "data"
   ]
  },
  {
   "cell_type": "code",
   "execution_count": 3,
   "metadata": {},
   "outputs": [
    {
     "data": {
      "text/plain": [
       "Treatment\n",
       "A    2054.882696\n",
       "B    2012.227302\n",
       "C    2061.473356\n",
       "D    2080.903534\n",
       "Name: TimeToClear, dtype: float64"
      ]
     },
     "execution_count": 3,
     "metadata": {},
     "output_type": "execute_result"
    }
   ],
   "source": [
    "mean_time_to_clear = data.groupby(\"Treatment\")[\"TimeToClear\"].mean()\n",
    "mean_time_to_clear"
   ]
  },
  {
   "cell_type": "markdown",
   "metadata": {
    "id": "dJ-QNUV2fwR2"
   },
   "source": [
    "## One-Way ANOVA Test\n",
    "\n",
    "Null Hypothesis: the sample means of all groups are identical.\n",
    "\n",
    "Alternative Hypothesis: There is a significant difference in the mean of at least one of the groups.\n"
   ]
  },
  {
   "cell_type": "code",
   "execution_count": 4,
   "metadata": {
    "id": "2gZPqXMROpNi"
   },
   "outputs": [],
   "source": [
    "fvalue, pvalue = stats.f_oneway(data.loc[data['Treatment'] == \"A\", 'TimeToClear'], \\\n",
    "                                data.loc[data['Treatment'] == \"B\", 'TimeToClear'], \\\n",
    "                                data.loc[data['Treatment'] == \"C\", 'TimeToClear'], \\\n",
    "                                data.loc[data['Treatment'] == \"D\", 'TimeToClear'])\n",
    "\n"
   ]
  },
  {
   "cell_type": "code",
   "execution_count": 5,
   "metadata": {
    "colab": {
     "base_uri": "https://localhost:8080/"
    },
    "id": "mgDstZ7EqpEw",
    "outputId": "db823140-0c67-444f-add9-40a28f71f865"
   },
   "outputs": [
    {
     "name": "stdout",
     "output_type": "stream",
     "text": [
      "Results of ANOVA test:\n",
      " The F-statistic is: 8.239940268552948\n",
      " The p-value is: 1.7920500776780752e-05\n"
     ]
    }
   ],
   "source": [
    "print(f\"Results of ANOVA test:\\n The F-statistic is: {fvalue}\\n The p-value is: {pvalue}\")"
   ]
  },
  {
   "cell_type": "markdown",
   "metadata": {
    "id": "911KBzVIuVn2"
   },
   "source": [
    "## Pairwise Tukey Test\n",
    "\n",
    "\n"
   ]
  },
  {
   "cell_type": "code",
   "execution_count": 6,
   "metadata": {
    "colab": {
     "base_uri": "https://localhost:8080/"
    },
    "id": "bAxdGiTkq9bh",
    "outputId": "93746d3f-e3c3-425d-8faa-cd008ecc5b26"
   },
   "outputs": [
    {
     "name": "stdout",
     "output_type": "stream",
     "text": [
      " Multiple Comparison of Means - Tukey HSD, FWER=0.05  \n",
      "======================================================\n",
      "group1 group2 meandiff p-adj   lower    upper   reject\n",
      "------------------------------------------------------\n",
      "     A      B -42.6554 0.0148 -79.3063  -6.0045   True\n",
      "     A      C   6.5907 0.9673 -30.0603  43.2416  False\n",
      "     A      D  26.0208 0.2619 -10.6301  62.6718  False\n",
      "     B      C  49.2461 0.0031  12.5951   85.897   True\n",
      "     B      D  68.6762    0.0  32.0253 105.3272   True\n",
      "     C      D  19.4302 0.5232 -17.2208  56.0811  False\n",
      "------------------------------------------------------\n"
     ]
    }
   ],
   "source": [
    "m_comp = pairwise_tukeyhsd(endog=data['TimeToClear'], \\\n",
    "                           groups=data['Treatment'], alpha=0.05)\n",
    "print(m_comp)"
   ]
  }
 ],
 "metadata": {
  "colab": {
   "provenance": []
  },
  "kernelspec": {
   "display_name": "Python 3 (ipykernel)",
   "language": "python",
   "name": "python3"
  },
  "language_info": {
   "codemirror_mode": {
    "name": "ipython",
    "version": 3
   },
   "file_extension": ".py",
   "mimetype": "text/x-python",
   "name": "python",
   "nbconvert_exporter": "python",
   "pygments_lexer": "ipython3",
   "version": "3.12.7"
  }
 },
 "nbformat": 4,
 "nbformat_minor": 4
}
