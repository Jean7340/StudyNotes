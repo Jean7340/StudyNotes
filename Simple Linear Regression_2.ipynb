{
 "cells": [
  {
   "cell_type": "markdown",
   "id": "f1ea0aac",
   "metadata": {},
   "source": [
    "# Core Statistics Using Python\n",
    "### Hana Choi, Simon Business School, University of Rochester\n"
   ]
  },
  {
   "cell_type": "markdown",
   "id": "2d622844",
   "metadata": {},
   "source": [
    "# Simple Linear Regression Part 2\n",
    "\n",
    "## Topics covered\n",
    "\n",
    "- Confidence intervals for beta: how precise is this estimate? \n",
    "- Additional outputs (ANOVA): how well is our regression working overall?\n",
    "\n",
    "## Required packages"
   ]
  },
  {
   "cell_type": "code",
   "execution_count": null,
   "id": "ab4a85e6",
   "metadata": {},
   "outputs": [],
   "source": [
    "import pandas as pd\n",
    "import numpy as np\n",
    "import statsmodels.api as sm\n",
    "import statsmodels.formula.api as smf\n",
    "from scipy.stats import norm"
   ]
  },
  {
   "cell_type": "markdown",
   "id": "07321ede",
   "metadata": {},
   "source": [
    "## House Prices Example"
   ]
  },
  {
   "cell_type": "code",
   "execution_count": null,
   "id": "091560c3",
   "metadata": {},
   "outputs": [],
   "source": [
    "# Let's again look at the linear regression summary output for hprices.csv\n",
    "\n",
    "# Data\n",
    "hprices = pd.read_csv(\"/Users/hanachoi/Dropbox/teaching/core_statistics/Data/hprices.csv\")\n",
    "\n",
    "# Run a simple linear regression of price on size \n",
    "fit = smf.ols(formula='price ~ sqrft', data=hprices).fit()\n",
    "\n",
    "# Print the summary of the regression results\n",
    "print(fit.summary().tables[1])"
   ]
  },
  {
   "cell_type": "markdown",
   "id": "deac75da",
   "metadata": {},
   "source": [
    "# Confidence Intervals\n",
    "\n",
    "## Using `conf_int()`\n",
    "\n",
    "- Note1: `conf_int()` uses t distribution for CIs\n",
    "- Note2: By default, it provides the 95% confidence intervals.\n",
    "\n",
    "### 95% Confidence Interval"
   ]
  },
  {
   "cell_type": "code",
   "execution_count": null,
   "id": "4b7615e8",
   "metadata": {
    "scrolled": false
   },
   "outputs": [],
   "source": [
    "# Constructing 95% confidence interval\n",
    "print(fit.conf_int()) "
   ]
  },
  {
   "cell_type": "markdown",
   "id": "1b3e21f3",
   "metadata": {},
   "source": [
    "### 90% Confidence Interval\n",
    "\n",
    "- You can adjust the confidence level by setting the `alpha` parameter.\n",
    "- `alpha` is the significance level: `alpha = 1 - confidence level`"
   ]
  },
  {
   "cell_type": "code",
   "execution_count": null,
   "id": "44c8516b",
   "metadata": {},
   "outputs": [],
   "source": [
    "# Computing significance level\n",
    "confidence_level = 0.9\n",
    "significance_level = 1 - confidence_level\n",
    "\n",
    "print(fit.conf_int(alpha = significance_level)) "
   ]
  },
  {
   "cell_type": "markdown",
   "id": "e147748d",
   "metadata": {},
   "source": [
    "## We can also compute CIs using Normal distribution\n",
    "\n",
    "- Note that $$CI = \\beta \\pm \\text{cutoff} \\times SE( \\beta )$$"
   ]
  },
  {
   "cell_type": "code",
   "execution_count": null,
   "id": "87d53863",
   "metadata": {},
   "outputs": [],
   "source": [
    "# Extract the estimated coefficients and their standard errors\n",
    "coefficients = fit.params\n",
    "std_errors = fit.bse # Bootstrapped SE\n",
    "\n",
    "# Define the confidence level (e.g., 95%)\n",
    "confidence_level = 0.95\n",
    "cutoff = np.abs(norm.ppf( (1-confidence_level)/2 ))\n",
    "\n",
    "# Calculate the confidence intervals\n",
    "lower_bound = coefficients - cutoff * std_errors\n",
    "upper_bound = coefficients + cutoff * std_errors\n",
    "\n",
    "# Combine the lower and upper bounds and print the result\n",
    "conf_intervals = np.column_stack((lower_bound, upper_bound))\n",
    "print(\"beta0 CI:\", conf_intervals[0,])\n",
    "print(\"beta1 CI:\", conf_intervals[1,])"
   ]
  },
  {
   "cell_type": "markdown",
   "id": "837e7293",
   "metadata": {},
   "source": [
    "# Additonal Outputs (ANOVA)"
   ]
  },
  {
   "cell_type": "markdown",
   "id": "b0d8c39e",
   "metadata": {},
   "source": [
    "## Python output"
   ]
  },
  {
   "cell_type": "code",
   "execution_count": null,
   "id": "da7caa9c",
   "metadata": {},
   "outputs": [],
   "source": [
    "# Print the summary of the regression results again\n",
    "print(fit.summary())"
   ]
  },
  {
   "cell_type": "markdown",
   "id": "63872fb0",
   "metadata": {},
   "source": [
    "## Excel output\n",
    "\n",
    "- Here is what Excel produces for the same regression: <br>\n",
    "\n",
    "<img src='http://paulellickson.com/ClassData/Lec8HpricesExcel.png' alt=\"Smiley face\" align=\"center\"> <br>\n",
    "\n",
    "- Note that Python gives you less output automatically (i.e. by default) than Excel\n",
    "- However, Python does produce and store the relevant outputs, you just need to ask for it to be reported."
   ]
  },
  {
   "cell_type": "markdown",
   "id": "1f59f410",
   "metadata": {},
   "source": [
    "## Sum of Squares"
   ]
  },
  {
   "cell_type": "code",
   "execution_count": null,
   "id": "4e6d5ffc",
   "metadata": {},
   "outputs": [],
   "source": [
    "# ESS (Explained Sum of Squares)\n",
    "print(\"ESS: \", fit.ess)\n",
    "\n",
    "# SSR (Sum of Squared Residuals)\n",
    "print(\"ESS: \", fit.ssr)\n",
    "\n",
    "# TSS (Total Sum of Squares)\n",
    "# To get the TSS, you need to build it yourself.\n",
    "# Recall TSS = ESS + SSR\n",
    "tss = fit.ess+fit.ssr\n",
    "print(\"TSS: \", tss)"
   ]
  },
  {
   "cell_type": "markdown",
   "id": "67158822",
   "metadata": {},
   "source": [
    "## DF and Mean Squares"
   ]
  },
  {
   "cell_type": "code",
   "execution_count": null,
   "id": "83e0ff37",
   "metadata": {},
   "outputs": [],
   "source": [
    "# MS Regression \n",
    "print(\"DF Regression:\", fit.df_model)\n",
    "print(\"MS Regression: \", fit.ess / fit.df_model)\n",
    "\n",
    "# MS Residual\n",
    "# This is also called MSE (Mean Squared Error)\n",
    "print(\"DF Residual:\", fit.df_resid)\n",
    "print(\"MS Residual: \", fit.ssr / fit.df_resid) # MSE = SSR/(n-2)\n",
    "print(\"MS Residual:\", fit.scale) # an easier way of getting MSE"
   ]
  },
  {
   "cell_type": "markdown",
   "id": "83ad4c6c",
   "metadata": {},
   "source": [
    "## ANOVA Table"
   ]
  },
  {
   "cell_type": "code",
   "execution_count": null,
   "id": "0bf49d1d",
   "metadata": {
    "scrolled": true
   },
   "outputs": [],
   "source": [
    "# Here's how to get most of the numbers in the ANOVA table\n",
    "table = sm.stats.anova_lm(fit, typ=2)\n",
    "print(table)"
   ]
  },
  {
   "cell_type": "markdown",
   "id": "4593360e",
   "metadata": {},
   "source": [
    "## SER (Standard Error of the Regressions)\n",
    "\n",
    "- This is \"Standard Error\" in upper left part of Excel output.\n",
    "- Note that $SER=\\sqrt{MSE}$"
   ]
  },
  {
   "cell_type": "code",
   "execution_count": null,
   "id": "89813793",
   "metadata": {},
   "outputs": [],
   "source": [
    "# SER\n",
    "print(np.sqrt(fit.scale))"
   ]
  }
 ],
 "metadata": {
  "kernelspec": {
   "display_name": "Python 3 (ipykernel)",
   "language": "python",
   "name": "python3"
  },
  "language_info": {
   "codemirror_mode": {
    "name": "ipython",
    "version": 3
   },
   "file_extension": ".py",
   "mimetype": "text/x-python",
   "name": "python",
   "nbconvert_exporter": "python",
   "pygments_lexer": "ipython3",
   "version": "3.12.2"
  },
  "toc": {
   "base_numbering": 1,
   "nav_menu": {},
   "number_sections": true,
   "sideBar": true,
   "skip_h1_title": false,
   "title_cell": "Table of Contents",
   "title_sidebar": "Contents",
   "toc_cell": false,
   "toc_position": {},
   "toc_section_display": true,
   "toc_window_display": false
  }
 },
 "nbformat": 4,
 "nbformat_minor": 5
}
