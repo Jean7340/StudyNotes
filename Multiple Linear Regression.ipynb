{
 "cells": [
  {
   "cell_type": "markdown",
   "id": "f1ea0aac",
   "metadata": {},
   "source": [
    "# Core Statistics Using Python\n",
    "### Hana Choi, Simon Business School, University of Rochester\n"
   ]
  },
  {
   "cell_type": "markdown",
   "id": "2d622844",
   "metadata": {},
   "source": [
    "# Multiple Linear Regression in Python\n",
    "\n",
    "## Topics covered\n",
    "\n",
    "- House price example\n",
    "- RFJ example\n",
    "\n",
    "## Required packages"
   ]
  },
  {
   "cell_type": "code",
   "execution_count": null,
   "id": "ab4a85e6",
   "metadata": {},
   "outputs": [],
   "source": [
    "import pandas as pd\n",
    "import statsmodels.formula.api as smf\n",
    "import matplotlib.pyplot as plt"
   ]
  },
  {
   "cell_type": "markdown",
   "id": "07321ede",
   "metadata": {},
   "source": [
    "# House Prices Example\n",
    "\n",
    "## Load data"
   ]
  },
  {
   "cell_type": "code",
   "execution_count": null,
   "id": "091560c3",
   "metadata": {},
   "outputs": [],
   "source": [
    "# Load hprices2.csv dataset\n",
    "hprices2 = pd.read_csv(\"/Users/hanachoi/Dropbox/teaching/core_statistics/Data/hprices2.csv\")\n",
    "\n",
    "# Display first few rows of the dataframe\n",
    "hprices2.head()"
   ]
  },
  {
   "cell_type": "markdown",
   "id": "76b2d5e3",
   "metadata": {},
   "source": [
    "## Histogram of bedrooms"
   ]
  },
  {
   "cell_type": "code",
   "execution_count": null,
   "id": "359a1194",
   "metadata": {},
   "outputs": [],
   "source": [
    "# Histogram of bedrooms\n",
    "hprices2['bdrms'].plot(kind='hist')\n",
    "plt.title('Histogram of Bedrooms')\n",
    "plt.show()"
   ]
  },
  {
   "cell_type": "markdown",
   "id": "ac33dd96",
   "metadata": {},
   "source": [
    "## Regression analysis"
   ]
  },
  {
   "cell_type": "code",
   "execution_count": null,
   "id": "922d51b5",
   "metadata": {
    "scrolled": false
   },
   "outputs": [],
   "source": [
    "# Simple regression with one X\n",
    "model_simple = smf.ols('price ~ sqrft', data=hprices2).fit()\n",
    "print(model_simple.summary())"
   ]
  },
  {
   "cell_type": "code",
   "execution_count": null,
   "id": "59551e41",
   "metadata": {},
   "outputs": [],
   "source": [
    "# Multiple regression with 3 X's\n",
    "model_multi = smf.ols('price ~ sqrft + lotsize + bdrms', data=hprices2).fit()\n",
    "print(model_multi.summary())"
   ]
  },
  {
   "cell_type": "code",
   "execution_count": null,
   "id": "392cbad2",
   "metadata": {},
   "outputs": [],
   "source": [
    "# Comparing the coefficients\n",
    "print(\"Coefficients for model with multiple X's:\") \n",
    "print(model_multi.params)\n",
    "print('----')\n",
    "print(\"Coefficients for model with only sqrft:\")\n",
    "print(model_simple.params)"
   ]
  },
  {
   "cell_type": "markdown",
   "id": "72386bc2",
   "metadata": {},
   "source": [
    "## Heteroskedasticity-Robust Standard Error (HR SE)"
   ]
  },
  {
   "cell_type": "code",
   "execution_count": null,
   "id": "b6bf4f0e",
   "metadata": {},
   "outputs": [],
   "source": [
    "# model_multi_HRse = smf.ols('price ~ sqrft + lotsize + bdrms', data=hprices2).fit(cov_type='HC1')\n",
    "\n",
    "# Another way of getting HR SE\n",
    "model_multi_HRse = model_multi.get_robustcov_results(cov_type='HC1') \n",
    "print(model_multi_HRse.summary())"
   ]
  },
  {
   "cell_type": "markdown",
   "id": "deac75da",
   "metadata": {},
   "source": [
    "## Constructing confidence and prediction intervals\n",
    "\n",
    "- We will predict prices for two different house types\n",
    "\n",
    "### House type 1: (sqrft=2000,lotsize=4000,bdrms=3)"
   ]
  },
  {
   "cell_type": "code",
   "execution_count": null,
   "id": "4b7615e8",
   "metadata": {
    "scrolled": false
   },
   "outputs": [],
   "source": [
    "new_data1 = pd.DataFrame({'sqrft': [2000], 'lotsize': [4000], 'bdrms': [3]})\n",
    "predictions1 = model_multi.get_prediction(new_data1)\n",
    "predictions1.summary_frame(alpha=0.05)  # 95% confidence and prediction intervals"
   ]
  },
  {
   "cell_type": "markdown",
   "id": "1b3e21f3",
   "metadata": {},
   "source": [
    "### House type 2: (sqrft=3000,lotsize=5000,bdrms=4)"
   ]
  },
  {
   "cell_type": "code",
   "execution_count": null,
   "id": "44c8516b",
   "metadata": {
    "scrolled": true
   },
   "outputs": [],
   "source": [
    "new_data2 = pd.DataFrame({'sqrft': [3000], 'lotsize': [5000], 'bdrms': [4]})\n",
    "predictions2 = model_multi.get_prediction(new_data2)\n",
    "predictions2.summary_frame(alpha=0.05)  # 95% confidence and prediction intervals"
   ]
  },
  {
   "cell_type": "markdown",
   "id": "e147748d",
   "metadata": {},
   "source": [
    "# Additional RFJ Example\n",
    "\n",
    "- Same data as in the problem set, but I made the units easier to work with\n",
    "- To make the interpretation easier, I have converted quantities to thousands of 64 oz containers sold (by dividing the original q1 by 1000 and dividing the result by 64).\n",
    "- I also converted price to price per 64 oz container by multiplying the original prices by 64.\n",
    "- This will not change any of our substantive conclusions, but does make interpretation and discussion easier.\n",
    "\n",
    "\n",
    "## Load data"
   ]
  },
  {
   "cell_type": "code",
   "execution_count": null,
   "id": "87d53863",
   "metadata": {
    "scrolled": true
   },
   "outputs": [],
   "source": [
    "# Load hprices2.csv dataset\n",
    "rfj_small = pd.read_csv(\"/Users/hanachoi/Dropbox/teaching/core_statistics/Data/rfj_small.csv\")\n",
    "\n",
    "# Display first few rows of the dataframe\n",
    "rfj_small.head()"
   ]
  },
  {
   "cell_type": "markdown",
   "id": "f857e661",
   "metadata": {},
   "source": [
    "## Simple regression with one X"
   ]
  },
  {
   "cell_type": "code",
   "execution_count": null,
   "id": "2743a86a",
   "metadata": {},
   "outputs": [],
   "source": [
    "# First let's run the regression with only own price\n",
    "model_rfj = smf.ols('q1 ~ p1', data=rfj_small).fit()\n",
    "print(model_rfj.summary().tables[1])\n",
    "print('----')\n",
    "\n",
    "# Get slope estimate and compute elasticity\n",
    "slope_estimate = model_rfj.params['p1']\n",
    "avg_price = rfj_small['p1'].mean()\n",
    "avg_quantity = rfj_small['q1'].mean()\n",
    "elasticity = slope_estimate * avg_price / avg_quantity\n",
    "print(\"Price Elasticity:\", elasticity)"
   ]
  },
  {
   "cell_type": "markdown",
   "id": "80bfb763",
   "metadata": {},
   "source": [
    "## Multiple linear regression with many Xs"
   ]
  },
  {
   "cell_type": "code",
   "execution_count": null,
   "id": "dde92b2b",
   "metadata": {},
   "outputs": [],
   "source": [
    "# Now let's run the full regression (with all three prices)\n",
    "model_rfj_multi = smf.ols('q1 ~ p1 + p2 + p3', data=rfj_small).fit()\n",
    "print(model_rfj_multi.summary().tables[1])\n",
    "print('----')\n",
    "\n",
    "\n",
    "# Correlation matrix for prices\n",
    "print(\"Correlation Matrix:\")\n",
    "print(rfj_small[['p1', 'p2', 'p3']].corr())"
   ]
  }
 ],
 "metadata": {
  "kernelspec": {
   "display_name": "Python 3 (ipykernel)",
   "language": "python",
   "name": "python3"
  },
  "language_info": {
   "codemirror_mode": {
    "name": "ipython",
    "version": 3
   },
   "file_extension": ".py",
   "mimetype": "text/x-python",
   "name": "python",
   "nbconvert_exporter": "python",
   "pygments_lexer": "ipython3",
   "version": "3.12.2"
  },
  "toc": {
   "base_numbering": 1,
   "nav_menu": {},
   "number_sections": true,
   "sideBar": true,
   "skip_h1_title": false,
   "title_cell": "Table of Contents",
   "title_sidebar": "Contents",
   "toc_cell": false,
   "toc_position": {},
   "toc_section_display": true,
   "toc_window_display": false
  }
 },
 "nbformat": 4,
 "nbformat_minor": 5
}
