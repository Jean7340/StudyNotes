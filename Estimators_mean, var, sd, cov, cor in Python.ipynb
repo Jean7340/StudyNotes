{
 "cells": [
  {
   "cell_type": "markdown",
   "metadata": {
    "colab_type": "text",
    "id": "dkmOv3mas4D1"
   },
   "source": [
    "# Core Statistics Using Python\n",
    "### Hana Choi, Simon Business School, University of Rochester\n"
   ]
  },
  {
   "cell_type": "markdown",
   "metadata": {
    "colab_type": "text",
    "id": "lPc4dSras4D3"
   },
   "source": [
    "# Estimators: mean, var, sd, cov, cor in Python\n",
    "\n",
    "\n",
    "## Topics covered\n",
    "\n",
    "- Example 1: Survey\n",
    "- Example 2: Consumers' willingness to pay\n",
    "- Example 3: Stocks\n",
    "\n",
    "## Here are the packages/modules we need for this notebook"
   ]
  },
  {
   "cell_type": "code",
   "execution_count": null,
   "metadata": {
    "colab": {},
    "colab_type": "code",
    "executionInfo": {
     "elapsed": 222,
     "status": "ok",
     "timestamp": 1598648359460,
     "user": {
      "displayName": "Paul Ellickson",
      "photoUrl": "",
      "userId": "07742807759680804411"
     },
     "user_tz": 240
    },
    "id": "P1VEzGt8s4Ec"
   },
   "outputs": [],
   "source": [
    "import pandas as pd\n",
    "import numpy as np"
   ]
  },
  {
   "cell_type": "markdown",
   "metadata": {
    "colab_type": "text",
    "id": "ancn1SyUs4Er"
   },
   "source": [
    "# Example 1: Survey\n",
    "\n",
    "- Draws from a Bernoulli distribution with mean 0.5 (i.e. the probability of 1 is 0.5 and the probability of 0 is 0.5).\n",
    "- The underlying population is \"infinite\".\n",
    "- Population mean = p = 0.5, and population variance = p(1-p) = 0.5*0.5 = 0.25\n",
    "\n",
    "## Data: Sample of 1000 observations"
   ]
  },
  {
   "cell_type": "code",
   "execution_count": null,
   "metadata": {
    "scrolled": true
   },
   "outputs": [],
   "source": [
    "# Randomly pick 1000 observations from (0, 1) with replacement\n",
    "\n",
    "# Define the possible values (0 and 1)\n",
    "values = [0, 1]\n",
    "\n",
    "# Randomly pick 1000 observations with replacement\n",
    "survey_sample = np.random.choice(values, size=1000, replace=True)\n",
    "\n",
    "# Display the first 20 observations\n",
    "print(survey_sample[0:19]) "
   ]
  },
  {
   "cell_type": "markdown",
   "metadata": {},
   "source": [
    "## Sample mean"
   ]
  },
  {
   "cell_type": "code",
   "execution_count": null,
   "metadata": {
    "colab": {
     "base_uri": "https://localhost:8080/",
     "height": 34
    },
    "colab_type": "code",
    "executionInfo": {
     "elapsed": 400,
     "status": "ok",
     "timestamp": 1598648364802,
     "user": {
      "displayName": "Paul Ellickson",
      "photoUrl": "",
      "userId": "07742807759680804411"
     },
     "user_tz": 240
    },
    "id": "fBJOzQrKs4Ev",
    "outputId": "1c8da1cc-10fa-471d-a5aa-4bbb948ad312"
   },
   "outputs": [],
   "source": [
    "print(np.mean(survey_sample[0:9]),\": First 10 observations\")\n",
    "print(np.mean(survey_sample[10:19]), \": Second 10 observations\") \n",
    "print(\"----\")\n",
    "print(np.mean(survey_sample[0:49]), \": First 50 observations\")\n",
    "print(np.mean(survey_sample[50:99]), \": Second 50 observations\")\n",
    "print(\"----\")\n",
    "print(np.mean(survey_sample[0:199]), \": First 200 observations\") \n",
    "print(np.mean(survey_sample[0:399]), \": First 400 observations\")\n",
    "print(np.mean(survey_sample[0:749]), \": First 750 observations\")\n",
    "print(\"----\")\n",
    "print(np.mean(survey_sample), \": Full sample\") "
   ]
  },
  {
   "cell_type": "markdown",
   "metadata": {},
   "source": [
    "## Sample variance"
   ]
  },
  {
   "cell_type": "code",
   "execution_count": null,
   "metadata": {},
   "outputs": [],
   "source": [
    "print(np.var(survey_sample[0:9]),\": First 10 observations\")\n",
    "print(np.var(survey_sample[10:19]), \": Second 10 observations\") \n",
    "print(\"----\")\n",
    "print(np.var(survey_sample[0:49]), \": First 50 observations\")\n",
    "print(np.var(survey_sample[50:99]), \": Second 50 observations\")\n",
    "print(\"----\")\n",
    "print(np.var(survey_sample[0:199]), \": First 200 observations\") \n",
    "print(np.var(survey_sample[0:399]), \": First 400 observations\")\n",
    "print(np.var(survey_sample[0:749]), \": First 750 observations\")\n",
    "print(\"----\")\n",
    "print(np.var(survey_sample), \": Full sample\") "
   ]
  },
  {
   "cell_type": "markdown",
   "metadata": {},
   "source": [
    "# Example 2: Consumers' Willingness to Pay (WTP)\n",
    "\n",
    "- Drawn from a normal distribution with mean 100 and sd 10.\n",
    "- The underlying population is \"infinite\".\n",
    "\n",
    "## Data: Sample of 1000 observations"
   ]
  },
  {
   "cell_type": "code",
   "execution_count": null,
   "metadata": {},
   "outputs": [],
   "source": [
    "# Randomly pick 1000 observations from N(100, 10^2)\n",
    "\n",
    "# Set the mean and standard deviation\n",
    "mean = 100\n",
    "std_dev = 10\n",
    "\n",
    "# Generate 1000 random observations\n",
    "wtp = np.random.normal(loc=mean, scale=std_dev, size=1000)\n",
    "\n",
    "# Display the first 20 observations\n",
    "print(wtp[0:19])"
   ]
  },
  {
   "cell_type": "markdown",
   "metadata": {},
   "source": [
    "## Sample mean and standard deviation"
   ]
  },
  {
   "cell_type": "code",
   "execution_count": null,
   "metadata": {
    "colab": {
     "base_uri": "https://localhost:8080/",
     "height": 34
    },
    "colab_type": "code",
    "executionInfo": {
     "elapsed": 225,
     "status": "ok",
     "timestamp": 1598648367235,
     "user": {
      "displayName": "Paul Ellickson",
      "photoUrl": "",
      "userId": "07742807759680804411"
     },
     "user_tz": 240
    },
    "id": "f0SflmMls4Ez",
    "outputId": "c9096c4b-44cb-419d-af85-befc429dd9df"
   },
   "outputs": [],
   "source": [
    "# First 10 observations\n",
    "print(\"First 10 observations\")\n",
    "print( np.mean(wtp[0:9]), np.std(wtp[0:9]) )\n",
    "print(\"----\")\n",
    "\n",
    "# First 20 observations\n",
    "print(\"First 20 observations\")\n",
    "print( np.mean(wtp[0:19]), np.std(wtp[0:19]) )\n",
    "print(\"----\")\n",
    "\n",
    "# First 100 observations\n",
    "print(\"First 100 observations\")\n",
    "print( np.mean(wtp[0:99]), np.std(wtp[0:99]) )\n",
    "print(\"----\")\n",
    "\n",
    "# Full sample\n",
    "print(\"Full sample\")\n",
    "print( np.mean(wtp), np.std(wtp) )"
   ]
  },
  {
   "cell_type": "markdown",
   "metadata": {},
   "source": [
    "# Example 3: Stocks\n",
    "\n",
    "## Data: stockmarket.csv"
   ]
  },
  {
   "cell_type": "code",
   "execution_count": null,
   "metadata": {},
   "outputs": [],
   "source": [
    "# Method 1: Save the data file directly to your working directory\n",
    "# stocks = pd.read_csv('stockmarket.csv')\n",
    "\n",
    "# Method 2: Tell Python where your data file exists \"explicitly\"\n",
    "# Below is \"my\" file path, you should specify yours instead.\n",
    "stocks = pd.read_csv(\"/Users/hanachoi/Dropbox/teaching/core_statistics/Data/stockmarket.csv\")\n",
    "\n",
    "# Method 3: We can also import a dataset from the web\n",
    "# stocks = pd.read_csv(\"http://hanachoi.github.io/datasets/stockmarket.csv\")\n",
    "\n",
    "# Display the first few rows of the dataframe\n",
    "stocks.head()"
   ]
  },
  {
   "cell_type": "markdown",
   "metadata": {
    "colab_type": "text",
    "id": "IGgCvxjFs4E5"
   },
   "source": [
    "## S&P 500"
   ]
  },
  {
   "cell_type": "code",
   "execution_count": null,
   "metadata": {
    "colab": {
     "base_uri": "https://localhost:8080/",
     "height": 34
    },
    "colab_type": "code",
    "executionInfo": {
     "elapsed": 246,
     "status": "ok",
     "timestamp": 1598648369400,
     "user": {
      "displayName": "Paul Ellickson",
      "photoUrl": "",
      "userId": "07742807759680804411"
     },
     "user_tz": 240
    },
    "id": "U43RhrB8s4E5",
    "outputId": "8230c756-8fdf-437e-95f8-a7bbc9316b94",
    "scrolled": true
   },
   "outputs": [],
   "source": [
    "# Calculate the sample mean and sd for the column named S&P500\n",
    "sp500_mean = stocks.SP500.mean()\n",
    "sp500_sd = stocks.SP500.std()\n",
    "\n",
    "print(sp500_mean, sp500_sd)"
   ]
  },
  {
   "cell_type": "markdown",
   "metadata": {},
   "source": [
    "## Nasdaq"
   ]
  },
  {
   "cell_type": "code",
   "execution_count": null,
   "metadata": {},
   "outputs": [],
   "source": [
    "# Calculate the sample mean and sd for the second column (Nasdaq)\n",
    "# Note: index starts from 0\n",
    "nasdaq_mean = stocks.iloc[:,2].mean()\n",
    "nasdaq_sd = stocks.iloc[:,2].std()\n",
    "\n",
    "print(nasdaq_mean, nasdaq_sd)"
   ]
  },
  {
   "cell_type": "markdown",
   "metadata": {},
   "source": [
    "## Covariance"
   ]
  },
  {
   "cell_type": "code",
   "execution_count": null,
   "metadata": {},
   "outputs": [],
   "source": [
    "# Variance-covariance matrix between SP500 and Nasdaq\n",
    "\n",
    "# Select columns by their names\n",
    "print(stocks[['SP500', 'Nasdaq']].cov() )\n",
    "\n",
    "# Select columns by their indices\n",
    "print(stocks.iloc[:, [1,2]].cov())"
   ]
  },
  {
   "cell_type": "code",
   "execution_count": null,
   "metadata": {},
   "outputs": [],
   "source": [
    "# Correlation matrix between SP500 and Nasdaq\n",
    "\n",
    "# Select columns by their names\n",
    "print(stocks[['SP500', 'Nasdaq']].corr() )\n",
    "\n",
    "# Select columns by their indices\n",
    "print(stocks.iloc[:, [1,2]].corr())"
   ]
  }
 ],
 "metadata": {
  "colab": {
   "collapsed_sections": [],
   "name": "Notebook 1.ipynb",
   "provenance": []
  },
  "kernelspec": {
   "display_name": "Python 3 (ipykernel)",
   "language": "python",
   "name": "python3"
  },
  "language_info": {
   "codemirror_mode": {
    "name": "ipython",
    "version": 3
   },
   "file_extension": ".py",
   "mimetype": "text/x-python",
   "name": "python",
   "nbconvert_exporter": "python",
   "pygments_lexer": "ipython3",
   "version": "3.12.4"
  },
  "toc": {
   "base_numbering": 1,
   "nav_menu": {},
   "number_sections": true,
   "sideBar": true,
   "skip_h1_title": false,
   "title_cell": "Table of Contents",
   "title_sidebar": "Contents",
   "toc_cell": false,
   "toc_position": {},
   "toc_section_display": true,
   "toc_window_display": false
  }
 },
 "nbformat": 4,
 "nbformat_minor": 1
}
