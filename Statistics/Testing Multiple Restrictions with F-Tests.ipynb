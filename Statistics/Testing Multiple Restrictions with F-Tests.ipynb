{
 "cells": [
  {
   "cell_type": "markdown",
   "id": "f1ea0aac",
   "metadata": {},
   "source": [
    "# Core Statistics Using Python\n",
    "### Hana Choi, Simon Business School, University of Rochester\n"
   ]
  },
  {
   "cell_type": "markdown",
   "id": "2d622844",
   "metadata": {},
   "source": [
    "# Testing Multiple Restrictions with F-Tests\n",
    "\n",
    "## Topics covered\n",
    "\n",
    "- Method 1: Look at the F-stat and p-value in summary\n",
    "- Method 2: Compute F-stat by hand\n",
    "- Method 3: Run F test using ANOVA\n",
    "\n",
    "## Required packages"
   ]
  },
  {
   "cell_type": "code",
   "execution_count": null,
   "id": "ab4a85e6",
   "metadata": {},
   "outputs": [],
   "source": [
    "import pandas as pd\n",
    "import statsmodels.api as sm\n",
    "import statsmodels.formula.api as smf\n",
    "from scipy.stats import f"
   ]
  },
  {
   "cell_type": "markdown",
   "id": "07321ede",
   "metadata": {},
   "source": [
    "# House Prices Example\n",
    "\n",
    "\n",
    "## Unrestricted model with three regressors (full model)"
   ]
  },
  {
   "cell_type": "code",
   "execution_count": null,
   "id": "091560c3",
   "metadata": {},
   "outputs": [],
   "source": [
    "# Load hprices2.csv dataset\n",
    "hprices2 = pd.read_csv(\"/Users/hanachoi/Dropbox/teaching/core_statistics/Data/hprices2.csv\")\n",
    "\n",
    "# Display first few rows of the dataframe\n",
    "print(hprices2.head())\n",
    "print('----')\n",
    "\n",
    "# Unrestricted model with three regressors (full model)\n",
    "hprices_full_model = smf.ols('price ~ sqrft + lotsize + bdrms', data=hprices2).fit()\n",
    "print(hprices_full_model.summary().tables[1])"
   ]
  },
  {
   "cell_type": "markdown",
   "id": "76b2d5e3",
   "metadata": {},
   "source": [
    "## Test $H_0: \\beta_1 = \\beta_2 = \\beta_3 = 0$\n",
    "\n",
    "### Restricted model with intercept only"
   ]
  },
  {
   "cell_type": "code",
   "execution_count": null,
   "id": "32d0f7cd",
   "metadata": {},
   "outputs": [],
   "source": [
    "hprices_model0 = smf.ols('price ~ 1', data=hprices2).fit()\n",
    "print(hprices_model0.summary().tables[1])"
   ]
  },
  {
   "cell_type": "markdown",
   "id": "dc5679b9",
   "metadata": {},
   "source": [
    "### Method 1: Look at the F-stat and p-value in summary (testing all coefficients = 0)"
   ]
  },
  {
   "cell_type": "code",
   "execution_count": null,
   "id": "359a1194",
   "metadata": {},
   "outputs": [],
   "source": [
    "# F-statistic\n",
    "f_statistic = hprices_full_model.fvalue\n",
    "print(\"F-statistic:\", f_statistic)\n",
    "\n",
    "# p-value for F-statistic\n",
    "f_pvalue = hprices_full_model.f_pvalue # This value is reported as Prob(F-statistic) in the summary table.\n",
    "print(\"p-value for F-statistic:\", f_pvalue)"
   ]
  },
  {
   "cell_type": "markdown",
   "id": "1a13af41",
   "metadata": {},
   "source": [
    "### Method 2: Compute F-stat by hand"
   ]
  },
  {
   "cell_type": "code",
   "execution_count": null,
   "id": "486d6579",
   "metadata": {},
   "outputs": [],
   "source": [
    "# R-squared values\n",
    "R2_U = hprices_full_model.rsquared\n",
    "R2_0 = hprices_model0.rsquared\n",
    "\n",
    "# Number of observations and restrictions imposed under the null\n",
    "n = len(hprices2)\n",
    "p_full = 3  # Three predictors: sqrft, lotsize, bdrms\n",
    "q_0 = 3 # The number of restrictions imposed under the null\n",
    "\n",
    "# F-statistic for full model vs. model0\n",
    "fstat_full_vs_0 = ((R2_U - R2_0) / q_0) / ((1 - R2_U) / (n - p_full - 1))\n",
    "print(\"F-statistic:\", fstat_full_vs_0)\n",
    "\n",
    "# p-value for full model vs. model0\n",
    "p_value_full_vs_0 = 1 - f.cdf(fstat_full_vs_0, q_0, n - p_full - 1)\n",
    "print(\"p-value for F-statistic:\", p_value_full_vs_0)"
   ]
  },
  {
   "cell_type": "markdown",
   "id": "ac33dd96",
   "metadata": {},
   "source": [
    "### Method 3: Run F test using ANOVA"
   ]
  },
  {
   "cell_type": "code",
   "execution_count": null,
   "id": "922d51b5",
   "metadata": {
    "scrolled": false
   },
   "outputs": [],
   "source": [
    "# Compare two nested models\n",
    "anova_results = sm.stats.anova_lm(hprices_model0, hprices_full_model)\n",
    "print(anova_results)"
   ]
  },
  {
   "cell_type": "markdown",
   "id": "72386bc2",
   "metadata": {},
   "source": [
    "## Test $H_0: \\beta_2 = \\beta_3 = 0$\n",
    "\n",
    "### Restricted model with only sqrft"
   ]
  },
  {
   "cell_type": "code",
   "execution_count": null,
   "id": "9a6cd3de",
   "metadata": {},
   "outputs": [],
   "source": [
    "hprices_model1 = smf.ols('price ~ sqrft', data=hprices2).fit()\n",
    "print(hprices_model1.summary().tables[1])"
   ]
  },
  {
   "cell_type": "markdown",
   "id": "7a9444a8",
   "metadata": {},
   "source": [
    "### Method 2: Compute F-stat by hand"
   ]
  },
  {
   "cell_type": "code",
   "execution_count": null,
   "id": "0a888d8c",
   "metadata": {},
   "outputs": [],
   "source": [
    "# R-squared \n",
    "R2_1 = hprices_model1.rsquared\n",
    "\n",
    "# Number of restrictions imposed under the null\n",
    "q_1 = 2 # The number of restrictions imposed under the null\n",
    "\n",
    "# F-statistic for full model vs. model1\n",
    "fstat_full_vs_1 = ((R2_U - R2_1) / q_1) / ((1 - R2_U) / (n - p_full - 1))\n",
    "print(\"F-statistic:\", fstat_full_vs_1)\n",
    "\n",
    "# p-value for full model vs. model0\n",
    "p_value_full_vs_1 = 1 - f.cdf(fstat_full_vs_1, q_1, n - p_full - 1)\n",
    "print(\"p-value for F-statistic:\", p_value_full_vs_1)"
   ]
  },
  {
   "cell_type": "markdown",
   "id": "8d84f2ec",
   "metadata": {},
   "source": [
    "### Method 3: Run F test using ANOVA"
   ]
  },
  {
   "cell_type": "code",
   "execution_count": null,
   "id": "b6bf4f0e",
   "metadata": {},
   "outputs": [],
   "source": [
    "# Compare two nested models\n",
    "anova_results = sm.stats.anova_lm(hprices_model1, hprices_full_model)\n",
    "print(anova_results)"
   ]
  },
  {
   "cell_type": "markdown",
   "id": "deac75da",
   "metadata": {},
   "source": [
    "# RFJ Example\n",
    "\n",
    "## Unrestricted model with p1, p2, p3 (full model)"
   ]
  },
  {
   "cell_type": "code",
   "execution_count": null,
   "id": "4b7615e8",
   "metadata": {
    "scrolled": true
   },
   "outputs": [],
   "source": [
    "# Load rfj_small.csv dataset\n",
    "rfj_small = pd.read_csv(\"/Users/hanachoi/Dropbox/teaching/core_statistics/Data/rfj_small.csv\")\n",
    "\n",
    "# Display first few rows of the dataframe\n",
    "print(rfj_small.head())\n",
    "print('----')\n",
    "\n",
    "# Unrestricted model (full model)\n",
    "rfj_full_model = smf.ols('q1 ~ p1 + p2 + p3', data=rfj_small).fit()\n",
    "print(rfj_full_model.summary().tables[1])"
   ]
  },
  {
   "cell_type": "markdown",
   "id": "1b3e21f3",
   "metadata": {},
   "source": [
    "## Test $H_0: \\beta_2 = \\beta_3 = 0$\n",
    "\n",
    "- This is testing whether Tropicana is monopoly\n",
    "\n",
    "### Restricted model with only p1"
   ]
  },
  {
   "cell_type": "code",
   "execution_count": null,
   "id": "5ee02d16",
   "metadata": {
    "scrolled": true
   },
   "outputs": [],
   "source": [
    "rfj_model2 = smf.ols('q1 ~ p1', data=rfj_small).fit()\n",
    "print(rfj_model2.summary().tables[1])"
   ]
  },
  {
   "cell_type": "markdown",
   "id": "c515a88b",
   "metadata": {},
   "source": [
    "### Method 2: Compute F-stat by hand"
   ]
  },
  {
   "cell_type": "code",
   "execution_count": null,
   "id": "44c8516b",
   "metadata": {
    "scrolled": true
   },
   "outputs": [],
   "source": [
    "# R-squared values\n",
    "R2_U_rfj = rfj_full_model.rsquared\n",
    "R2_2 = rfj_model2.rsquared\n",
    "\n",
    "# Number of observations and restrictions imposed under the null\n",
    "n_rfj = len(rfj_small)\n",
    "p_full_rfj = 3  # Three predictors: p1, p2, p3\n",
    "q_2 = 2 # The number of restrictions imposed under the null\n",
    "\n",
    "# F-statistic for full model vs. model1\n",
    "fstat_full_vs_2 = ((R2_U_rfj - R2_2) / q_2) / ((1 - R2_U_rfj) / (n_rfj - p_full_rfj - 1))\n",
    "print(\"F-statistic:\", fstat_full_vs_2)\n",
    "\n",
    "# p-value for full model vs. model0\n",
    "p_value_full_vs_2 = 1 - f.cdf(fstat_full_vs_2, q_2, n_rfj - p_full_rfj - 1)\n",
    "print(\"p-value for F-statistic:\", p_value_full_vs_2)"
   ]
  },
  {
   "cell_type": "markdown",
   "id": "6d1962c3",
   "metadata": {},
   "source": [
    "### Method 3: Run F test using ANOVA"
   ]
  },
  {
   "cell_type": "code",
   "execution_count": null,
   "id": "72f4a9eb",
   "metadata": {
    "scrolled": true
   },
   "outputs": [],
   "source": [
    "# Compare two nested models\n",
    "anova_results = sm.stats.anova_lm(rfj_model2, rfj_full_model)\n",
    "print(anova_results)"
   ]
  },
  {
   "cell_type": "markdown",
   "id": "c02d98f7",
   "metadata": {},
   "source": [
    "## Test $H_0: \\beta_2 = \\beta_3$\n",
    "\n",
    "- This is testing whether Minute Maid and Private Label are symmetric\n",
    "\n",
    "\n",
    "### Restricted model with symmetric rivals"
   ]
  },
  {
   "cell_type": "code",
   "execution_count": null,
   "id": "67c7cc13",
   "metadata": {},
   "outputs": [],
   "source": [
    "rfj_model3 = smf.ols('q1 ~ p1 + I(p2+p3)', data=rfj_small).fit()\n",
    "print(rfj_model3.summary().tables[1])"
   ]
  },
  {
   "cell_type": "markdown",
   "id": "e3ffcbe9",
   "metadata": {},
   "source": [
    "### Method 2: Compute F-stat by hand"
   ]
  },
  {
   "cell_type": "code",
   "execution_count": null,
   "id": "4d04d4a5",
   "metadata": {},
   "outputs": [],
   "source": [
    "# R-squared values\n",
    "R2_3 = rfj_model3.rsquared\n",
    "\n",
    "# Number restrictions imposed under the null\n",
    "q_3 = 1\n",
    "\n",
    "# F-statistic for full model vs. model1\n",
    "fstat_full_vs_3 = ((R2_U_rfj - R2_3) / q_3) / ((1 - R2_U_rfj) / (n_rfj - p_full_rfj - 1))\n",
    "print(\"F-statistic:\", fstat_full_vs_3)\n",
    "\n",
    "# p-value for full model vs. model0\n",
    "p_value_full_vs_3 = 1 - f.cdf(fstat_full_vs_3, q_3, n_rfj - p_full_rfj - 1)\n",
    "print(\"p-value for F-statistic:\", p_value_full_vs_3)"
   ]
  },
  {
   "cell_type": "markdown",
   "id": "0b37c132",
   "metadata": {},
   "source": [
    "### Method 3: Run F test using ANOVA"
   ]
  },
  {
   "cell_type": "code",
   "execution_count": null,
   "id": "38dc6714",
   "metadata": {},
   "outputs": [],
   "source": [
    "# Compare two nested models\n",
    "anova_results = sm.stats.anova_lm(rfj_model3, rfj_full_model)\n",
    "print(anova_results)"
   ]
  }
 ],
 "metadata": {
  "kernelspec": {
   "display_name": "Python 3 (ipykernel)",
   "language": "python",
   "name": "python3"
  },
  "language_info": {
   "codemirror_mode": {
    "name": "ipython",
    "version": 3
   },
   "file_extension": ".py",
   "mimetype": "text/x-python",
   "name": "python",
   "nbconvert_exporter": "python",
   "pygments_lexer": "ipython3",
   "version": "3.12.2"
  },
  "toc": {
   "base_numbering": 1,
   "nav_menu": {},
   "number_sections": true,
   "sideBar": true,
   "skip_h1_title": false,
   "title_cell": "Table of Contents",
   "title_sidebar": "Contents",
   "toc_cell": false,
   "toc_position": {},
   "toc_section_display": true,
   "toc_window_display": false
  }
 },
 "nbformat": 4,
 "nbformat_minor": 5
}
