{
 "cells": [
  {
   "cell_type": "markdown",
   "id": "f1ea0aac",
   "metadata": {},
   "source": [
    "# Core Statistics Using Python\n",
    "### Hana Choi, Simon Business School, University of Rochester\n"
   ]
  },
  {
   "cell_type": "markdown",
   "id": "2d622844",
   "metadata": {},
   "source": [
    "# Simple Linear Regression Part 3\n",
    "\n",
    "## Topics covered\n",
    "\n",
    "- Predictions\n",
    "- Two interval types: (i) Confidence intervals for average predictions and (ii) Prediction intervals for specific predictions\n",
    "- Impact of sample size\n",
    "\n",
    "## Required packages"
   ]
  },
  {
   "cell_type": "code",
   "execution_count": null,
   "id": "ab4a85e6",
   "metadata": {},
   "outputs": [],
   "source": [
    "import pandas as pd\n",
    "import statsmodels.formula.api as smf"
   ]
  },
  {
   "cell_type": "markdown",
   "id": "07321ede",
   "metadata": {},
   "source": [
    "## House Prices Example"
   ]
  },
  {
   "cell_type": "code",
   "execution_count": null,
   "id": "091560c3",
   "metadata": {},
   "outputs": [],
   "source": [
    "# Let's again analyze hprices.csv\n",
    "\n",
    "# Data\n",
    "hprices = pd.read_csv(\"/Users/hanachoi/Dropbox/teaching/core_statistics/Data/hprices.csv\")\n",
    "\n",
    "# First, run the regression we want\n",
    "fit = smf.ols(formula='price ~ sqrft', data=hprices).fit()\n",
    "\n",
    "# Print the summary of the regression results\n",
    "print(fit.summary().tables[1])"
   ]
  },
  {
   "cell_type": "markdown",
   "id": "deac75da",
   "metadata": {},
   "source": [
    "# Predictions\n",
    "\n",
    "- Predictions are easy in Python. \n",
    "- We first run the relevant regression\n",
    "- We then tell Python the X values that we want predictions for.\n",
    "- Remember that you get predictions by simply plugging the X value you want a prediction for into the regression formula."
   ]
  },
  {
   "cell_type": "code",
   "execution_count": null,
   "id": "4b7615e8",
   "metadata": {
    "scrolled": false
   },
   "outputs": [],
   "source": [
    "# Suppose we want to predict the price for a 2500 square foot house:\n",
    "size = 2500\n",
    "manual_prediction = fit.params['Intercept'] + fit.params['sqrft'] * size\n",
    "manual_prediction"
   ]
  },
  {
   "cell_type": "markdown",
   "id": "1b3e21f3",
   "metadata": {},
   "source": [
    "## Set values at which to make predictions\n",
    "\n",
    "- To automate this in Python, you can set X values at which to make predictions\n",
    "- Then we can use `predict()` to get predicted values at new Xs (instead of manually computing them)."
   ]
  },
  {
   "cell_type": "code",
   "execution_count": null,
   "id": "44c8516b",
   "metadata": {
    "scrolled": true
   },
   "outputs": [],
   "source": [
    "# Let's pick several house sizes to make predictions\n",
    "new_data = pd.DataFrame({'sqrft': [1500, 2000, 2500, 3000, 4000]})\n",
    "new_data"
   ]
  },
  {
   "cell_type": "markdown",
   "id": "5533040b",
   "metadata": {},
   "source": [
    "## Predicted values"
   ]
  },
  {
   "cell_type": "code",
   "execution_count": null,
   "id": "3180e51b",
   "metadata": {},
   "outputs": [],
   "source": [
    "# Then you can compute the price predictions at these values\n",
    "predicted_house_prices = fit.predict(new_data)\n",
    "predicted_house_prices"
   ]
  },
  {
   "cell_type": "markdown",
   "id": "e147748d",
   "metadata": {},
   "source": [
    "# Confidence Intervals and Prediction Intervals\n",
    "\n",
    "- You can also compute the intervals around these values\n",
    "- There are two interval types:\n",
    "- (i) Confidence intervals for average predictions\n",
    "- (ii) Prediction intervals for specific predictions\n",
    "- We can get both of these intervals using `get_prediction()`\n",
    "- Note that Python uses the t-distribution to construct both interval types, so the results will differ slightly from what I computed in Excel."
   ]
  },
  {
   "cell_type": "code",
   "execution_count": null,
   "id": "87d53863",
   "metadata": {
    "scrolled": true
   },
   "outputs": [],
   "source": [
    "# Compute the intervals (both types!) at several house sizes defined above (new_data)\n",
    "predictions = fit.get_prediction(new_data)\n",
    "\n",
    "# Display summary of the predictions\n",
    "# We need to choose confidence level for the summary table (e.g., 95%)\n",
    "# alpha is significance level = 1 - confidence level\n",
    "# For a 99% interval, you can change alpha to 0.01\n",
    "predictions.summary_frame(alpha=0.05) # 95% confidence/prediction intervals"
   ]
  },
  {
   "cell_type": "markdown",
   "id": "f857e661",
   "metadata": {},
   "source": [
    "# Impact of Sample Size\n",
    "\n",
    "- Finally, let's do a quick illustration of how confidence/prediction intervals change as your sample size increases\n",
    "- Here, I am going to \"pretend\" we have a larger house size dataset by simply repeating the same dataset 100 times (giving us 8800 observations instead of 88).\n",
    "- You can think of this as something like having each house actually represent 100 houses exactly like it.\n",
    "- In reality, a truly larger dataset would clearly have more variation both in sizes and prices, but this will give us a feel for how the sample size changes things.\n",
    "- Note how the CI for average predictions shrink dramatically relative to the smaller (real) dataset, but the PI for specific predictions are still almost as wide."
   ]
  },
  {
   "cell_type": "code",
   "execution_count": null,
   "id": "733dedcc",
   "metadata": {},
   "outputs": [],
   "source": [
    "# First I will create a larger dataset by repliacating the existing data\n",
    "hprices_large = pd.concat([hprices]*100, ignore_index=True)\n",
    "\n",
    "# Now let's re-run our regression with the larger dataset\n",
    "fit_large = smf.ols(formula='price ~ sqrft', data=hprices_large).fit()\n",
    "\n",
    "# Predict with the larger dataset\n",
    "predictions_large = fit_large.get_prediction(new_data)\n",
    "predictions_large.summary_frame(alpha= 0.05) # 95% confidence/prediction intervals"
   ]
  }
 ],
 "metadata": {
  "kernelspec": {
   "display_name": "Python 3 (ipykernel)",
   "language": "python",
   "name": "python3"
  },
  "language_info": {
   "codemirror_mode": {
    "name": "ipython",
    "version": 3
   },
   "file_extension": ".py",
   "mimetype": "text/x-python",
   "name": "python",
   "nbconvert_exporter": "python",
   "pygments_lexer": "ipython3",
   "version": "3.12.2"
  },
  "toc": {
   "base_numbering": 1,
   "nav_menu": {},
   "number_sections": true,
   "sideBar": true,
   "skip_h1_title": false,
   "title_cell": "Table of Contents",
   "title_sidebar": "Contents",
   "toc_cell": false,
   "toc_position": {},
   "toc_section_display": true,
   "toc_window_display": false
  }
 },
 "nbformat": 4,
 "nbformat_minor": 5
}
