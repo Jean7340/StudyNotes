{
 "cells": [
  {
   "cell_type": "markdown",
   "metadata": {
    "colab_type": "text",
    "id": "dkmOv3mas4D1"
   },
   "source": [
    "# Core Statistics Using Python\n",
    "### Hana Choi, Simon Business School, University of Rochester\n"
   ]
  },
  {
   "cell_type": "markdown",
   "metadata": {
    "colab_type": "text",
    "id": "lPc4dSras4D3"
   },
   "source": [
    "# Hypothesis Testing\n",
    "\n",
    "## Topics covered\n",
    "\n",
    "- Hypothesis testing using confidence interval\n",
    "- Hypothesis testing using p-value \n",
    "\n",
    "## Here are the packages/modules we need for this notebook"
   ]
  },
  {
   "cell_type": "code",
   "execution_count": 15,
   "metadata": {
    "colab": {},
    "colab_type": "code",
    "executionInfo": {
     "elapsed": 222,
     "status": "ok",
     "timestamp": 1598648359460,
     "user": {
      "displayName": "Paul Ellickson",
      "photoUrl": "",
      "userId": "07742807759680804411"
     },
     "user_tz": 240
    },
    "id": "P1VEzGt8s4Ec"
   },
   "outputs": [],
   "source": [
    "import pandas as pd\n",
    "import numpy as np\n",
    "from scipy.stats import norm\n",
    "from scipy.stats import uniform"
   ]
  },
  {
   "cell_type": "markdown",
   "metadata": {
    "colab_type": "text",
    "id": "ancn1SyUs4Er"
   },
   "source": [
    "# Example: LED bulb life\n",
    "\n",
    "\n",
    "## Hypothesis\n",
    "\n",
    "- Null hypothesis H0: mu_x = 1200\n",
    "- Alternative hypothesis HA: mu_x != 1200\n",
    "- Note: the numbers here don't match with slides because the mean and SD were exactly 1265 and 300 respectively there, to make the algebra simple.\n",
    "\n",
    "## Data: LEDBulb.csv"
   ]
  },
  {
   "cell_type": "code",
   "execution_count": 16,
   "metadata": {},
   "outputs": [
    {
     "data": {
      "text/html": [
       "<div>\n",
       "<style scoped>\n",
       "    .dataframe tbody tr th:only-of-type {\n",
       "        vertical-align: middle;\n",
       "    }\n",
       "\n",
       "    .dataframe tbody tr th {\n",
       "        vertical-align: top;\n",
       "    }\n",
       "\n",
       "    .dataframe thead th {\n",
       "        text-align: right;\n",
       "    }\n",
       "</style>\n",
       "<table border=\"1\" class=\"dataframe\">\n",
       "  <thead>\n",
       "    <tr style=\"text-align: right;\">\n",
       "      <th></th>\n",
       "      <th>LED Bulb Life</th>\n",
       "    </tr>\n",
       "  </thead>\n",
       "  <tbody>\n",
       "    <tr>\n",
       "      <th>0</th>\n",
       "      <td>1484.344201</td>\n",
       "    </tr>\n",
       "    <tr>\n",
       "      <th>1</th>\n",
       "      <td>1947.759492</td>\n",
       "    </tr>\n",
       "    <tr>\n",
       "      <th>2</th>\n",
       "      <td>1744.943083</td>\n",
       "    </tr>\n",
       "    <tr>\n",
       "      <th>3</th>\n",
       "      <td>1364.664703</td>\n",
       "    </tr>\n",
       "    <tr>\n",
       "      <th>4</th>\n",
       "      <td>1430.529286</td>\n",
       "    </tr>\n",
       "  </tbody>\n",
       "</table>\n",
       "</div>"
      ],
      "text/plain": [
       "   LED Bulb Life\n",
       "0    1484.344201\n",
       "1    1947.759492\n",
       "2    1744.943083\n",
       "3    1364.664703\n",
       "4    1430.529286"
      ]
     },
     "execution_count": 16,
     "metadata": {},
     "output_type": "execute_result"
    }
   ],
   "source": [
    "# Method 1: Save the data file directly to your working directory\n",
    "# led_bulb = pd.read_csv('LEDBulb.csv')\n",
    "\n",
    "# Method 2: Tell Python where your data file exists \"explicitly\"\n",
    "# Below is \"my\" file path, you should specify yours instead.\n",
    "led_bulb = pd.read_csv(\"/Users/hanachoi/Dropbox/teaching/core_statistics/Data/LEDBulb.csv\")\n",
    "\n",
    "# Method 3: We can also import a dataset from the web\n",
    "# led_bulb = pd.read_csv(\"http://hanachoi.github.io/datasets/LEDBulb.csv\")\n",
    "\n",
    "# Display the first few rows of the dataframe\n",
    "led_bulb.head()"
   ]
  },
  {
   "cell_type": "markdown",
   "metadata": {},
   "source": [
    "## Summary statistics"
   ]
  },
  {
   "cell_type": "code",
   "execution_count": 17,
   "metadata": {
    "colab": {
     "base_uri": "https://localhost:8080/",
     "height": 34
    },
    "colab_type": "code",
    "executionInfo": {
     "elapsed": 400,
     "status": "ok",
     "timestamp": 1598648364802,
     "user": {
      "displayName": "Paul Ellickson",
      "photoUrl": "",
      "userId": "07742807759680804411"
     },
     "user_tz": 240
    },
    "id": "fBJOzQrKs4Ev",
    "outputId": "1c8da1cc-10fa-471d-a5aa-4bbb948ad312",
    "scrolled": true
   },
   "outputs": [
    {
     "name": "stdout",
     "output_type": "stream",
     "text": [
      "Sample Mean: 1268.033194362\n",
      "Sample SD: 297.86604812071647\n",
      "Data Shape (100, 1)\n",
      "Sample Size n: 100\n",
      "Sample SE: 29.786604812071648\n"
     ]
    }
   ],
   "source": [
    "# Sample mean\n",
    "sample_mean = led_bulb['LED Bulb Life'].mean()\n",
    "print(\"Sample Mean:\", sample_mean)\n",
    "\n",
    "# Sample standard deviation\n",
    "sample_sd = led_bulb['LED Bulb Life'].std()\n",
    "print(\"Sample SD:\", sample_sd)\n",
    "\n",
    "# Sample size\n",
    "# .shape pandas DataFrame attribute returns a tuple where the first element represents the number of rows \n",
    "# and the second element represents the number of columns\n",
    "print(\"Data Shape\", led_bulb.shape) \n",
    "n = led_bulb.shape[0] # saving the first element in the tuple as \"n\"\n",
    "\n",
    "# Or alternatively, one can use a built-in Python function len() on the DataFrame, which returns the number of rows\n",
    "n = len(led_bulb)\n",
    "print(\"Sample Size n:\", n) \n",
    "\n",
    "# Sample standard error\n",
    "standard_error = sample_sd / np.sqrt(n)\n",
    "print(\"Sample SE:\", standard_error)"
   ]
  },
  {
   "cell_type": "markdown",
   "metadata": {},
   "source": [
    "## Hypothesis testing using confidence interval"
   ]
  },
  {
   "cell_type": "code",
   "execution_count": 26,
   "metadata": {},
   "outputs": [
    {
     "name": "stdout",
     "output_type": "stream",
     "text": [
      "95% CI: 1209.6514489303395 1326.4149397936603\n",
      "-2.5758293035489004\n",
      "90% CI: 1191.183753946855 1344.8826347771449\n"
     ]
    }
   ],
   "source": [
    "# 95% Confidence interval, Z(alpha/2) = 1.96\n",
    "CI_L_95 = sample_mean - 1.96*standard_error\n",
    "CI_R_95 = sample_mean + 1.96*standard_error\n",
    "print(\"95% CI:\", CI_L_95, CI_R_95)\n",
    "# Decision: Reject null, because 1200 lies outside the 95% confidence interval\n",
    "\n",
    "# 99% Confidence interval, Z(alpha/2) = 2.58\n",
    "alpha = 1-0.99\n",
    "print(norm.ppf(alpha/2))\n",
    "\n",
    "CI_L_99 = sample_mean - 2.58*standard_error\n",
    "CI_H_99 = sample_mean + 2.58*standard_error\n",
    "print(\"90% CI:\", CI_L_99, CI_H_99)\n",
    "# Decision: Cannot reject null, because 1200 lies within the 99% confidence interval"
   ]
  },
  {
   "cell_type": "markdown",
   "metadata": {},
   "source": [
    "## What happens to 95% CI when n = 25?"
   ]
  },
  {
   "cell_type": "code",
   "execution_count": 22,
   "metadata": {},
   "outputs": [
    {
     "name": "stdout",
     "output_type": "stream",
     "text": [
      "95% CI when n=25: 1151.269703498679 1384.7966852253207\n"
     ]
    }
   ],
   "source": [
    "n_new = 25\n",
    "standard_error_new = sample_sd/np.sqrt(n_new)\n",
    "\n",
    "# 95% Confidence interval, Z(alpha/2) = 1.96\n",
    "CI_L_95_new = sample_mean - 1.96*standard_error_new\n",
    "CI_R_95_new = sample_mean + 1.96*standard_error_new\n",
    "print(\"95% CI when n=25:\", CI_L_95_new, CI_R_95_new)\n",
    "\n",
    "# Decision: Now we cannot reject null, because 1200 lies within the 95% confidence interval\n",
    "# Both the sample size and the level of significance you choose can matter a lot!"
   ]
  },
  {
   "cell_type": "markdown",
   "metadata": {},
   "source": [
    "## Hypothesis testing using p-value"
   ]
  },
  {
   "cell_type": "code",
   "execution_count": 25,
   "metadata": {},
   "outputs": [
    {
     "data": {
      "text/plain": [
       "0.02237036890526138"
      ]
     },
     "execution_count": 25,
     "metadata": {},
     "output_type": "execute_result"
    }
   ],
   "source": [
    "t_stat = (sample_mean - 1200) / standard_error\n",
    "p_value = 2*norm.cdf(-abs(t_stat))\n",
    "p_value\n",
    "\n",
    "# If I choose 5% significance level, so p-value < 5%, then reject null\n",
    "# If I choose 1% significance level, so p-value > 1%, then cannot reject null\n",
    "# We will arrive at the same conclusion, whether we use (i) the confidence interval or (ii) the p-value to test a hypothesis."
   ]
  }
 ],
 "metadata": {
  "colab": {
   "collapsed_sections": [],
   "name": "Notebook 1.ipynb",
   "provenance": []
  },
  "kernelspec": {
   "display_name": "Python 3 (ipykernel)",
   "language": "python",
   "name": "python3"
  },
  "language_info": {
   "codemirror_mode": {
    "name": "ipython",
    "version": 3
   },
   "file_extension": ".py",
   "mimetype": "text/x-python",
   "name": "python",
   "nbconvert_exporter": "python",
   "pygments_lexer": "ipython3",
   "version": "3.12.4"
  },
  "toc": {
   "base_numbering": 1,
   "nav_menu": {},
   "number_sections": true,
   "sideBar": true,
   "skip_h1_title": false,
   "title_cell": "Table of Contents",
   "title_sidebar": "Contents",
   "toc_cell": false,
   "toc_position": {},
   "toc_section_display": true,
   "toc_window_display": false
  }
 },
 "nbformat": 4,
 "nbformat_minor": 1
}
