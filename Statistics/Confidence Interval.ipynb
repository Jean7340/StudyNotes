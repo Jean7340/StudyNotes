{
 "cells": [
  {
   "cell_type": "markdown",
   "metadata": {
    "colab_type": "text",
    "id": "dkmOv3mas4D1"
   },
   "source": [
    "# Core Statistics Using Python\n",
    "### Hana Choi, Simon Business School, University of Rochester\n"
   ]
  },
  {
   "cell_type": "markdown",
   "metadata": {
    "colab_type": "text",
    "id": "lPc4dSras4D3"
   },
   "source": [
    "# Confidence Interval\n",
    "\n",
    "## Topics covered\n",
    "\n",
    "- Constructing confidence interval\n",
    "\n",
    "## Here are the packages/modules we need for this notebook"
   ]
  },
  {
   "cell_type": "code",
   "execution_count": null,
   "metadata": {
    "colab": {},
    "colab_type": "code",
    "executionInfo": {
     "elapsed": 222,
     "status": "ok",
     "timestamp": 1598648359460,
     "user": {
      "displayName": "Paul Ellickson",
      "photoUrl": "",
      "userId": "07742807759680804411"
     },
     "user_tz": 240
    },
    "id": "P1VEzGt8s4Ec"
   },
   "outputs": [],
   "source": [
    "import pandas as pd\n",
    "import numpy as np"
   ]
  },
  {
   "cell_type": "markdown",
   "metadata": {
    "colab_type": "text",
    "id": "ancn1SyUs4Er"
   },
   "source": [
    "# Constructing Confidence Interval\n",
    "\n",
    "\n",
    "## Data: HoldTimes.csv"
   ]
  },
  {
   "cell_type": "code",
   "execution_count": null,
   "metadata": {},
   "outputs": [],
   "source": [
    "# Method 1: Save the data file directly to your working directory\n",
    "# hold_times = pd.read_csv('HoldTimes.csv')\n",
    "\n",
    "# Method 2: Tell Python where your data file exists \"explicitly\"\n",
    "# Below is \"my\" file path, you should specify yours instead.\n",
    "hold_times = pd.read_csv(\"/Users/hanachoi/Dropbox/teaching/core_statistics/Data/HoldTimes.csv\")\n",
    "\n",
    "# Method 3: We can also import a dataset from the web\n",
    "# hold_times = pd.read_csv(\"http://hanachoi.github.io/datasets/HoldTimes.csv\")\n",
    "\n",
    "# Display the first few rows of the dataframe\n",
    "hold_times.head()"
   ]
  },
  {
   "cell_type": "markdown",
   "metadata": {},
   "source": [
    "## Summary statistics"
   ]
  },
  {
   "cell_type": "code",
   "execution_count": null,
   "metadata": {
    "colab": {
     "base_uri": "https://localhost:8080/",
     "height": 34
    },
    "colab_type": "code",
    "executionInfo": {
     "elapsed": 400,
     "status": "ok",
     "timestamp": 1598648364802,
     "user": {
      "displayName": "Paul Ellickson",
      "photoUrl": "",
      "userId": "07742807759680804411"
     },
     "user_tz": 240
    },
    "id": "fBJOzQrKs4Ev",
    "outputId": "1c8da1cc-10fa-471d-a5aa-4bbb948ad312",
    "scrolled": true
   },
   "outputs": [],
   "source": [
    "# Sample mean\n",
    "sample_mean = hold_times['On Hold Times'].mean()\n",
    "print(\"Sample Mean:\", sample_mean)\n",
    "\n",
    "# Sample standard deviation\n",
    "sample_sd = hold_times['On Hold Times'].std()\n",
    "print(\"Sample SD:\", sample_sd)\n",
    "\n",
    "# Sample size\n",
    "# .shape pandas DataFrame attribute returns a tuple where the first element represents the number of rows \n",
    "# and the second element represents the number of columns\n",
    "print(\"Sample Size\", hold_times.shape) \n",
    "n = hold_times.shape[0] # saving the first element in the tuple as \"n\"\n",
    "\n",
    "# Or alternatively, one can use a built-in Python function len() on the DataFrame, which returns the number of rows\n",
    "n = len(hold_times)\n",
    "print(\"Sample Size:\", n) \n",
    "\n",
    "# Sample standard error\n",
    "standard_error = sample_sd / np.sqrt(n)\n",
    "print(\"Sample SE:\", standard_error)"
   ]
  },
  {
   "cell_type": "markdown",
   "metadata": {},
   "source": [
    "## 90% Confidence Interval: Z(alpha/2) = 1.64"
   ]
  },
  {
   "cell_type": "code",
   "execution_count": null,
   "metadata": {},
   "outputs": [],
   "source": [
    "CI_L_90 = sample_mean - 1.64*standard_error\n",
    "CI_R_90 = sample_mean + 1.64*standard_error\n",
    "print(CI_L_90, CI_R_90)"
   ]
  },
  {
   "cell_type": "markdown",
   "metadata": {},
   "source": [
    "## 95% Confidence Interval: Z(alpha/2) = 1.96"
   ]
  },
  {
   "cell_type": "code",
   "execution_count": null,
   "metadata": {},
   "outputs": [],
   "source": [
    "CI_L_95 = sample_mean - 1.96*standard_error\n",
    "CI_R_95 = sample_mean + 1.96*standard_error\n",
    "print(CI_L_95, CI_R_95)"
   ]
  },
  {
   "cell_type": "markdown",
   "metadata": {},
   "source": [
    "## 99% Confidence Interval: Z(alpha/2) = 2.58"
   ]
  },
  {
   "cell_type": "code",
   "execution_count": null,
   "metadata": {},
   "outputs": [],
   "source": [
    "CI_L_99 = sample_mean - 2.58*standard_error\n",
    "CI_H_99 = sample_mean + 2.58*standard_error\n",
    "print(CI_L_99, CI_H_99)"
   ]
  }
 ],
 "metadata": {
  "colab": {
   "collapsed_sections": [],
   "name": "Notebook 1.ipynb",
   "provenance": []
  },
  "kernelspec": {
   "display_name": "Python 3 (ipykernel)",
   "language": "python",
   "name": "python3"
  },
  "language_info": {
   "codemirror_mode": {
    "name": "ipython",
    "version": 3
   },
   "file_extension": ".py",
   "mimetype": "text/x-python",
   "name": "python",
   "nbconvert_exporter": "python",
   "pygments_lexer": "ipython3",
   "version": "3.12.4"
  },
  "toc": {
   "base_numbering": 1,
   "nav_menu": {},
   "number_sections": true,
   "sideBar": true,
   "skip_h1_title": false,
   "title_cell": "Table of Contents",
   "title_sidebar": "Contents",
   "toc_cell": false,
   "toc_position": {},
   "toc_section_display": true,
   "toc_window_display": false
  }
 },
 "nbformat": 4,
 "nbformat_minor": 1
}
