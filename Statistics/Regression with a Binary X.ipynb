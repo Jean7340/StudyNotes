{
 "cells": [
  {
   "cell_type": "markdown",
   "id": "f1ea0aac",
   "metadata": {},
   "source": [
    "# Core Statistics Using Python\n",
    "### Hana Choi, Simon Business School, University of Rochester\n"
   ]
  },
  {
   "cell_type": "markdown",
   "id": "2d622844",
   "metadata": {},
   "source": [
    "# Regression with a Binary X\n",
    "\n",
    "## Topics covered\n",
    "\n",
    "- Regression with a binary X \n",
    "\n",
    "## Required packages"
   ]
  },
  {
   "cell_type": "code",
   "execution_count": null,
   "id": "ab4a85e6",
   "metadata": {},
   "outputs": [],
   "source": [
    "import pandas as pd\n",
    "import statsmodels.formula.api as smf"
   ]
  },
  {
   "cell_type": "markdown",
   "id": "837e7293",
   "metadata": {},
   "source": [
    "# Example: cps12"
   ]
  },
  {
   "cell_type": "markdown",
   "id": "b0d8c39e",
   "metadata": {},
   "source": [
    "## Load data: cps12.csv"
   ]
  },
  {
   "cell_type": "code",
   "execution_count": null,
   "id": "bf9bfed8",
   "metadata": {},
   "outputs": [],
   "source": [
    "# Load data\n",
    "cps12 = pd.read_csv(\"/Users/hanachoi/Dropbox/teaching/core_statistics/Data/cps12.csv\")\n",
    "\n",
    "# Display the first few rows of the data\n",
    "print(cps12.head())"
   ]
  },
  {
   "cell_type": "markdown",
   "id": "b7df65ac",
   "metadata": {},
   "source": [
    "## Regression with a binary regressor “male”\n",
    "\n",
    "- The procedure is the same as when X is \"continuous\", it is just the interpretation that changes"
   ]
  },
  {
   "cell_type": "code",
   "execution_count": null,
   "id": "af7ed110",
   "metadata": {
    "scrolled": false
   },
   "outputs": [],
   "source": [
    "# Run regression of earnings on the male dummy variable\n",
    "model_male = smf.ols('earnings ~ male', data=cps12).fit()\n",
    "\n",
    "# Print the summary of the regression\n",
    "print(model_male.summary().tables[1])"
   ]
  },
  {
   "cell_type": "markdown",
   "id": "e636be8a",
   "metadata": {},
   "source": [
    "## Regression with a binary regressor “female”\n",
    "\n",
    "- Note that it would be fine to use a \"female\" dummy instead of a \"male\" dummy\n",
    "- $E(Y_i|D_i=0) = \\beta_0$ (intercept) is now average male earnings\n",
    "- $E(Y_i|D_i=1) = \\beta_0 + \\beta_1$: The sum of two coefficients is average female earnings\n",
    "- And $E(Y_i|D_i=1) - E(Y_i|D_i=0) = \\beta_1$: is the difference in earnings between female and male (but will have the opposite sign as you will get using the male dummy).\n",
    "- Note that the conclusions are the same!"
   ]
  },
  {
   "cell_type": "code",
   "execution_count": null,
   "id": "45144158",
   "metadata": {},
   "outputs": [],
   "source": [
    "# Run regression of earnings on the female dummy variable\n",
    "model_female = smf.ols('earnings ~ female', data=cps12).fit()\n",
    "\n",
    "# Print the summary of the regression\n",
    "print(model_female.summary().tables[1])"
   ]
  }
 ],
 "metadata": {
  "kernelspec": {
   "display_name": "Python 3 (ipykernel)",
   "language": "python",
   "name": "python3"
  },
  "language_info": {
   "codemirror_mode": {
    "name": "ipython",
    "version": 3
   },
   "file_extension": ".py",
   "mimetype": "text/x-python",
   "name": "python",
   "nbconvert_exporter": "python",
   "pygments_lexer": "ipython3",
   "version": "3.12.2"
  },
  "toc": {
   "base_numbering": 1,
   "nav_menu": {},
   "number_sections": true,
   "sideBar": true,
   "skip_h1_title": false,
   "title_cell": "Table of Contents",
   "title_sidebar": "Contents",
   "toc_cell": false,
   "toc_position": {},
   "toc_section_display": true,
   "toc_window_display": false
  }
 },
 "nbformat": 4,
 "nbformat_minor": 5
}
