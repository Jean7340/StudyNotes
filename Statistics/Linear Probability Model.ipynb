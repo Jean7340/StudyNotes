{
 "cells": [
  {
   "cell_type": "markdown",
   "id": "f1ea0aac",
   "metadata": {},
   "source": [
    "# Core Statistics Using Python\n",
    "### Hana Choi, Simon Business School, University of Rochester\n"
   ]
  },
  {
   "cell_type": "markdown",
   "id": "2d622844",
   "metadata": {},
   "source": [
    "# Linear Probability Model\n",
    "\n",
    "## Topics covered\n",
    "\n",
    "- Binary outcomes: The Linear Probability Model (LPM)\n",
    "- Probit and logit models (for references only) \n",
    "\n",
    "## Required packages"
   ]
  },
  {
   "cell_type": "code",
   "execution_count": null,
   "id": "ab4a85e6",
   "metadata": {},
   "outputs": [],
   "source": [
    "import pandas as pd\n",
    "import statsmodels.formula.api as smf\n",
    "import matplotlib.pyplot as plt"
   ]
  },
  {
   "cell_type": "markdown",
   "id": "837e7293",
   "metadata": {},
   "source": [
    "## Load data: titanic2.csv"
   ]
  },
  {
   "cell_type": "code",
   "execution_count": null,
   "id": "bf9bfed8",
   "metadata": {},
   "outputs": [],
   "source": [
    "# Load data\n",
    "titanic2 = pd.read_csv(\"/Users/hanachoi/Dropbox/teaching/core_statistics/Data/titanic2.csv\")\n",
    "\n",
    "# Display the first few rows of the data\n",
    "print(titanic2.head())\n",
    "print('----')\n",
    "\n",
    "# Summary statistics\n",
    "print(titanic2.describe())"
   ]
  },
  {
   "cell_type": "markdown",
   "id": "2f91a54f",
   "metadata": {},
   "source": [
    "# Linear Probability Model (LPM)\n",
    "\n",
    "## Simple LPM with one regressor"
   ]
  },
  {
   "cell_type": "code",
   "execution_count": null,
   "id": "af7ed110",
   "metadata": {
    "scrolled": false
   },
   "outputs": [],
   "source": [
    "lpm_simple = smf.ols('Survived ~ Fare', data=titanic2).fit()\n",
    "print(lpm_simple.summary().tables[1])\n",
    "\n",
    "# Plotting\n",
    "plt.scatter(titanic2['Fare'], titanic2['Survived'], alpha=0.5)\n",
    "plt.plot(titanic2['Fare'], lpm_simple.predict(), color='red')\n",
    "plt.xlabel('Fare')\n",
    "plt.ylabel('Survived')\n",
    "plt.show()"
   ]
  },
  {
   "cell_type": "markdown",
   "id": "e636be8a",
   "metadata": {},
   "source": [
    "## LPM with four regressors\n",
    "\n",
    "### Regression model"
   ]
  },
  {
   "cell_type": "code",
   "execution_count": null,
   "id": "45144158",
   "metadata": {},
   "outputs": [],
   "source": [
    "# LPM with four regressors\n",
    "lpm_model = smf.ols('Survived ~ Gender + Class + Age + Fare', data=titanic2).fit()\n",
    "print(lpm_model.summary().tables[1])"
   ]
  },
  {
   "cell_type": "markdown",
   "id": "ca2e6b89",
   "metadata": {},
   "source": [
    "### 99% Confidence intervals for $\\beta_j$"
   ]
  },
  {
   "cell_type": "code",
   "execution_count": null,
   "id": "0f68ee4e",
   "metadata": {
    "scrolled": true
   },
   "outputs": [],
   "source": [
    "# Confidence intervals \n",
    "conf_int = lpm_model.conf_int(alpha=0.01)\n",
    "print(conf_int)"
   ]
  },
  {
   "cell_type": "markdown",
   "id": "f9caf896",
   "metadata": {},
   "source": [
    "### Predictions\n",
    "\n",
    "We will make predictions for three different cases.\n",
    "\n",
    "1. Predict survival probability for a 30y male in 3rd class paying \\$30\n",
    "\n",
    "    $1.35-0.503-0.205*3-0.005*30-0.0005*30 = 0.067$ (some rounding error)\n",
    "<br>\n",
    "\n",
    "2. Predict survival probability for a 30y female in 3rd class paying \\$30\n",
    "\n",
    "    $1.35-0.503*0-0.205*3-0.005*30-0.0005*30 = 0.57$ (some rounding error)\n",
    "<br>\n",
    "\n",
    "3. Predicted probability for a 2y female in 1st class paying \\$200\n",
    "\n",
    "    $1.35-0.503*0-0.205*1-0.005*2-0.0005*200 = 1.03$ (Probability $>1$)"
   ]
  },
  {
   "cell_type": "code",
   "execution_count": null,
   "id": "a94dcb16",
   "metadata": {},
   "outputs": [],
   "source": [
    "# Create a dataframe with values at which we want to make predictions\n",
    "new_data = pd.DataFrame({\n",
    "    'Gender': [1, 0, 0], \n",
    "    'Class': [3, 3, 1], \n",
    "    'Age': [30, 30, 2], \n",
    "    'Fare': [30, 30, 200]\n",
    "})\n",
    "\n",
    "# Get predictions at those values\n",
    "predictions = lpm_model.get_prediction(new_data)\n",
    "print(predictions.summary_frame(alpha=0.05))"
   ]
  },
  {
   "cell_type": "markdown",
   "id": "20d26075",
   "metadata": {},
   "source": [
    "### Visualization\n",
    "\n",
    "- Recall that the LPM can produce predictions outside the (0,1) interval\n",
    "- Let's see how often it happens with this data \n",
    "- Obtain predicted values and and graph them"
   ]
  },
  {
   "cell_type": "code",
   "execution_count": null,
   "id": "5a4f8f5a",
   "metadata": {},
   "outputs": [],
   "source": [
    "# Predicting survival probabilities for each observation in the dataset:\n",
    "surv_prob = lpm_model.predict()\n",
    "\n",
    "# Plot histogram of the predicted survival probabilities\n",
    "plt.hist(surv_prob, bins=20, color='grey', edgecolor='black', alpha=0.7)\n",
    "plt.title('Histogram of Predicted Survival Probabilities')\n",
    "plt.xlabel('Predicted Survival Probability')\n",
    "plt.ylabel('Frequency')\n",
    "plt.show()\n",
    "\n",
    "# There are indeed some problematic cases"
   ]
  },
  {
   "cell_type": "markdown",
   "id": "d6cf6674",
   "metadata": {},
   "source": [
    "## Heteroskedasticity-Robust Standard Errors\n",
    "\n",
    "- LPM models should always report HR SEs (since these models are heteroskedastic by definition) \n",
    "- Obtain HR Standard Errors for the model with 4 X's (other cases are similar)"
   ]
  },
  {
   "cell_type": "code",
   "execution_count": null,
   "id": "164dd15d",
   "metadata": {
    "scrolled": false
   },
   "outputs": [],
   "source": [
    "lpm_model_HRse = lpm_model.get_robustcov_results(cov_type='HC1')\n",
    "print(lpm_model_HRse.summary().tables[1])\n",
    "print('----')\n",
    "\n",
    "predictions_HRse = lpm_model_HRse.get_prediction(new_data)\n",
    "print(predictions_HRse.summary_frame(alpha=0.05))"
   ]
  },
  {
   "cell_type": "markdown",
   "id": "0c56b82d",
   "metadata": {},
   "source": [
    "## LPM with all 6 regressors\n",
    "\n",
    "### Regression model"
   ]
  },
  {
   "cell_type": "code",
   "execution_count": null,
   "id": "e7a586e1",
   "metadata": {},
   "outputs": [],
   "source": [
    "# Create formula\n",
    "dependent_var = 'Survived'\n",
    "independent_vars = titanic2.columns.drop(dependent_var)\n",
    "formula_all = f\"{dependent_var} ~ \" + \" + \".join(independent_vars)\n",
    "\n",
    "# LPM with all 6 regressors available in the dataset and report HR SEs\n",
    "lpm_model_all = smf.ols(formula_all, data=titanic2).fit(cov_type='HC1')\n",
    "print(lpm_model_all.summary().tables[1])"
   ]
  },
  {
   "cell_type": "markdown",
   "id": "c1fb1ef4",
   "metadata": {},
   "source": [
    "# Probit and Logit Models (For Reference Only)\n",
    "\n",
    "## Probit model\n",
    "\n",
    "### Running Probit model"
   ]
  },
  {
   "cell_type": "code",
   "execution_count": null,
   "id": "2b12341a",
   "metadata": {},
   "outputs": [],
   "source": [
    "# Estimating Probit model with four regressors\n",
    "probit_model = smf.probit('Survived ~ Gender + Class + Age + Fare', data=titanic2).fit()\n",
    "print(probit_model.summary())"
   ]
  },
  {
   "cell_type": "markdown",
   "id": "4d8a9ead",
   "metadata": {},
   "source": [
    "### Computing marginal effects\n",
    "\n",
    "- Check the documentation and available options: https://www.statsmodels.org/dev/generated/statsmodels.discrete.discrete_model.ProbitResults.get_margeff.html"
   ]
  },
  {
   "cell_type": "code",
   "execution_count": null,
   "id": "39ee9292",
   "metadata": {},
   "outputs": [],
   "source": [
    "marginal_effects_probit = probit_model.get_margeff() \n",
    "print(marginal_effects_probit.summary())"
   ]
  },
  {
   "cell_type": "markdown",
   "id": "b4a14403",
   "metadata": {},
   "source": [
    "### Predict survival probabilities using Probit model and graph them"
   ]
  },
  {
   "cell_type": "code",
   "execution_count": null,
   "id": "5d7e04d9",
   "metadata": {},
   "outputs": [],
   "source": [
    "probit_predictions = probit_model.predict()\n",
    "plt.hist(probit_predictions, bins=20, alpha=0.5, label='Probit')\n",
    "plt.legend()\n",
    "plt.show()\n",
    "\n",
    "# All between 0 and 1 now!"
   ]
  },
  {
   "cell_type": "markdown",
   "id": "3cf2d55b",
   "metadata": {},
   "source": [
    "## Logit model\n",
    "\n",
    "### Running Logit model"
   ]
  },
  {
   "cell_type": "code",
   "execution_count": null,
   "id": "696ba885",
   "metadata": {},
   "outputs": [],
   "source": [
    "# Estimating Logit model with four regressors\n",
    "logit_model = smf.logit('Survived ~ Gender + Class + Age + Fare', data=titanic2).fit()\n",
    "print(logit_model.summary())"
   ]
  },
  {
   "cell_type": "markdown",
   "id": "3153c8cf",
   "metadata": {},
   "source": [
    "### Computing marginal effects"
   ]
  },
  {
   "cell_type": "code",
   "execution_count": null,
   "id": "5e6ff1a2",
   "metadata": {},
   "outputs": [],
   "source": [
    "marginal_effects_logit = logit_model.get_margeff() \n",
    "print(marginal_effects_logit.summary())"
   ]
  },
  {
   "cell_type": "markdown",
   "id": "d25118cd",
   "metadata": {},
   "source": [
    "### Predict survival probabilities using Logit model and graph them"
   ]
  },
  {
   "cell_type": "code",
   "execution_count": null,
   "id": "70da7137",
   "metadata": {},
   "outputs": [],
   "source": [
    "logit_predictions = logit_model.predict()\n",
    "plt.hist(logit_predictions, bins=20, alpha=0.5, label='Logit', color='green')\n",
    "plt.legend()\n",
    "plt.show()\n",
    "\n",
    "# All between 0 and 1 again!"
   ]
  }
 ],
 "metadata": {
  "kernelspec": {
   "display_name": "Python 3 (ipykernel)",
   "language": "python",
   "name": "python3"
  },
  "language_info": {
   "codemirror_mode": {
    "name": "ipython",
    "version": 3
   },
   "file_extension": ".py",
   "mimetype": "text/x-python",
   "name": "python",
   "nbconvert_exporter": "python",
   "pygments_lexer": "ipython3",
   "version": "3.12.2"
  },
  "toc": {
   "base_numbering": 1,
   "nav_menu": {},
   "number_sections": true,
   "sideBar": true,
   "skip_h1_title": false,
   "title_cell": "Table of Contents",
   "title_sidebar": "Contents",
   "toc_cell": false,
   "toc_position": {},
   "toc_section_display": true,
   "toc_window_display": false
  }
 },
 "nbformat": 4,
 "nbformat_minor": 5
}
