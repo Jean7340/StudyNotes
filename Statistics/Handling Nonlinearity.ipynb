{
 "cells": [
  {
   "cell_type": "markdown",
   "id": "f1ea0aac",
   "metadata": {},
   "source": [
    "# Core Statistics Using Python\n",
    "### Hana Choi, Simon Business School, University of Rochester\n"
   ]
  },
  {
   "cell_type": "markdown",
   "id": "2d622844",
   "metadata": {},
   "source": [
    "# Handling Nonlinearity   \n",
    "\n",
    "## Topics covered\n",
    "\n",
    "- Quadratic regression\n",
    "- Logarithms\n",
    "- Dummies and interactions\n",
    "\n",
    "## Required packages"
   ]
  },
  {
   "cell_type": "code",
   "execution_count": null,
   "id": "ab4a85e6",
   "metadata": {},
   "outputs": [],
   "source": [
    "import pandas as pd\n",
    "import numpy as np\n",
    "import statsmodels.formula.api as smf\n",
    "import matplotlib.pyplot as plt\n",
    "import seaborn as sns"
   ]
  },
  {
   "cell_type": "markdown",
   "id": "07321ede",
   "metadata": {},
   "source": [
    "# Quadratic regression: CA School Data\n",
    "\n",
    "## Load data"
   ]
  },
  {
   "cell_type": "code",
   "execution_count": null,
   "id": "091560c3",
   "metadata": {},
   "outputs": [],
   "source": [
    "# Load caschool.csv dataset\n",
    "caschool = pd.read_csv(\"/Users/hanachoi/Dropbox/teaching/core_statistics/Data/caschool.csv\")\n",
    "\n",
    "# Display first few rows of the dataframe\n",
    "caschool.head()"
   ]
  },
  {
   "cell_type": "markdown",
   "id": "76b2d5e3",
   "metadata": {},
   "source": [
    "## Scatter plot of income vs. test scores"
   ]
  },
  {
   "cell_type": "code",
   "execution_count": null,
   "id": "359a1194",
   "metadata": {},
   "outputs": [],
   "source": [
    "plt.scatter(caschool['income'], caschool['testscr'])\n",
    "plt.xlabel('Income')\n",
    "plt.ylabel('Test Scores')\n",
    "plt.title('Scatter plot of Income vs Test Scores')\n",
    "plt.show()"
   ]
  },
  {
   "cell_type": "markdown",
   "id": "ac33dd96",
   "metadata": {},
   "source": [
    "## Regression analysis"
   ]
  },
  {
   "cell_type": "code",
   "execution_count": null,
   "id": "922d51b5",
   "metadata": {
    "scrolled": false
   },
   "outputs": [],
   "source": [
    "# Linear regression\n",
    "linear_model = smf.ols('testscr ~ income', data=caschool).fit()\n",
    "print(linear_model.summary().tables[1])"
   ]
  },
  {
   "cell_type": "code",
   "execution_count": null,
   "id": "59551e41",
   "metadata": {},
   "outputs": [],
   "source": [
    "# Quadratic regression\n",
    "quadratic_model = smf.ols('testscr ~ income + I(income**2)', data=caschool).fit()\n",
    "print(quadratic_model.summary().tables[1])"
   ]
  },
  {
   "cell_type": "code",
   "execution_count": null,
   "id": "392cbad2",
   "metadata": {},
   "outputs": [],
   "source": [
    "# Plotting linear vs quadratic fits\n",
    "plt.scatter(caschool['income'], caschool['testscr'], color='black', label='Data Points', s=9)\n",
    "plt.scatter(caschool['income'], linear_model.fittedvalues, color='green', label='Linear Fit', s=10)\n",
    "plt.scatter(caschool['income'], quadratic_model.fittedvalues, color='red', label='Quadratic Fit', s=10)\n",
    "plt.legend()\n",
    "plt.show()"
   ]
  },
  {
   "cell_type": "markdown",
   "id": "72386bc2",
   "metadata": {},
   "source": [
    "# Logarithms and interpretations\n",
    "\n",
    "## Example1: Sales data\n",
    "\n",
    "### Load and describe data"
   ]
  },
  {
   "cell_type": "code",
   "execution_count": null,
   "id": "b6bf4f0e",
   "metadata": {},
   "outputs": [],
   "source": [
    "# Load caschool.csv dataset\n",
    "salesadvert = pd.read_csv(\"/Users/hanachoi/Dropbox/teaching/core_statistics/Data/SalesAdvert.csv\")\n",
    "\n",
    "# Display first few rows of the dataframe\n",
    "salesadvert.head()"
   ]
  },
  {
   "cell_type": "code",
   "execution_count": null,
   "id": "6510865a",
   "metadata": {},
   "outputs": [],
   "source": [
    "# Display summary statistics\n",
    "salesadvert.describe()"
   ]
  },
  {
   "cell_type": "markdown",
   "id": "deac75da",
   "metadata": {},
   "source": [
    "### Level-level regression"
   ]
  },
  {
   "cell_type": "code",
   "execution_count": null,
   "id": "4b7615e8",
   "metadata": {
    "scrolled": false
   },
   "outputs": [],
   "source": [
    "# Level-level\n",
    "model_ll = smf.ols('sales ~ advert', data=salesadvert).fit()\n",
    "print(model_ll.summary().tables[1])\n",
    "print('----')\n",
    "\n",
    "# R-square\n",
    "print(f\"Level-level model R-squared: {model_ll.rsquared}\")"
   ]
  },
  {
   "cell_type": "markdown",
   "id": "1b3e21f3",
   "metadata": {},
   "source": [
    "### Level-log regression"
   ]
  },
  {
   "cell_type": "code",
   "execution_count": null,
   "id": "44c8516b",
   "metadata": {
    "scrolled": true
   },
   "outputs": [],
   "source": [
    "# Level-log\n",
    "model_ll_log = smf.ols('sales ~ np.log(advert)', data=salesadvert).fit() \n",
    "print(model_ll_log.summary().tables[1])\n",
    "print('----')\n",
    "\n",
    "# R-square\n",
    "print(f\"Level-log model R-squared: {model_ll_log.rsquared}\")"
   ]
  },
  {
   "cell_type": "markdown",
   "id": "6b8454b2",
   "metadata": {},
   "source": [
    "### Log-level regression"
   ]
  },
  {
   "cell_type": "code",
   "execution_count": null,
   "id": "ee425b6b",
   "metadata": {
    "scrolled": true
   },
   "outputs": [],
   "source": [
    "# Log-level\n",
    "model_log_ll = smf.ols('np.log(sales) ~ advert', data=salesadvert).fit()\n",
    "print(model_log_ll.summary().tables[1])\n",
    "print('----')\n",
    "\n",
    "# R-square\n",
    "print(f\"Log-level model R-squared: {model_log_ll.rsquared}\")"
   ]
  },
  {
   "cell_type": "markdown",
   "id": "aa872324",
   "metadata": {},
   "source": [
    "### Log-log regression"
   ]
  },
  {
   "cell_type": "code",
   "execution_count": null,
   "id": "e891cb7e",
   "metadata": {
    "scrolled": true
   },
   "outputs": [],
   "source": [
    "# Log-log\n",
    "model_log_log = smf.ols('np.log(sales) ~ np.log(advert)', data=salesadvert).fit()\n",
    "print(model_log_log.summary().tables[1])\n",
    "print('----')\n",
    "\n",
    "# R-square\n",
    "print(f\"Log-log model R-squared: {model_log_log.rsquared}\")"
   ]
  },
  {
   "cell_type": "markdown",
   "id": "c078e938",
   "metadata": {},
   "source": [
    "## Example2: CA school data, again\n",
    "\n",
    "### Level-level regression\n",
    "\n",
    "- $R^2 = 0.51$\n",
    "- Interpretation: A \\$1000 increase in income is expected to increase test score by 1.88 points"
   ]
  },
  {
   "cell_type": "code",
   "execution_count": null,
   "id": "47c65de0",
   "metadata": {
    "scrolled": true
   },
   "outputs": [],
   "source": [
    "# Level-level regression\n",
    "print(linear_model.summary().tables[1]) # linear regression model fitted earlier\n",
    "print('----')\n",
    "print(f\"Level-level model R-squared: {linear_model.rsquared}\")"
   ]
  },
  {
   "cell_type": "markdown",
   "id": "8bfb7942",
   "metadata": {},
   "source": [
    "### Level-log regression\n",
    "\n",
    "- $R2 = 0.56$\n",
    "- Interpretation: A 1% increase in income is associated with an increase in test scores of 0.01*36.4 = 0.364.\n",
    "- mean(income) is 15.3K, so 1% increase in income is about 153 dollar increase in income. \n",
    "- So level-log model says about \\$153 increase in income is associated with an increase in test scores of 0.364.\n",
    "- Let's compare this result with the level-level model.\n",
    "- From the level-level model, 153 dollar increase in income is associated with 0.153*1.88=0.288 increase in test scores.\n",
    "- Which model and the result should we use?\n",
    "- The $R^2$ is higher for the level-log model (0.56) than the level-level model (0.51), so the level-log model is preferred. Also OLS Assumption1 is better satisfied (see the plot below).\n"
   ]
  },
  {
   "cell_type": "code",
   "execution_count": null,
   "id": "1f2d3fc4",
   "metadata": {},
   "outputs": [],
   "source": [
    "# Level-log\n",
    "caschool_ll_log = smf.ols('testscr ~ np.log(income)', data=caschool).fit() \n",
    "print(caschool_ll_log.summary().tables[1])\n",
    "print('----')\n",
    "\n",
    "# R-square\n",
    "print(f\"Level-log model R-squared: {caschool_ll_log.rsquared}\")\n",
    "print('----')\n",
    "\n",
    "# Mean(Income)\n",
    "mean_income = caschool['income'].mean()\n",
    "print(f\"Mean Income: {mean_income}\")"
   ]
  },
  {
   "cell_type": "code",
   "execution_count": null,
   "id": "f41d0470",
   "metadata": {},
   "outputs": [],
   "source": [
    "# Plotting quadratic vs. level-log fits: they are pretty similar\n",
    "plt.scatter(caschool['income'], caschool['testscr'], color='black', label='Data Points', s=9)\n",
    "# plt.scatter(caschool['income'], linear_model.fittedvalues, color='green', label='Linear Fit', s=10)\n",
    "plt.scatter(caschool['income'], quadratic_model.fittedvalues, color='red', label='Quadratic Fit', s=10)\n",
    "plt.scatter(caschool['income'], caschool_ll_log.fittedvalues, color='blue', label='Level-log Fit', s=10)\n",
    "plt.legend()\n",
    "plt.show()"
   ]
  },
  {
   "cell_type": "markdown",
   "id": "87c956d4",
   "metadata": {},
   "source": [
    "### Log-level regression\n",
    "\n",
    "- $R^2= 0.50$\n",
    "- Interpretation: A \\$1000 increase in income is associated with a 100*0.00284=0.284 percent increase in test scores.\n",
    "- mean(test score) is 654.2. Evaluated at the mean test score level, this is 0.00284*654.16=1.86 increase in the test scores.\n",
    "- The log-level result is quite similar to the level-level model result.\n",
    "- Note that we cannot compare the log-level model $R^2$ with either level-level or level-log model $R^2$, because $R^2$ can only be used to compare regressions with the same dependent variable."
   ]
  },
  {
   "cell_type": "code",
   "execution_count": null,
   "id": "81b58415",
   "metadata": {},
   "outputs": [],
   "source": [
    "# Log-level\n",
    "caschool_log_ll = smf.ols('np.log(testscr) ~ income', data=caschool).fit() \n",
    "print(caschool_log_ll.summary().tables[1])\n",
    "print('----')\n",
    "\n",
    "# R-square\n",
    "print(f\"Log-level model R-squared: {caschool_log_ll.rsquared}\")\n",
    "print('----')\n",
    "\n",
    "# Mean(Income)\n",
    "mean_testscr = caschool['testscr'].mean()\n",
    "print(f\"Mean Test Scores: {mean_testscr}\")"
   ]
  },
  {
   "cell_type": "markdown",
   "id": "ff02d845",
   "metadata": {},
   "source": [
    "### Log-log regression\n",
    "\n",
    "- $R^2= 0.56$\n",
    "- Interpretation: A 1% increase in income is associated with a 0.055% increase in test scores.\n",
    "- mean(test scores) is 654.2. Evaluated at the mean level, this is 0.00055*654.16=0.36 increase in test scores, which is similar in magnitude to the level-log model.\n",
    "- The $R^2$ is higher for the log-log model (0.56) than the log-level model (0.50). We can make this comparison, because the dependent variable is the same, log(testscr). Therefore the log-log model is preferred to the log-level model."
   ]
  },
  {
   "cell_type": "code",
   "execution_count": null,
   "id": "37aa9d29",
   "metadata": {},
   "outputs": [],
   "source": [
    "# Log-log\n",
    "caschool_log_log = smf.ols('np.log(testscr) ~ np.log(income)', data=caschool).fit() \n",
    "print(caschool_log_log.summary().tables[1])\n",
    "print('----')\n",
    "\n",
    "# R-square\n",
    "print(f\"Log-log model R-squared: {caschool_log_log.rsquared}\")"
   ]
  },
  {
   "cell_type": "markdown",
   "id": "e147748d",
   "metadata": {},
   "source": [
    "## Example3: RFJ data\n",
    "\n",
    "### Load data"
   ]
  },
  {
   "cell_type": "code",
   "execution_count": null,
   "id": "87d53863",
   "metadata": {
    "scrolled": true
   },
   "outputs": [],
   "source": [
    "# Load dataset\n",
    "rfj_small = pd.read_csv(\"/Users/hanachoi/Dropbox/teaching/core_statistics/Data/rfj_small.csv\")"
   ]
  },
  {
   "cell_type": "markdown",
   "id": "f857e661",
   "metadata": {},
   "source": [
    "### Level-level regression"
   ]
  },
  {
   "cell_type": "code",
   "execution_count": null,
   "id": "2743a86a",
   "metadata": {},
   "outputs": [],
   "source": [
    "# Level-level\n",
    "model_rfj = smf.ols('q1 ~ p1', data=rfj_small).fit()\n",
    "print(model_rfj.summary().tables[1])\n",
    "print('----')\n",
    "\n",
    "# Get slope estimate and compute elasticity\n",
    "slope_estimate = model_rfj.params['p1']\n",
    "avg_price = rfj_small['p1'].mean()\n",
    "avg_quantity = rfj_small['q1'].mean()\n",
    "elasticity = slope_estimate * avg_price / avg_quantity\n",
    "print(\"Price Elasticity Level-level model:\", elasticity)"
   ]
  },
  {
   "cell_type": "markdown",
   "id": "80bfb763",
   "metadata": {},
   "source": [
    "### Log-log regression\n",
    "\n",
    "- Note that elasticity is computed automatically (since it's the slope here)\n",
    "- However, it's a different value than what you found in the problem set.\n",
    "- This is because the demand model is different: the log-log model (namely \"Constant Elasticity Demand Model\") is curved, but the linear model is straight."
   ]
  },
  {
   "cell_type": "code",
   "execution_count": null,
   "id": "dde92b2b",
   "metadata": {},
   "outputs": [],
   "source": [
    "# Log-log\n",
    "model_rfj_log_log = smf.ols('np.log(q1) ~ np.log(p1)', data=rfj_small).fit()\n",
    "print(model_rfj_log_log.summary().tables[1])\n",
    "print('----')\n",
    "\n",
    "# Get slope estimate = elasticity \n",
    "elasticity_log_log = model_rfj_log_log.params['np.log(p1)'] # elasticity is estimated to be -2.8965 (slope)\n",
    "print(\"Price Elasticity Log-log model:\", elasticity_log_log)"
   ]
  },
  {
   "cell_type": "markdown",
   "id": "73719571",
   "metadata": {},
   "source": [
    "# Dummies and interactions: Earnings Data\n",
    "\n",
    "## Load data"
   ]
  },
  {
   "cell_type": "code",
   "execution_count": null,
   "id": "c6426f33",
   "metadata": {
    "scrolled": true
   },
   "outputs": [],
   "source": [
    "# Load earnings data\n",
    "earnings = pd.read_csv(\"/Users/hanachoi/Dropbox/teaching/core_statistics/Data/earnings.csv\")\n",
    "\n",
    "# Converting column names to lowercase (for ease of writing code)\n",
    "earnings.columns = [col.lower() for col in earnings.columns]\n",
    "\n",
    "# Display first few rows of the dataframe\n",
    "earnings.head()"
   ]
  },
  {
   "cell_type": "markdown",
   "id": "e1cbfdc7",
   "metadata": {},
   "source": [
    "## Various regressions with interactions"
   ]
  },
  {
   "cell_type": "code",
   "execution_count": null,
   "id": "f5e8e904",
   "metadata": {},
   "outputs": [],
   "source": [
    "# Various regressions with interactions\n",
    "model_wage_female = smf.ols('wage ~ female', data=earnings).fit()\n",
    "model_wage_yrseduc = smf.ols('wage ~ yrseduc', data=earnings).fit()\n",
    "model_wage_female_yrseduc = smf.ols('wage ~ female + yrseduc', data=earnings).fit()\n",
    "model_wage_interaction = smf.ols('wage ~ female + yrseduc + female:yrseduc', data=earnings).fit()\n",
    "\n",
    "print(model_wage_female.summary())\n",
    "print(model_wage_yrseduc.summary())\n",
    "print(model_wage_female_yrseduc.summary())\n",
    "print(model_wage_interaction.summary())"
   ]
  },
  {
   "cell_type": "markdown",
   "id": "73a0fdfa",
   "metadata": {},
   "source": [
    "## (Optional) Earnings Plot \n",
    "\n",
    "- Creating a pretty (advanced) plot with seaborn package\n",
    "- seaborn allows us to adjust labels, legends, ticks, grids, etc easily and flexibly."
   ]
  },
  {
   "cell_type": "code",
   "execution_count": null,
   "id": "42e523f1",
   "metadata": {},
   "outputs": [],
   "source": [
    "# Set the aesthetic style of the plots\n",
    "sns.set(style=\"whitegrid\")\n",
    "\n",
    "# Create a regression plot with scatter points\n",
    "# lmplot combines regression lines and scatter plot\n",
    "plot = sns.lmplot(data=earnings, x='yrseduc', y='wage', hue='female', palette=['blue', 'grey'], \n",
    "                  legend=True, ci=None, height=6, aspect=1.6)\n",
    "\n",
    "# Customize the legend\n",
    "plot._legend.set_title('') # remove the legend title\n",
    "\n",
    "new_labels = ['Male', 'Female'] # update the labels from (0, 1) to ('Male', 'Female')\n",
    "for t, l in zip(plot._legend.texts, new_labels):  \n",
    "    t.set_text(l)\n",
    "\n",
    "plot._legend.set_bbox_to_anchor((0.15, 0.9, 0, 0), transform=plt.gca().transAxes) # move the legend to the top left\n",
    "\n",
    "# Customize the plot with labels and title\n",
    "plot.set_xlabels('Education Years', fontsize=15)\n",
    "plot.set_ylabels('Avg Hourly Wage ($)', fontsize=15)\n",
    "plot.fig.suptitle('Impact of Education and Gender on Earnings', fontsize=20, y=1.03)\n",
    "\n",
    "# Show the plot\n",
    "plt.show()"
   ]
  }
 ],
 "metadata": {
  "kernelspec": {
   "display_name": "Python 3 (ipykernel)",
   "language": "python",
   "name": "python3"
  },
  "language_info": {
   "codemirror_mode": {
    "name": "ipython",
    "version": 3
   },
   "file_extension": ".py",
   "mimetype": "text/x-python",
   "name": "python",
   "nbconvert_exporter": "python",
   "pygments_lexer": "ipython3",
   "version": "3.12.2"
  },
  "toc": {
   "base_numbering": 1,
   "nav_menu": {},
   "number_sections": true,
   "sideBar": true,
   "skip_h1_title": false,
   "title_cell": "Table of Contents",
   "title_sidebar": "Contents",
   "toc_cell": false,
   "toc_position": {},
   "toc_section_display": true,
   "toc_window_display": false
  }
 },
 "nbformat": 4,
 "nbformat_minor": 5
}
