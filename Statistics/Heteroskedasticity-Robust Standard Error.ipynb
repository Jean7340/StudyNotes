{
 "cells": [
  {
   "cell_type": "markdown",
   "id": "f1ea0aac",
   "metadata": {},
   "source": [
    "# Core Statistics Using Python\n",
    "### Hana Choi, Simon Business School, University of Rochester\n"
   ]
  },
  {
   "cell_type": "markdown",
   "id": "2d622844",
   "metadata": {},
   "source": [
    "# Heteroskedasticity-Robust Standard Error\n",
    "\n",
    "## Topics covered\n",
    "\n",
    "- Heteroskedasticity-Robust Standard Error: hprices.csv\n",
    "- Other dataset examples\n",
    "\n",
    "## Required packages"
   ]
  },
  {
   "cell_type": "code",
   "execution_count": null,
   "id": "ab4a85e6",
   "metadata": {},
   "outputs": [],
   "source": [
    "import pandas as pd\n",
    "import statsmodels.formula.api as smf"
   ]
  },
  {
   "cell_type": "markdown",
   "id": "837e7293",
   "metadata": {},
   "source": [
    "# Example: House Prices"
   ]
  },
  {
   "cell_type": "markdown",
   "id": "b0d8c39e",
   "metadata": {},
   "source": [
    "## Load data: hprices.csv"
   ]
  },
  {
   "cell_type": "code",
   "execution_count": null,
   "id": "bf9bfed8",
   "metadata": {},
   "outputs": [],
   "source": [
    "# Load data\n",
    "hprices = pd.read_csv(\"/Users/hanachoi/Dropbox/teaching/core_statistics/Data/hprices.csv\")\n",
    "\n",
    "# Display the first few rows of the dataframe\n",
    "print(hprices.head())"
   ]
  },
  {
   "cell_type": "markdown",
   "id": "e9410769",
   "metadata": {},
   "source": [
    "## Homoskedasticity Standard Error"
   ]
  },
  {
   "cell_type": "code",
   "execution_count": null,
   "id": "f18b281d",
   "metadata": {},
   "outputs": [],
   "source": [
    "# Let's first check Homoskedasticity results\n",
    "\n",
    "# Run a simple linear regression of price on size \n",
    "fit = smf.ols(formula='price ~ sqrft', data=hprices).fit()\n",
    "\n",
    "# Print summary table\n",
    "print(fit.summary().tables[1])"
   ]
  },
  {
   "cell_type": "markdown",
   "id": "b7df65ac",
   "metadata": {},
   "source": [
    "## Heteroskedasticity-Robust Standard Error (HR SE)\n",
    "\n",
    "- It is very easy to get HR SEs in Python\n",
    "- You just need to add one additional input to the usual command (specifying the type of SEs you want)"
   ]
  },
  {
   "cell_type": "code",
   "execution_count": null,
   "id": "af7ed110",
   "metadata": {
    "scrolled": false
   },
   "outputs": [],
   "source": [
    "# You need to specify the type of HR SEs though.\n",
    "# I always use the HC1 option, though there are others.\n",
    "fit_HRse = smf.ols(formula='price ~ sqrft', data=hprices).fit(cov_type='HC1')\n",
    "\n",
    "# Print summary table\n",
    "print(fit_HRse.summary().tables[1])\n",
    "\n",
    "# Note that Python is now using the Normal distribution to compute the p-values (as it should)."
   ]
  },
  {
   "cell_type": "markdown",
   "id": "072bc448",
   "metadata": {},
   "source": [
    "## You can even use the Heteroskedasticity-Robust  SEs in your predictions"
   ]
  },
  {
   "cell_type": "code",
   "execution_count": null,
   "id": "f9c1506c",
   "metadata": {},
   "outputs": [],
   "source": [
    "# Confidence/Prediction intervals with Robust SEs \n",
    "new_data = pd.DataFrame({'sqrft': [1500, 2000, 2500, 3000, 4000]})\n",
    "predictions = fit_HRse.get_prediction(new_data)\n",
    "predictions.summary_frame(alpha=0.05)\n",
    "\n",
    "# Note that Python will now use the Normal distribution to construct the intervals."
   ]
  },
  {
   "cell_type": "markdown",
   "id": "e636be8a",
   "metadata": {},
   "source": [
    "# Other Dataset Examples\n",
    "\n",
    "- Compare Heteroskedasticity-Robust SE to Homoskedasticity results\n",
    "\n",
    "## Diamonds"
   ]
  },
  {
   "cell_type": "code",
   "execution_count": null,
   "id": "683f6328",
   "metadata": {},
   "outputs": [],
   "source": [
    "# Load data\n",
    "diamonds = pd.read_csv(\"/Users/hanachoi/Dropbox/teaching/core_statistics/Data/diamonds.csv\")\n",
    "\n",
    "fit_diamonds = smf.ols(formula='price ~ carats', data=diamonds).fit()\n",
    "print(fit_diamonds.summary().tables[1])\n",
    "\n",
    "fit_diamonds_HRse = smf.ols(formula='price ~ carats', data=diamonds).fit(cov_type='HC1')\n",
    "print(fit_diamonds_HRse.summary().tables[1])"
   ]
  },
  {
   "cell_type": "markdown",
   "id": "acc186db",
   "metadata": {},
   "source": [
    "## Wines"
   ]
  },
  {
   "cell_type": "code",
   "execution_count": null,
   "id": "95e2ba61",
   "metadata": {
    "scrolled": true
   },
   "outputs": [],
   "source": [
    "# Load data\n",
    "wines = pd.read_csv(\"/Users/hanachoi/Dropbox/teaching/core_statistics/Data/wines.csv\")\n",
    "\n",
    "fit_wines = smf.ols(formula='Price ~ Score', data=wines).fit()\n",
    "print(fit_wines.summary().tables[1])\n",
    "\n",
    "fit_wines_HRse = smf.ols(formula='Price ~ Score', data=wines).fit(cov_type='HC1')\n",
    "print(fit_wines_HRse.summary().tables[1])"
   ]
  },
  {
   "cell_type": "markdown",
   "id": "2895a8f6",
   "metadata": {},
   "source": [
    "## Earnings data"
   ]
  },
  {
   "cell_type": "code",
   "execution_count": null,
   "id": "e651990f",
   "metadata": {},
   "outputs": [],
   "source": [
    "# Load data\n",
    "cps12 = pd.read_csv(\"/Users/hanachoi/Dropbox/teaching/core_statistics/Data/cps12.csv\")\n",
    "\n",
    "fit_cps12 = smf.ols(formula='earnings ~ male', data=cps12).fit()\n",
    "print(fit_cps12.summary().tables[1])\n",
    "\n",
    "fit_cps12_HRse = smf.ols(formula='earnings ~ male', data=cps12).fit(cov_type='HC1')\n",
    "print(fit_cps12_HRse.summary().tables[1])"
   ]
  }
 ],
 "metadata": {
  "kernelspec": {
   "display_name": "Python 3 (ipykernel)",
   "language": "python",
   "name": "python3"
  },
  "language_info": {
   "codemirror_mode": {
    "name": "ipython",
    "version": 3
   },
   "file_extension": ".py",
   "mimetype": "text/x-python",
   "name": "python",
   "nbconvert_exporter": "python",
   "pygments_lexer": "ipython3",
   "version": "3.12.2"
  },
  "toc": {
   "base_numbering": 1,
   "nav_menu": {},
   "number_sections": true,
   "sideBar": true,
   "skip_h1_title": false,
   "title_cell": "Table of Contents",
   "title_sidebar": "Contents",
   "toc_cell": false,
   "toc_position": {},
   "toc_section_display": true,
   "toc_window_display": false
  }
 },
 "nbformat": 4,
 "nbformat_minor": 5
}
