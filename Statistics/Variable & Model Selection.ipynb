{
 "cells": [
  {
   "cell_type": "markdown",
   "id": "f1ea0aac",
   "metadata": {},
   "source": [
    "# Core Statistics Using Python\n",
    "### Hana Choi, Simon Business School, University of Rochester\n"
   ]
  },
  {
   "cell_type": "markdown",
   "id": "2d622844",
   "metadata": {},
   "source": [
    "# Variable & Model Selection\n",
    "\n",
    "## Topics covered\n",
    "\n",
    "- Perfect collinearity example: House prices\n",
    "- Near perfect collinearity example: SUV data\n",
    "\n",
    "## Required packages"
   ]
  },
  {
   "cell_type": "code",
   "execution_count": null,
   "id": "ab4a85e6",
   "metadata": {},
   "outputs": [],
   "source": [
    "import pandas as pd\n",
    "import statsmodels.formula.api as smf\n",
    "import matplotlib.pyplot as plt"
   ]
  },
  {
   "cell_type": "markdown",
   "id": "07321ede",
   "metadata": {},
   "source": [
    "# Perfect collinearity example: House prices\n",
    "\n",
    "## Load data"
   ]
  },
  {
   "cell_type": "code",
   "execution_count": null,
   "id": "091560c3",
   "metadata": {},
   "outputs": [],
   "source": [
    "# Load caschool.csv dataset\n",
    "hprices2 = pd.read_csv(\"/Users/hanachoi/Dropbox/teaching/core_statistics/Data/hprices2.csv\")\n",
    "\n",
    "# Display first few rows of the dataframe\n",
    "print(hprices2.head())"
   ]
  },
  {
   "cell_type": "markdown",
   "id": "cc3e8711",
   "metadata": {},
   "source": [
    "## Sqrft and Sqrmeter"
   ]
  },
  {
   "cell_type": "code",
   "execution_count": null,
   "id": "6cc34cc0",
   "metadata": {},
   "outputs": [],
   "source": [
    "# Convert house size (sqrft) to square meters and save it as \"sqrmt\" variable to hprices2 data.frame\n",
    "hprices2['sqrmt'] = hprices2['sqrft'] / 10.764  # Convert sqrft to square meters\n",
    "\n",
    "# Check correlation: expecting perfect correlation\n",
    "hprices2[['sqrft', 'sqrmt']].corr()"
   ]
  },
  {
   "cell_type": "markdown",
   "id": "ac33dd96",
   "metadata": {},
   "source": [
    "## Regression analysis\n",
    "\n",
    "### Run regression model with both sqrft and sqrmt\n",
    "- The problem is that sqrmeter = sqrft/10.764 (perfect correlation)"
   ]
  },
  {
   "cell_type": "code",
   "execution_count": null,
   "id": "922d51b5",
   "metadata": {
    "scrolled": false
   },
   "outputs": [],
   "source": [
    "model1 = smf.ols('price ~ sqrft + sqrmt', data=hprices2).fit()\n",
    "print(model1.summary().tables[1])"
   ]
  },
  {
   "cell_type": "markdown",
   "id": "9984a79d",
   "metadata": {},
   "source": [
    "### Regression with one predictor at a time\n",
    "\n",
    "- We have to drop one to avoid perfect collinearity.\n",
    "- It doesn't matter which one you drop (but need to remember the right units when interpreting the coefficient)"
   ]
  },
  {
   "cell_type": "code",
   "execution_count": null,
   "id": "392cbad2",
   "metadata": {},
   "outputs": [],
   "source": [
    "# Regression with sqrft only\n",
    "model2 = smf.ols('price ~ sqrft', data=hprices2).fit()\n",
    "print('Regression with sqrft only')\n",
    "print(model2.summary().tables[1])\n",
    "print('----')\n",
    "\n",
    "# Regression with sqrmt\n",
    "model3 = smf.ols('price ~ sqrmt', data=hprices2).fit()\n",
    "print('Regression with sqrmt only')\n",
    "print(model3.summary().tables[1])"
   ]
  },
  {
   "cell_type": "markdown",
   "id": "72386bc2",
   "metadata": {},
   "source": [
    "# Near perfect collinearity example: SUV data\n",
    "\n",
    "## Load data"
   ]
  },
  {
   "cell_type": "code",
   "execution_count": null,
   "id": "b6bf4f0e",
   "metadata": {},
   "outputs": [],
   "source": [
    "# Load caschool.csv dataset\n",
    "suv = pd.read_csv(\"/Users/hanachoi/Dropbox/teaching/core_statistics/Data/suv.csv\")\n",
    "\n",
    "# Display first few rows of the dataframe\n",
    "print(suv.head())"
   ]
  },
  {
   "cell_type": "markdown",
   "id": "deac75da",
   "metadata": {},
   "source": [
    "## Regression with near perfect collinearity"
   ]
  },
  {
   "cell_type": "code",
   "execution_count": null,
   "id": "4b7615e8",
   "metadata": {
    "scrolled": false
   },
   "outputs": [],
   "source": [
    "model_suv1 = smf.ols('mshare ~ Q(\"Invoice(in 1Ks)\") + Q(\"MSRP(in 1Ks)\")', data=suv).fit()\n",
    "print(model_suv1.summary().tables[1])"
   ]
  },
  {
   "cell_type": "markdown",
   "id": "1b3e21f3",
   "metadata": {},
   "source": [
    "## Check correlation between Invoice and MSRP\n",
    "\n",
    "- Two very highly correlated variables.\n",
    "- Need to drop one of them"
   ]
  },
  {
   "cell_type": "code",
   "execution_count": null,
   "id": "44c8516b",
   "metadata": {
    "scrolled": true
   },
   "outputs": [],
   "source": [
    "suv[['Invoice', 'MSRP']].corr()"
   ]
  },
  {
   "cell_type": "markdown",
   "id": "6b8454b2",
   "metadata": {},
   "source": [
    "## Regression with one predictor to avoid near perfect collinearity"
   ]
  },
  {
   "cell_type": "code",
   "execution_count": null,
   "id": "ee425b6b",
   "metadata": {
    "scrolled": false
   },
   "outputs": [],
   "source": [
    "model_suv2 = smf.ols('mshare ~ Q(\"MSRP(in 1Ks)\")', data=suv).fit()\n",
    "print(model_suv2.summary().tables[1])"
   ]
  },
  {
   "cell_type": "markdown",
   "id": "aa872324",
   "metadata": {},
   "source": [
    "## Handling another set of highly correlated variables\n",
    "\n",
    "- Note that we have the same type of problem if we include both city and highway miles per gallon (two measures of fuel efficiency)\n",
    "\n",
    "### Another regression with near perfect collinearity"
   ]
  },
  {
   "cell_type": "code",
   "execution_count": null,
   "id": "33eff7df",
   "metadata": {},
   "outputs": [],
   "source": [
    "model_suv3 = smf.ols('mshare ~ city_mpg + hiway_mpg', data=suv).fit()\n",
    "print(model_suv3.summary().tables[1])"
   ]
  },
  {
   "cell_type": "markdown",
   "id": "f6af1aa3",
   "metadata": {},
   "source": [
    "### Correlation between city_mpg and hiway_mpg\n",
    "\n",
    "- Highly correlated"
   ]
  },
  {
   "cell_type": "code",
   "execution_count": null,
   "id": "e891cb7e",
   "metadata": {
    "scrolled": false
   },
   "outputs": [],
   "source": [
    "suv[['city_mpg', 'hiway_mpg']].corr()"
   ]
  },
  {
   "cell_type": "markdown",
   "id": "23d30309",
   "metadata": {},
   "source": [
    "### Regression with one predictor to avoid near perfect collinearity\n",
    "\n",
    "- Drop one (but still not significant, probably because dataset is small)"
   ]
  },
  {
   "cell_type": "code",
   "execution_count": null,
   "id": "c66bb45f",
   "metadata": {
    "scrolled": true
   },
   "outputs": [],
   "source": [
    "model_suv4 = smf.ols('mshare ~ city_mpg', data=suv).fit()\n",
    "print(model_suv4.summary().tables[1])"
   ]
  }
 ],
 "metadata": {
  "kernelspec": {
   "display_name": "Python 3 (ipykernel)",
   "language": "python",
   "name": "python3"
  },
  "language_info": {
   "codemirror_mode": {
    "name": "ipython",
    "version": 3
   },
   "file_extension": ".py",
   "mimetype": "text/x-python",
   "name": "python",
   "nbconvert_exporter": "python",
   "pygments_lexer": "ipython3",
   "version": "3.12.2"
  },
  "toc": {
   "base_numbering": 1,
   "nav_menu": {},
   "number_sections": true,
   "sideBar": true,
   "skip_h1_title": false,
   "title_cell": "Table of Contents",
   "title_sidebar": "Contents",
   "toc_cell": false,
   "toc_position": {},
   "toc_section_display": true,
   "toc_window_display": false
  }
 },
 "nbformat": 4,
 "nbformat_minor": 5
}
