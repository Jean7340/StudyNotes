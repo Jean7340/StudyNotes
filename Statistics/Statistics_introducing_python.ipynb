{
 "cells": [
  {
   "cell_type": "markdown",
   "metadata": {
    "colab_type": "text",
    "id": "dkmOv3mas4D1"
   },
   "source": [
    "# Core Statistics Using Python\n",
    "### Hana Choi, Simon Business School, University of Rochester\n"
   ]
  },
  {
   "cell_type": "markdown",
   "metadata": {
    "colab_type": "text",
    "id": "lPc4dSras4D3"
   },
   "source": [
    "# Getting Started with Python\n",
    "## Topics covered\n",
    "\n",
    "- Introduction to Python \n",
    "- Jupyter notebooks\n",
    "- Commenting in Python\n",
    "- Basic Python functionality\n",
    "- Using Python packages\n",
    "- Loading data files (csv, excel)\n",
    " \n",
    "## My limited Python goals for this course\n",
    "\n",
    "- My plan is to give a MINIMAL introduction to Python so we can perform the statistical techniques introduced in this class.\n",
    "- Note that I am not expecting you to learn to program in this course (or planning to teach you how to do so!).\n",
    "- You should, however, be able to modify the simple code I provide to tackle other stats-related problems outside of this class.\n",
    "\n",
    "* * *"
   ]
  },
  {
   "cell_type": "markdown",
   "metadata": {
    "colab_type": "text",
    "id": "yO2Abhl-s4D7"
   },
   "source": [
    "# Welcome to Jupyter notebooks!\n",
    "## Basic functions in a little diagram\n",
    "<img src='https://raw.githubusercontent.com/michhar/python-jupyter-notebooks/master/general/nb_diagram.png' alt=\"Smiley face\" align=\"center\">\n",
    "\n",
    "## Useful shortcuts\n",
    "- A complete list is [here](https://www.cheatography.com/weidadeyue/cheat-sheets/jupyter-notebook/), but these are my favorites.  There is a *command* mode and *edit* mode much like the unix editor `vi/vim`.  `Esc` will take you into command mode.  `Enter` (when a cell is highlighted) will take you into edit mode. Try some shortcuts below.\n",
    "\n",
    "Mode  |  What  | Shortcut\n",
    "------------- | ------------- | -------------\n",
    "Command (Press `Esc` to enter)  | Run cell | Shift-Enter\n",
    "Command  | Add cell below | B\n",
    "Command | Add cell above | A\n",
    "Command | Delete a cell | d-d\n",
    "Command | Go into edit mode | Enter\n",
    "Edit (Press `Enter` to enable) | Run cell | Shift-Enter\n",
    "Edit | Indent | Clrl-]\n",
    "Edit | Unindent | Ctrl-[\n",
    "Edit | Comment section | Ctrl-/\n",
    "Edit | Function introspection | Shift-Tab"
   ]
  },
  {
   "cell_type": "markdown",
   "metadata": {},
   "source": [
    "## Cells\n",
    "- A block (like this) is called a cell.\n",
    "- A cell can be a\n",
    "    - A Markdoown/Text cell that contains formatted texts, images, etc.\n",
    "    - Or, a Code cell that contains Python code and possibly console output.\n",
    "- The current cell (block) is a Markdown/Text cell, which is white. \n",
    "- The cell right below is a Code cell, which is grey."
   ]
  },
  {
   "cell_type": "code",
   "execution_count": null,
   "metadata": {
    "scrolled": true
   },
   "outputs": [],
   "source": [
    "print('This line is Python code.')"
   ]
  },
  {
   "cell_type": "markdown",
   "metadata": {},
   "source": [
    "# Commenting\n",
    "- When writing code, you should leave detailed comments so that others, including yourself (now or later), can understand your code.\n",
    "- We use `#` to start a comment, and Python will ignore anything to the right of it when executing the code.\n",
    "- We can also make multi-line comments, by starting and ending with triple quotes (`'''` or `\"\"\"`)."
   ]
  },
  {
   "cell_type": "code",
   "execution_count": null,
   "metadata": {},
   "outputs": [],
   "source": [
    "# This is a comment. Try executing this cell block, and nothing will be run."
   ]
  },
  {
   "cell_type": "code",
   "execution_count": null,
   "metadata": {
    "colab": {
     "base_uri": "https://localhost:8080/",
     "height": 34
    },
    "colab_type": "code",
    "executionInfo": {
     "elapsed": 732,
     "status": "ok",
     "timestamp": 1597414230990,
     "user": {
      "displayName": "Paul Ellickson",
      "photoUrl": "",
      "userId": "07742807759680804411"
     },
     "user_tz": 240
    },
    "id": "tUabzl4ts4EI",
    "outputId": "aaca3a43-fe72-4207-9b40-e586ba6ecade",
    "scrolled": false
   },
   "outputs": [],
   "source": [
    "'''\n",
    "This is a multi-line comment.\n",
    "We can use this to write a section of things that are not intended to be run by Python. \n",
    "For example, we can write a paragraph that documents a function's purpose, inputs, and outputs.\n",
    "'''\n",
    "\n",
    "# Try executing this cell block. Only the below line will be executed. \n",
    "print('This line is Python code.') "
   ]
  },
  {
   "cell_type": "markdown",
   "metadata": {
    "colab_type": "text",
    "id": "b0fozsPts4Ei"
   },
   "source": [
    "# Using Python as a basic calculator"
   ]
  },
  {
   "cell_type": "code",
   "execution_count": null,
   "metadata": {
    "scrolled": true
   },
   "outputs": [],
   "source": [
    "# We can use Python as a calculator\n",
    "5 + 6 "
   ]
  },
  {
   "cell_type": "code",
   "execution_count": null,
   "metadata": {
    "scrolled": true
   },
   "outputs": [],
   "source": [
    "# Subtraction\n",
    "10 - 4 # Note: you can leave a comment to the right of this code"
   ]
  },
  {
   "cell_type": "code",
   "execution_count": null,
   "metadata": {},
   "outputs": [],
   "source": [
    "# Multiplication and division\n",
    "# Jupyter notebook only displays the last line's output in each cell\n",
    "\n",
    "3 * 5 # This output will not be shown in the console.\n",
    "10 / 2 # This last line's output will be shown."
   ]
  },
  {
   "cell_type": "code",
   "execution_count": null,
   "metadata": {},
   "outputs": [],
   "source": [
    "# We can use 'print' function to display multiple outputs\n",
    "print(3 * 5)\n",
    "print(10 / 2)"
   ]
  },
  {
   "cell_type": "code",
   "execution_count": null,
   "metadata": {
    "colab": {
     "base_uri": "https://localhost:8080/",
     "height": 102
    },
    "colab_type": "code",
    "executionInfo": {
     "elapsed": 262,
     "status": "ok",
     "timestamp": 1598648345008,
     "user": {
      "displayName": "Paul Ellickson",
      "photoUrl": "",
      "userId": "07742807759680804411"
     },
     "user_tz": 240
    },
    "id": "WHYsiGOYs4Ei",
    "outputId": "9c80a25e-c5b1-4df2-c80e-42945ad6f083"
   },
   "outputs": [],
   "source": [
    "# Exponentiation, or power, which we write as 4^2 in some other languages\n",
    "print(4 ** 2)"
   ]
  },
  {
   "cell_type": "code",
   "execution_count": null,
   "metadata": {},
   "outputs": [],
   "source": [
    "# We can also define constants/values that we want to store in memory\n",
    "seconds_in_a_day = 24 * 60 * 60\n",
    "seconds_in_a_day"
   ]
  },
  {
   "cell_type": "code",
   "execution_count": null,
   "metadata": {},
   "outputs": [],
   "source": [
    "# We can then manipulate the object further if we want\n",
    "seconds_in_a_week = 7 * seconds_in_a_day\n",
    "seconds_in_a_week"
   ]
  },
  {
   "cell_type": "markdown",
   "metadata": {
    "colab_type": "text",
    "id": "gKYR3um2s4ET"
   },
   "source": [
    "# Using Packages in Python\n",
    "## What are packages? \n",
    "- Python uses packages to deliver most of its functionality\n",
    "- A package is a directory that contains multiple modules (Python `.py` files). \n",
    "- These modules specify functions, methods, types, etc. to perform specific types of tasks. \n",
    "- There are lots of packages available. Some of the packages we will be using in this course include: \n",
    "    - numpy: data manipulation\n",
    "    - pandas: database\n",
    "    - matplotlib: data visualization\n",
    "    - statsmodels: stastical functionality\n",
    "    - scipy: another stats package\n",
    "    - sklearn: a machine learning package\n",
    "\n",
    "## How do you install a package?\n",
    "\n",
    "- Students can follow the steps outlined in a separate document available on our course site, which includes instructions for installing packages within a Conda virtual environment. <br>\n",
    "<br>\n",
    "\n",
    "- The following link provides a general user guide for managing packages:\n",
    "\n",
    "    [https://conda.io/docs/using/pkgs.html](https://conda.io/docs/using/pkgs.html)\n",
    "   "
   ]
  },
  {
   "cell_type": "markdown",
   "metadata": {
    "colab_type": "text",
    "id": "9W4ouz6ss4EU"
   },
   "source": [
    "## Importing packages\n",
    "\n",
    "- Once packages are installed, a package needs to be \"called\" or \"imported\" in every python session (e.g., whenever you launch a new jupyter notebook session). <br>\n",
    "<br>\n",
    "\n",
    "- You can\n",
    " \n",
    "    - Import a package (numpy) with it's own name\n",
    "    \n",
    "      `import numpy` <br>\n",
    "      <br>\n",
    "    - Import a package (numpy) with a different name (np) to make it simpler to write\n",
    "    \n",
    "      `import numpy as np` <br>\n",
    "      <br>\n",
    "        \n",
    "    - Import a particular module (array) or a function from a package (numpy)\n",
    "   \n",
    "      `from numpy import array`"
   ]
  },
  {
   "cell_type": "markdown",
   "metadata": {
    "colab_type": "text",
    "id": "ZsZEQwYPs4Eb"
   },
   "source": [
    "## Here are the packages/modules we need for this notebook"
   ]
  },
  {
   "cell_type": "code",
   "execution_count": null,
   "metadata": {
    "colab": {},
    "colab_type": "code",
    "executionInfo": {
     "elapsed": 222,
     "status": "ok",
     "timestamp": 1598648359460,
     "user": {
      "displayName": "Paul Ellickson",
      "photoUrl": "",
      "userId": "07742807759680804411"
     },
     "user_tz": 240
    },
    "id": "P1VEzGt8s4Ec"
   },
   "outputs": [],
   "source": [
    "# Importing pandas package with a name \"pd\"\n",
    "import pandas as pd  \n",
    "\n",
    "# Importing os package \n",
    "# This is a built-in module (so you don't have to install it separately) with methods for interacting with the operating system.\n",
    "import os"
   ]
  },
  {
   "cell_type": "markdown",
   "metadata": {},
   "source": [
    "# Loading Data\n",
    "\n",
    "\n",
    "- Remember, you need to run the code block above to import the packages we need, every time you launch a new Python session or a Jupyter notebook session.<br>\n",
    "<br>\n",
    "\n",
    "- If you are getting errors somewhere below, it is likely because you did not run the code cell above!"
   ]
  },
  {
   "cell_type": "markdown",
   "metadata": {},
   "source": [
    "## Paths\n",
    "\n",
    "- Paths are important for accessing files, like datasets.\n",
    "- In Python, there are two main paths to keep track of.\n",
    "    1. The path where your Python is running (called \"working directory\").\n",
    "    2. The path where your data file is saved (called \"file path\").\n",
    "- If you don't explicitly tell Python where your data file exists (file path), Python will assume that your data file exists under your \"working directory\"."
   ]
  },
  {
   "cell_type": "code",
   "execution_count": null,
   "metadata": {},
   "outputs": [],
   "source": [
    "# Getting your current working directory\n",
    "cwd = os.getcwd() \n",
    "cwd"
   ]
  },
  {
   "cell_type": "markdown",
   "metadata": {},
   "source": [
    "## Loading CSV files\n",
    "\n",
    "### Method 1: Save the data file directly to your working directory\n",
    "- Then even if you don't explicitly tell Python where your dataset exists, Python will assume that it's in your current working directory (and that's where we saved the data file!)"
   ]
  },
  {
   "cell_type": "code",
   "execution_count": null,
   "metadata": {
    "scrolled": true
   },
   "outputs": [],
   "source": [
    "# Let's try loading a csv file \"HoldTimes.csv\"\n",
    "\n",
    "hold_times = pd.read_csv('HoldTimes.csv')\n",
    "hold_times"
   ]
  },
  {
   "cell_type": "markdown",
   "metadata": {},
   "source": [
    "### Method 2: Tell Python where your data file exists \"explicitly\"\n",
    "- hold_times = pd.read_csv(\"\\<file_path>/HoldTimes.csv \") \n",
    "- \\<file_path> is where you saved the data, e.g.\"~/Dropbox/Data/\" (Mac) or \"C:/Users/<username>/Dropbox/Data\" (Windows)."
   ]
  },
  {
   "cell_type": "code",
   "execution_count": null,
   "metadata": {},
   "outputs": [],
   "source": [
    "# Let's try specifying the file path \"explicitly\"\n",
    "# Below is \"my\" file path, you should specify yours instead.\n",
    "\n",
    "hold_times2 = pd.read_csv(\"/Users/hanachoi/Dropbox/teaching/core_statistics/PythonCode/HoldTimes.csv\")\n",
    "hold_times2"
   ]
  },
  {
   "cell_type": "markdown",
   "metadata": {},
   "source": [
    "## Loading Excel files\n",
    "\n",
    "- What if we want to load an excel file instead? Converting an excel file to a csv file is cumbersome.\n",
    "- Fortunately, the pandas library also includes \"read_excel\" module, which allows you to read Excel files into a DataFrame (just like it did with csv files!)\n",
    "- Our task is then to find and utilize these helpful libraries and modules that are available out there. \n",
    "- The simplest way to find them is by searching on Google or using AI tools, such as ChatGPT. Just ask, \"How to read an Excel file in Python?\"\n",
    "\n",
    "<img src=\"pic_chatgpt.png\" width=\"500\">\n"
   ]
  },
  {
   "cell_type": "code",
   "execution_count": null,
   "metadata": {},
   "outputs": [],
   "source": [
    "# Let's try loading an Excel file named \"excel_sample_data.xlsx\"\n",
    "\n",
    "led_bulb = pd.read_excel('excel_sample_data.xlsx', sheet_name=\"LEDBulb\")\n",
    "print(led_bulb.head) # Displays the first few rows of the DataFrame"
   ]
  }
 ],
 "metadata": {
  "colab": {
   "collapsed_sections": [],
   "name": "Notebook 1.ipynb",
   "provenance": []
  },
  "kernelspec": {
   "display_name": "Python 3 (ipykernel)",
   "language": "python",
   "name": "python3"
  },
  "language_info": {
   "codemirror_mode": {
    "name": "ipython",
    "version": 3
   },
   "file_extension": ".py",
   "mimetype": "text/x-python",
   "name": "python",
   "nbconvert_exporter": "python",
   "pygments_lexer": "ipython3",
   "version": "3.11.7"
  },
  "toc": {
   "base_numbering": 1,
   "nav_menu": {},
   "number_sections": true,
   "sideBar": true,
   "skip_h1_title": false,
   "title_cell": "Table of Contents",
   "title_sidebar": "Contents",
   "toc_cell": false,
   "toc_position": {},
   "toc_section_display": true,
   "toc_window_display": false
  }
 },
 "nbformat": 4,
 "nbformat_minor": 1
}
