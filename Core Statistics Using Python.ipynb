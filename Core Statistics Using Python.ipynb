{
 "cells": [
  {
   "cell_type": "markdown",
   "metadata": {
    "colab_type": "text",
    "id": "dkmOv3mas4D1"
   },
   "source": [
    "# Core Statistics Using Python\n",
    "### Hana Choi, Simon Business School, University of Rochester\n"
   ]
  },
  {
   "cell_type": "markdown",
   "metadata": {
    "colab_type": "text",
    "id": "lPc4dSras4D3"
   },
   "source": [
    "# Some Useful Distributions\n",
    "\n",
    "## Topics covered\n",
    "\n",
    "- Evaluating Standard Normal CDF, PDF, and the inverse of Standard Normal CDF\n",
    "- Evaluating a Normal distribution with an arbitrary mean and a standard deviation \n",
    "- Evaluating other distributions besides the Normal (e.g., Uniform)"
   ]
  },
  {
   "cell_type": "markdown",
   "metadata": {
    "colab_type": "text",
    "id": "ZsZEQwYPs4Eb"
   },
   "source": [
    "## Here are the packages/modules we need for this notebook"
   ]
  },
  {
   "cell_type": "code",
   "execution_count": null,
   "metadata": {
    "colab": {},
    "colab_type": "code",
    "executionInfo": {
     "elapsed": 222,
     "status": "ok",
     "timestamp": 1598648359460,
     "user": {
      "displayName": "Paul Ellickson",
      "photoUrl": "",
      "userId": "07742807759680804411"
     },
     "user_tz": 240
    },
    "id": "P1VEzGt8s4Ec"
   },
   "outputs": [],
   "source": [
    "# Importing \"stats\" module from the scipy package\n",
    "# scipy.stats module provides a large number of statistical functions, probability distributions, and statistical tests.\n",
    "from scipy import stats \n",
    "\n",
    "# Importing the norm (uniform) class from the scipy.stats module\n",
    "# The norm (uniform) class provides various methods and attributes to work with the normal (uniform) distribution.\n",
    "from scipy.stats import norm\n",
    "from scipy.stats import uniform"
   ]
  },
  {
   "cell_type": "markdown",
   "metadata": {
    "colab_type": "text",
    "id": "ancn1SyUs4Er"
   },
   "source": [
    "# Let's use Python for computing probabilities\n",
    "## Evaluating the Standard Normal CDF"
   ]
  },
  {
   "cell_type": "code",
   "execution_count": null,
   "metadata": {
    "colab": {
     "base_uri": "https://localhost:8080/",
     "height": 34
    },
    "colab_type": "code",
    "executionInfo": {
     "elapsed": 208,
     "status": "ok",
     "timestamp": 1598648361972,
     "user": {
      "displayName": "Paul Ellickson",
      "photoUrl": "",
      "userId": "07742807759680804411"
     },
     "user_tz": 240
    },
    "id": "-WLasSsxs4Es",
    "outputId": "63114ede-e83f-48a8-c888-bcfc2e0f71a4"
   },
   "outputs": [],
   "source": [
    "# How much of the standard normal lies to the left of zero?\n",
    "result=norm.cdf(0)\n",
    "print(result)"
   ]
  },
  {
   "cell_type": "code",
   "execution_count": null,
   "metadata": {
    "colab": {
     "base_uri": "https://localhost:8080/",
     "height": 34
    },
    "colab_type": "code",
    "executionInfo": {
     "elapsed": 400,
     "status": "ok",
     "timestamp": 1598648364802,
     "user": {
      "displayName": "Paul Ellickson",
      "photoUrl": "",
      "userId": "07742807759680804411"
     },
     "user_tz": 240
    },
    "id": "fBJOzQrKs4Ev",
    "outputId": "1c8da1cc-10fa-471d-a5aa-4bbb948ad312"
   },
   "outputs": [],
   "source": [
    "# How about to the left of -1\n",
    "result=norm.cdf(-1)\n",
    "print(result)"
   ]
  },
  {
   "cell_type": "code",
   "execution_count": null,
   "metadata": {},
   "outputs": [],
   "source": [
    "# You can also skip the define and print parts if you want\n",
    "norm.cdf(-1)"
   ]
  },
  {
   "cell_type": "code",
   "execution_count": null,
   "metadata": {},
   "outputs": [],
   "source": [
    "# However, if you do this, the code cell will often only report the last thing you did\n",
    "norm.cdf(0)\n",
    "norm.cdf(-1)"
   ]
  },
  {
   "cell_type": "code",
   "execution_count": null,
   "metadata": {},
   "outputs": [],
   "source": [
    "# How about to the right of (i.e. greater than) -1\n",
    "result=1-norm.cdf(-1)\n",
    "print(result)"
   ]
  },
  {
   "cell_type": "code",
   "execution_count": null,
   "metadata": {
    "colab": {
     "base_uri": "https://localhost:8080/",
     "height": 34
    },
    "colab_type": "code",
    "executionInfo": {
     "elapsed": 225,
     "status": "ok",
     "timestamp": 1598648367235,
     "user": {
      "displayName": "Paul Ellickson",
      "photoUrl": "",
      "userId": "07742807759680804411"
     },
     "user_tz": 240
    },
    "id": "f0SflmMls4Ez",
    "outputId": "c9096c4b-44cb-419d-af85-befc429dd9df"
   },
   "outputs": [],
   "source": [
    "# There is another way to get the probability above the cutoff value as well.\n",
    "# To do so, you can compute the survival function (sf) instead\n",
    "# You are now asking for the \"upper tail\" probability\n",
    "# You will, of course, get the same answer!\n",
    "\n",
    "result=norm.sf(-1)\n",
    "print(result)"
   ]
  },
  {
   "cell_type": "markdown",
   "metadata": {},
   "source": [
    "## Evaluating the Inverse of Standard Normal CDF\n",
    "\n",
    "- You can also compute the value such that a given percent of the standard normal is less than it\n",
    "- Here, you are evaluating the inverse of the Normal CDF (which Python calls the ppf)"
   ]
  },
  {
   "cell_type": "code",
   "execution_count": null,
   "metadata": {},
   "outputs": [],
   "source": [
    "# For example, what is the number such that 15% of the standard normal is less than that number?\n",
    "result=norm.ppf(0.15)\n",
    "print(result)"
   ]
  },
  {
   "cell_type": "code",
   "execution_count": null,
   "metadata": {},
   "outputs": [],
   "source": [
    "# What is the number such that 50% of the standard normal is less than that number?\n",
    "result=norm.ppf(0.5)\n",
    "print(result)"
   ]
  },
  {
   "cell_type": "markdown",
   "metadata": {},
   "source": [
    "## Evaluating the Standard Normal PDF"
   ]
  },
  {
   "cell_type": "code",
   "execution_count": null,
   "metadata": {},
   "outputs": [],
   "source": [
    "# What is f(0) of the Standard Normal distribution?\n",
    "result=norm.pdf(0)\n",
    "print(result)"
   ]
  },
  {
   "cell_type": "code",
   "execution_count": null,
   "metadata": {},
   "outputs": [],
   "source": [
    "# The normal distribution is symmetric, so f(x) = f(-x)\n",
    "print( norm.pdf(1) )\n",
    "print( norm.pdf(-1) )"
   ]
  },
  {
   "cell_type": "markdown",
   "metadata": {
    "colab_type": "text",
    "id": "IGgCvxjFs4E5"
   },
   "source": [
    "## How about evaluating the Normal CDF with an arbitrary mean and standard deviation\n",
    "- To do this, you simply need to provide the mean (location) and standard deviation (scale)"
   ]
  },
  {
   "cell_type": "code",
   "execution_count": null,
   "metadata": {
    "colab": {
     "base_uri": "https://localhost:8080/",
     "height": 34
    },
    "colab_type": "code",
    "executionInfo": {
     "elapsed": 246,
     "status": "ok",
     "timestamp": 1598648369400,
     "user": {
      "displayName": "Paul Ellickson",
      "photoUrl": "",
      "userId": "07742807759680804411"
     },
     "user_tz": 240
    },
    "id": "U43RhrB8s4E5",
    "outputId": "8230c756-8fdf-437e-95f8-a7bbc9316b94",
    "scrolled": true
   },
   "outputs": [],
   "source": [
    "# How much of the N(10,5^2) distribution lies below 5?\n",
    "result=norm.cdf(5,loc=10,scale=5)\n",
    "print(result)"
   ]
  },
  {
   "cell_type": "code",
   "execution_count": null,
   "metadata": {},
   "outputs": [],
   "source": [
    "# How much of the N(10,5^2) distribution lies above 5?\n",
    "result = 1-norm.cdf(5,loc=10,scale=5)\n",
    "print(result)"
   ]
  },
  {
   "cell_type": "code",
   "execution_count": null,
   "metadata": {
    "colab": {
     "base_uri": "https://localhost:8080/",
     "height": 34
    },
    "colab_type": "code",
    "executionInfo": {
     "elapsed": 228,
     "status": "ok",
     "timestamp": 1598648373774,
     "user": {
      "displayName": "Paul Ellickson",
      "photoUrl": "",
      "userId": "07742807759680804411"
     },
     "user_tz": 240
    },
    "id": "tf5q_Eg-s4E9",
    "outputId": "d2677f78-f618-4901-f935-28970f8fd67c"
   },
   "outputs": [],
   "source": [
    "# You can also evaluate it using SF (again, you are now asking for the \"upper tail\" probability)\n",
    "result=norm.sf(5,loc=10,scale=5)\n",
    "print(result)"
   ]
  },
  {
   "cell_type": "code",
   "execution_count": null,
   "metadata": {},
   "outputs": [],
   "source": [
    "# You can also calculate the inverse CDF function\n",
    "# For example, what is the number such that 15% of the N(10,5^2) distribution is less than that number?\n",
    "result=norm.ppf(0.15,loc=10,scale=5)\n",
    "print(result)"
   ]
  },
  {
   "cell_type": "markdown",
   "metadata": {},
   "source": [
    "# Lights Example\n",
    "- Recall the details of the example: LED bulb lifespans are distributed $N(4.2, 0.6^2)$\n",
    "- This notation means distributed Normal with Mean = 4.2 and Standard Deviation = 0.6\n",
    "## We want to compute a few things related to how long these bulbs will last\n",
    "- $Pr(Y<4)$\n",
    "- $Pr(Y>3)$\n",
    "- $Pr(3<Y<5)$"
   ]
  },
  {
   "cell_type": "code",
   "execution_count": null,
   "metadata": {},
   "outputs": [],
   "source": [
    "# Pr(Y<4)\n",
    "print(norm.cdf(4,loc=4.2,scale=0.6))"
   ]
  },
  {
   "cell_type": "code",
   "execution_count": null,
   "metadata": {},
   "outputs": [],
   "source": [
    "# Pr(Y>3)\n",
    "print(1-norm.cdf(3,loc=4.2,scale=0.6))\n",
    "\n",
    "# Note that you can also get the same answer this way\n",
    "print(norm.sf(3,loc=4.2,scale=0.6))"
   ]
  },
  {
   "cell_type": "code",
   "execution_count": null,
   "metadata": {},
   "outputs": [],
   "source": [
    "# Pr(3<Y<5)\n",
    "print(norm.cdf(5,loc=4.2,scale=0.6)-norm.cdf(3,loc=4.2,scale=0.6))"
   ]
  },
  {
   "cell_type": "markdown",
   "metadata": {},
   "source": [
    "## We can also compute the inverse CDF\n",
    "### Compute the bulb life span such that 95% of bulbs last less this time\n",
    "- Here, we want to find the value of $y$ such that $Pr(Y<y)=0.95$ "
   ]
  },
  {
   "cell_type": "code",
   "execution_count": null,
   "metadata": {},
   "outputs": [],
   "source": [
    "print(norm.ppf(0.95,loc=4.2,scale=0.6))"
   ]
  },
  {
   "cell_type": "markdown",
   "metadata": {},
   "source": [
    "### How about the bulb life span such that 95% of bulbs last longer this time\n",
    "* Find the value of $y$ such that $Pr(Y>y)=0.95$ "
   ]
  },
  {
   "cell_type": "code",
   "execution_count": null,
   "metadata": {
    "scrolled": true
   },
   "outputs": [],
   "source": [
    "print(norm.ppf(0.05,loc=4.2,scale=0.6))"
   ]
  },
  {
   "cell_type": "markdown",
   "metadata": {
    "colab_type": "text",
    "id": "aEHdl-FMs4E_"
   },
   "source": [
    "# Evaluating other distributions besides the Normal \n",
    "- For example, we can evaluate the uniform distribution from A to B, denoted Unif[A,B]\n",
    "- Here A is the lower limit and B is the upper limit.\n",
    "- Python calls the lower limit A as \"location\" and the \"scale\" is B-A\n",
    "- Let's look at the gas tank example where the amount of gas G in my Hyundai Sonata tank is distributed Unif[0,12], so $G \\sim \\text{Unif}[0,12] $\n",
    "- The symbol $\\sim$ means \"distributed as\"\n",
    "\n",
    "## Gas Example\n",
    "- Suppose we want to compute\n",
    "- $Pr(G<6)$: the probability that I have $\\frac{1}{2}$ a tank or less\n",
    "- $Pr(G>9)$: the probability that I have $\\frac{3}{4}$ a tank or more\n",
    "- $Pr(3<G<9)$: the probability that I have between $\\frac{1}{4}$ and $\\frac{3}{4}$ a tank "
   ]
  },
  {
   "cell_type": "code",
   "execution_count": null,
   "metadata": {
    "colab": {
     "base_uri": "https://localhost:8080/",
     "height": 34
    },
    "colab_type": "code",
    "executionInfo": {
     "elapsed": 185,
     "status": "ok",
     "timestamp": 1598648376319,
     "user": {
      "displayName": "Paul Ellickson",
      "photoUrl": "",
      "userId": "07742807759680804411"
     },
     "user_tz": 240
    },
    "id": "8rP2uxs6s4E_",
    "outputId": "79530653-3397-46aa-dc41-e6d48a0340f7"
   },
   "outputs": [],
   "source": [
    "# Note, we have set A equal to 0 and B equal to 12 (so its Unif[0,12]) with location 0 and scale 12\n",
    "# Pr(G<6): the probability that I have 1/2 a tank or less\n",
    "print(uniform.cdf(6, loc=0, scale=12))"
   ]
  },
  {
   "cell_type": "code",
   "execution_count": null,
   "metadata": {},
   "outputs": [],
   "source": [
    "# Pr(G>9): the probability that I have 3/4 a tank or more\n",
    "print(1-uniform.cdf(9, loc=0, scale=12))\n",
    "\n",
    "# The survival function option works here too\n",
    "print(uniform.sf(9, loc=0, scale=12))"
   ]
  },
  {
   "cell_type": "code",
   "execution_count": null,
   "metadata": {},
   "outputs": [],
   "source": [
    "# Pr(3<G<9): the probability that I have between 1/4 and 3/4 a tank\n",
    "print(uniform.cdf(9, loc=0, scale=12)-uniform.cdf(3, loc=0, scale=12))"
   ]
  }
 ],
 "metadata": {
  "colab": {
   "collapsed_sections": [],
   "name": "Notebook 1.ipynb",
   "provenance": []
  },
  "kernelspec": {
   "display_name": "Python 3 (ipykernel)",
   "language": "python",
   "name": "python3"
  },
  "language_info": {
   "codemirror_mode": {
    "name": "ipython",
    "version": 3
   },
   "file_extension": ".py",
   "mimetype": "text/x-python",
   "name": "python",
   "nbconvert_exporter": "python",
   "pygments_lexer": "ipython3",
   "version": "3.12.4"
  },
  "toc": {
   "base_numbering": 1,
   "nav_menu": {},
   "number_sections": true,
   "sideBar": true,
   "skip_h1_title": false,
   "title_cell": "Table of Contents",
   "title_sidebar": "Contents",
   "toc_cell": false,
   "toc_position": {},
   "toc_section_display": true,
   "toc_window_display": false
  }
 },
 "nbformat": 4,
 "nbformat_minor": 1
}
