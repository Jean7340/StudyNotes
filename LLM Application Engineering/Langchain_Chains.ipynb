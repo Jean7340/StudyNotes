{
 "cells": [
  {
   "cell_type": "code",
   "execution_count": 1,
   "id": "8a242fbc-e650-4ddd-bf26-e2a8184c1c01",
   "metadata": {},
   "outputs": [],
   "source": [
    "import openai\n",
    "from dotenv import load_dotenv\n",
    "import os\n",
    "\n",
    "load_dotenv()\n",
    "os.environ[\"OPENAI_API_KEY\"] = os.getenv(\"openai_api_key\")"
   ]
  },
  {
   "cell_type": "code",
   "execution_count": 2,
   "id": "94c418e0-20d5-48aa-8a85-f832bc30e21f",
   "metadata": {},
   "outputs": [],
   "source": [
    "from langchain_openai import ChatOpenAI\n",
    "from langchain.prompts import ChatPromptTemplate, PromptTemplate\n",
    "from langchain_core.output_parsers import StrOutputParser\n",
    "from langchain_core.runnables import RunnablePassthrough, RunnableLambda\n",
    "from operator import itemgetter\n",
    "\n",
    "\n",
    "model = ChatOpenAI(model=\"gpt-4o-mini\", temperature = 1)"
   ]
  },
  {
   "cell_type": "code",
   "execution_count": 9,
   "id": "044d35a7-5252-4aca-a9dc-9a9b066c9bce",
   "metadata": {},
   "outputs": [],
   "source": [
    "prompt_1 = ChatPromptTemplate.from_template(\"name one country with the color {color} in its flag\")\n",
    "prompt_2 = ChatPromptTemplate.from_template(\"name and describe 3 well-known {noun} from {country}.\")\n",
    "\n",
    "chain_1 = prompt_1 | model | StrOutputParser()\n",
    "\n",
    "#chain_1.invoke({\"color\":\"orange\"})"
   ]
  },
  {
   "cell_type": "code",
   "execution_count": 8,
   "id": "3df581cb-09df-4c5a-821a-0dae021c48d7",
   "metadata": {},
   "outputs": [
    {
     "data": {
      "text/plain": [
       "'One country with green in its flag is Brazil.'"
      ]
     },
     "execution_count": 8,
     "metadata": {},
     "output_type": "execute_result"
    }
   ],
   "source": [
    "chain_1.invoke({\"color\":\"green\"})"
   ]
  },
  {
   "cell_type": "code",
   "execution_count": 10,
   "id": "2d6c2775-3ad8-4f97-b3f5-86e8ed61759c",
   "metadata": {},
   "outputs": [
    {
     "data": {
      "text/plain": [
       "['country', 'noun']"
      ]
     },
     "execution_count": 10,
     "metadata": {},
     "output_type": "execute_result"
    }
   ],
   "source": [
    "prompt_2.messages[0].prompt.input_variables"
   ]
  },
  {
   "cell_type": "markdown",
   "id": "5cb841a1-3fe2-40e3-b869-4f767bd2f0b3",
   "metadata": {},
   "source": [
    "## A chain.  The output to chain_1 becomes the input to chain_2"
   ]
  },
  {
   "cell_type": "code",
   "execution_count": 13,
   "id": "57fa251c-be28-4458-bc2f-09093726b342",
   "metadata": {},
   "outputs": [
    {
     "name": "stdout",
     "output_type": "stream",
     "text": [
      "The flag of the Netherlands features a horizontal tricolor of red, white, and blue, but orange is also a significant national color associated with Dutch identity, largely due to the royal House of Orange-Nassau. Here are three well-known sports popular in the Netherlands:\n",
      "\n",
      "1. **Field Hockey**: Field hockey is one of the most successful team sports in the Netherlands. The Dutch national teams, both men’s and women’s, have a storied history, consistently performing well in international competitions, including the Olympics and World Cups. The sport is played on grass or turf, where teams try to score goals by hitting a ball into the opponent's net using curved sticks. The Dutch women’s team, in particular, is renowned for its dominance in the sport, with numerous European titles and World Cup victories.\n",
      "\n",
      "2. **Speed Skating**: The Netherlands is famous for its achievements in speed skating, especially in long track events. The sport holds a special place in Dutch culture, particularly during the winter months when natural ice pathways create opportunities for skating. The Dutch have produced numerous world champions and Olympic medalists in speed skating. Events such as the KNSB Dutch Championships and the World Single Distances Championships often see high levels of participation and public interest.\n",
      "\n",
      "3. **Football (Soccer)**: Football is arguably the most popular sport in the Netherlands, with a rich history and passionate following. The country is home to several successful clubs, such as Ajax, PSV Eindhoven, and Feyenoord, and the national team, known as \"Oranje,\" has a strong international presence. The Dutch national team has reached the finals of several UEFA European Championships and the FIFA World Cup, known for its distinctive style of play called \"Total Football,\" which emphasizes fluid movement and positional interchange among players.\n",
      "\n",
      "While the flag itself does not directly feature orange, the color is a symbol of national pride, representing the Dutch royal family and its historical significance. Additionally, during sporting events, Dutch fans often wear orange to show their support.\n"
     ]
    }
   ],
   "source": [
    "chain_2 = ({\"country\":chain_1, \"noun\":itemgetter(\"noun\")} | prompt_2 | model | StrOutputParser())\n",
    "\n",
    "answer = chain_2.invoke({\"color\":\"orange\", \"noun\":\"sports\"})\n",
    "print(answer)"
   ]
  },
  {
   "cell_type": "code",
   "execution_count": 14,
   "id": "3f23ea5f-ff44-4c90-bf6f-469032a54aa7",
   "metadata": {},
   "outputs": [
    {
     "data": {
      "text/html": [
       "<div>\n",
       "<style scoped>\n",
       "    .dataframe tbody tr th:only-of-type {\n",
       "        vertical-align: middle;\n",
       "    }\n",
       "\n",
       "    .dataframe tbody tr th {\n",
       "        vertical-align: top;\n",
       "    }\n",
       "\n",
       "    .dataframe thead th {\n",
       "        text-align: right;\n",
       "    }\n",
       "</style>\n",
       "<table border=\"1\" class=\"dataframe\">\n",
       "  <thead>\n",
       "    <tr style=\"text-align: right;\">\n",
       "      <th></th>\n",
       "      <th>product</th>\n",
       "      <th>product review</th>\n",
       "    </tr>\n",
       "  </thead>\n",
       "  <tbody>\n",
       "    <tr>\n",
       "      <th>0</th>\n",
       "      <td>Cotton Bath Towels</td>\n",
       "      <td>These towels are incredibly soft and absorbent...</td>\n",
       "    </tr>\n",
       "    <tr>\n",
       "      <th>1</th>\n",
       "      <td>Stainless Steel Cookware Set</td>\n",
       "      <td>High-quality cookware that heats evenly. Makes...</td>\n",
       "    </tr>\n",
       "    <tr>\n",
       "      <th>2</th>\n",
       "      <td>Memory Foam Pillow</td>\n",
       "      <td>This pillow has improved my sleep quality sign...</td>\n",
       "    </tr>\n",
       "    <tr>\n",
       "      <th>3</th>\n",
       "      <td>LED Desk Lamp</td>\n",
       "      <td>Bright and adjustable lighting. Ideal for work...</td>\n",
       "    </tr>\n",
       "    <tr>\n",
       "      <th>4</th>\n",
       "      <td>Automatic Coffee Maker</td>\n",
       "      <td>Makes a great cup of coffee with minimal effor...</td>\n",
       "    </tr>\n",
       "  </tbody>\n",
       "</table>\n",
       "</div>"
      ],
      "text/plain": [
       "                        product  \\\n",
       "0            Cotton Bath Towels   \n",
       "1  Stainless Steel Cookware Set   \n",
       "2            Memory Foam Pillow   \n",
       "3                 LED Desk Lamp   \n",
       "4        Automatic Coffee Maker   \n",
       "\n",
       "                                      product review  \n",
       "0  These towels are incredibly soft and absorbent...  \n",
       "1  High-quality cookware that heats evenly. Makes...  \n",
       "2  This pillow has improved my sleep quality sign...  \n",
       "3  Bright and adjustable lighting. Ideal for work...  \n",
       "4  Makes a great cup of coffee with minimal effor...  "
      ]
     },
     "execution_count": 14,
     "metadata": {},
     "output_type": "execute_result"
    }
   ],
   "source": [
    "import pandas as pd\n",
    "\n",
    "df = pd.read_csv('home_goods_reviews.csv')\n",
    "df[0:5]"
   ]
  },
  {
   "cell_type": "code",
   "execution_count": 15,
   "id": "7652290c-7bcf-46a7-9a97-b9590e6a6bf2",
   "metadata": {},
   "outputs": [],
   "source": [
    "prompt_companyName = ChatPromptTemplate.from_template(\n",
    "    \"What is the one best name to describe a company that makes {products}?\"\n",
    ")"
   ]
  },
  {
   "cell_type": "code",
   "execution_count": 16,
   "id": "7b6cd8dd-6885-433f-b51a-7e8da648b7ba",
   "metadata": {},
   "outputs": [
    {
     "name": "stdout",
     "output_type": "stream",
     "text": [
      "A suitable name for a company that offers a diverse range of household and lifestyle products, as listed, could be **\"Home Harmony\"**. This name conveys a sense of comfort, style, and utility, reflecting the variety of products aimed at enhancing the home environment.\n"
     ]
    }
   ],
   "source": [
    "chain_a = prompt_companyName | model | StrOutputParser()\n",
    "\n",
    "\n",
    "company_name_suggestion = chain_a.invoke({'products': df['product']})\n",
    "print(company_name_suggestion)"
   ]
  },
  {
   "cell_type": "code",
   "execution_count": 17,
   "id": "c3d1ad14-fa79-40ff-a5ff-72893ea98e23",
   "metadata": {},
   "outputs": [],
   "source": [
    "prompt_companyDescription = ChatPromptTemplate.from_template(\n",
    "    \"Write a description in marketing language using {number} of words for the following company:{company_name}\"\n",
    ")"
   ]
  },
  {
   "cell_type": "code",
   "execution_count": 18,
   "id": "b55e51fb-0f6e-43a8-be13-eb6e6fec14c4",
   "metadata": {},
   "outputs": [
    {
     "data": {
      "text/plain": [
       "'Welcome to HomeHarmony—your ultimate destination for diverse, high-quality home and kitchen products. Transform your living space into a sanctuary of comfort and style. Experience harmony, functionality, and elegance today!'"
      ]
     },
     "execution_count": 18,
     "metadata": {},
     "output_type": "execute_result"
    }
   ],
   "source": [
    "chain_b = {\"company_name\" : chain_a, \"number\": itemgetter(\"number\")} | prompt_companyDescription | model | StrOutputParser()\n",
    "\n",
    "chain_b.invoke({'products': df['product'], \"number\": 30}) "
   ]
  },
  {
   "cell_type": "markdown",
   "id": "7a332467-c46f-4c69-8f97-06cf555551f8",
   "metadata": {},
   "source": [
    "## A \"branching\" system.  Two prompts are run in parallel and then the results merged before returning output to the user."
   ]
  },
  {
   "cell_type": "code",
   "execution_count": 5,
   "id": "16ddca0d-62cf-4d47-9be9-e4a1c53dc1dc",
   "metadata": {},
   "outputs": [],
   "source": [
    "prompt_1 = ChatPromptTemplate.from_template(\"answer the question {question} from a conservative, risk-averse standpoint\")\n",
    "prompt_2 = ChatPromptTemplate.from_template(\"answer the question {question} from a growth minded, risk-loving standpoint.\")\n",
    "\n",
    "prompt_synthesize = ChatPromptTemplate.from_template(\n",
    "\"\"\"Given the question: {question} and the below two answers:\n",
    "Answer 1:\n",
    "{answer1}\n",
    "\n",
    "Answer 2:\n",
    "{answer2}\n",
    "\n",
    "Combine the viewpoints of two answers and form a coherent combined answer.\n",
    "\"\"\"\n",
    ")\n",
    "\n",
    "model1 = ChatOpenAI(model=\"gpt-4o-mini\", temperature=0.5)\n",
    "model2 = ChatOpenAI(model=\"gpt-4o-mini\", temperature=1)\n",
    "model3 = ChatOpenAI(model=\"gpt-4o-mini\", temperature=0)\n",
    "\n",
    "chain1 = prompt_1 | model1 | StrOutputParser()\n",
    "chain2 = prompt_2 | model2 | StrOutputParser()\n",
    "chain3 = prompt_synthesize | model3 | StrOutputParser()\n"
   ]
  },
  {
   "cell_type": "code",
   "execution_count": 6,
   "id": "c009cba3-299a-428b-be70-046f72d717bb",
   "metadata": {},
   "outputs": [],
   "source": [
    "question = \"how should I invest for retirement?\""
   ]
  },
  {
   "cell_type": "markdown",
   "id": "8c5be741-fe9a-48e2-880c-2af9561fb641",
   "metadata": {},
   "source": [
    "Inputs to final chain (\"combined_answer\") are the outputs from chain 1 (\"answer1) and chain 2 (\"answer2) and the original question (\"quetstion\").  RunnablePassthrough() allows an input to be passed unchanged to downstream chains."
   ]
  },
  {
   "cell_type": "code",
   "execution_count": 12,
   "id": "8f920c9b-cdf0-4111-86fe-46206c51a7a4",
   "metadata": {},
   "outputs": [],
   "source": [
    "combined_chain = {\n",
    "    \"question\": RunnablePassthrough(),\n",
    "    \"answer1\": chain1,\n",
    "    \"answer2\": chain2,\n",
    "} | chain3\n",
    "\n",
    "combined_answer = combined_chain.invoke(question)"
   ]
  },
  {
   "cell_type": "code",
   "execution_count": 13,
   "id": "a79791cf-9fd3-4fdb-8e31-088e6e42e5a7",
   "metadata": {},
   "outputs": [
    {
     "name": "stdout",
     "output_type": "stream",
     "text": [
      "Investing for retirement can be approached from both conservative and growth-oriented perspectives, and a balanced strategy that incorporates elements from both can help you achieve your retirement goals while managing risk. Here’s a comprehensive approach to consider:\n",
      "\n",
      "### 1. **Diversified Investment Portfolio**:\n",
      "   - **Equities**: Allocate a portion of your portfolio to growth stocks, including technology and small-cap stocks, which have the potential for substantial returns. Consider international stocks and emerging markets for additional growth opportunities, but be mindful of the associated risks.\n",
      "   - **Fixed Income Investments**: Balance your equity investments with a diversified bond portfolio, including government bonds, municipal bonds, and investment-grade corporate bonds. This can provide stability and income, helping to preserve capital.\n",
      "\n",
      "### 2. **Exchange-Traded Funds (ETFs) and Mutual Funds**:\n",
      "   - Utilize ETFs and mutual funds that focus on both growth and conservative investments. Look for funds that invest in a mix of growth stocks and bonds, or those that target specific sectors with high growth potential.\n",
      "\n",
      "### 3. **Real Estate Investments**:\n",
      "   - Consider investing in real estate, either through direct ownership or Real Estate Investment Trusts (REITs). Focus on properties in high-demand areas or REITs that target growth sectors, as they can provide both appreciation and income.\n",
      "\n",
      "### 4. **Alternative Investments**:\n",
      "   - If you have a higher risk tolerance, explore alternative investments such as cryptocurrencies, venture capital, or private equity. These can offer significant upside potential but come with higher volatility and risk.\n",
      "\n",
      "### 5. **Target-Date Funds**:\n",
      "   - Consider target-date funds that automatically adjust their asset allocation as you approach retirement. These funds typically start with a higher equity allocation and gradually shift to a more conservative approach, providing a built-in strategy for risk management.\n",
      "\n",
      "### 6. **Regular Review and Rebalancing**:\n",
      "   - Periodically review your investment portfolio to ensure it aligns with your risk tolerance and retirement goals. Rebalance your investments as needed to maintain your desired asset allocation, taking into account market performance and changes in your financial situation.\n",
      "\n",
      "### 7. **Emergency Fund and Cash Reserves**:\n",
      "   - Maintain an emergency fund to cover unexpected expenses, which can help you avoid dipping into your retirement savings. Additionally, keep a portion of your portfolio in cash or cash-equivalents for liquidity and safety.\n",
      "\n",
      "### 8. **Tax-Advantaged Accounts**:\n",
      "   - Contribute to retirement accounts such as a Roth IRA or Traditional IRA, which offer tax advantages. A Roth IRA allows for tax-free withdrawals in retirement, while a Traditional IRA provides tax-deferred growth.\n",
      "\n",
      "### 9. **Risk Management**:\n",
      "   - Understand your risk tolerance and adjust your investment strategy accordingly. Diversification is key to mitigating risk, so avoid concentrating too much in one area. \n",
      "\n",
      "### 10. **Long-Term Focus**:\n",
      "   - Keep a long-term perspective when investing for retirement. Stay focused on your goals and avoid making impulsive decisions based on short-term market fluctuations.\n",
      "\n",
      "### 11. **Consult a Financial Advisor**:\n",
      "   - If you're unsure about your investment strategy or need personalized guidance, consider consulting with a financial advisor. They can help tailor a plan that aligns with your financial situation and retirement objectives.\n",
      "\n",
      "By combining conservative and growth-oriented strategies, you can create a well-rounded investment approach that aims for both capital preservation and growth, ultimately working towards a secure and stable retirement.\n"
     ]
    }
   ],
   "source": [
    "print(combined_answer)"
   ]
  },
  {
   "cell_type": "markdown",
   "id": "a536d95d-af95-4f10-9be0-1b97402cc909",
   "metadata": {},
   "source": [
    "## A \"routing\" system.  First prompt evaluates user input and conditionally chooses path for further processing."
   ]
  },
  {
   "cell_type": "code",
   "execution_count": 20,
   "id": "3523d338-4611-455b-ae5e-343865f8983e",
   "metadata": {},
   "outputs": [],
   "source": [
    "email = \"\"\"\n",
    "    Had a very horrible experience. Remote wouldn’t connect properly even with strong WiFi connection.\n",
    "    So I returned the item, paid for shipping. I purchased this item for $312, and was expecting entire amount refunded. \n",
    "    But just to find out they charged me $156 “Restocking fee” and additional shipping fee.\n",
    "    There was no indication of such when purchasing the item. I was unaware of such fees and I\n",
    "    would have never purchased if I knew I was going to lose half of the money.\n",
    "    Been trying to resolve this issue with Amazon and there isn’t much they can do.\n",
    "    \"\"\""
   ]
  },
  {
   "cell_type": "code",
   "execution_count": 26,
   "id": "f5191197-ab22-4d25-9eb4-99012560b132",
   "metadata": {},
   "outputs": [],
   "source": [
    "email = \"\"\"\n",
    "The Playstation Portal is awesome!  I love it!\n",
    "    \"\"\""
   ]
  },
  {
   "cell_type": "code",
   "execution_count": 21,
   "id": "ca6651e0-15bd-4143-9132-fe3b8f06cc97",
   "metadata": {},
   "outputs": [
    {
     "data": {
      "text/plain": [
       "'unhappy'"
      ]
     },
     "execution_count": 21,
     "metadata": {},
     "output_type": "execute_result"
    }
   ],
   "source": [
    "prompt_mood =  PromptTemplate.from_template(\n",
    "        \"\"\"Given the user email below, classify it as either being about \"unhappy\", \"happy\" or \"other\".  Do not respond with more than one word.\n",
    "            {email}\n",
    "        \"\"\"\n",
    ")\n",
    "\n",
    "model = ChatOpenAI(model=\"gpt-4o-mini\", temperature=0.5)\n",
    "    \n",
    "chain_detect_mood = prompt_mood | model  | StrOutputParser()\n",
    "chain_detect_mood.invoke({\"email\": email})"
   ]
  },
  {
   "cell_type": "markdown",
   "id": "cad23acd-3da7-4bc4-b50b-9d96e2649031",
   "metadata": {},
   "source": [
    "Create alternative prompts, describing response elements depending on the mood of the incoming customer email."
   ]
  },
  {
   "cell_type": "code",
   "execution_count": 22,
   "id": "cba8aeeb-f05c-43bb-b05a-f06ccadff792",
   "metadata": {},
   "outputs": [],
   "source": [
    "chain_unhappy = PromptTemplate.from_template(\n",
    "    \"\"\"You are responding to an unhappy customer experience.  Respond in a polite and empathic tone.  Be sure to:\n",
    "    Acknowledge the customer’s frustration.\n",
    "    Apologize for the inconvenience.\n",
    "    Offer a solution or ask for more information to resolve the issue.\n",
    "    Mention the negative issues they raised specifically so they know they were heard.\n",
    "\n",
    "Email: {email}\n",
    "\"\"\"\n",
    ") | model | StrOutputParser()\n",
    "\n",
    "\n",
    "chain_happy = PromptTemplate.from_template(\n",
    "    \"\"\"You are responding to an happy customer experience.  Respond in a polite and empathic tone.  Be sure to:\n",
    "    Express gratitude for the positive feedback.\n",
    "    Encourage further engagement.\n",
    "    Extend an invitation to share their experience with others.  \n",
    "    Mention any particular positive issues they raised specifically so they know they were heard.\n",
    "\n",
    "Email: {email}\n",
    "\"\"\"\n",
    ") | model | StrOutputParser()\n",
    "\n",
    "\n",
    "chain_other = PromptTemplate.from_template(\n",
    "    \"\"\"You are responding to an customer experience.  Respond in a polite and empathic tone.\n",
    "\n",
    "Email: {email}\n",
    "\"\"\"\n",
    ") | model | StrOutputParser()"
   ]
  },
  {
   "cell_type": "code",
   "execution_count": 23,
   "id": "d5eba650-2955-4173-a56e-f269f3e7acaa",
   "metadata": {},
   "outputs": [],
   "source": [
    "# custom route function\n",
    "\n",
    "def route(info):\n",
    "    if \"unhappy\" in info[\"mood\"].lower():\n",
    "        return chain_unhappy\n",
    "    elif \"happy\" in info[\"mood\"].lower():\n",
    "        return chain_happy\n",
    "    else:\n",
    "        return chain_other"
   ]
  },
  {
   "cell_type": "code",
   "execution_count": 24,
   "id": "8d318486-d069-4c91-b3c3-eba58e262ab7",
   "metadata": {},
   "outputs": [],
   "source": [
    "# Inputs to chain -\"mood\" from chain_detect_mood, and \"email\" - sent to route() function.\n",
    "\n",
    "from langchain_core.runnables import RunnableLambda\n",
    "\n",
    "full_chain = {\"mood\": chain_detect_mood, \"email\": lambda x: x[\"email\"]} | RunnableLambda(\n",
    "    route\n",
    ")"
   ]
  },
  {
   "cell_type": "code",
   "execution_count": 27,
   "id": "2ebc52b2-4c07-46a2-bf23-82c0ddd0008d",
   "metadata": {},
   "outputs": [
    {
     "name": "stdout",
     "output_type": "stream",
     "text": [
      "Subject: Thank You for Your Wonderful Feedback!\n",
      "\n",
      "Dear [Customer's Name],\n",
      "\n",
      "Thank you so much for taking the time to share your thoughts about the PlayStation Portal! We're thrilled to hear that you love it and that it has enhanced your gaming experience.\n",
      "\n",
      "Your enthusiasm truly brightens our day, and we appreciate your positive feedback about its features. It's fantastic to know that the Portal has met your expectations and brought you joy.\n",
      "\n",
      "We would love to hear more about your experiences with the Portal! Please feel free to reach out anytime with your thoughts or suggestions. Additionally, if you know anyone who might be interested in the PlayStation Portal, we encourage you to share your experience with them. Your insights could help others discover the excitement you’ve found!\n",
      "\n",
      "Thank you once again for your kind words. We’re here to support you on your gaming journey!\n",
      "\n",
      "Warm regards,\n",
      "\n",
      "[Your Name]  \n",
      "[Your Position]  \n",
      "[Your Company]  \n",
      "[Contact Information]  \n"
     ]
    }
   ],
   "source": [
    "print(full_chain.invoke({\"email\": email}))"
   ]
  }
 ],
 "metadata": {
  "kernelspec": {
   "display_name": "Python 3 (ipykernel)",
   "language": "python",
   "name": "python3"
  },
  "language_info": {
   "codemirror_mode": {
    "name": "ipython",
    "version": 3
   },
   "file_extension": ".py",
   "mimetype": "text/x-python",
   "name": "python",
   "nbconvert_exporter": "python",
   "pygments_lexer": "ipython3",
   "version": "3.12.7"
  }
 },
 "nbformat": 4,
 "nbformat_minor": 5
}
