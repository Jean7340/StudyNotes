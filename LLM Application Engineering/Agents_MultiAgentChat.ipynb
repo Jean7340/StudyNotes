{
 "cells": [
  {
   "cell_type": "markdown",
   "id": "16937d2a-d471-41ee-b43c-7f9cf32df9ba",
   "metadata": {},
   "source": [
    "## AI Agents"
   ]
  },
  {
   "cell_type": "code",
   "execution_count": null,
   "id": "bbb3417d-4474-4381-99eb-966408fab502",
   "metadata": {},
   "outputs": [],
   "source": [
    "#!pip install openai\n",
    "#!pip install python-dotenv\n",
    "\n",
    "#!pip install autogen"
   ]
  },
  {
   "cell_type": "code",
   "execution_count": null,
   "id": "50366388-fb9f-481e-abe0-fbe2e5c23dc8",
   "metadata": {},
   "outputs": [],
   "source": [
    "import json\n",
    "import pandas as pd\n",
    "import openai\n",
    "from dotenv import load_dotenv\n",
    "import os\n",
    "\n",
    "load_dotenv()\n",
    "os.environ[\"OPENAI_API_KEY\"] = os.getenv(\"openai_api_key\")\n",
    "\n",
    "client = openai.OpenAI()\n",
    "llm_config_def = {\"model\": \"gpt-4\"}"
   ]
  },
  {
   "cell_type": "code",
   "execution_count": null,
   "id": "8bc1d6a3-2d70-4cb9-b56a-b3d2a278fe03",
   "metadata": {},
   "outputs": [],
   "source": [
    "from autogen import ConversableAgent, initiate_chats"
   ]
  },
  {
   "cell_type": "markdown",
   "id": "15276f0d-1fe7-4cf1-8edf-af785595b5e2",
   "metadata": {},
   "source": [
    "**Multi-Agent Chat**\n",
    "\n",
    "Conversation between Buyer and Seller for a given negotiation scenario."
   ]
  },
  {
   "cell_type": "code",
   "execution_count": null,
   "id": "7bbd7378-78bb-46ae-8ac5-e1e29a8b31af",
   "metadata": {},
   "outputs": [],
   "source": [
    "seller = ConversableAgent(\n",
    "    name=\"Seller_Agent\",\n",
    "    system_message= f'''Represents a sales professional negotiating a deal. Uses behavioral negotiation strategies \n",
    "        like anchoring, reciprocal concessions, and emphasizing value to persuade the buyer. \n",
    "        Responds in short, professional exchanges and adapts its strategy to move toward a mutually \n",
    "        beneficial agreement while maintaining favorable terms.''',\n",
    "    llm_config = llm_config_def,\n",
    ")\n",
    "\n",
    "\n",
    "buyer = ConversableAgent(\n",
    "    name=\"Buyer_Agent\",\n",
    "    system_message=f'''Represents a procurement professional negotiating for the best possible terms. Uses /\n",
    "        behavioral negotiation strategies like price sensitivity, alternative options, and probing for value-added benefits. /\n",
    "        Responds in concise exchanges designed to test flexibility while working toward an acceptable deal.''',\n",
    "    llm_config = llm_config_def\n",
    ")\n",
    "\n"
   ]
  },
  {
   "cell_type": "code",
   "execution_count": null,
   "id": "201fefb0-67d4-410b-abb4-b765a14051a0",
   "metadata": {},
   "outputs": [],
   "source": [
    "def main() :\n",
    "    print(\"Type a scenario for a negotiation. Type 'exit' to end the chat.\")\n",
    "    user_input = input(\"You: \")\n",
    "\n",
    "    if user_input.lower() == 'exit':\n",
    "        return\n",
    "    \n",
    "    chat_result = buyer.initiate_chat(\n",
    "        seller,\n",
    "        message=user_input,\n",
    "        summary_method=\"reflection_with_llm\",\n",
    "        max_turns=5,\n",
    "    )\n",
    "        \n",
    "    return chat_result"
   ]
  },
  {
   "cell_type": "code",
   "execution_count": null,
   "id": "3681c190-e700-47be-bf83-8109287b99db",
   "metadata": {},
   "outputs": [],
   "source": [
    "conversation = main()"
   ]
  },
  {
   "cell_type": "code",
   "execution_count": null,
   "id": "8717c361-5de7-427e-ace7-b1cd6649e812",
   "metadata": {},
   "outputs": [],
   "source": [
    "conversation.chat_history"
   ]
  },
  {
   "cell_type": "code",
   "execution_count": null,
   "id": "8f8bd3d7-95ca-420d-96b3-887a811e98d7",
   "metadata": {},
   "outputs": [],
   "source": [
    "conversation.summary"
   ]
  },
  {
   "cell_type": "code",
   "execution_count": null,
   "id": "4e43fab1-3108-4466-a07e-74361e924756",
   "metadata": {},
   "outputs": [],
   "source": [
    "conversation.cost"
   ]
  }
 ],
 "metadata": {
  "kernelspec": {
   "display_name": "Python 3 (ipykernel)",
   "language": "python",
   "name": "python3"
  },
  "language_info": {
   "codemirror_mode": {
    "name": "ipython",
    "version": 3
   },
   "file_extension": ".py",
   "mimetype": "text/x-python",
   "name": "python",
   "nbconvert_exporter": "python",
   "pygments_lexer": "ipython3",
   "version": "3.12.4"
  }
 },
 "nbformat": 4,
 "nbformat_minor": 5
}
