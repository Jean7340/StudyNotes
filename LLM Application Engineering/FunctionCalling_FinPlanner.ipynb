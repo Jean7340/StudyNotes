{
 "cells": [
  {
   "cell_type": "markdown",
   "id": "16937d2a-d471-41ee-b43c-7f9cf32df9ba",
   "metadata": {},
   "source": [
    "## Function Calling in OpenAI:  Finance Assistant"
   ]
  },
  {
   "cell_type": "code",
   "execution_count": null,
   "id": "bbb3417d-4474-4381-99eb-966408fab502",
   "metadata": {},
   "outputs": [],
   "source": [
    "#!pip install openai\n",
    "#!pip install python-dotenv"
   ]
  },
  {
   "cell_type": "code",
   "execution_count": 1,
   "id": "50366388-fb9f-481e-abe0-fbe2e5c23dc8",
   "metadata": {},
   "outputs": [],
   "source": [
    "import json\n",
    "import pandas as pd\n",
    "import openai\n",
    "from dotenv import load_dotenv\n",
    "import os\n",
    "\n",
    "load_dotenv()\n",
    "os.environ[\"OPENAI_API_KEY\"] = os.getenv(\"openai_api_key\")\n",
    "\n",
    "client = openai.OpenAI()"
   ]
  },
  {
   "cell_type": "markdown",
   "id": "f30b4923-0f3e-469d-a611-02446993e8ee",
   "metadata": {},
   "source": [
    "**calculateLoanPayment()** is the function we will incorporate into the tools available to our AI Financial Assistant.   \n",
    "The function has three required input arguements:  principal, interestRate, term.   \n",
    "The function returns the monthly payment for a loan with the specified parameters."
   ]
  },
  {
   "cell_type": "code",
   "execution_count": 2,
   "id": "b39ee98f-c189-4263-a735-c59bbca751fe",
   "metadata": {},
   "outputs": [],
   "source": [
    "def calculateLoanPayment(principal: float, interestRate: float, term: int) -> float:\n",
    "    monthly_rate = interestRate / 100 / 12\n",
    "    total_payments = term * 12\n",
    "    \n",
    "    if monthly_rate == 0:\n",
    "        monthly_payment = principal / total_payments\n",
    "    else:\n",
    "        monthly_payment = (principal * monthly_rate * (1 + monthly_rate) ** total_payments) / ((1 + monthly_rate) ** total_payments - 1)\n",
    "    \n",
    "    return monthly_payment\n",
    "\n"
   ]
  },
  {
   "cell_type": "code",
   "execution_count": 3,
   "id": "380e42b0-b7bf-42d1-ac39-8dbc36b939bf",
   "metadata": {},
   "outputs": [
    {
     "name": "stdout",
     "output_type": "stream",
     "text": [
      "The monthly payment is: $395.40\n"
     ]
    }
   ],
   "source": [
    "principal = 50000  \n",
    "interestRate = 5\n",
    "term = 15  \n",
    "\n",
    "monthly_payment = calculateLoanPayment(principal, interestRate, term)\n",
    "print(f\"The monthly payment is: ${monthly_payment:.2f}\")"
   ]
  },
  {
   "cell_type": "markdown",
   "id": "73645f34-9ad4-4ac0-888d-c8905fc4353b",
   "metadata": {},
   "source": [
    "Create schema for function call."
   ]
  },
  {
   "cell_type": "code",
   "execution_count": 3,
   "id": "f229bbe9-1d1e-4b10-9bd0-ff40af8ba28f",
   "metadata": {},
   "outputs": [],
   "source": [
    "parameters = {\n",
    "    \"type\": \"object\",\n",
    "    \"properties\": {\n",
    "        \"principal\": {\n",
    "            \"type\": \"number\",\n",
    "            \"description\": \"The loan amount or principal in dollars.\"\n",
    "        },\n",
    "        \"interestRate\": {\n",
    "            \"type\": \"number\",\n",
    "            \"description\": \"The annual interest rate as a percentage (e.g., 5 for 5%).\"\n",
    "        },\n",
    "        \"term\": {\n",
    "            \"type\": \"integer\",\n",
    "            \"description\": \"The loan term in years.\"\n",
    "        }\n",
    "    },\n",
    "    \"required\": [\"principal\", \"interestRate\", \"term\"]\n",
    "}\n",
    "\n",
    "calc_tool = {\n",
    "    \"type\": \"function\",\n",
    "    \"function\": {\n",
    "        \"name\": \"calculateLoanPayment\",\n",
    "        \"description\": \"Calculates loan payment from user inputs\",\n",
    "        \"parameters\": parameters,\n",
    "    }\n",
    "}"
   ]
  },
  {
   "cell_type": "code",
   "execution_count": 5,
   "id": "bcd0731e-f073-4a3d-bd70-63929856d58d",
   "metadata": {},
   "outputs": [],
   "source": [
    "def get_output(messages_input, model_input=\"gpt-4o-mini\", temperature_input = 0) :\n",
    "\n",
    "    response = client.chat.completions.create(\n",
    "        model = model_input,\n",
    "        messages = messages_input,\n",
    "        temperature = temperature_input,\n",
    "        tools = [calc_tool],\n",
    "        tool_choice = \"auto\"\n",
    "    )\n",
    "    \n",
    "    response = response.choices[0].message\n",
    "    return response"
   ]
  },
  {
   "cell_type": "code",
   "execution_count": 6,
   "id": "08a06097-7d99-4e20-b724-9215bb0a9c9f",
   "metadata": {},
   "outputs": [],
   "source": [
    "def initialize_bot():\n",
    "    system_message = f\"\"\"\n",
    "    You are a financial assistant chatbot designed to help users understand their loan payment options. \\\n",
    "    First, greet the user.  Ask the user questions as needed to understnand their financing needs.\n",
    "    Answer any questions they might have about terms. \\\n",
    "    Your goal is to understand the user's needs in terms of their loan amount (principal), annual interest rate (in percentage), \\\n",
    "    and loan term (in years). \\\n",
    "    Once you have all needed information, use the calculateLoanPayment function to compute the monthly loan payment.\\\n",
    "    Tell the user their calculated monthly payment amount in dollars. \\\n",
    "    If the user needs further assistance, provide insights into adjusting loan terms, rates, or principal to achieve their financial goals.\n",
    "    \"\"\"\n",
    "    \n",
    "    context = [{\"role\":\"system\", \"content\":system_message}]\n",
    "\n",
    "    return context\n"
   ]
  },
  {
   "cell_type": "code",
   "execution_count": 8,
   "id": "7514f371-fbfe-4501-80df-46d14327ae00",
   "metadata": {},
   "outputs": [],
   "source": [
    "def collect_messages(prompt, context):\n",
    "    context.append({'role':'user', 'content':f\"{prompt}\"})\n",
    "    response = get_output(context) \n",
    "    context.append({'role':'assistant', 'content':f\"{response.content}\"})\n",
    "    return response"
   ]
  },
  {
   "cell_type": "code",
   "execution_count": 11,
   "id": "4a13ed5f-03e2-494c-ad59-09d9a4b904db",
   "metadata": {},
   "outputs": [],
   "source": [
    "def main():\n",
    "    context = initialize_bot()\n",
    "\n",
    "    print(\"Welcome! Type 'exit' to end the chat.\")\n",
    "    greeting = collect_messages(\"\", context)\n",
    "    print(greeting.content)\n",
    "    \n",
    "    while True:\n",
    "        user_input = input()\n",
    "        \n",
    "        if user_input.lower() == 'exit':\n",
    "            return context\n",
    "        \n",
    "        response = collect_messages(user_input, context)\n",
    "\n",
    "        # Display the assistant's response if it has content \n",
    "        if response.content:\n",
    "            print(response.content)\n",
    "\n",
    "        # Execute function call if assistant's response has tool call\n",
    "        if response.tool_calls:\n",
    "            # Extract the function arguments\n",
    "            arguments = json.loads(response.tool_calls[0].function.arguments)\n",
    "            principal = arguments[\"principal\"]\n",
    "            interestRate = arguments[\"interestRate\"]\n",
    "            term = arguments[\"term\"]\n",
    "\n",
    "            # Call the calculateLoanPayment function with extracted arguments\n",
    "            monthly_payment = calculateLoanPayment(principal, interestRate, term)\n",
    "            context.append({'role':'function', \\\n",
    "                            'name': 'calculateLoanPayment', \\\n",
    "                            'content':f\"Calculated Monthly Payment: ${monthly_payment:.2f}\"})\n",
    "            \n",
    "            # Add another LLM call to generate new assistant response to customer\n",
    "            response = collect_messages(\"return monthly payment to customer\", context)\n",
    "            print(response.content)\n",
    "    \n",
    "        "
   ]
  },
  {
   "cell_type": "code",
   "execution_count": 12,
   "id": "9ab80a0c-c8ed-4171-ba32-8874978bf08b",
   "metadata": {},
   "outputs": [
    {
     "name": "stdout",
     "output_type": "stream",
     "text": [
      "Welcome! Type 'exit' to end the chat.\n",
      "Hello! How can I assist you today with your loan payment options? Do you have a specific loan amount, interest rate, or term in mind?\n"
     ]
    },
    {
     "name": "stdin",
     "output_type": "stream",
     "text": [
      " I need to buy a new car\n"
     ]
    },
    {
     "name": "stdout",
     "output_type": "stream",
     "text": [
      "That's great! Buying a new car is an exciting decision. To help you with your financing options, could you please provide me with the following details?\n",
      "\n",
      "1. What is the loan amount (principal) you are considering for the car?\n",
      "2. What is the annual interest rate (in percentage) you expect?\n",
      "3. How many years do you plan to take the loan for (loan term)? \n",
      "\n",
      "Feel free to share any other details or questions you might have!\n"
     ]
    },
    {
     "name": "stdin",
     "output_type": "stream",
     "text": [
      " The car is 25,000.  What do you think is a good interest rate?\n"
     ]
    },
    {
     "name": "stdout",
     "output_type": "stream",
     "text": [
      "The interest rate for a car loan can vary based on several factors, including your credit score, the lender, and the current market conditions. Generally, a good interest rate for a new car loan can range from about 3% to 6% for borrowers with good credit. \n",
      "\n",
      "If you have excellent credit, you might even find rates lower than 3%. If your credit is not as strong, the rate could be higher.\n",
      "\n",
      "Do you have an idea of your credit score or the rate you might qualify for? If not, we can proceed with a common rate, like 5%, for our calculations. Would that work for you? Also, how long do you plan to finance the car (in years)?\n"
     ]
    },
    {
     "name": "stdin",
     "output_type": "stream",
     "text": [
      " Let's use 5%.  I want a 10 year loan\n"
     ]
    },
    {
     "name": "stdout",
     "output_type": "stream",
     "text": [
      "Great! To summarize, you are looking to finance a car with the following details:\n",
      "\n",
      "- Loan Amount (Principal): $25,000\n",
      "- Annual Interest Rate: 5%\n",
      "- Loan Term: 10 years\n",
      "\n",
      "I'll calculate your monthly loan payment based on these details. One moment, please!\n",
      "Your calculated monthly payment for the car loan is approximately **$265.16**. \n",
      "\n",
      "If you have any further questions or need assistance with adjusting the loan terms, rates, or principal to better fit your financial goals, feel free to ask!\n"
     ]
    },
    {
     "name": "stdin",
     "output_type": "stream",
     "text": [
      " exit\n"
     ]
    }
   ],
   "source": [
    "chat_transcript = main()"
   ]
  },
  {
   "cell_type": "code",
   "execution_count": 13,
   "id": "7233fbe0-0e13-4f4c-9983-6337a81a12a5",
   "metadata": {},
   "outputs": [
    {
     "data": {
      "text/plain": [
       "[{'role': 'system',\n",
       "  'content': \"\\n    You are a financial assistant chatbot designed to help users understand their loan payment options.     First, greet the user.  Ask the user questions as needed to understnand their financing needs.\\n    Answer any questions they might have about terms.     Your goal is to understand the user's needs in terms of their loan amount (principal), annual interest rate (in percentage),     and loan term (in years).     Once you have all needed information, use the calculateLoanPayment function to compute the monthly loan payment.    Tell the user their calculated monthly payment amount in dollars.     If the user needs further assistance, provide insights into adjusting loan terms, rates, or principal to achieve their financial goals.\\n    \"},\n",
       " {'role': 'user', 'content': ''},\n",
       " {'role': 'assistant',\n",
       "  'content': 'Hello! How can I assist you today with your loan payment options? Do you have a specific loan amount, interest rate, or term in mind?'},\n",
       " {'role': 'user', 'content': 'I need to buy a new car'},\n",
       " {'role': 'assistant',\n",
       "  'content': \"That's great! Buying a new car is an exciting decision. To help you with your financing options, could you please provide me with the following details?\\n\\n1. What is the loan amount (principal) you are considering for the car?\\n2. What is the annual interest rate (in percentage) you expect?\\n3. How many years do you plan to take the loan for (loan term)? \\n\\nFeel free to share any other details or questions you might have!\"},\n",
       " {'role': 'user',\n",
       "  'content': 'The car is 25,000.  What do you think is a good interest rate?'},\n",
       " {'role': 'assistant',\n",
       "  'content': 'The interest rate for a car loan can vary based on several factors, including your credit score, the lender, and the current market conditions. Generally, a good interest rate for a new car loan can range from about 3% to 6% for borrowers with good credit. \\n\\nIf you have excellent credit, you might even find rates lower than 3%. If your credit is not as strong, the rate could be higher.\\n\\nDo you have an idea of your credit score or the rate you might qualify for? If not, we can proceed with a common rate, like 5%, for our calculations. Would that work for you? Also, how long do you plan to finance the car (in years)?'},\n",
       " {'role': 'user', 'content': \"Let's use 5%.  I want a 10 year loan\"},\n",
       " {'role': 'assistant',\n",
       "  'content': \"Great! To summarize, you are looking to finance a car with the following details:\\n\\n- Loan Amount (Principal): $25,000\\n- Annual Interest Rate: 5%\\n- Loan Term: 10 years\\n\\nI'll calculate your monthly loan payment based on these details. One moment, please!\"},\n",
       " {'role': 'function',\n",
       "  'name': 'calculateLoanPayment',\n",
       "  'content': 'Calculated Monthly Payment: $265.16'},\n",
       " {'role': 'user', 'content': 'return monthly payment to customer'},\n",
       " {'role': 'assistant',\n",
       "  'content': 'Your calculated monthly payment for the car loan is approximately **$265.16**. \\n\\nIf you have any further questions or need assistance with adjusting the loan terms, rates, or principal to better fit your financial goals, feel free to ask!'}]"
      ]
     },
     "execution_count": 13,
     "metadata": {},
     "output_type": "execute_result"
    }
   ],
   "source": [
    "chat_transcript"
   ]
  }
 ],
 "metadata": {
  "kernelspec": {
   "display_name": "Python 3 (ipykernel)",
   "language": "python",
   "name": "python3"
  },
  "language_info": {
   "codemirror_mode": {
    "name": "ipython",
    "version": 3
   },
   "file_extension": ".py",
   "mimetype": "text/x-python",
   "name": "python",
   "nbconvert_exporter": "python",
   "pygments_lexer": "ipython3",
   "version": "3.12.7"
  }
 },
 "nbformat": 4,
 "nbformat_minor": 5
}
