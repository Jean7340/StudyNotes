{
 "cells": [
  {
   "cell_type": "markdown",
   "id": "16937d2a-d471-41ee-b43c-7f9cf32df9ba",
   "metadata": {},
   "source": [
    "## Function Calling in OpenAI:  Cleaning Service"
   ]
  },
  {
   "cell_type": "code",
   "execution_count": 17,
   "id": "bbb3417d-4474-4381-99eb-966408fab502",
   "metadata": {},
   "outputs": [],
   "source": [
    "#!pip install openai\n",
    "#!pip install python-dotenv"
   ]
  },
  {
   "cell_type": "code",
   "execution_count": 18,
   "id": "50366388-fb9f-481e-abe0-fbe2e5c23dc8",
   "metadata": {},
   "outputs": [],
   "source": [
    "import json\n",
    "import pandas as pd\n",
    "import openai\n",
    "from dotenv import load_dotenv\n",
    "import os\n",
    "\n",
    "load_dotenv()\n",
    "os.environ[\"OPENAI_API_KEY\"] = os.getenv(\"openai_api_key\")\n",
    "\n",
    "client = openai.OpenAI()"
   ]
  },
  {
   "cell_type": "markdown",
   "id": "245fd349-aaa3-43a0-b737-7ca16d0c4679",
   "metadata": {},
   "source": [
    "This is a very similar \"helper\" function to the one we have been using.  This one includes the arguments tools and tool_choice, which is where we specify the function that we want the model to \"call\" in its response."
   ]
  },
  {
   "cell_type": "code",
   "execution_count": 19,
   "id": "bcd0731e-f073-4a3d-bd70-63929856d58d",
   "metadata": {},
   "outputs": [],
   "source": [
    "def get_output_service_category(messages_input, model_input=\"gpt-4o-mini\", temperature_input = .5) :\n",
    "\n",
    "    response = client.chat.completions.create(\n",
    "        model = model_input,\n",
    "        messages = messages_input,\n",
    "        temperature = temperature_input,\n",
    "        tools = [get_menu_tool],\n",
    "        tool_choice = {\"type\": \"function\", \"function\": {\"name\": \"Get_Custom_Menu\"}}\n",
    "    )\n",
    "    \n",
    "    response = response.choices[0].message\n",
    "    return response"
   ]
  },
  {
   "cell_type": "markdown",
   "id": "73645f34-9ad4-4ac0-888d-c8905fc4353b",
   "metadata": {},
   "source": [
    "Create schema for function call.\n",
    "\n",
    "The function Extract_customer_request_attributes has a name, description and 1 parameter called \"service_category\"."
   ]
  },
  {
   "cell_type": "code",
   "execution_count": 20,
   "id": "f229bbe9-1d1e-4b10-9bd0-ff40af8ba28f",
   "metadata": {},
   "outputs": [],
   "source": [
    "parameters = {\n",
    "    \"type\": \"object\",\n",
    "    \"properties\": {\n",
    "        \"service_category\": {\n",
    "            \"type\": \"string\",\n",
    "            \"enum\": [\"Residential\", \"Commercial\", \"Landscape\"],\n",
    "            \"description\": \"The category of service that meets the customer's needs\",\n",
    "        }\n",
    "    },\n",
    "    \"required\": [\"service_category\"],\n",
    "}\n",
    "\n",
    "get_menu_tool = {\n",
    "    \"type\": \"function\",\n",
    "    \"function\": {\n",
    "        \"name\": \"Get_Custom_Menu\",\n",
    "        \"description\": \"Retreives a menu of relevant services based on incoming customer request for home mainentance services\",\n",
    "        \"parameters\": parameters,\n",
    "    }\n",
    "}"
   ]
  },
  {
   "cell_type": "code",
   "execution_count": 21,
   "id": "08a06097-7d99-4e20-b724-9215bb0a9c9f",
   "metadata": {},
   "outputs": [
    {
     "data": {
      "text/plain": [
       "ChatCompletionMessage(content=None, refusal=None, role='assistant', audio=None, function_call=None, tool_calls=[ChatCompletionMessageToolCall(id='call_6t78QY8Fca3dBbGVv8ao88be', function=Function(arguments='{\"service_category\":\"Residential\"}', name='Get_Custom_Menu'), type='function')], annotations=[])"
      ]
     },
     "execution_count": 21,
     "metadata": {},
     "output_type": "execute_result"
    }
   ],
   "source": [
    "system_message = f\"\"\"\n",
    "You are OrderBot, an automated service to help customers sign up for the firm's cleaning services. \\\n",
    "You first greet the customer and find the service category of their inquiry. \\\n",
    "You wait to collect all the customer's needs, then summarize and check for a final time if the customer wants to add anything else. \\\n",
    "Make sure to clarify all options and extras to uniquely identify the item from the menu.\\\n",
    "You respond in a short, very conversational friendly style. \\\n",
    "\"\"\"\n",
    "\n",
    "customer_inquiry = f\"\"\"\n",
    "I would like to know more about your services.  I have a 3 bedroom house that I would like cleaned twice a month.\n",
    "\"\"\"\n",
    "\n",
    "context = [ {'role':'system', 'content': system_message},\n",
    "            {'role':'user', 'content': customer_inquiry}]\n",
    "\n",
    "\n",
    "response = get_output_service_category(context, temperature_input = 0)\n",
    "response"
   ]
  },
  {
   "cell_type": "markdown",
   "id": "49f2e84a-ec9c-47ea-9fe8-f3b6a8cea828",
   "metadata": {},
   "source": [
    "Notice the completion to our prompt with function call has content = None and, instead, an object in the class ChatCompletionMessageToolCall in the tool_calls attribute.  This object contains the function arguments that the LLM created as the response to our prompt.\n",
    "\n",
    "(In this example, the function argument is the category of service for the customer inquiry, which was extracted by the first call to the LLM.)"
   ]
  },
  {
   "cell_type": "code",
   "execution_count": 22,
   "id": "ec51b70f-d9f6-4ff0-a68d-0d4fb9943472",
   "metadata": {},
   "outputs": [
    {
     "data": {
      "text/plain": [
       "'Residential'"
      ]
     },
     "execution_count": 22,
     "metadata": {},
     "output_type": "execute_result"
    }
   ],
   "source": [
    "service_category_input = json.loads(response.tool_calls[0].function.arguments)['service_category']\n",
    "service_category_input"
   ]
  },
  {
   "cell_type": "markdown",
   "id": "5fccdf4f-ea0b-44c8-ac09-5ce73a6e7b0f",
   "metadata": {},
   "source": [
    "We are reading in a .csv file which contains the services offered for each of the three possible service categories: Residential, Commercial and Landscape."
   ]
  },
  {
   "cell_type": "code",
   "execution_count": 23,
   "id": "dbe9db7e-5535-4ae9-a0ff-a7b2e3d71940",
   "metadata": {},
   "outputs": [
    {
     "data": {
      "text/html": [
       "<div>\n",
       "<style scoped>\n",
       "    .dataframe tbody tr th:only-of-type {\n",
       "        vertical-align: middle;\n",
       "    }\n",
       "\n",
       "    .dataframe tbody tr th {\n",
       "        vertical-align: top;\n",
       "    }\n",
       "\n",
       "    .dataframe thead th {\n",
       "        text-align: right;\n",
       "    }\n",
       "</style>\n",
       "<table border=\"1\" class=\"dataframe\">\n",
       "  <thead>\n",
       "    <tr style=\"text-align: right;\">\n",
       "      <th></th>\n",
       "      <th>service_type</th>\n",
       "      <th>price</th>\n",
       "    </tr>\n",
       "    <tr>\n",
       "      <th>service_category</th>\n",
       "      <th></th>\n",
       "      <th></th>\n",
       "    </tr>\n",
       "  </thead>\n",
       "  <tbody>\n",
       "    <tr>\n",
       "      <th>Residential</th>\n",
       "      <td>Standard Cleaning</td>\n",
       "      <td>$500 up to 3 bedrooms</td>\n",
       "    </tr>\n",
       "    <tr>\n",
       "      <th>Residential</th>\n",
       "      <td>Standard Cleaning</td>\n",
       "      <td>$100 each additional bedroom</td>\n",
       "    </tr>\n",
       "    <tr>\n",
       "      <th>Residential</th>\n",
       "      <td>Deep Cleaning</td>\n",
       "      <td>$75 Inside cabinets</td>\n",
       "    </tr>\n",
       "    <tr>\n",
       "      <th>Residential</th>\n",
       "      <td>Deep Cleaning</td>\n",
       "      <td>$50 Windows</td>\n",
       "    </tr>\n",
       "    <tr>\n",
       "      <th>Residential</th>\n",
       "      <td>Deep Cleaning</td>\n",
       "      <td>$150 Carpet steam clean</td>\n",
       "    </tr>\n",
       "    <tr>\n",
       "      <th>Residential</th>\n",
       "      <td>Eco-Friendly Cleaning</td>\n",
       "      <td>Additional $200 for environmentally friendly p...</td>\n",
       "    </tr>\n",
       "    <tr>\n",
       "      <th>Residential</th>\n",
       "      <td>Laundry Service</td>\n",
       "      <td>$25 per load for wash and dry</td>\n",
       "    </tr>\n",
       "    <tr>\n",
       "      <th>Residential</th>\n",
       "      <td>Laundry Service</td>\n",
       "      <td>$5 per item for ironing</td>\n",
       "    </tr>\n",
       "    <tr>\n",
       "      <th>Commercial</th>\n",
       "      <td>Office Cleaning</td>\n",
       "      <td>$20 per sqare foot up to 10,000 square feet</td>\n",
       "    </tr>\n",
       "    <tr>\n",
       "      <th>Commercial</th>\n",
       "      <td>Office Cleaning</td>\n",
       "      <td>$10 per additional square foot</td>\n",
       "    </tr>\n",
       "    <tr>\n",
       "      <th>Commercial</th>\n",
       "      <td>Retail Space Cleaning</td>\n",
       "      <td>$30 per sqare foot up to 10,000 square feet</td>\n",
       "    </tr>\n",
       "    <tr>\n",
       "      <th>Commercial</th>\n",
       "      <td>Retail Space Cleaning</td>\n",
       "      <td>$15 per additional square foot</td>\n",
       "    </tr>\n",
       "    <tr>\n",
       "      <th>Commercial</th>\n",
       "      <td>Window Washing</td>\n",
       "      <td>$50 per window</td>\n",
       "    </tr>\n",
       "    <tr>\n",
       "      <th>Landscape</th>\n",
       "      <td>Lawn Care</td>\n",
       "      <td>$400 mowing</td>\n",
       "    </tr>\n",
       "    <tr>\n",
       "      <th>Landscape</th>\n",
       "      <td>Lawn Care</td>\n",
       "      <td>$200 edging and removal of grass cuttings</td>\n",
       "    </tr>\n",
       "    <tr>\n",
       "      <th>Landscape</th>\n",
       "      <td>Garden Maintenance</td>\n",
       "      <td>$250 per bed for weeding and mulching</td>\n",
       "    </tr>\n",
       "    <tr>\n",
       "      <th>Landscape</th>\n",
       "      <td>Garden Maintenance</td>\n",
       "      <td>$200 per bed for seasonal planting</td>\n",
       "    </tr>\n",
       "    <tr>\n",
       "      <th>Landscape</th>\n",
       "      <td>Garden Maintenance</td>\n",
       "      <td>$100 per bed for garden design</td>\n",
       "    </tr>\n",
       "    <tr>\n",
       "      <th>Landscape</th>\n",
       "      <td>Tree and Shrub Care</td>\n",
       "      <td>$300 Pruning and trimming</td>\n",
       "    </tr>\n",
       "  </tbody>\n",
       "</table>\n",
       "</div>"
      ],
      "text/plain": [
       "                           service_type  \\\n",
       "service_category                          \n",
       "Residential           Standard Cleaning   \n",
       "Residential           Standard Cleaning   \n",
       "Residential               Deep Cleaning   \n",
       "Residential               Deep Cleaning   \n",
       "Residential               Deep Cleaning   \n",
       "Residential       Eco-Friendly Cleaning   \n",
       "Residential             Laundry Service   \n",
       "Residential             Laundry Service   \n",
       "Commercial              Office Cleaning   \n",
       "Commercial              Office Cleaning   \n",
       "Commercial        Retail Space Cleaning   \n",
       "Commercial        Retail Space Cleaning   \n",
       "Commercial               Window Washing   \n",
       "Landscape                     Lawn Care   \n",
       "Landscape                     Lawn Care   \n",
       "Landscape            Garden Maintenance   \n",
       "Landscape            Garden Maintenance   \n",
       "Landscape            Garden Maintenance   \n",
       "Landscape           Tree and Shrub Care   \n",
       "\n",
       "                                                              price  \n",
       "service_category                                                     \n",
       "Residential                                   $500 up to 3 bedrooms  \n",
       "Residential                            $100 each additional bedroom  \n",
       "Residential                                     $75 Inside cabinets  \n",
       "Residential                                             $50 Windows  \n",
       "Residential                                 $150 Carpet steam clean  \n",
       "Residential       Additional $200 for environmentally friendly p...  \n",
       "Residential                           $25 per load for wash and dry  \n",
       "Residential                                 $5 per item for ironing  \n",
       "Commercial              $20 per sqare foot up to 10,000 square feet  \n",
       "Commercial                           $10 per additional square foot  \n",
       "Commercial              $30 per sqare foot up to 10,000 square feet  \n",
       "Commercial                           $15 per additional square foot  \n",
       "Commercial                                           $50 per window  \n",
       "Landscape                                               $400 mowing  \n",
       "Landscape                 $200 edging and removal of grass cuttings  \n",
       "Landscape                     $250 per bed for weeding and mulching  \n",
       "Landscape                        $200 per bed for seasonal planting  \n",
       "Landscape                            $100 per bed for garden design  \n",
       "Landscape                                 $300 Pruning and trimming  "
      ]
     },
     "execution_count": 23,
     "metadata": {},
     "output_type": "execute_result"
    }
   ],
   "source": [
    "service_df = pd.read_csv('4_1_FunctionCalling_ServiceMenu.csv')\n",
    "service_df = service_df.set_index('service_category')\n",
    "service_df"
   ]
  },
  {
   "cell_type": "markdown",
   "id": "495a05b5-b2c5-4585-9656-ef2c727a528b",
   "metadata": {},
   "source": [
    "Create a dictionary from just the menu of services for the service category returned by the LLM in response to the customer inquiry."
   ]
  },
  {
   "cell_type": "code",
   "execution_count": 24,
   "id": "a18f1c3f-e638-4019-ba6d-764591e7f503",
   "metadata": {},
   "outputs": [],
   "source": [
    "def get_menu(service_category_input):\n",
    "    \n",
    "    menu = service_df.loc[service_category_input].groupby('service_type')['price'].apply(list).to_dict()\n",
    "\n",
    "    return menu"
   ]
  },
  {
   "cell_type": "code",
   "execution_count": 25,
   "id": "a5c3314e-d832-4bf6-822f-5cd52aef79c0",
   "metadata": {},
   "outputs": [
    {
     "data": {
      "text/plain": [
       "{'Deep Cleaning': ['$75 Inside cabinets',\n",
       "  '$50 Windows',\n",
       "  '$150 Carpet steam clean'],\n",
       " 'Eco-Friendly Cleaning': ['Additional $200 for environmentally friendly products and practices'],\n",
       " 'Laundry Service': ['$25 per load for wash and dry',\n",
       "  '$5 per item for ironing'],\n",
       " 'Standard Cleaning': ['$500 up to 3 bedrooms',\n",
       "  '$100 each additional bedroom']}"
      ]
     },
     "execution_count": 25,
     "metadata": {},
     "output_type": "execute_result"
    }
   ],
   "source": [
    "get_menu(service_category_input)"
   ]
  },
  {
   "cell_type": "markdown",
   "id": "554ed08c-0ed8-4a3c-a3f5-54a1371c7502",
   "metadata": {},
   "source": [
    "Now, let's put together a \"system\" with two calls to the LLM.\n",
    "\n",
    "The first takes the customer inquiry and returns the service category of the request, in the form of an argument for the function get_service_category().   \n",
    "After get_service_category(service_category_input) is run and the appropriate menu of serives retrieved from the db, a second LLM call is made with the menu appended as a new message.   \n",
    "The second (and subsequent) LLM calls talk the customer through their choices based on the menu retrieved."
   ]
  },
  {
   "cell_type": "code",
   "execution_count": 26,
   "id": "d2afaa1d-fe8a-468c-b475-97a56712f162",
   "metadata": {},
   "outputs": [],
   "source": [
    "def initialize_chatbot(system_message, customer_inquiry):\n",
    "    context = [ {'role':'system', 'content': system_message},\n",
    "                {'role':'user', 'content': customer_inquiry}]\n",
    "    response = get_output_service_category(context, temperature_input = 0)\n",
    "    context.append({'role':'assistant', 'content':f\"{response}\"})\n",
    "    return context, response"
   ]
  },
  {
   "cell_type": "code",
   "execution_count": 27,
   "id": "b3b691bf-3893-4097-83d5-271738265923",
   "metadata": {},
   "outputs": [],
   "source": [
    "def get_output_from_messages(messages_input, model_input = \"gpt-4o-mini\", temperature_input = 0):\n",
    "    response = client.chat.completions.create(\n",
    "        model = model_input,\n",
    "        messages = messages_input,\n",
    "        temperature = temperature_input,\n",
    "    )\n",
    "    response = response.choices[0].message.content\n",
    "    return response"
   ]
  },
  {
   "cell_type": "code",
   "execution_count": 28,
   "id": "27322021-975a-41e2-84d2-0a683575e3db",
   "metadata": {},
   "outputs": [],
   "source": [
    "def add_new_message(context, user_message):\n",
    "    context.append({'role':'user', 'content':f\"{user_message}\"})\n",
    "    response = get_output_from_messages(context, temperature_input = 1)\n",
    "    context.append({'role':'assistant', 'content':f\"{response}\"})\n",
    "    return context, response"
   ]
  },
  {
   "cell_type": "code",
   "execution_count": 29,
   "id": "34ed6c5a-35a4-4b2b-bfe2-b39b0e2eb1f1",
   "metadata": {},
   "outputs": [
    {
     "name": "stdout",
     "output_type": "stream",
     "text": [
      "Hey there! It sounds like you're interested in our cleaning services for your 3-bedroom house. We have different packages you can choose from:\n",
      "\n",
      "1. **Standard Cleaning** - This is $500 for up to 3 bedrooms. \n",
      "2. **Deep Cleaning** - This includes additional options like:\n",
      "   - $75 for cleaning inside cabinets,\n",
      "   - $50 for window cleaning,\n",
      "   - $150 for carpet steam cleaning.\n",
      "3. **Eco-Friendly Cleaning** - If you're looking for environmentally friendly products and practices, there's an additional charge of $200.\n",
      "4. **Laundry Service** - We also offer laundry services at $25 per load for wash and dry, and $5 per item for ironing.\n",
      "\n",
      "Do any of these options catch your eye? Or would you like to add anything else?\n"
     ]
    }
   ],
   "source": [
    "system_message = f\"\"\"\n",
    "You are OrderBot, an automated service to help customers sign up for the firm's cleaning services. \\\n",
    "You first greet the customer and find the service category of their inquiry. \\\n",
    "You wait to collect all the customer's needs, then summarize and check for a final time if the customer wants to add anything else. \\\n",
    "Make sure to clarify all options and extras to uniquely identify the item from the menu.\\\n",
    "You respond in a short, very conversational friendly style. \\\n",
    "\"\"\"\n",
    "\n",
    "customer_inquiry = f\"\"\"\n",
    "I would like to know more about your services.  I have a 3 bedroom house I would like cleaned.\n",
    "\"\"\"\n",
    "\n",
    "context, response = initialize_chatbot(system_message, customer_inquiry)\n",
    "service_category_input = json.loads(response.tool_calls[0].function.arguments)['service_category']\n",
    "menu_for_cust = get_menu(service_category_input)\n",
    "context.append({'role':'function', 'name': 'Extract_customer_request_attributes', 'content':json.dumps(menu_for_cust)})\n",
    "context, response = add_new_message(context, \"\")\n",
    "print(response)\n"
   ]
  },
  {
   "cell_type": "code",
   "execution_count": 30,
   "id": "409a59a2-2e49-4a89-a17a-be81ae8f6e1c",
   "metadata": {},
   "outputs": [
    {
     "name": "stdout",
     "output_type": "stream",
     "text": [
      "Great choice! The Deep Cleaning is a thorough service. Just to confirm, would you like to include any of the additional options, like cleaning inside cabinets, window cleaning, or carpet steam cleaning?  Let me know if you want any of those extras or any other services!\n"
     ]
    }
   ],
   "source": [
    "new_message = \"The Depp Cleaning sounds perfect\"\n",
    "context, response = add_new_message(context, new_message)\n",
    "print(response)"
   ]
  },
  {
   "cell_type": "code",
   "execution_count": 31,
   "id": "7b90c1f0-8fbf-474b-9b2a-430f8f9f7d26",
   "metadata": {},
   "outputs": [
    {
     "data": {
      "text/plain": [
       "[{'role': 'system',\n",
       "  'content': \"\\nYou are OrderBot, an automated service to help customers sign up for the firm's cleaning services. You first greet the customer and find the service category of their inquiry. You wait to collect all the customer's needs, then summarize and check for a final time if the customer wants to add anything else. Make sure to clarify all options and extras to uniquely identify the item from the menu.You respond in a short, very conversational friendly style. \"},\n",
       " {'role': 'user',\n",
       "  'content': '\\nI would like to know more about your services.  I have a 3 bedroom house I would like cleaned.\\n'},\n",
       " {'role': 'assistant',\n",
       "  'content': 'ChatCompletionMessage(content=None, refusal=None, role=\\'assistant\\', audio=None, function_call=None, tool_calls=[ChatCompletionMessageToolCall(id=\\'call_mweCQ2iTrBWBu4XrpT9T8qvL\\', function=Function(arguments=\\'{\"service_category\":\"Residential\"}\\', name=\\'Get_Custom_Menu\\'), type=\\'function\\')], annotations=[])'},\n",
       " {'role': 'function',\n",
       "  'name': 'Extract_customer_request_attributes',\n",
       "  'content': '{\"Deep Cleaning\": [\"$75 Inside cabinets\", \"$50 Windows\", \"$150 Carpet steam clean\"], \"Eco-Friendly Cleaning\": [\"Additional $200 for environmentally friendly products and practices\"], \"Laundry Service\": [\"$25 per load for wash and dry\", \"$5 per item for ironing\"], \"Standard Cleaning\": [\"$500 up to 3 bedrooms\", \"$100 each additional bedroom\"]}'},\n",
       " {'role': 'user', 'content': ''},\n",
       " {'role': 'assistant',\n",
       "  'content': \"Hey there! It sounds like you're interested in our cleaning services for your 3-bedroom house. We have different packages you can choose from:\\n\\n1. **Standard Cleaning** - This is $500 for up to 3 bedrooms. \\n2. **Deep Cleaning** - This includes additional options like:\\n   - $75 for cleaning inside cabinets,\\n   - $50 for window cleaning,\\n   - $150 for carpet steam cleaning.\\n3. **Eco-Friendly Cleaning** - If you're looking for environmentally friendly products and practices, there's an additional charge of $200.\\n4. **Laundry Service** - We also offer laundry services at $25 per load for wash and dry, and $5 per item for ironing.\\n\\nDo any of these options catch your eye? Or would you like to add anything else?\"},\n",
       " {'role': 'user', 'content': 'The Depp Cleaning sounds perfect'},\n",
       " {'role': 'assistant',\n",
       "  'content': 'Great choice! The Deep Cleaning is a thorough service. Just to confirm, would you like to include any of the additional options, like cleaning inside cabinets, window cleaning, or carpet steam cleaning?  Let me know if you want any of those extras or any other services!'}]"
      ]
     },
     "execution_count": 31,
     "metadata": {},
     "output_type": "execute_result"
    }
   ],
   "source": [
    "context"
   ]
  }
 ],
 "metadata": {
  "kernelspec": {
   "display_name": "Python 3 (ipykernel)",
   "language": "python",
   "name": "python3"
  },
  "language_info": {
   "codemirror_mode": {
    "name": "ipython",
    "version": 3
   },
   "file_extension": ".py",
   "mimetype": "text/x-python",
   "name": "python",
   "nbconvert_exporter": "python",
   "pygments_lexer": "ipython3",
   "version": "3.12.4"
  }
 },
 "nbformat": 4,
 "nbformat_minor": 5
}
