{
 "cells": [
  {
   "cell_type": "code",
   "execution_count": null,
   "id": "41cdae85-d1e0-4e3e-a3e6-84c7faad119f",
   "metadata": {},
   "outputs": [],
   "source": [
    "#!pip install -U langchain_openai\n",
    "#!pip install langchain\n",
    "#!pip install -U langchain-community"
   ]
  },
  {
   "cell_type": "code",
   "execution_count": 1,
   "id": "9779ced4-946e-4d6d-9c1a-3844313018ca",
   "metadata": {},
   "outputs": [],
   "source": [
    "import openai\n",
    "from dotenv import load_dotenv\n",
    "import os\n",
    "\n",
    "load_dotenv()\n",
    "os.environ[\"OPENAI_API_KEY\"] = os.getenv(\"openai_api_key\")"
   ]
  },
  {
   "cell_type": "code",
   "execution_count": 3,
   "id": "f0b63ed8-10e7-43b2-948e-f06a23c52d6e",
   "metadata": {},
   "outputs": [],
   "source": [
    "from langchain_core.prompts import ChatPromptTemplate\n",
    "from langchain_openai import ChatOpenAI\n",
    "\n",
    "from langchain.output_parsers import ResponseSchema, StructuredOutputParser, CommaSeparatedListOutputParser\n",
    "from langchain.output_parsers.openai_functions import JsonOutputFunctionsParser\n",
    "\n",
    "model = ChatOpenAI(model=\"gpt-4o-mini\")\n"
   ]
  },
  {
   "attachments": {},
   "cell_type": "markdown",
   "id": "b0cf08ec-bba8-4bb6-a9c6-a1a7f1d8734e",
   "metadata": {},
   "source": [
    "Output parsers have an associated method \n",
    ".get_format_instructions() that returns a string containing instructions for how the output of a language model should be formattd.  These format instructions are also used an inputs in the prompt..\r\n"
   ]
  },
  {
   "cell_type": "code",
   "execution_count": 4,
   "id": "39918563-a49a-4971-ab73-f293d250c250",
   "metadata": {},
   "outputs": [
    {
     "data": {
      "text/plain": [
       "'Your response should be a list of comma separated values, eg: `foo, bar, baz` or `foo,bar,baz`'"
      ]
     },
     "execution_count": 4,
     "metadata": {},
     "output_type": "execute_result"
    }
   ],
   "source": [
    "output_parser = CommaSeparatedListOutputParser()\n",
    "csv_format_ins = output_parser.get_format_instructions()\n",
    "csv_format_ins"
   ]
  },
  {
   "cell_type": "markdown",
   "id": "357fa596-ccfe-4c6c-8948-7a0dc49392d8",
   "metadata": {},
   "source": [
    "Example 1:  Prompt that returns 5 examples of a given subject, formatted as CSV"
   ]
  },
  {
   "cell_type": "code",
   "execution_count": 5,
   "id": "1216417e-3a2d-44f0-88d4-7512beadd952",
   "metadata": {},
   "outputs": [],
   "source": [
    "prompt_template = \"\"\"\n",
    "List {number} examples of {subject}.  Format instructions:  {format_instructions}\n",
    "\"\"\"\n",
    "\n",
    "prompt_1 = ChatPromptTemplate.from_template(template = prompt_template)"
   ]
  },
  {
   "cell_type": "code",
   "execution_count": 6,
   "id": "ad9bca4c-1af2-4988-a49d-6a6540c472e7",
   "metadata": {},
   "outputs": [
    {
     "data": {
      "text/plain": [
       "['format_instructions', 'number', 'subject']"
      ]
     },
     "execution_count": 6,
     "metadata": {},
     "output_type": "execute_result"
    }
   ],
   "source": [
    "prompt_1.messages[0].prompt.input_variables"
   ]
  },
  {
   "cell_type": "code",
   "execution_count": 10,
   "id": "6de867e9-2246-4f2e-aa90-d2aafa60d387",
   "metadata": {},
   "outputs": [
    {
     "name": "stdout",
     "output_type": "stream",
     "text": [
      "['Christmas', 'Thanksgiving', 'Halloween', 'Easter', \"New Year's Day\", 'Independence Day', \"Valentine's Day\", 'Labor Day']\n"
     ]
    }
   ],
   "source": [
    "chain = prompt_1 | model | output_parser\n",
    "\n",
    "subject_input = \"Holidays\"\n",
    "number_input = 8\n",
    "\n",
    "response = chain.invoke({\"format_instructions\": csv_format_ins, \"number\": number_input, \"subject\": subject_input})\n",
    "print(response)"
   ]
  },
  {
   "cell_type": "code",
   "execution_count": 9,
   "id": "0a2ea80f-b52f-4392-9e20-d03ae701ea81",
   "metadata": {},
   "outputs": [
    {
     "data": {
      "text/plain": [
       "'Abraham Lincoln'"
      ]
     },
     "execution_count": 9,
     "metadata": {},
     "output_type": "execute_result"
    }
   ],
   "source": [
    "response[1]"
   ]
  },
  {
   "cell_type": "markdown",
   "id": "f7802842-aec9-4721-bb76-1b9f0d16dab3",
   "metadata": {},
   "source": [
    "Example 2:  Model that users OpenAI fuction calling (by binding the model to a defined function) and JsonOutputFunctionsParser() to tag a document with keywords."
   ]
  },
  {
   "cell_type": "code",
   "execution_count": 11,
   "id": "b5447f84-10a4-4593-a001-cb0f1f76b6d8",
   "metadata": {},
   "outputs": [
    {
     "name": "stderr",
     "output_type": "stream",
     "text": [
      "USER_AGENT environment variable not set, consider setting it to identify your requests.\n"
     ]
    }
   ],
   "source": [
    "from langchain.document_loaders import WebBaseLoader\n",
    "loader = WebBaseLoader(\"https://finance.yahoo.com/news/us-economy-adds-303000-jobs-unemployment-falls-to-38-in-march-as-labor-market-continues-to-impress-123226886.html\")\n",
    "documents = loader.load()"
   ]
  },
  {
   "cell_type": "code",
   "execution_count": 12,
   "id": "7b8482c9-9e5c-41e4-8499-3509f715eaf3",
   "metadata": {},
   "outputs": [
    {
     "data": {
      "text/plain": [
       "'\\n\\n\\n\\n\\n\\n\\n\\n\\n\\n\\n\\n\\n\\n\\n\\n\\n\\n\\n\\n\\n\\n\\n\\n\\n\\n\\n\\n\\n\\n\\n\\n\\n\\n\\n\\n\\n\\n\\n\\n\\n\\n\\n\\n\\n\\n\\n\\n\\n\\n\\n\\n\\n\\n\\n\\n\\n\\n\\n\\n\\n\\n\\n\\n\\n\\n\\n\\n\\n\\n\\n\\n\\n\\n\\n\\n\\n\\n\\n\\n\\n\\n\\n\\n\\n\\n\\n\\nUS economy adds 303,000 jobs, unemployment falls to 3.8% in March as labor market continues to impress   \\n\\n\\n\\n              News  Today\\'s news   US   Politics   World   Tech  Reviews and deals  Audio  Computing  Gaming  Health  Home  Phones  Science  TVs     Climate change   Health   Science   2024 election   Originals  The 360     Newsletters    Life  Health  COVID-19  Fall allergies  Health news  Mental health  Relax  Sexual health  Studies  The Unwind     Parenting  Family health  So mini ways     Style and beauty  It Figures  Unapologetically     Horoscopes   Shopping  Buying guides     Food   Travel   Autos   Gift ideas   Buying guides    Entertainment  Celebrity   TV   Movies   Music   How to Watch   Interviews   Videos     Finance  My Portfolio   News  Latest News  Stock Market  Originals  The Morning Brief  Premium News     Economics  Housing  Earnings  Tech  Crypto  Biden Economy     Markets  Stocks: Most Actives  Stocks: Gainers  Stocks: Losers  Trending Tickers  Futures  World Indices  US Treasury Bonds Rates  Currencies  Crypto  Top ETFs  Top Mutual Funds  Options: Highest Open Interest  Options: Highest Implied Volatility  Sectors  Basic Materials  Communication Services  Consumer Cyclical  Consumer Defensive  Energy  Financial Services  Healthcare  Industrials  Real Estate  Technology  Utilities     Research  Screeners  Screeners Beta  Watchlists  Calendar  Stock Comparison  Advanced Chart  Currency Converter  Investment Ideas     Research Reports        Personal Finance  Credit Cards  Balance Transfer Cards  Cash-back Cards  Rewards Cards  Travel Cards  Credit Card Offers  Banking  CD Rates  Best HYSA  Best Free Checking  Student Loans  Personal Loans  Insurance  Car insurance  Mortgages  Mortgage Refinancing  Mortgage Calculator  Taxes     Videos  Latest News  Editor\\'s Picks  Investing Insights  Trending Stocks  All Shows  Morning Brief  Opening Bid  Wealth  Invest  ETF Report      Sports  Fantasy  News  Fantasy football  Best Ball  Pro Pick \\'Em  College Pick \\'Em  Fantasy baseball  Fantasy hockey  Fantasy basketball  Download the app     Daily fantasy   NFL  News  Scores and schedules  Standings  Stats  Teams  Players  Drafts  Injuries  Odds  Super Bowl  GameChannel  Videos     MLB  News  Scores and schedules  Standings  Stats  Teams  Players  Odds  Videos  World Baseball Classic     NBA  News  Draft  Scores and schedules  Standings  Stats  Teams  Players  Injuries  Videos  Odds  Playoffs     NHL  News  Scores and schedules  Standings  Stats  Teams  Players  Odds  Playoffs     Soccer  News  Scores and schedules  Premier League  MLS  NWSL  Liga MX  CONCACAF League  Champions League  La Liga  Serie A  Bundesliga  Ligue 1  World Cup     College football  News  Scores and schedules  Standings  Rankings  Stats  Teams     Show all  MMA  WNBA  Sportsbook  NCAAF  Tennis  Golf  NASCAR  NCAAB  NCAAW  Boxing  USFL  Cycling  Motorsports  Olympics  Horse racing  GameChannel  Rivals  Newsletters  Podcasts  Videos  RSS  Jobs  Help  World Cup  More news     New on Yahoo Creators Games Tech    Terms  Privacy  Privacy Dashboard   Feedback   © 2024  All rights reserved.  About our ads  Advertising  Careers    Yahoo Finance                                    Yahoo Finance    Search query                  Select edition  USEnglish   US y LATAMEspañol  AustraliaEnglish  CanadaEnglish  CanadaFrançais  DeutschlandDeutsch  FranceFrançais  香港繁中  MalaysiaEnglish  New ZealandEnglish  SingaporeEnglish  台灣繁中  UKEnglish     News   Finance   Sports   More News Today\\'s news  US  Politics  World  Weather  Climate change  Health  Science  2024 election  Originals  Newsletters   Life Health  Parenting  Style and beauty  Horoscopes  Shopping  Food  Travel  Autos  Gift ideas  Buying guides   Entertainment Celebrity  TV  Movies  Music  How to watch  Interviews  Videos   Finance My portfolio  Watchlists  Markets  News  Videos  Screeners  Personal finance  Crypto  Industries   Sports Fantasy  NFL  NBA  MLB  NHL  College football  College basketball  Soccer  MMA  Yahoo Sports AM    New on Yahoo Creators Games Tech    Selected edition   USEnglish            Mail       Sign in       My Portfolio    News    Latest News Stock Market Originals The Morning Brief Premium News   Economics Housing Earnings Tech Crypto Biden Economy    Markets    Stocks: Most Actives Stocks: Gainers Stocks: Losers Trending Tickers Futures World Indices US Treasury Bonds Rates Currencies Crypto Top ETFs Top Mutual Funds Options: Highest Open Interest Options: Highest Implied Volatility Sectors Basic Materials Communication Services Consumer Cyclical Consumer Defensive Energy Financial Services Healthcare Industrials Real Estate Technology Utilities    Research    Screeners Screeners Beta Watchlists Calendar Stock Comparison Advanced Chart Currency Converter Investment Ideas   Research Reports      Personal Finance    Credit Cards Balance Transfer Cards Cash-back Cards Rewards Cards Travel Cards Credit Card Offers Banking CD Rates Best HYSA Best Free Checking Student Loans Personal Loans Insurance Car insurance Mortgages Mortgage Refinancing Mortgage Calculator Taxes    Videos    Latest News Editor\\'s Picks Investing Insights Trending Stocks All Shows Morning Brief Opening Bid Wealth Invest ETF Report    …  \\n\\n\\n\\n\\nUpgrade to Premium\\n\\n        $NVDA EARNINGS Brian Sozzi and market pro Jeff Jacobson preview Nvidia\\'s report on Opening Bid         US economy adds 303,000 jobs, unemployment falls to 3.8% in March as labor market continues to impress         Josh Schafer    · Reporter Updated Fri, Apr 5, 2024, 9:56 AM 3 min read                    The US economy added more jobs than expected in March while the unemployment rate ticked lower, underscoring signs the labor market remains on stronger footing than many economists had predicted. Data from the Bureau of Labor Statistics released Friday showed the labor market added 303,000 nonfarm payroll jobs in March, significantly more than the 214,000 expected by economists. Meanwhile, the unemployment rate decreased to 3.8% from 3.9% in February.   Meanwhile, wages, considered an important metric for inflation pressures, increased 4.1% year over year, their lowest annual gain since June 2021. On a monthly basis, wages increased 0.3%, an increase from the previous month\\'s 0.2% gain. The report comes as investors watch for signs of cooling in the labor market while hoping for\\xa0overall strength to support Federal Reserve Chair Jerome Powell\\'s current base case for three interest rate cuts later this year. After two months of strong job gains, Powell referred to the labor market as \"strong but rebalancing\" in a speech at Stanford University on Thursday.    A healthy job market has been considered key to the economy avoiding recession while the Fed keeps rates restrictive to help fight inflation. “The strong and broad-based pace of job creation in March topped all estimates and underscores the Fed will be in no hurry to start cutting interest rates,” Nationwide chief economist Kathy Bostjancic wrote in a note to clients. “However, as Chairman Powell has indicated, the robust increase in employment will not preclude an easing of monetary policy since in part it reflects an increase in labor supply.\" To Bostjancic\\'s point, the labor force participation rate picked up to 62.7% from 62.5% previously, and the average weekly hours worked ticked up from 34.3 to 34.4.   The largest jobs increases in Friday\\'s report were seen in healthcare, which added 72,000 jobs in March. Meanwhile, government employment added 71,000 jobs. Construction added 39,000 jobs, doubling its average monthly gain over the last 12 months. Broadly, other data out this week has reflected a still-resilient labor market. The latest Job Openings and Labor Turnover Survey (JOLTS), released Tuesday, showed both job openings and hires ticked up slightly in February. Meanwhile, the latest data on private employment from ADP showed 185,000 private jobs were added in March, above the 155,000 seen in February.    \"The February Job Openings and Labor Turnover Survey report is consistent with a labor market that is still quite healthy,\" Oxford Economics lead US economist Nancy Vanden Houten wrote in a note to clients on Tuesday.  Story Continues    The recent labor market data paints a picture of a strong economy that, for now, appears to be able to withstand higher interest rates while the Fed waits for inflation to fall further. Investors shifted their bets on when the Fed will cut slightly following the report. Investors are now pricing in a 55% chance the Fed cuts in June, down from a 60% chance a week ago, per the CME FedWatch Tool. \"The blockbuster 303,000 increase in non-farm payrolls in March supports the Fed’s position that the resilience of the economy means it can take its time with rate cuts, which might now not begin until the second half of this year,\" Capital Economics chief North America economist Paul Ashworth wrote in a note to clients.   Construction workers look up at damage to the South Station Tower. (Jonathan Wiggs/The Boston Globe via Getty Images) · Boston Globe via Getty Images  Josh Schafer is a reporter for Yahoo Finance. Follow him on X @_joshschafer. Click here for the latest stock market news and in-depth analysis, including events that move stocks Read the latest financial and business news from Yahoo Finance  Terms   and Privacy Policy    Privacy Dashboard        Recommended Stories        Copyright © 2024 Yahoo. All rights reserved.     POPULAR QUOTES Dow Jones   S&P 500   DAX Index   Nvidia   Tesla   DJT    EXPLORE MORE Mortgages   Credit Cards   Sectors   Crypto Heatmap   Biden Economy   Financial News    ABOUT Data Disclaimer   Help   Feedback   Sitemap   Licensing    What\\'s New   About Our Ads    Premium Plans   Terms   and Privacy Policy    Privacy Dashboard                  U.S. markets open in 6m     US    Europe    Asia    Rates    Commodities    Currencies    Cryptocurrencies     S&P Futures   5,940.00 +1.25 (+0.02%)           Dow Futures   43,463.00 +63.00 (+0.15%)           Nasdaq Futures   20,765.50 -2.25 (-0.01%)           Russell 2000 Futures   2,332.20 -1.90 (-0.08%)           Crude Oil   70.10 +0.71 (+1.02%)           Gold   2,642.20 +11.20 (+0.43%)                     My Portfolios   My Portfolios   Sign in to access your portfolio Sign in       Top Gainers     SMCI Super Micro Computer, Inc. 28.27 +6.73 (+31.24%)            SYM Symbotic Inc. 39.02 +8.46 (+27.68%)            AI C3.ai, Inc. 32.96 +6.42 (+24.19%)            LMND Lemonade, Inc. 40.14 +5.83 (+16.99%)            ACHR Archer Aviation Inc. 5.13 +0.72 (+16.33%)               Top Losers     GDS GDS Holdings Limited 19.68 -3.81 (-16.22%)            DJTWW Trump Media & Technology Group Corp. 20.90 -2.58 (-10.99%)            DJT Trump Media & Technology Group Corp. 29.87 -2.91 (-8.88%)            VVV Valvoline Inc. 38.65 -3.68 (-8.69%)            INCY Incyte Corporation 70.56 -6.41 (-8.33%)               Most Active     SMCI Super Micro Computer, Inc. 28.27 +6.73 (+31.24%)            NVDA NVIDIA Corporation 147.01 +6.86 (+4.89%)            GRAB Grab Holdings Limited 5.46 +0.47 (+9.42%)            MARA MARA Holdings, Inc. 19.86 +1.76 (+9.69%)            TSLA Tesla, Inc. 346.00 +7.26 (+2.14%)               Trending Tickers     TGT Target Corporation 156.00 -0.56 (-0.36%)            NVDA NVIDIA Corporation 147.01 +6.86 (+4.89%)            LMND Lemonade, Inc. 40.14 +5.83 (+16.99%)            AI C3.ai, Inc. 32.96 +6.42 (+24.19%)            BTC-USD Bitcoin USD 94,253.25 +2,677.66 (+2.92%)               Top Economic Events   Top Economic Events    United States       MBA 30-Yr Mortgage Rate  Nov 20, 2024, 7:00 AM EST Prior: P: 6.86 New: N: 6.9   MBA 30-Yr Mortgage Rate  Prior: 6.86 New: 6.9    MBA 30-Yr Mortgage Rate  Nov 20, 2024, 7:00 AM EST Prior: Prior: 6.86 New: New: 6.9     Mortgage Market Index  Nov 20, 2024, 7:00 AM EST Prior: P: 192.4 New: N: 195.6   Mortgage Market Index  Prior: 192.4 New: 195.6    Mortgage Market Index  Nov 20, 2024, 7:00 AM EST Prior: Prior: 192.4 New: New: 195.6              Terms   and Privacy Policy    Privacy Dashboard   Ad Terms   Feedback            \\n\\n\\n\\n\\n\\n\\n\\n\\n\\n\\n\\n\\n\\n\\n\\n\\n\\n\\n\\n\\n\\n\\n\\n\\n\\n'"
      ]
     },
     "execution_count": 12,
     "metadata": {},
     "output_type": "execute_result"
    }
   ],
   "source": [
    "doc = documents[0]\n",
    "doc.page_content"
   ]
  },
  {
   "cell_type": "markdown",
   "id": "e8863336-890f-4689-b42e-5ffa1f8da7a8",
   "metadata": {},
   "source": [
    "Create the schema for a function call for \"Keyword Tagging\".  This function returns the arguments \"summary\" and \"keywords\", based on the document input by the user (in this case loaded from a website)."
   ]
  },
  {
   "cell_type": "code",
   "execution_count": 14,
   "id": "7ee2023d-28e3-4df3-be1b-ce34002d137e",
   "metadata": {},
   "outputs": [],
   "source": [
    "prompt_2 = ChatPromptTemplate.from_messages([\n",
    "    (\"system\", \"Extract the relevant information, if not explicitly provided do not guess. Extract partial info\"),\n",
    "    (\"human\", \"{input}\")\n",
    "])"
   ]
  },
  {
   "cell_type": "code",
   "execution_count": 15,
   "id": "2c9d1b94-579c-4c11-9f25-204d3861d472",
   "metadata": {},
   "outputs": [],
   "source": [
    "function_tag_with_keywords = [{'name': 'Keyword_Tag',\n",
    "                                'description': 'Extract keywords from document.',\n",
    "                                'parameters': {  'properties':  \n",
    "                                                 {\n",
    "                                                    'summary': {'description': 'Provide a concise summary of the content.', 'type': 'string'},\n",
    "                                                    'keywords': {'description': 'Provide keywords related to the content.', 'type': 'string'}\n",
    "                                                 },\n",
    "                                                 'required': ['summary', 'keywords'],\n",
    "                                                 'type': 'object'\n",
    "                                              }\n",
    "                                }]"
   ]
  },
  {
   "cell_type": "markdown",
   "id": "b008e8a0-7f0b-44ee-adb1-d68ff2bb17af",
   "metadata": {},
   "source": [
    "We can use the OpenAI function calling capacility from Langchin by binding the function to the model using model.bind()\n",
    "\n",
    "We will also use the JsonOutputFunctionsParser() for the output."
   ]
  },
  {
   "cell_type": "code",
   "execution_count": 16,
   "id": "963875c4-73f5-4a81-a430-9f118aad1445",
   "metadata": {},
   "outputs": [],
   "source": [
    "model_tagging = model.bind(\n",
    "    functions = function_tag_with_keywords,\n",
    "    function_call = {\"name\":\"Keyword_Tag\"}\n",
    ")\n",
    "\n",
    "tagging_chain = prompt_2 | model_tagging | JsonOutputFunctionsParser()"
   ]
  },
  {
   "cell_type": "code",
   "execution_count": 18,
   "id": "cac21d46-d2c2-432c-b58c-53c435493dce",
   "metadata": {},
   "outputs": [],
   "source": [
    "response = tagging_chain.invoke({\"input\": doc.page_content})"
   ]
  },
  {
   "cell_type": "code",
   "execution_count": 23,
   "id": "8ca6370e-fabb-42fc-bdd1-a9f8270876c4",
   "metadata": {},
   "outputs": [
    {
     "data": {
      "text/plain": [
       "{'summary': \"In March 2024, the US economy added 303,000 jobs, surpassing expectations of 214,000. The unemployment rate fell to 3.8% from 3.9% in February. Wages increased by 4.1% year-over-year, marking the lowest annual gain since June 2021. The labor force participation rate rose to 62.7%. Major job gains were seen in healthcare (72,000 jobs) and government (71,000 jobs). This labor market strength may impact the Federal Reserve's decision on interest rate cuts.\",\n",
       " 'keywords': 'US economy, jobs added, unemployment rate, Bureau of Labor Statistics, labor market, wages, Federal Reserve, interest rates, healthcare jobs, government jobs, labor force participation'}"
      ]
     },
     "execution_count": 23,
     "metadata": {},
     "output_type": "execute_result"
    }
   ],
   "source": [
    "response"
   ]
  },
  {
   "cell_type": "code",
   "execution_count": 24,
   "id": "1fc866ca-34ba-4cf9-b6ae-e2fb470cf5fd",
   "metadata": {},
   "outputs": [
    {
     "data": {
      "text/plain": [
       "'US economy, jobs added, unemployment rate, Bureau of Labor Statistics, labor market, wages, Federal Reserve, interest rates, healthcare jobs, government jobs, labor force participation'"
      ]
     },
     "execution_count": 24,
     "metadata": {},
     "output_type": "execute_result"
    }
   ],
   "source": [
    "response['keywords']"
   ]
  },
  {
   "cell_type": "markdown",
   "id": "972f375d-2fe4-4cf9-bbd5-1eced2fde56b",
   "metadata": {},
   "source": [
    "Example 3: (adapted from Langchain course on deeplearning.ai)\n",
    "\n",
    "Uses StructuredOutputParser to create structre from response schema."
   ]
  },
  {
   "cell_type": "code",
   "execution_count": 33,
   "id": "d2ecbd79-ff1a-4221-bef7-c9eea23c3121",
   "metadata": {},
   "outputs": [],
   "source": [
    "customer_review = \"\"\"\\\n",
    "This leaf blower is pretty amazing.  It has four settings: candle blower, gentle breeze, windy city, and tornado. \n",
    "It arrived in two days, just in time for my wife's anniversary present. \n",
    "I think my wife liked it so much she was speechless. So far I've been the only one using it, and I've been \n",
    "using it every other morning to clear the leaves on our lawn. \n",
    "It's slightly more expensive than the other leaf blowers out there,\n",
    "but I think it's worth it for the extra features.\n",
    "\"\"\"\n"
   ]
  },
  {
   "cell_type": "code",
   "execution_count": 34,
   "id": "1c81eb29-cdc0-4d6d-a79a-204d61f2f79f",
   "metadata": {},
   "outputs": [],
   "source": [
    "gift_schema = ResponseSchema(name=\"gift\",\n",
    "                             description=\"Was the item purchased\\\n",
    "                             as a gift for someone else? \\\n",
    "                             Answer True if yes,\\\n",
    "                             False if not or unknown.\")\n",
    "\n",
    "delivery_days_schema = ResponseSchema(name=\"delivery_days\",\n",
    "                                      description=\"How many days\\\n",
    "                                      did it take for the product\\\n",
    "                                      to arrive? If this \\\n",
    "                                      information is not found,\\\n",
    "                                      output -1.\")\n",
    "\n",
    "price_value_schema = ResponseSchema(name=\"price_value\",\n",
    "                                    description=\"Extract any\\\n",
    "                                    sentences about the value or \\\n",
    "                                    price, and output them as a \\\n",
    "                                    comma separated Python list.\")\n",
    "\n",
    "response_schemas = [gift_schema, \n",
    "                    delivery_days_schema,\n",
    "                    price_value_schema]"
   ]
  },
  {
   "cell_type": "code",
   "execution_count": 35,
   "id": "6ba70ca3-029d-4b95-b49b-4ee62172e41c",
   "metadata": {},
   "outputs": [
    {
     "data": {
      "text/plain": [
       "'The output should be a markdown code snippet formatted in the following schema, including the leading and trailing \"```json\" and \"```\":\\n\\n```json\\n{\\n\\t\"gift\": string  // Was the item purchased                             as a gift for someone else?                              Answer True if yes,                             False if not or unknown.\\n\\t\"delivery_days\": string  // How many days                                      did it take for the product                                      to arrive? If this                                       information is not found,                                      output -1.\\n\\t\"price_value\": string  // Extract any                                    sentences about the value or                                     price, and output them as a                                     comma separated Python list.\\n}\\n```'"
      ]
     },
     "execution_count": 35,
     "metadata": {},
     "output_type": "execute_result"
    }
   ],
   "source": [
    "output_parser = StructuredOutputParser.from_response_schemas(response_schemas)\n",
    "format_instructions = output_parser.get_format_instructions()\n",
    "format_instructions"
   ]
  },
  {
   "cell_type": "code",
   "execution_count": 36,
   "id": "627a12c9-5616-430d-a17c-01729f1d596f",
   "metadata": {},
   "outputs": [],
   "source": [
    "review_template = \"\"\"\\\n",
    "For the following text, extract the following information:\n",
    "\n",
    "gift: Was the item purchased as a gift for someone else? \\\n",
    "Answer True if yes, False if not or unknown.\n",
    "\n",
    "delivery_days: How many days did it take for the product\\\n",
    "to arrive? If this information is not found, output -1.\n",
    "\n",
    "price_value: Extract any sentences about the value or price,\\\n",
    "and output them as a comma separated Python list.\n",
    "\n",
    "text: {text}\n",
    "\n",
    "{format_instructions}\n",
    "\"\"\"\n",
    "\n",
    "prompt_3 = ChatPromptTemplate.from_template(template=review_template)\n"
   ]
  },
  {
   "cell_type": "code",
   "execution_count": 37,
   "id": "1b38c7f3-5a5d-4d68-b7a7-647a13eb9f25",
   "metadata": {},
   "outputs": [
    {
     "data": {
      "text/plain": [
       "['format_instructions', 'text']"
      ]
     },
     "execution_count": 37,
     "metadata": {},
     "output_type": "execute_result"
    }
   ],
   "source": [
    "prompt_3.messages[0].prompt.input_variables"
   ]
  },
  {
   "cell_type": "code",
   "execution_count": 38,
   "id": "fd2e103c-cf6e-4d37-91f1-67de6767baf9",
   "metadata": {},
   "outputs": [
    {
     "data": {
      "text/plain": [
       "{'gift': 'True',\n",
       " 'delivery_days': '2',\n",
       " 'price_value': \"It's slightly more expensive than the other leaf blowers out there, but I think it's worth it for the extra features.\"}"
      ]
     },
     "execution_count": 38,
     "metadata": {},
     "output_type": "execute_result"
    }
   ],
   "source": [
    "chain = prompt_3 | model |output_parser\n",
    "\n",
    "response = chain.invoke({\"format_instructions\": format_instructions, \"text\": customer_review})\n",
    "\n",
    "response"
   ]
  },
  {
   "cell_type": "code",
   "execution_count": 28,
   "id": "cabc9e67-a89c-490c-ae76-254aebee16c4",
   "metadata": {},
   "outputs": [
    {
     "data": {
      "text/plain": [
       "dict"
      ]
     },
     "execution_count": 28,
     "metadata": {},
     "output_type": "execute_result"
    }
   ],
   "source": [
    "type(response)"
   ]
  },
  {
   "cell_type": "code",
   "execution_count": 29,
   "id": "a5572c60-4a56-461c-9805-6ea3b3f5975d",
   "metadata": {},
   "outputs": [
    {
     "data": {
      "text/plain": [
       "'2'"
      ]
     },
     "execution_count": 29,
     "metadata": {},
     "output_type": "execute_result"
    }
   ],
   "source": [
    "response['delivery_days']"
   ]
  },
  {
   "cell_type": "code",
   "execution_count": null,
   "id": "e2e5ad8f-c216-4e87-a410-a041b1e6f485",
   "metadata": {},
   "outputs": [],
   "source": []
  }
 ],
 "metadata": {
  "kernelspec": {
   "display_name": "Python 3 (ipykernel)",
   "language": "python",
   "name": "python3"
  },
  "language_info": {
   "codemirror_mode": {
    "name": "ipython",
    "version": 3
   },
   "file_extension": ".py",
   "mimetype": "text/x-python",
   "name": "python",
   "nbconvert_exporter": "python",
   "pygments_lexer": "ipython3",
   "version": "3.12.7"
  }
 },
 "nbformat": 4,
 "nbformat_minor": 5
}
