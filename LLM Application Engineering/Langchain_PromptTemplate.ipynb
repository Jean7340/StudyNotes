{
 "cells": [
  {
   "cell_type": "code",
   "execution_count": 2,
   "id": "b2c73849-bf0c-42e3-8243-94130aca80e8",
   "metadata": {},
   "outputs": [],
   "source": [
    "#!pip install -U langchain_openai\n",
    "#!pip install langchain\n",
    "#!pip install -U langchain-community\n"
   ]
  },
  {
   "cell_type": "code",
   "execution_count": 1,
   "id": "9353f2a6-c1c7-4ec3-9cd0-fa655680c695",
   "metadata": {},
   "outputs": [],
   "source": [
    "import openai\n",
    "from dotenv import load_dotenv\n",
    "import os\n",
    "\n",
    "load_dotenv()\n",
    "os.environ[\"OPENAI_API_KEY\"] = os.getenv(\"openai_api_key\")"
   ]
  },
  {
   "cell_type": "markdown",
   "id": "1f654104-b96a-4a0a-8e9c-9f9798c87eac",
   "metadata": {},
   "source": [
    "We will create a Prompt Template that has a prompt and input variables.  The Prompt Template creates a \"reusable\" prompt, which accepts different inputs from the user or previous step in the chain."
   ]
  },
  {
   "cell_type": "code",
   "execution_count": 3,
   "id": "38bfbe61-e99f-4304-bc06-0e6aa8ca62cb",
   "metadata": {},
   "outputs": [],
   "source": [
    "from langchain_core.prompts import ChatPromptTemplate\n",
    "\n",
    "template_string = \"\"\"Translate the text that is delimited by triple backticks into a style that is {style}. \n",
    "text: ```{text}```\n",
    "\"\"\"\n",
    "\n",
    "prompt = ChatPromptTemplate.from_template(template_string)\n"
   ]
  },
  {
   "cell_type": "code",
   "execution_count": 4,
   "id": "4e9eb464-fb4d-44b2-8212-ac84083f32ed",
   "metadata": {},
   "outputs": [
    {
     "data": {
      "text/plain": [
       "langchain_core.prompts.prompt.PromptTemplate"
      ]
     },
     "execution_count": 4,
     "metadata": {},
     "output_type": "execute_result"
    }
   ],
   "source": [
    "type(prompt.messages[0].prompt)"
   ]
  },
  {
   "cell_type": "markdown",
   "id": "7a10fb88-0e6d-4dcf-8903-9984ef736d7e",
   "metadata": {},
   "source": [
    "Here, the prompt's input variable are \"style\" and \"text\".  This prompt can be used to translate any specified text into any specified style."
   ]
  },
  {
   "cell_type": "code",
   "execution_count": 5,
   "id": "ac76bc6c-651a-42c7-b832-88ea0205e43b",
   "metadata": {},
   "outputs": [
    {
     "data": {
      "text/plain": [
       "['style', 'text']"
      ]
     },
     "execution_count": 5,
     "metadata": {},
     "output_type": "execute_result"
    }
   ],
   "source": [
    "prompt.messages[0].prompt.input_variables\n"
   ]
  },
  {
   "cell_type": "code",
   "execution_count": 6,
   "id": "b9e75f23-6739-4a02-8951-56b3fa0ec086",
   "metadata": {},
   "outputs": [],
   "source": [
    "from langchain_openai import ChatOpenAI\n",
    "\n",
    "model = ChatOpenAI(model=\"gpt-4o-mini\")"
   ]
  },
  {
   "cell_type": "markdown",
   "id": "c7ca9677-859e-480e-8e10-ee8a5cf846ba",
   "metadata": {},
   "source": [
    "Our simple chain here consists of a prompt (the prompt from the template with \"text\" and \"style\" inputs) and a model (defined above as gpt-3.5-turbo)"
   ]
  },
  {
   "cell_type": "code",
   "execution_count": 8,
   "id": "e506ee6a-546b-4697-b0f2-af41840c1aca",
   "metadata": {},
   "outputs": [],
   "source": [
    "chain = prompt | model"
   ]
  },
  {
   "cell_type": "markdown",
   "id": "f9488ed3-7039-4900-915a-a42358284378",
   "metadata": {},
   "source": [
    "Below, I copied the abstract from the paper linked here, a job market paper titled \"Robot Adoption and Labor Market Dynamics\"\n",
    "\n",
    "https://economics.yale.edu/sites/default/files/humlumjmp_111419.pdf\n",
    "\n",
    "I specified the style as \"succinct busines tone with jargon removed\""
   ]
  },
  {
   "cell_type": "code",
   "execution_count": 10,
   "id": "b2bbe0f9-a8ae-4cf2-9df5-5de16ff8acbc",
   "metadata": {},
   "outputs": [],
   "source": [
    "paper_style = \"\"\"succinct business tone with jargon removed\"\"\"\n",
    "\n",
    "academic_paper_abstract = \"\"\"\n",
    "I use administrative data that link workers, firms, and robots in Denmark to study the\n",
    "distributional impact of industrial robots. I structurally estimate a dynamic model\n",
    "of the firm that rationalizes how firms select into and reorganize production around\n",
    "robot adoption. Using event studies, I find that firms expand output, lay off production workers,\n",
    "and hire tech workers when they adopt industrial robots. I embed the\n",
    "firm model into a dynamic general equilibrium framework that takes into account\n",
    "the ability of workers to reallocate across occupations in response to robots. To this\n",
    "end, I develop a fixed-point algorithm for solving the general equilibrium that fea\u0002tures two-sided (firm and worker)\n",
    "heterogeneity and dynamics. I find that industrial\n",
    "robots have increased average real wages by 0.8 percent but have lowered real wages\n",
    "of production workers employed in manufacturing by 6 percent. Welfare losses from\n",
    "robots are concentrated on old production workers, as younger workers benefit from\n",
    "the option value of switching into tech and other occupations whose premiums rise\n",
    "as robots diffuse in the economy. Industrial robots can account for a quarter of the\n",
    "fall in the employment share of production workers and 8 percent of the rise in the\n",
    "employment share of tech workers since 1990. I use the estimated general equilibrium\n",
    "model to evaluate the dynamic incidence of a robot tax.\n",
    "\"\"\""
   ]
  },
  {
   "cell_type": "markdown",
   "id": "57467292-158f-476d-93ab-a617f1e34306",
   "metadata": {},
   "source": [
    "Invoking the chain and printing the results shows the response - the \"translated\" text into the style requested."
   ]
  },
  {
   "cell_type": "code",
   "execution_count": 11,
   "id": "a675cb33-d385-4365-9a4c-87a8bcac70af",
   "metadata": {},
   "outputs": [
    {
     "name": "stdout",
     "output_type": "stream",
     "text": [
      "I analyze administrative data from Denmark to assess the effects of industrial robots on workers and firms. I developed a model to understand how companies adopt and adjust their production processes around robots. My research reveals that when firms implement robots, they tend to increase output, reduce production staff, and hire more technology workers. I incorporated this model into a broader economic framework that considers how workers shift jobs in response to robot integration.\n",
      "\n",
      "Through this analysis, I created a solution method for the economic model that accounts for differences among firms and workers over time. The findings indicate that industrial robots have raised average real wages by 0.8%, but have decreased real wages for production workers in manufacturing by 6%. The negative impacts are mainly felt by older production workers, while younger workers benefit from the opportunity to transition into tech roles, which have higher pay as robots become more prevalent.\n",
      "\n",
      "Since 1990, industrial robots have contributed to a 25% decline in production workers' share of employment and an 8% increase in tech workers' share. I also used this model to explore the potential effects of implementing a robot tax.\n"
     ]
    }
   ],
   "source": [
    "paper_response = chain.invoke({\"text\": academic_paper_abstract, \"style\": paper_style})\n",
    "print(paper_response.content)"
   ]
  },
  {
   "cell_type": "markdown",
   "id": "5a471efc-63db-4f5f-a735-06393c3fd5d8",
   "metadata": {},
   "source": [
    "Another example, re-using the same chain and prompt template."
   ]
  },
  {
   "cell_type": "code",
   "execution_count": 13,
   "id": "41157337-47e2-46cf-ba4d-a0ead1a5ba21",
   "metadata": {},
   "outputs": [],
   "source": [
    "service_reply = \"\"\"You messed up and voided the warranty by installing a \n",
    "third party modification.  We no longer cover your equipment.\n",
    "\"\"\"\n",
    "\n",
    "service_style = \"\"\"\\\n",
    "a polite tone of a helpful customer service agent\n",
    "\"\"\""
   ]
  },
  {
   "cell_type": "code",
   "execution_count": 14,
   "id": "09324088-2232-4758-a6e0-ca9affd7f1b6",
   "metadata": {},
   "outputs": [
    {
     "name": "stdout",
     "output_type": "stream",
     "text": [
      "Thank you for reaching out to us. I understand your concern regarding the warranty of your equipment. However, I would like to inform you that the installation of a third-party modification has unfortunately voided the warranty. As a result, we are unable to provide coverage for your equipment at this time. If you have any further questions or need assistance with anything else, please feel free to let me know. I'm here to help!\n"
     ]
    }
   ],
   "source": [
    "service_response = chain.invoke({\"text\": service_reply, \"style\": service_style})\n",
    "print(service_response.content)"
   ]
  },
  {
   "cell_type": "code",
   "execution_count": null,
   "id": "06fa6f30-b0a3-45c6-914e-254e1524a02c",
   "metadata": {},
   "outputs": [],
   "source": []
  }
 ],
 "metadata": {
  "kernelspec": {
   "display_name": "Python 3 (ipykernel)",
   "language": "python",
   "name": "python3"
  },
  "language_info": {
   "codemirror_mode": {
    "name": "ipython",
    "version": 3
   },
   "file_extension": ".py",
   "mimetype": "text/x-python",
   "name": "python",
   "nbconvert_exporter": "python",
   "pygments_lexer": "ipython3",
   "version": "3.12.7"
  }
 },
 "nbformat": 4,
 "nbformat_minor": 5
}
