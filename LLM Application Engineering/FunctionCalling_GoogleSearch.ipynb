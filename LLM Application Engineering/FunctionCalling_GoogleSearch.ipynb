{
 "cells": [
  {
   "cell_type": "code",
   "execution_count": null,
   "id": "1cd55c7c-ece9-4bcf-b574-f555a581b81a",
   "metadata": {},
   "outputs": [],
   "source": [
    "#!pip install google-search-results"
   ]
  },
  {
   "cell_type": "code",
   "execution_count": 1,
   "id": "91b89fe3-dffd-4b9b-b771-be215da8fb9d",
   "metadata": {},
   "outputs": [],
   "source": [
    "import openai\n",
    "from dotenv import load_dotenv\n",
    "import os\n",
    "from serpapi import GoogleSearch\n",
    "import json\n",
    "\n",
    "load_dotenv()\n",
    "os.environ[\"OPENAI_API_KEY\"] = os.getenv(\"openai_api_key\")\n",
    "os.environ[\"SERPAPI_API_KEY\"] = os.getenv(\"SERPAPI_API_KEY\")\n",
    "\n",
    "client = openai.OpenAI()"
   ]
  },
  {
   "cell_type": "code",
   "execution_count": 2,
   "id": "6dacd2fb-d4d1-4a8c-ba05-4ce504f1c54d",
   "metadata": {},
   "outputs": [
    {
     "data": {
      "text/plain": [
       "[{'position': 1,\n",
       "  'title': 'Coffee Manufactory',\n",
       "  'link': 'https://www.coffeemanufactory.com/',\n",
       "  'redirect_link': 'https://www.google.com/url?sa=t&source=web&rct=j&opi=89978449&url=https://www.coffeemanufactory.com/&ved=2ahUKEwi7xcXPh-eJAxUOJNAFHeXGLg4QFnoECB4QAQ',\n",
       "  'displayed_link': 'https://www.coffeemanufactory.com',\n",
       "  'thumbnail': 'https://serpapi.com/searches/673bd0fd4d52b8ef2ea7830b/images/355a5be17f94f0c402907a9c741b3722fc3e49f38637129897e38505c2030b41.jpeg',\n",
       "  'favicon': 'https://serpapi.com/searches/673bd0fd4d52b8ef2ea7830b/images/355a5be17f94f0c402907a9c741b37229645be00ff4a2c1704a55394aef271c8.png',\n",
       "  'snippet': 'Coffee Manufactory brings better coffee to more people through quality, education, and immersion.',\n",
       "  'snippet_highlighted_words': ['Coffee', 'coffee'],\n",
       "  'source': 'Coffee Manufactory'},\n",
       " {'position': 2,\n",
       "  'title': 'Arabica Coffee Roasters',\n",
       "  'link': 'https://www.arabicacoffeeco.com/',\n",
       "  'redirect_link': 'https://www.google.com/url?sa=t&source=web&rct=j&opi=89978449&url=https://www.arabicacoffeeco.com/&ved=2ahUKEwi7xcXPh-eJAxUOJNAFHeXGLg4QFnoECCEQAQ',\n",
       "  'displayed_link': 'https://www.arabicacoffeeco.com',\n",
       "  'thumbnail': 'https://serpapi.com/searches/673bd0fd4d52b8ef2ea7830b/images/355a5be17f94f0c402907a9c741b37223e9717989de20dfc1fc47941a123f869.png',\n",
       "  'snippet': 'Arabica Coffee Roasters strives to provide world-class coffee using the latest in coffee brewing technology and carefully sourced beans.',\n",
       "  'snippet_highlighted_words': ['Coffee Roasters'],\n",
       "  'source': 'arabicacoffeeco.com'},\n",
       " {'position': 3,\n",
       "  'title': 'Top 7 Coffee Manufacturers In The USA',\n",
       "  'link': 'https://www.procurementresource.com/blog/coffee-manufacturers-in-the-usa',\n",
       "  'redirect_link': 'https://www.google.com/url?sa=t&source=web&rct=j&opi=89978449&url=https://www.procurementresource.com/blog/coffee-manufacturers-in-the-usa&ved=2ahUKEwi7xcXPh-eJAxUOJNAFHeXGLg4QFnoECBkQAQ',\n",
       "  'displayed_link': 'https://www.procurementresource.com › blog › coffee-m...',\n",
       "  'favicon': 'https://serpapi.com/searches/673bd0fd4d52b8ef2ea7830b/images/355a5be17f94f0c402907a9c741b3722ac3400cd0a826fb9e99d39c222b47de4.png',\n",
       "  'date': 'Jun 22, 2023',\n",
       "  'snippet': 'Top 7 Wholesale Manufacturers And Suppliers Of Coffee · Blue Coffee, Incorporated · Cocoa Supply · Meenaxi Enterprise, Inc · M. Levin & Co.',\n",
       "  'snippet_highlighted_words': ['Manufacturers',\n",
       "   'Suppliers',\n",
       "   'Coffee',\n",
       "   'Coffee'],\n",
       "  'source': 'Procurement Resource'},\n",
       " {'position': 4,\n",
       "  'title': 'Omar Coffee: Coffee Roasters and Distributors in CT, MA, NY ...',\n",
       "  'link': 'https://www.omarcoffee.com/?srsltid=AfmBOop2rIlpaVNRzkdYd9QTNR9f4tUvj9oDSAyq3lMPAenXSu-gqG2M',\n",
       "  'redirect_link': 'https://www.google.com/url?sa=t&source=web&rct=j&opi=89978449&url=https://www.omarcoffee.com/%3Fsrsltid%3DAfmBOop2rIlpaVNRzkdYd9QTNR9f4tUvj9oDSAyq3lMPAenXSu-gqG2M&ved=2ahUKEwi7xcXPh-eJAxUOJNAFHeXGLg4QFnoECDwQAQ',\n",
       "  'displayed_link': 'https://www.omarcoffee.com',\n",
       "  'favicon': 'https://serpapi.com/searches/673bd0fd4d52b8ef2ea7830b/images/355a5be17f94f0c402907a9c741b372215e9d5d36236fb7cb9ec1c570faeb689.png',\n",
       "  'author': 'Free 2–11 day delivery over $35',\n",
       "  'cited_by': '\\u200e30-day returns',\n",
       "  'snippet': 'Omar provides fresh roasted coffee in CT, MA, NY & RI to offices, colleges, hospitals, casinos & restaurants. Delivery, service & equipment. Buy online.',\n",
       "  'snippet_highlighted_words': ['coffee'],\n",
       "  'rich_snippet': {'top': {'detected_extensions': {'price_from': 11,\n",
       "     'price_to': 35,\n",
       "     'currency': '$',\n",
       "     'day_returns': 30},\n",
       "    'extensions': ['Free 2–11 day delivery over $35', '30-day returns']}},\n",
       "  'source': 'Omar Coffee'},\n",
       " {'position': 5,\n",
       "  'title': 'Best Private Label Coffee Supplier',\n",
       "  'link': 'https://whitecoffee.com/services/private-labeling/',\n",
       "  'redirect_link': 'https://www.google.com/url?sa=t&source=web&rct=j&opi=89978449&url=https://whitecoffee.com/services/private-labeling/&ved=2ahUKEwi7xcXPh-eJAxUOJNAFHeXGLg4QFnoECDkQAQ',\n",
       "  'displayed_link': 'https://whitecoffee.com › services › private-labeling',\n",
       "  'favicon': 'https://serpapi.com/searches/673bd0fd4d52b8ef2ea7830b/images/355a5be17f94f0c402907a9c741b372271da67f3650fddb97d5878da6d3e34d4.png',\n",
       "  'snippet': 'As a leading private label coffee manufacturer on Long Island, we offer services like private label coffee packaging solutions and custom coffee packaging ...',\n",
       "  'snippet_highlighted_words': ['coffee manufacturer'],\n",
       "  'source': 'White Coffee'},\n",
       " {'position': 6,\n",
       "  'title': 'Coffee Roasters Inc. - Home',\n",
       "  'link': 'https://coffeeroastersinc.com/',\n",
       "  'redirect_link': 'https://www.google.com/url?sa=t&source=web&rct=j&opi=89978449&url=https://coffeeroastersinc.com/&ved=2ahUKEwi7xcXPh-eJAxUOJNAFHeXGLg4QFnoECDoQAQ',\n",
       "  'displayed_link': 'https://coffeeroastersinc.com',\n",
       "  'favicon': 'https://serpapi.com/searches/673bd0fd4d52b8ef2ea7830b/images/355a5be17f94f0c402907a9c741b372290a20038af83b992d0fc3e7280c44f71.jpeg',\n",
       "  'snippet': 'Taste the fresh roasted difference of all our premium coffees and custom blends. We specialize in gourmet, specialty, and commercial grade coffees.',\n",
       "  'missing': ['manufacturers'],\n",
       "  'must_include': {'word': 'manufacturers',\n",
       "   'link': 'https://www.google.com/search?sca_esv=61be2594c95dedbf&q=coffee+%22manufacturers%22&sa=X&ved=2ahUKEwi7xcXPh-eJAxUOJNAFHeXGLg4Q5t4CegQIRRAB'},\n",
       "  'source': 'Coffee Roasters Inc.'},\n",
       " {'position': 7,\n",
       "  'title': 'Private Label Coffee Manufacturer & White Label Coffee Experts',\n",
       "  'link': 'https://joesgaragecoffee.com/',\n",
       "  'redirect_link': 'https://www.google.com/url?sa=t&source=web&rct=j&opi=89978449&url=https://joesgaragecoffee.com/&ved=2ahUKEwi7xcXPh-eJAxUOJNAFHeXGLg4QFnoECDsQAQ',\n",
       "  'displayed_link': 'https://joesgaragecoffee.com',\n",
       "  'favicon': 'https://serpapi.com/searches/673bd0fd4d52b8ef2ea7830b/images/355a5be17f94f0c402907a9c741b3722896e81a6238835d1023edbad1eb7e9b4.png',\n",
       "  'snippet': \"Joe's Garage Coffee offers a wide range of expert private label coffee and co-packing services for brands of any size.\",\n",
       "  'snippet_highlighted_words': ['Coffee', 'coffee'],\n",
       "  'sitelinks': {'inline': [{'title': 'Private Label Cups for Keurig',\n",
       "     'link': 'https://joesgaragecoffee.com/products/cups-for-keurig/'},\n",
       "    {'title': 'Products', 'link': 'https://joesgaragecoffee.com/products/'},\n",
       "    {'title': 'Coffee Roasters',\n",
       "     'link': 'https://joesgaragecoffee.com/about/who-we-work-with/coffee-roasters/'},\n",
       "    {'title': 'Office Coffee',\n",
       "     'link': 'https://joesgaragecoffee.com/office-coffee-service/'}]},\n",
       "  'source': \"Joe's Garage Coffee\"},\n",
       " {'position': 8,\n",
       "  'title': 'Private Label Wholesale Coffee Manufacturer',\n",
       "  'link': 'https://intelligentblends.com/private-label-coffee/',\n",
       "  'redirect_link': 'https://www.google.com/url?sa=t&source=web&rct=j&opi=89978449&url=https://intelligentblends.com/private-label-coffee/&ved=2ahUKEwi7xcXPh-eJAxUOJNAFHeXGLg4QFnoECDgQAQ',\n",
       "  'displayed_link': 'https://intelligentblends.com › private-label-coffee',\n",
       "  'favicon': 'https://serpapi.com/searches/673bd0fd4d52b8ef2ea7830b/images/355a5be17f94f0c402907a9c741b3722f22ef3a622eaab11a79eb4a345594ca8.jpeg',\n",
       "  'snippet': 'Boost your business with our private label wholesale coffee program. Get your own custom label & enjoy the freshest coffee beans on the market!',\n",
       "  'snippet_highlighted_words': ['coffee', 'coffee'],\n",
       "  'source': 'Intelligent Blends'}]"
      ]
     },
     "execution_count": 2,
     "metadata": {},
     "output_type": "execute_result"
    }
   ],
   "source": [
    "params = {\n",
    "  \"engine\": \"google\",\n",
    "  \"q\": \"coffee manufacturers\",\n",
    "  \"api_key\": os.environ[\"SERPAPI_API_KEY\"]\n",
    "}\n",
    "\n",
    "search = GoogleSearch(params)\n",
    "search.get_dict()['organic_results']\n",
    "\n"
   ]
  },
  {
   "cell_type": "code",
   "execution_count": 3,
   "id": "91918c80-f1ef-4739-82e7-c3ee1773b149",
   "metadata": {},
   "outputs": [],
   "source": [
    "def search_google_news(query):\n",
    "    params = {\n",
    "        \"engine\": \"google_news\",\n",
    "        \"time_period\": \"last_day\",\n",
    "        \"q\": query,\n",
    "        \"api_key\": os.environ[\"SERPAPI_API_KEY\"]\n",
    "    }\n",
    "\n",
    "    num_results = 5\n",
    "    search = GoogleSearch(params)\n",
    "    results = search.get_dict()['news_results']\n",
    "    extracted_results = []\n",
    "    for result in results[:num_results]:\n",
    "        extracted_results.append({\n",
    "            \"title\": result.get(\"title\"),\n",
    "            \"link\": result.get(\"link\"),\n",
    "            \"snippet\": result.get(\"snippet\", \"No snippet available\")\n",
    "        })\n",
    "    \n",
    "    return extracted_results\n",
    "\n"
   ]
  },
  {
   "cell_type": "code",
   "execution_count": 4,
   "id": "a5bbe358-a6bc-47c7-adf9-67aa01e4d6ed",
   "metadata": {},
   "outputs": [
    {
     "data": {
      "text/plain": [
       "[{'title': 'US Supreme Court rejects challenge to Alaska campaign finance law',\n",
       "  'link': 'https://www.reuters.com/legal/us-supreme-court-rejects-challenge-alaska-campaign-finance-law-2024-11-18/',\n",
       "  'snippet': 'No snippet available'},\n",
       " {'title': 'Supreme Court won’t hear challenge to Alaska campaign finance laws',\n",
       "  'link': 'https://www.scotusblog.com/2024/11/supreme-court-wont-hear-challenge-to-alaska-campaign-finance-laws/',\n",
       "  'snippet': 'No snippet available'},\n",
       " {'title': 'Democrat keeps slight lead for North Carolina Supreme Court as counties finish count',\n",
       "  'link': 'https://abcnews.go.com/Politics/wireStory/democrat-slight-lead-north-carolina-supreme-court-counties-115988625',\n",
       "  'snippet': 'No snippet available'},\n",
       " {'title': 'Wisconsin supreme court weighs fate of top elections official targeted by right',\n",
       "  'link': 'https://www.theguardian.com/us-news/2024/nov/18/wisconsin-meagan-wolfe-supreme-court',\n",
       "  'snippet': 'No snippet available'},\n",
       " {'title': \"Pa. Supreme Court says undated ballots 'shall not be counted' as Casey-McCormick teams battle in court\",\n",
       "  'link': 'https://www.post-gazette.com/news/election-2024/2024/11/18/david-mccormick-bob-casey-senate-pennsylvania-recount-ballots-undated-misdated/stories/202411180066',\n",
       "  'snippet': 'No snippet available'}]"
      ]
     },
     "execution_count": 4,
     "metadata": {},
     "output_type": "execute_result"
    }
   ],
   "source": [
    "search_google_news(\"supreme court\")"
   ]
  },
  {
   "cell_type": "code",
   "execution_count": 5,
   "id": "b9f412bc-bcbd-4be4-898e-6d529c26f846",
   "metadata": {},
   "outputs": [],
   "source": [
    "parameters = {\n",
    "    \"type\": \"object\",\n",
    "    \"properties\": {\n",
    "        \"query\": {\n",
    "            \"type\": \"string\",\n",
    "            \"description\": \"search query\"\n",
    "        }\n",
    "    },\n",
    "    \"required\": [\"query\"]\n",
    "}\n",
    "\n",
    "search_google_news_tool = {\n",
    "    \"type\": \"function\",\n",
    "    \"function\": {\n",
    "        \"name\": \"search_google_news\",\n",
    "        \"description\": \"Retreive Google news results from last 24 hours for a given query.\",\n",
    "        \"parameters\": parameters,\n",
    "    }\n",
    "}"
   ]
  },
  {
   "cell_type": "code",
   "execution_count": 6,
   "id": "85f841da-76d5-432c-89e5-2e1238ea2a85",
   "metadata": {},
   "outputs": [],
   "source": [
    "def get_output(messages_input, model_input=\"gpt-4o-mini\", temperature_input = 0) :\n",
    "\n",
    "    response = client.chat.completions.create(\n",
    "        model = model_input,\n",
    "        messages = messages_input,\n",
    "        temperature = temperature_input,\n",
    "        tools = [search_google_news_tool],\n",
    "        tool_choice = \"auto\"\n",
    "    )\n",
    "    \n",
    "    response = response.choices[0].message\n",
    "    return response"
   ]
  },
  {
   "cell_type": "code",
   "execution_count": 7,
   "id": "e40bd828-01b7-4eb4-9404-f7cd83a685bd",
   "metadata": {},
   "outputs": [],
   "source": [
    "def collect_messages(prompt, context):\n",
    "    context.append({'role':'user', 'content':f\"{prompt}\"})\n",
    "    response = get_output(context) \n",
    "    context.append({'role':'assistant', 'content':f\"{response.content}\"})\n",
    "    return response"
   ]
  },
  {
   "cell_type": "code",
   "execution_count": 14,
   "id": "a1a08c73-1ebe-474b-9ae5-6d6a9f135ebe",
   "metadata": {},
   "outputs": [],
   "source": [
    "def main():\n",
    "    system_message = f\"\"\"\n",
    "    You are a chatbot that can use Google News to help users locate recent news details.\n",
    "    Greet the user and ask what they are interesting in searching.\n",
    "    Use the Google results to return and the most current information.\n",
    "    SUmmarize the results in a brief 2 sentence summary.\n",
    "    \"\"\"\n",
    "    context = [{\"role\":\"system\", \"content\":system_message}]\n",
    "\n",
    "\n",
    "    print(\"Welcome! Type 'exit' to end the chat.\")\n",
    "    greeting = collect_messages(\"\", context)\n",
    "    print(greeting.content)\n",
    "    \n",
    "    while True:\n",
    "        user_input = input()\n",
    "        \n",
    "        if user_input.lower() == 'exit':\n",
    "            return context\n",
    "        \n",
    "        response = collect_messages(user_input, context)\n",
    "\n",
    "        if response.content:\n",
    "            print(response.content)\n",
    "        elif response.tool_calls:\n",
    "            arguments = json.loads(response.tool_calls[0].function.arguments)\n",
    "            query = arguments[\"query\"]\n",
    "            search_results = search_google_news(query)\n",
    "            context.append({'role':'function', \\\n",
    "                            'name': 'search_google_news', \\\n",
    "                            'content':f\"{search_results}\"})\n",
    "            response = collect_messages(\"summarize news for userin email\", context)\n",
    "            print(response.content)\n",
    "    \n",
    " "
   ]
  },
  {
   "cell_type": "code",
   "execution_count": null,
   "id": "9d106b0b-13cd-4a04-9a36-785e1c4a3cfd",
   "metadata": {},
   "outputs": [
    {
     "name": "stdout",
     "output_type": "stream",
     "text": [
      "Welcome! Type 'exit' to end the chat.\n",
      "Hello! How can I assist you today? What news topic are you interested in searching for?\n"
     ]
    },
    {
     "name": "stdin",
     "output_type": "stream",
     "text": [
      " spirit airlines\n"
     ]
    },
    {
     "name": "stdout",
     "output_type": "stream",
     "text": [
      "Spirit Airlines has recently filed for Chapter 11 bankruptcy, marking a significant development for the budget travel airline that has reportedly lost $2.2 billion over the past five years. This situation raises questions about the implications for travelers, as the airline navigates its financial challenges. \n",
      "\n",
      "For more details, you can check the full articles [here](https://www.msnbc.com/morning-joe/watch/budget-travel-airline-spirit-files-for-bankruptcy-224744517782), [here](https://www.nytimes.com/2024/11/18/business/spirit-airlines-bankruptcy.html), and [here](https://www.cbsnews.com/news/spirit-airlines-files-for-bankruptcy/).\n"
     ]
    }
   ],
   "source": [
    "main()"
   ]
  }
 ],
 "metadata": {
  "kernelspec": {
   "display_name": "Python 3 (ipykernel)",
   "language": "python",
   "name": "python3"
  },
  "language_info": {
   "codemirror_mode": {
    "name": "ipython",
    "version": 3
   },
   "file_extension": ".py",
   "mimetype": "text/x-python",
   "name": "python",
   "nbconvert_exporter": "python",
   "pygments_lexer": "ipython3",
   "version": "3.12.7"
  }
 },
 "nbformat": 4,
 "nbformat_minor": 5
}
