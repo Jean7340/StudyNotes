{
 "cells": [
  {
   "cell_type": "markdown",
   "id": "1950f35f-e54b-4bd4-8570-984ba7ec058a",
   "metadata": {},
   "source": [
    "## OrderBot Application ##   \n",
    "source: www.deeplearning.ai, adapted from short course on Prompt Engineering for Developers"
   ]
  },
  {
   "cell_type": "code",
   "execution_count": null,
   "id": "734a8a0c-b992-4431-8f1c-14e9ea2b06ba",
   "metadata": {},
   "outputs": [],
   "source": [
    "import openai\n",
    "from dotenv import load_dotenv\n",
    "import os\n",
    "\n",
    "load_dotenv()\n",
    "os.environ[\"OPENAI_API_KEY\"] = os.getenv(\"openai_api_key\")\n",
    "\n",
    "client = openai.OpenAI()"
   ]
  },
  {
   "cell_type": "code",
   "execution_count": null,
   "id": "26d818c9-24a0-45b1-b8fb-3dad50b11700",
   "metadata": {},
   "outputs": [],
   "source": [
    "def get_response_from_messages(messages_input, model_input = \"gpt-4o-mini\", temperature_input = 0):\n",
    "    response = client.chat.completions.create(\n",
    "        model = model_input,\n",
    "        messages = messages_input,\n",
    "        temperature = temperature_input,\n",
    "    )\n",
    "\n",
    "    response = response.choices[0].message.content\n",
    "    return response "
   ]
  },
  {
   "cell_type": "code",
   "execution_count": null,
   "id": "b274d166-ef2c-4291-b849-d035df2fab3a",
   "metadata": {},
   "outputs": [],
   "source": [
    "def initialize_orderbot():\n",
    "    context = [ {'role':'system', 'content':\"\"\"\n",
    "    You are OrderBot, an automated service to collect orders for a pizza restaurant. \\\n",
    "    You first greet the customer, then collect the order. \\\n",
    "    You wait to collect the entire order, then summarize it and check for a final time if the customer wants to add anything else. \\\n",
    "    Make sure to clarify all options, extras and sizes to uniquely identify the item from the menu.\\\n",
    "    You respond in a short, very conversational friendly style. \\\n",
    "    When the user indicates that they have completed their order, create a summary of the previous food order, formatted as a table. \\\n",
    "    The columns should be 1) item 2) size 3) price , with a total price at the bottom.\n",
    "\n",
    "    The menu includes \\\n",
    "    pepperoni pizza  12.95, 10.00, 7.00 \\\n",
    "    cheese pizza   10.95, 9.25, 6.50 \\\n",
    "    eggplant pizza   11.95, 9.75, 6.75 \\\n",
    "    fries 4.50, 3.50 \\\n",
    "    greek salad 7.25 \\\n",
    "    Toppings: \\\n",
    "    extra cheese 2.00, \\\n",
    "    mushrooms 1.50 \\\n",
    "    sausage 3.00 \\\n",
    "    canadian bacon 3.50 \\\n",
    "    AI sauce 1.50 \\\n",
    "    peppers 1.00 \\\n",
    "    Drinks: \\\n",
    "    coke 3.00, 2.00, 1.00 \\\n",
    "    sprite 3.00, 2.00, 1.00 \\\n",
    "    bottled water 5.00 \\\n",
    "    \"\"\"} ]  \n",
    "\n",
    "    return context"
   ]
  },
  {
   "cell_type": "code",
   "execution_count": null,
   "id": "c1609134-72c5-4105-b7ec-0943adbb4431",
   "metadata": {},
   "outputs": [],
   "source": [
    "def collect_messages(prompt, context):\n",
    "    context.append({'role':'user', 'content':f\"{prompt}\"})\n",
    "    response = get_response_from_messages(context) \n",
    "    context.append({'role':'assistant', 'content':f\"{response}\"})\n",
    "    return response"
   ]
  },
  {
   "cell_type": "code",
   "execution_count": null,
   "id": "f183b4ba-c0bb-4120-a6c3-3358e1b490af",
   "metadata": {},
   "outputs": [],
   "source": [
    "def main():\n",
    "    context = initialize_orderbot()\n",
    "\n",
    "    print(\"Welcome! Type 'exit' to end the chat.\")\n",
    "    print(collect_messages(\"\", context))\n",
    "    \n",
    "    while True:\n",
    "        user_input = input()\n",
    "        \n",
    "        if user_input.lower() == 'exit':\n",
    "            print(\"Goodbye!\")\n",
    "            break\n",
    "        \n",
    "        response = collect_messages(user_input, context)\n",
    "        print(response)\n"
   ]
  },
  {
   "cell_type": "code",
   "execution_count": null,
   "id": "499ccf53-5321-44e4-8825-8756953a877c",
   "metadata": {},
   "outputs": [],
   "source": [
    "main()"
   ]
  }
 ],
 "metadata": {
  "kernelspec": {
   "display_name": "Python 3 (ipykernel)",
   "language": "python",
   "name": "python3"
  },
  "language_info": {
   "codemirror_mode": {
    "name": "ipython",
    "version": 3
   },
   "file_extension": ".py",
   "mimetype": "text/x-python",
   "name": "python",
   "nbconvert_exporter": "python",
   "pygments_lexer": "ipython3",
   "version": "3.12.7"
  }
 },
 "nbformat": 4,
 "nbformat_minor": 5
}
