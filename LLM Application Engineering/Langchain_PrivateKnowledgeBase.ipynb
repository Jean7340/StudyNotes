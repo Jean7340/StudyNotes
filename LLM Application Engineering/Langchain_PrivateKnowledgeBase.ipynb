{
 "cells": [
  {
   "cell_type": "code",
   "execution_count": null,
   "id": "a863b350-11ca-428f-965e-bfa77554982c",
   "metadata": {},
   "outputs": [],
   "source": [
    "#!pip install pypdf\n",
    "#!pip install python-magic-bin\n",
    "#!pip install -U langchain-community"
   ]
  },
  {
   "cell_type": "code",
   "execution_count": null,
   "id": "8a242fbc-e650-4ddd-bf26-e2a8184c1c01",
   "metadata": {},
   "outputs": [],
   "source": [
    "import openai\n",
    "from dotenv import load_dotenv\n",
    "import os\n",
    "\n",
    "load_dotenv()\n",
    "os.environ[\"OPENAI_API_KEY\"] = os.getenv(\"openai_api_key\")"
   ]
  },
  {
   "cell_type": "code",
   "execution_count": null,
   "id": "239e0c03-afe3-401b-b5db-3fd0ddf613a6",
   "metadata": {},
   "outputs": [],
   "source": [
    "from langchain.document_loaders import DirectoryLoader\n",
    "from langchain.document_loaders import PyPDFDirectoryLoader\n",
    "\n",
    "from langchain.indexes.vectorstore import VectorStoreIndexWrapper\n",
    "from langchain.indexes import VectorstoreIndexCreator\n",
    "\n",
    "from langchain_openai import ChatOpenAI, OpenAIEmbeddings\n",
    "\n",
    "from langchain.chains import ConversationalRetrievalChain\n",
    "\n"
   ]
  },
  {
   "cell_type": "code",
   "execution_count": 17,
   "id": "8f0d6c2e-45ba-495a-b39e-8c4a9db9b005",
   "metadata": {},
   "outputs": [
    {
     "name": "stderr",
     "output_type": "stream",
     "text": [
      "C:\\Users\\elizabeth.mohr\\AppData\\Local\\anaconda3\\envs\\GBA478\\Lib\\site-packages\\langchain\\indexes\\vectorstore.py:128: UserWarning: Using InMemoryVectorStore as the default vectorstore.This memory store won't persist data. You should explicitlyspecify a vectorstore when using VectorstoreIndexCreator\n",
      "  warnings.warn(\n"
     ]
    }
   ],
   "source": [
    "embeddings = OpenAIEmbeddings(openai_api_key=os.environ[\"OPENAI_API_KEY\"])\n",
    "\n",
    "loader = DirectoryLoader(\"data_privateKnowledgeBase/\")\n",
    "#loader = PyPDFDirectoryLoader(\"data_lawCases/\")\n",
    "index_creator = VectorstoreIndexCreator(embedding=embeddings)\n",
    "index = index_creator.from_loaders([loader])\n",
    "\n",
    "\n",
    "retriever=index.vectorstore.as_retriever(search_kwargs={\"k\": 1})"
   ]
  },
  {
   "cell_type": "code",
   "execution_count": 18,
   "id": "4b51c0dd-4afb-48fe-89a2-a0e456536f06",
   "metadata": {},
   "outputs": [],
   "source": [
    "chat_history = []\n",
    "llm = ChatOpenAI(model=\"gpt-4o-mini\", temperature = 0)\n",
    "\n",
    "chain = ConversationalRetrievalChain.from_llm(llm, retriever)"
   ]
  },
  {
   "cell_type": "code",
   "execution_count": 19,
   "id": "35b93857-a79b-4a46-80ff-e4e1314f2b95",
   "metadata": {},
   "outputs": [],
   "source": [
    "def answer_question(question):\n",
    "    global chat_history\n",
    "    result = chain.invoke({\"question\": question, \"chat_history\": chat_history})\n",
    "    chat_history.append((question, result['answer']))\n",
    "    return result['answer']"
   ]
  },
  {
   "cell_type": "code",
   "execution_count": 20,
   "id": "7b475662-2cd8-45ee-bf4b-52c18b304d60",
   "metadata": {},
   "outputs": [
    {
     "name": "stdout",
     "output_type": "stream",
     "text": [
      "How about the name \"Ruby\"? It has a nice ring to it and complements Opal, the family's dog.\n"
     ]
    }
   ],
   "source": [
    "print(answer_question(\"Suggest a name for a new puppy for the Mohr family\"))"
   ]
  }
 ],
 "metadata": {
  "kernelspec": {
   "display_name": "Python 3 (ipykernel)",
   "language": "python",
   "name": "python3"
  },
  "language_info": {
   "codemirror_mode": {
    "name": "ipython",
    "version": 3
   },
   "file_extension": ".py",
   "mimetype": "text/x-python",
   "name": "python",
   "nbconvert_exporter": "python",
   "pygments_lexer": "ipython3",
   "version": "3.12.7"
  }
 },
 "nbformat": 4,
 "nbformat_minor": 5
}
