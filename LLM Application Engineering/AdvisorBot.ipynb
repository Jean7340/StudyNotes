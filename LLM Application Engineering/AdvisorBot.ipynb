{
 "cells": [
  {
   "cell_type": "code",
   "execution_count": null,
   "id": "f9f9a615-e5a5-465e-b4b3-ec381f46feba",
   "metadata": {},
   "outputs": [],
   "source": [
    "import pandas as pd\n",
    "import json\n",
    "\n",
    "import openai\n",
    "from dotenv import load_dotenv\n",
    "import os\n",
    "\n",
    "load_dotenv()\n",
    "os.environ[\"OPENAI_API_KEY\"] = os.getenv(\"openai_api_key\")\n",
    "\n",
    "client = openai.OpenAI()"
   ]
  },
  {
   "cell_type": "code",
   "execution_count": null,
   "id": "d4fc9dc8-6cfe-4ed2-8eda-232da08ce66e",
   "metadata": {},
   "outputs": [],
   "source": [
    "# Load data from CSV files\n",
    "\n",
    "base_plans = pd.read_csv(\"BasePlans.csv\")\n",
    "riders = pd.read_csv(\"Riders.csv\")\n",
    "junction = pd.read_csv(\"Junction.csv\")\n",
    "policy_holders = pd.read_csv(\"PolicyHolders.csv\")\n",
    "policy_riders = pd.read_csv(\"PolicyRiders.csv\")\n",
    "\n",
    "policy_holders = policy_holders.set_index(\"PolicyHolderID\")\n",
    "base_plans = base_plans.set_index(\"PolicyID\")\n",
    "riders = riders.set_index(\"RiderID\")\n",
    "policy_riders = policy_riders.set_index(\"PolicyHolderID\")\n"
   ]
  },
  {
   "cell_type": "code",
   "execution_count": null,
   "id": "ba4d91b8-aeb5-462d-8bff-7c41aec64a82",
   "metadata": {},
   "outputs": [],
   "source": [
    "base_plans"
   ]
  },
  {
   "cell_type": "code",
   "execution_count": null,
   "id": "d7a0fbcb-2738-4d0e-89cb-343bf70575d8",
   "metadata": {},
   "outputs": [],
   "source": [
    "riders"
   ]
  },
  {
   "cell_type": "code",
   "execution_count": null,
   "id": "970b9811-10bb-49cb-be65-5f7d61a23934",
   "metadata": {},
   "outputs": [],
   "source": [
    "policy_holders"
   ]
  },
  {
   "cell_type": "code",
   "execution_count": null,
   "id": "ac26e980-7731-4b2e-9772-d4a7929aeceb",
   "metadata": {},
   "outputs": [],
   "source": [
    "policy_riders"
   ]
  },
  {
   "cell_type": "markdown",
   "id": "239e7527-066c-4ae2-b2c8-15c10c8816d6",
   "metadata": {},
   "source": [
    "We will define two functions that will become tools for our AdvisorBot.\n",
    "\n",
    "**get_policy_data** returns all available policy rider options for the policy holders base plan. (It uses the function get_available_riders as part of its code).   \n",
    "**check_current_coverage** returns the current riders the policy holder has at this time."
   ]
  },
  {
   "cell_type": "code",
   "execution_count": null,
   "id": "581e9b57-8b82-4e7e-935b-4058e47bcfdd",
   "metadata": {},
   "outputs": [],
   "source": [
    "def get_policy_data(user_id) :\n",
    "    policy_holder = policy_holders.loc[user_id].Name\n",
    "    rider_summary = get_available_riders(policy_holders.loc[user_id].BasePolicyID)\n",
    "\n",
    "    policy_data = f\"{policy_holder}:\\n{rider_summary}\"                 \n",
    "    return policy_data\n"
   ]
  },
  {
   "cell_type": "code",
   "execution_count": null,
   "id": "e848aef7-b24d-4159-a9a7-5d123692dd22",
   "metadata": {},
   "outputs": [],
   "source": [
    "def get_available_riders(base_policy_id):\n",
    "    riders_for_base = junction[junction[\"PolicyID\"] == base_policy_id][\"RiderID\"].tolist()\n",
    "    rider_details = riders.loc[riders_for_base]\n",
    "    \n",
    "    rider_summary = \"\\n\".join(\n",
    "        f\"- {row['RiderName']}: {row['Description']}\"\n",
    "        for _, row in rider_details.iterrows()\n",
    "    )\n",
    "    \n",
    "    return f\"Policy {base_plans.loc[base_policy_id].PolicyName} Riders:\\n{rider_summary}\"\n",
    "    return rider_summary\n"
   ]
  },
  {
   "cell_type": "code",
   "execution_count": null,
   "id": "b20517b9-c76b-4f96-924c-4d7410b3ae8f",
   "metadata": {},
   "outputs": [],
   "source": [
    "def check_current_coverage(user_id) :\n",
    "    user_current_riders = pd.merge(policy_riders.loc[user_id]['RiderID'], riders, left_on = \"RiderID\", right_index = True).RiderName.tolist()\n",
    "    return user_current_riders"
   ]
  },
  {
   "cell_type": "code",
   "execution_count": null,
   "id": "1e693779-c362-4971-b09e-ebc0eba5887a",
   "metadata": {},
   "outputs": [],
   "source": [
    "print(get_policy_data(\"PH020\"))"
   ]
  },
  {
   "cell_type": "code",
   "execution_count": null,
   "id": "93925c56-24c0-4dfa-adfd-812d583c990f",
   "metadata": {},
   "outputs": [],
   "source": [
    "print(check_current_coverage(\"PH020\"))"
   ]
  },
  {
   "cell_type": "markdown",
   "id": "020eac40-16aa-41c8-ad2b-7560c7388113",
   "metadata": {},
   "source": [
    "Here we have formatted the functions so that they can be used in the chat.completion.create() tools argument."
   ]
  },
  {
   "cell_type": "code",
   "execution_count": null,
   "id": "dda6dbf2-b3ed-415b-9d69-471b15652fab",
   "metadata": {},
   "outputs": [],
   "source": [
    "check_current_coverage_tool = {\n",
    "    \"type\": \"function\",\n",
    "    \"function\": {\n",
    "          \"name\": \"check_current_coverage\",\n",
    "          \"description\": \"Lookup the current riders for a specific policyholder ID\",\n",
    "          \"parameters\": {\n",
    "                \"type\": \"object\",\n",
    "                \"properties\": {\n",
    "                      \"user_id\": {\n",
    "                            \"type\": \"string\",\n",
    "                            \"description\": \"The unique ID of the policyholder for whom current riders are being retrieved.\"\n",
    "                        }\n",
    "                },\n",
    "                \"required\": [\"user_id\"]\n",
    "            }\n",
    "    }\n",
    "}\n",
    "\n",
    "get_policy_data_tool = {\n",
    "    \"type\": \"function\",\n",
    "    \"function\": {\n",
    "          \"name\": \"get_policy_data\",\n",
    "          \"description\": \"Lookup a policy holder's base policy and all available riders\",\n",
    "          \"parameters\": {\n",
    "                \"type\": \"object\",\n",
    "                \"properties\": {\n",
    "                      \"user_id\": {\n",
    "                            \"type\": \"string\",\n",
    "                            \"description\": \"The unique ID of the policyholder for whom available coverage is being retrieved.\"\n",
    "                        }\n",
    "                },\n",
    "                \"required\": [\"user_id\"]\n",
    "            }\n",
    "    }\n",
    "}"
   ]
  },
  {
   "cell_type": "code",
   "execution_count": null,
   "id": "c0677fc2-227b-4f2b-9f0a-40fe9102d048",
   "metadata": {},
   "outputs": [],
   "source": [
    "def get_response_from_messages(messages_input, model_input = \"gpt-4o-mini\", temperature_input = .5):\n",
    "\n",
    "    response = client.chat.completions.create(\n",
    "        model = model_input,\n",
    "        messages = messages_input,\n",
    "        temperature = temperature_input,\n",
    "        tools = [check_current_coverage_tool, get_policy_data_tool],\n",
    "        tool_choice = \"auto\"\n",
    "    )\n",
    "\n",
    "    response = response\n",
    "    return response "
   ]
  },
  {
   "cell_type": "code",
   "execution_count": null,
   "id": "3ba0ef13-e54f-46df-91b3-6c88ff3e297a",
   "metadata": {},
   "outputs": [],
   "source": [
    "def initialize_bot():\n",
    "    system_message = f\"\"\"\n",
    "    You are AdvisorBot, an intelligent and empathetic assistant specializing in helping insurance policyholders\n",
    "    understand their coverage and explore options for additional protection. Your primary role is to engage with policyholders to:\n",
    "\n",
    "    Clarify Needs:\n",
    "    Determine if they are asking about an incident that already happened and whether they are covered for it.\n",
    "    Identify if they are seeking advice on adding new coverage due to changes in their lifestyle or circumstances.\n",
    "    \n",
    "    Access Tools:\n",
    "    Use the check_current_coverage tool to fetch the current riders the policyholder has by asking for their policyholder ID.\n",
    "    Use the get_policy_data tool to retrieve all available riders offered by the insurance company.\n",
    "\n",
    "    Engage Empathetically:\n",
    "    Actively listen to the user’s needs and ask relevant follow-up questions to understand their situation.\n",
    "    Reassure them if they are concerned about an incident, and explain coverage options clearly.\n",
    "\n",
    "    Provide Clear Recommendations:\n",
    "\n",
    "    For incidents, check if the current riders cover the situation, and guide the user on the next steps if they are covered\n",
    "    or suggest alternatives if they are not.\n",
    "    For new coverage, recommend additional riders based on their described needs and the available options.  These riders must come from\n",
    "    list of available riders retrieved using the get_policy_tool\n",
    "\n",
    "    Efficient and Accurate:\n",
    "    Ensure the user provides their policyholder ID to access their current coverage details and tailor recommendations\n",
    "    specifically to their situation.\n",
    "    Use the tools effectively to retrieve and analyze data to assist the user promptly.\n",
    "    You should strive to make the interaction seamless and informative, ensuring the user feels supported and confident\n",
    "    in their insurance decisions.\n",
    "    \"\"\"\n",
    "    \n",
    "    context = [{\"role\":\"system\", \"content\":system_message}]\n",
    "\n",
    "    return context"
   ]
  },
  {
   "cell_type": "code",
   "execution_count": null,
   "id": "b2c2c645-67d2-4bc3-a364-15514bdb4e25",
   "metadata": {},
   "outputs": [],
   "source": [
    "def collect_messages(prompt, context):\n",
    "    context.append({'role':'user', 'content':prompt})\n",
    "    response = get_response_from_messages(context) \n",
    "    context.append({'role':'assistant', 'content': f\"{response.choices[0].message.content}\"})\n",
    "    return response"
   ]
  },
  {
   "cell_type": "code",
   "execution_count": null,
   "id": "05742e2d-af8b-43e2-8f33-d4d15e180abd",
   "metadata": {},
   "outputs": [],
   "source": [
    "def main():\n",
    "    context = initialize_bot()\n",
    "    total_tokens = 0\n",
    "\n",
    "    print(\"Welcome! Type 'exit' to end the chat.\")\n",
    "    greeting = collect_messages(\"\", context)\n",
    "    print(greeting.choices[0].message.content)\n",
    "    total_tokens += greeting.usage.total_tokens\n",
    "    \n",
    "    while True:\n",
    "        user_input = input(\"You: \")\n",
    "        \n",
    "        if user_input.lower() == 'exit':\n",
    "            print(f\"Total tokens used in this session: {total_tokens}\")\n",
    "            return context\n",
    "        \n",
    "        response = collect_messages(user_input, context)\n",
    "\n",
    "        # Display the assistant's response if it has content\n",
    "        if response.choices[0].message.content != None:\n",
    "            print(\"Bot:\", response.choices[0].message.content)\n",
    "            total_tokens += response.usage.total_tokens\n",
    "\n",
    "        # Process tool calls if included in response\n",
    "        if response.choices[0].message.tool_calls:\n",
    "            for tool_call in response.choices[0].message.tool_calls:\n",
    "                tool_name = tool_call.function.name\n",
    "                arguments = json.loads(tool_call.function.arguments)\n",
    "                \n",
    "                if tool_name == \"check_current_coverage\":\n",
    "                    user_id = arguments[\"user_id\"]\n",
    "                    user_current_riders = check_current_coverage(user_id)\n",
    "                    context.append({\n",
    "                        'role': 'function', 'name': 'check_current_coverage','content': f\"current coverage includes: {user_current_riders}\"})\n",
    "                \n",
    "                if tool_name == \"get_policy_data\":\n",
    "                    user_id = arguments[\"user_id\"]\n",
    "                    policy_data = get_policy_data(user_id)\n",
    "                    context.append({\n",
    "                        'role': 'function', 'name': 'get_policy_data','content': f\"available policy options: {policy_data}\"})\n",
    "                \n",
    "                #After processing each tool call, continue the conversation with updated context\n",
    "                follow_up_response = collect_messages(\"\", context)\n",
    "                if follow_up_response.choices[0].message.content != None:\n",
    "                    print(\"Bot:\", follow_up_response.choices[0].message.content)\n",
    "                    total_tokens += follow_up_response.usage.total_tokens\n"
   ]
  },
  {
   "cell_type": "code",
   "execution_count": null,
   "id": "bc891786-5b3d-4f0a-b81c-3dae170080b8",
   "metadata": {},
   "outputs": [],
   "source": [
    "chat_transcript = main()"
   ]
  },
  {
   "cell_type": "code",
   "execution_count": null,
   "id": "c140eded-3e45-4c8a-8dec-2a1da528ef5f",
   "metadata": {},
   "outputs": [],
   "source": [
    "chat_transcript"
   ]
  }
 ],
 "metadata": {
  "kernelspec": {
   "display_name": "Python 3 (ipykernel)",
   "language": "python",
   "name": "python3"
  },
  "language_info": {
   "codemirror_mode": {
    "name": "ipython",
    "version": 3
   },
   "file_extension": ".py",
   "mimetype": "text/x-python",
   "name": "python",
   "nbconvert_exporter": "python",
   "pygments_lexer": "ipython3",
   "version": "3.12.7"
  }
 },
 "nbformat": 4,
 "nbformat_minor": 5
}
