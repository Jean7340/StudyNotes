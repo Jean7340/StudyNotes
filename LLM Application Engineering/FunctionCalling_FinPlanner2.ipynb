{
 "cells": [
  {
   "cell_type": "markdown",
   "id": "16937d2a-d471-41ee-b43c-7f9cf32df9ba",
   "metadata": {},
   "source": [
    "## Function Calling in OpenAI"
   ]
  },
  {
   "cell_type": "code",
   "execution_count": null,
   "id": "bbb3417d-4474-4381-99eb-966408fab502",
   "metadata": {},
   "outputs": [],
   "source": [
    "#!pip install openai\n",
    "#!pip install python-dotenv"
   ]
  },
  {
   "cell_type": "code",
   "execution_count": 1,
   "id": "50366388-fb9f-481e-abe0-fbe2e5c23dc8",
   "metadata": {},
   "outputs": [],
   "source": [
    "import json\n",
    "import pandas as pd\n",
    "import openai\n",
    "from dotenv import load_dotenv\n",
    "import os\n",
    "\n",
    "load_dotenv()\n",
    "os.environ[\"OPENAI_API_KEY\"] = os.getenv(\"openai_api_key\")\n",
    "\n",
    "client = openai.OpenAI()"
   ]
  },
  {
   "cell_type": "code",
   "execution_count": 2,
   "id": "b39ee98f-c189-4263-a735-c59bbca751fe",
   "metadata": {},
   "outputs": [],
   "source": [
    "def calculateLoanPayment(principal: float, interestRate: float, term: int) -> float:\n",
    "    # Convert annual interest rate to a monthly rate\n",
    "    monthly_rate = interestRate / 100 / 12\n",
    "    # Total number of payments (months)\n",
    "    total_payments = term * 12\n",
    "    \n",
    "    # Calculate monthly payment using the loan payment formula\n",
    "    if monthly_rate == 0:\n",
    "        # Avoid division by zero in case of 0% interest\n",
    "        monthly_payment = principal / total_payments\n",
    "    else:\n",
    "        monthly_payment = (principal * monthly_rate * (1 + monthly_rate) ** total_payments) / ((1 + monthly_rate) ** total_payments - 1)\n",
    "    \n",
    "    return monthly_payment\n",
    "\n"
   ]
  },
  {
   "cell_type": "code",
   "execution_count": null,
   "id": "380e42b0-b7bf-42d1-ac39-8dbc36b939bf",
   "metadata": {},
   "outputs": [],
   "source": [
    "principal = 50000  \n",
    "interestRate = 5\n",
    "term = 15  \n",
    "\n",
    "monthly_payment = calculateLoanPayment(principal, interestRate, term)\n",
    "print(f\"The monthly payment is: ${monthly_payment:.2f}\")"
   ]
  },
  {
   "cell_type": "code",
   "execution_count": null,
   "id": "42529e7c-6b1e-451e-b33d-d3bb3fc9c103",
   "metadata": {},
   "outputs": [],
   "source": [
    "def calculateMonthlySavings(goal_amount: float, interest_rate: float, time_in_years: int) -> float:\n",
    "    # Convert annual interest rate to a monthly rate\n",
    "    monthly_rate = interest_rate / 100 / 12\n",
    "    # Total number of months\n",
    "    total_months = time_in_years * 12\n",
    "\n",
    "    if monthly_rate == 0:\n",
    "        # No interest case\n",
    "        monthly_savings = goal_amount / total_months\n",
    "    else:\n",
    "        # Calculate required monthly savings with interest\n",
    "        monthly_savings = goal_amount * monthly_rate / ((1 + monthly_rate) ** total_months - 1)\n",
    "\n",
    "    return monthly_savings"
   ]
  },
  {
   "cell_type": "code",
   "execution_count": null,
   "id": "88c5bda9-261e-407a-a19b-191a58f3a16f",
   "metadata": {},
   "outputs": [],
   "source": [
    "goal_amount = 50000  \n",
    "interestRate = 5\n",
    "time_in_years = 15  \n",
    "\n",
    "monthly_savings = calculateMonthlySavings(goal_amount, interestRate, time_in_years)\n",
    "print(f\"Your monthly savings should be: ${monthly_savings:.2f}\")"
   ]
  },
  {
   "cell_type": "code",
   "execution_count": null,
   "id": "f229bbe9-1d1e-4b10-9bd0-ff40af8ba28f",
   "metadata": {},
   "outputs": [],
   "source": [
    "calc_parameters = {\n",
    "    \"type\": \"object\",\n",
    "    \"properties\": {\n",
    "        \"principal\": {\n",
    "            \"type\": \"number\",\n",
    "            \"description\": \"The loan amount or principal in dollars.\"\n",
    "        },\n",
    "        \"interestRate\": {\n",
    "            \"type\": \"number\",\n",
    "            \"description\": \"The annual interest rate as a percentage (e.g., 5 for 5%).\"\n",
    "        },\n",
    "        \"term\": {\n",
    "            \"type\": \"integer\",\n",
    "            \"description\": \"The loan term in years.\"\n",
    "        }\n",
    "    },\n",
    "    \"required\": [\"principal\", \"interestRate\", \"term\"]\n",
    "}\n",
    "\n",
    "calc_loan_tool = {\n",
    "    \"type\": \"function\",\n",
    "    \"function\": {\n",
    "        \"name\": \"calculateLoanPayment\",\n",
    "        \"description\": \"Calculates loan payment from user inputs\",\n",
    "        \"parameters\": calc_parameters,\n",
    "    }\n",
    "}"
   ]
  },
  {
   "cell_type": "code",
   "execution_count": null,
   "id": "cdd8f1f6-076e-401d-a9f6-a9baf4f4ff70",
   "metadata": {},
   "outputs": [],
   "source": [
    "savings_goal_parameters = {\n",
    "    \"type\": \"object\",\n",
    "    \"properties\": {\n",
    "        \"goal_amount\": {\n",
    "            \"type\": \"number\",\n",
    "            \"description\": \"The total savings goal amount in dollars.\"\n",
    "        },\n",
    "        \"interest_rate\": {\n",
    "            \"type\": \"number\",\n",
    "            \"description\": \"The annual interest rate as a percentage (e.g., 2 for 2%).\"\n",
    "        },\n",
    "        \"time_in_years\": {\n",
    "            \"type\": \"integer\",\n",
    "            \"description\": \"The time period in years to reach the savings goal.\"\n",
    "        }\n",
    "    },\n",
    "    \"required\": [\"goal_amount\", \"interest_rate\", \"time_in_years\"]\n",
    "}\n",
    "\n",
    "savings_goal_tool = {\n",
    "    \"type\": \"function\",\n",
    "    \"function\": {\n",
    "        \"name\": \"calculateMonthlySavings\",\n",
    "        \"description\": \"Calculates the required monthly savings to reach a specified goal within a set timeframe, factoring in interest.\",\n",
    "        \"parameters\": savings_goal_parameters\n",
    "    }\n",
    "}"
   ]
  },
  {
   "cell_type": "code",
   "execution_count": null,
   "id": "bcd0731e-f073-4a3d-bd70-63929856d58d",
   "metadata": {},
   "outputs": [],
   "source": [
    "def get_output(messages_input, model_input=\"gpt-4o-mini\", temperature_input = 0) :\n",
    "\n",
    "    response = client.chat.completions.create(\n",
    "        model = model_input,\n",
    "        messages = messages_input,\n",
    "        temperature = temperature_input,\n",
    "        tools = [calc_loan_tool, savings_goal_tool],\n",
    "        tool_choice = \"auto\"\n",
    "    )\n",
    "    \n",
    "    response = response.choices[0].message\n",
    "    return response"
   ]
  },
  {
   "cell_type": "code",
   "execution_count": null,
   "id": "08a06097-7d99-4e20-b724-9215bb0a9c9f",
   "metadata": {},
   "outputs": [],
   "source": [
    "def initialize_bot():\n",
    "    system_message = f\"\"\"\n",
    "    You are a financial assistant chatbot here to help users explore their options for funding an upcoming purchase. \n",
    "    Begin by asking questions to understand the user's goal: specifically, whether they’d like to save for their purchase or take out a loan.\n",
    "\n",
    "    You have access to two tools to assist with these options:\n",
    "\n",
    "    calculateLoanPayment: Calculates the monthly payment if the user decides to borrow the amount needed.\n",
    "    calculateMonthlySavings: Calculates the monthly savings needed to reach the goal by a specific deadline, \n",
    "    factoring in potential interest on the savings.\n",
    "\n",
    "    Start by asking the user questions to clarify their goal and preferences. \n",
    "    If the user indicates they would like to borrow, gather details such as the loan amount, annual interest rate, and loan term in years,\n",
    "    then use calculateLoanPayment to calculate the monthly payment. If the user prefers to save, ask about the target savings amount,\n",
    "    the time frame, and expected interest rate, then use calculateMonthlySavings to estimate the monthly savings needed.\n",
    "\n",
    "    Throughout the conversation, ensure the user understands the parameters and options.\n",
    "    Provide explanations or suggestions on adjusting loan terms, rates, or the timeframe\n",
    "    to align with their financial goals. \n",
    "    End each response by confirming if they need further assistance or if they’d like help exploring other options.\n",
    "    \"\"\"\n",
    "    \n",
    "    context = [{\"role\":\"system\", \"content\":system_message}]\n",
    "\n",
    "    return context\n"
   ]
  },
  {
   "cell_type": "code",
   "execution_count": null,
   "id": "7514f371-fbfe-4501-80df-46d14327ae00",
   "metadata": {},
   "outputs": [],
   "source": [
    "def collect_messages(prompt, context):\n",
    "    context.append({'role':'user', 'content':prompt})\n",
    "    response = get_output(context) \n",
    "    context.append({'role':'assistant', 'content': f\"{response.content}\"})\n",
    "    return response"
   ]
  },
  {
   "cell_type": "code",
   "execution_count": null,
   "id": "4a13ed5f-03e2-494c-ad59-09d9a4b904db",
   "metadata": {},
   "outputs": [],
   "source": [
    "def main():\n",
    "    context = initialize_bot()\n",
    "\n",
    "    print(\"Welcome! Type 'exit' to end the chat.\")\n",
    "    greeting = collect_messages(\"\", context)\n",
    "    print(greeting.content)\n",
    "    \n",
    "    while True:\n",
    "        user_input = input(\"You: \")\n",
    "        \n",
    "        if user_input.lower() == 'exit':\n",
    "            return context\n",
    "        \n",
    "        response = collect_messages(user_input, context)\n",
    "\n",
    "        # Display the assistant's response if it has content\n",
    "        if response.content != None:\n",
    "            print(\"Bot:\", response.content)\n",
    "\n",
    "        # Execute tool call(s) if any included in assistant's response\n",
    "        if response.tool_calls:\n",
    "            for tool_call in response.tool_calls:\n",
    "                # Extract tool name and arguments from each tool call\n",
    "                tool_name = tool_call.function.name\n",
    "                arguments = json.loads(tool_call.function.arguments)\n",
    "                \n",
    "                # Handle the calculateLoanPayment tool call\n",
    "                if tool_name == \"calculateLoanPayment\":\n",
    "                    principal = arguments[\"principal\"]\n",
    "                    interestRate = arguments[\"interestRate\"]\n",
    "                    term = arguments[\"term\"]\n",
    "                    \n",
    "                    # Call calculateLoanPayment and add the result to context\n",
    "                    monthly_payment = calculateLoanPayment(principal, interestRate, term)\n",
    "                    context.append({\n",
    "                        'role': 'function', 'name': 'calculateLoanPayment','content': f\"Calculated Monthly Payment: ${monthly_payment:.2f}\"})\n",
    "                \n",
    "                # Handle the compareLoans tool call\n",
    "                if tool_name == \"calculateMonthlySavings\":\n",
    "                    goal_amount = arguments[\"goal_amount\"]\n",
    "                    interest_rate = arguments[\"interest_rate\"]\n",
    "                    time_in_years = arguments[\"time_in_years\"]\n",
    "    \n",
    "                    # Call calculateMonthlySavings and add the result to context\n",
    "                    monthly_savings = calculateMonthlySavings(goal_amount, interest_rate, time_in_years)\n",
    "                    context.append({'role': 'function','name': 'calculateMonthlySavings', 'content': f\"You need to save approximately ${monthly_savings:.2f} per month.\"})\n",
    "                \n",
    "                #After processing each tool call, continue the conversation with updated context\n",
    "                follow_up_response = collect_messages(\"summarize results for customer\", context)\n",
    "                print(\"Bot:\", follow_up_response.content)\n",
    "\n",
    "\n",
    "        "
   ]
  },
  {
   "cell_type": "code",
   "execution_count": null,
   "id": "9ab80a0c-c8ed-4171-ba32-8874978bf08b",
   "metadata": {},
   "outputs": [],
   "source": [
    "chat_transcript = main()"
   ]
  },
  {
   "cell_type": "code",
   "execution_count": null,
   "id": "7233fbe0-0e13-4f4c-9983-6337a81a12a5",
   "metadata": {},
   "outputs": [],
   "source": [
    "chat_transcript"
   ]
  },
  {
   "cell_type": "code",
   "execution_count": null,
   "id": "b318af1c-fda6-4c63-b7a1-8c973c5fc98e",
   "metadata": {},
   "outputs": [],
   "source": []
  }
 ],
 "metadata": {
  "kernelspec": {
   "display_name": "Python 3 (ipykernel)",
   "language": "python",
   "name": "python3"
  },
  "language_info": {
   "codemirror_mode": {
    "name": "ipython",
    "version": 3
   },
   "file_extension": ".py",
   "mimetype": "text/x-python",
   "name": "python",
   "nbconvert_exporter": "python",
   "pygments_lexer": "ipython3",
   "version": "3.12.7"
  }
 },
 "nbformat": 4,
 "nbformat_minor": 5
}
