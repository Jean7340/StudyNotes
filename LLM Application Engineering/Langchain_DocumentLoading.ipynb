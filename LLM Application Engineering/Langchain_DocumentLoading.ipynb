{
 "cells": [
  {
   "cell_type": "code",
   "execution_count": null,
   "id": "a863b350-11ca-428f-965e-bfa77554982c",
   "metadata": {},
   "outputs": [],
   "source": [
    "#!pip install unstructured\n",
    "#!pip install -U langchain-community\n",
    "#!pip install pypdf"
   ]
  },
  {
   "cell_type": "code",
   "execution_count": 1,
   "id": "8a242fbc-e650-4ddd-bf26-e2a8184c1c01",
   "metadata": {},
   "outputs": [],
   "source": [
    "import openai\n",
    "from dotenv import load_dotenv\n",
    "import os\n",
    "\n",
    "load_dotenv()\n",
    "os.environ[\"OPENAI_API_KEY\"] = os.getenv(\"openai_api_key\")"
   ]
  },
  {
   "cell_type": "code",
   "execution_count": 2,
   "id": "723e314f-ece0-43d3-a7db-65ec9bf522f6",
   "metadata": {},
   "outputs": [],
   "source": [
    "from langchain.document_loaders import TextLoader\n",
    "\n",
    "loader = TextLoader(\"./data_text/email.txt\")\n",
    "document = loader.load()\n"
   ]
  },
  {
   "cell_type": "code",
   "execution_count": 3,
   "id": "ebc989f5-3051-4495-87ab-f3fa77405f92",
   "metadata": {},
   "outputs": [
    {
     "data": {
      "text/plain": [
       "langchain_community.document_loaders.text.TextLoader"
      ]
     },
     "execution_count": 3,
     "metadata": {},
     "output_type": "execute_result"
    }
   ],
   "source": [
    "type(loader)"
   ]
  },
  {
   "cell_type": "code",
   "execution_count": 4,
   "id": "8ade905b-7785-4e1a-b656-7a30f4f8c40b",
   "metadata": {},
   "outputs": [
    {
     "data": {
      "text/plain": [
       "\"Improving Your Leadership Skills and Sensibilities\\n\\nYou're tasked everyday to work collaboratively with not only members of your team, but also fellow adminstrative leaders,\\nthe faculty, and broader campus community to help your institution acheive its strategic priorities.  THis collaboration is\\nimperative to effective shared governance, yet has become more difficult to navigate as we face an increasingly complex set of challenges\\nin higher education from budget to enrollment to new technologies and beyond.\\n\\n\\n\\n\\n\\n\\n\\n\\n\""
      ]
     },
     "execution_count": 4,
     "metadata": {},
     "output_type": "execute_result"
    }
   ],
   "source": [
    "document[0].page_content"
   ]
  },
  {
   "cell_type": "code",
   "execution_count": 5,
   "id": "c92d5d5d-fb90-40a6-b6b4-0cab709e7e55",
   "metadata": {},
   "outputs": [],
   "source": [
    "from langchain.document_loaders import PyPDFLoader\n",
    "loader = PyPDFLoader(\"RugbyUnion_LawsoftheGame.pdf\")\n",
    "pages = loader.load()"
   ]
  },
  {
   "cell_type": "code",
   "execution_count": 6,
   "id": "930fd76e-8049-41ef-8bea-45d534199d96",
   "metadata": {},
   "outputs": [
    {
     "data": {
      "text/plain": [
       "156"
      ]
     },
     "execution_count": 6,
     "metadata": {},
     "output_type": "execute_result"
    }
   ],
   "source": [
    "len(pages)"
   ]
  },
  {
   "cell_type": "code",
   "execution_count": null,
   "id": "43e55b13-ea37-4d83-8992-1676efab9ac0",
   "metadata": {},
   "outputs": [],
   "source": [
    "page = pages[6]"
   ]
  },
  {
   "cell_type": "code",
   "execution_count": null,
   "id": "2a847b8e-ecbb-40fb-9d8c-6418dc1c90ac",
   "metadata": {},
   "outputs": [],
   "source": [
    "print(page.page_content[0:1000])"
   ]
  },
  {
   "cell_type": "code",
   "execution_count": null,
   "id": "c656119e-b0e3-45f6-9b77-c2d8e9a06510",
   "metadata": {},
   "outputs": [],
   "source": [
    "page.metadata"
   ]
  },
  {
   "cell_type": "code",
   "execution_count": null,
   "id": "add0ac57-ad4c-46b3-a324-6f9d7dce4de4",
   "metadata": {},
   "outputs": [],
   "source": [
    "from langchain.document_loaders import WebBaseLoader\n",
    "loader = WebBaseLoader(\"https://finance.yahoo.com/news/us-economy-adds-303000-jobs-unemployment-falls-to-38-in-march-as-labor-market-continues-to-impress-123226886.html\")\n",
    "docs = loader.load()"
   ]
  },
  {
   "cell_type": "code",
   "execution_count": null,
   "id": "2fab5a69-58c1-49b9-a0d1-d120fdd4a4f8",
   "metadata": {},
   "outputs": [],
   "source": [
    "doc = docs[0]\n",
    "doc.page_content"
   ]
  }
 ],
 "metadata": {
  "kernelspec": {
   "display_name": "Python 3 (ipykernel)",
   "language": "python",
   "name": "python3"
  },
  "language_info": {
   "codemirror_mode": {
    "name": "ipython",
    "version": 3
   },
   "file_extension": ".py",
   "mimetype": "text/x-python",
   "name": "python",
   "nbconvert_exporter": "python",
   "pygments_lexer": "ipython3",
   "version": "3.12.7"
  }
 },
 "nbformat": 4,
 "nbformat_minor": 5
}
