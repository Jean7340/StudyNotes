{
 "cells": [
  {
   "cell_type": "markdown",
   "id": "16937d2a-d471-41ee-b43c-7f9cf32df9ba",
   "metadata": {},
   "source": [
    "## AI Agents"
   ]
  },
  {
   "cell_type": "code",
   "execution_count": null,
   "id": "bbb3417d-4474-4381-99eb-966408fab502",
   "metadata": {},
   "outputs": [],
   "source": [
    "#!pip install openai\n",
    "#!pip install python-dotenv\n",
    "\n",
    "#!pip install autogen"
   ]
  },
  {
   "cell_type": "code",
   "execution_count": null,
   "id": "50366388-fb9f-481e-abe0-fbe2e5c23dc8",
   "metadata": {},
   "outputs": [],
   "source": [
    "import json\n",
    "import pandas as pd\n",
    "import openai\n",
    "from dotenv import load_dotenv\n",
    "import os\n",
    "\n",
    "load_dotenv()\n",
    "os.environ[\"OPENAI_API_KEY\"] = os.getenv(\"openai_api_key\")\n",
    "\n",
    "client = openai.OpenAI()\n",
    "llm_config_def = {\"model\": \"gpt-4-turbo\"}"
   ]
  },
  {
   "cell_type": "code",
   "execution_count": null,
   "id": "d0b7360a-6fce-433e-abd2-c57945cbb6db",
   "metadata": {},
   "outputs": [],
   "source": [
    "from autogen.coding import LocalCommandLineCodeExecutor\n",
    "from autogen import ConversableAgent, AssistantAgent"
   ]
  },
  {
   "cell_type": "code",
   "execution_count": null,
   "id": "f7a03f06-1ebe-4346-8e87-73b2600e989d",
   "metadata": {},
   "outputs": [],
   "source": [
    "executor = LocalCommandLineCodeExecutor(\n",
    "    timeout=60,\n",
    "    work_dir=\"coding\",\n",
    ")"
   ]
  },
  {
   "cell_type": "code",
   "execution_count": null,
   "id": "169240e4-3b77-4d0c-9760-c3e58b0e3d42",
   "metadata": {},
   "outputs": [],
   "source": [
    "code_executor_agent = ConversableAgent(\n",
    "    name=\"code_executor_agent\",\n",
    "    llm_config=False,\n",
    "    code_execution_config={\"executor\": executor},\n",
    "    human_input_mode=\"ALWAYS\",\n",
    "    default_auto_reply=\n",
    "    \"Please continue. If everything is done, reply 'TERMINATE'.\",\n",
    ")\n",
    "\n",
    "code_writer_agent = AssistantAgent(\n",
    "    name=\"code_writer_agent\",\n",
    "    llm_config=llm_config_def,\n",
    "    code_execution_config=False,\n",
    "    human_input_mode=\"NEVER\",\n",
    ")"
   ]
  },
  {
   "cell_type": "code",
   "execution_count": null,
   "id": "f903c1ab-eab1-4d78-b76d-c40e759f329b",
   "metadata": {},
   "outputs": [],
   "source": [
    "code_writer_agent_system_message = code_writer_agent.system_message\n",
    "print(code_writer_agent_system_message)"
   ]
  },
  {
   "cell_type": "code",
   "execution_count": null,
   "id": "527c51f8-8719-4112-9629-633464ac5bd2",
   "metadata": {},
   "outputs": [],
   "source": [
    "data = pd.read_csv(\"employee_performance.csv\")\n",
    "\n",
    "message = f'''Using data from {data}, create a scatter plot of training hours vs. performance improvement,\n",
    "with a regression line. Save the figure as performance_analysis.png and include the code in markdown.'''\n",
    "\n",
    "\n"
   ]
  },
  {
   "cell_type": "code",
   "execution_count": null,
   "id": "3c405958-0baf-4ea2-ba1f-665de1cebe4d",
   "metadata": {},
   "outputs": [],
   "source": [
    "chat_result = code_executor_agent.initiate_chat(\n",
    "    code_writer_agent,\n",
    "    message=message,\n",
    ")"
   ]
  },
  {
   "cell_type": "code",
   "execution_count": null,
   "id": "61c94d81-311d-4035-808f-4c867cfa8fdf",
   "metadata": {},
   "outputs": [],
   "source": [
    "import os\n",
    "from IPython.display import Image\n",
    "\n",
    "Image(os.path.join(\"coding\", \"performance_analysis.png\"))"
   ]
  }
 ],
 "metadata": {
  "kernelspec": {
   "display_name": "Python 3 (ipykernel)",
   "language": "python",
   "name": "python3"
  },
  "language_info": {
   "codemirror_mode": {
    "name": "ipython",
    "version": 3
   },
   "file_extension": ".py",
   "mimetype": "text/x-python",
   "name": "python",
   "nbconvert_exporter": "python",
   "pygments_lexer": "ipython3",
   "version": "3.12.4"
  }
 },
 "nbformat": 4,
 "nbformat_minor": 5
}
