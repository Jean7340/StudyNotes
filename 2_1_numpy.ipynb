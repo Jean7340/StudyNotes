{
 "cells": [
  {
   "cell_type": "markdown",
   "metadata": {},
   "source": [
    "# NumPy\n",
    "#### Yufeng Huang\n",
    "#### Associate Professor of Marketing, Simon Business School\n",
    "#### July 30 and August 1, 2024\n"
   ]
  },
  {
   "cell_type": "markdown",
   "metadata": {},
   "source": [
    "## This course so far\n",
    "- We've set up the Python coding environment\n",
    "\n",
    "- Learned basic data types:\n",
    "    - booleans\n",
    "    - integers\n",
    "    - floats\n",
    "    - strings\n",
    "\n",
    "- Saw different operators for each type of data \n",
    "    - comparison operators `>` and `<=`\n",
    "    - boolean operators `and` and `&`\n",
    "    - numeric operators and functions `+`, `**`, `math.log()`\n",
    "\n",
    "- Understood basic data structures: lists, tuples, sets, and dictionaries\n",
    "    - lists, tuples, and strings are sequences\n",
    "    - lists, sets, and dictionaries are mutable\n",
    "    - each data structure comes with corresponding operations, such as concatenation and `in`\n",
    "\n",
    "- Finally, got the basic idea of if/else, while and for loops, and functions\n",
    "\n",
    "- With these knowledge combined, we're ready to tackle tabular data sets (?)"
   ]
  },
  {
   "cell_type": "markdown",
   "metadata": {},
   "source": [
    "### Our previous example: read and analyze sales quantity data"
   ]
  },
  {
   "cell_type": "code",
   "execution_count": 212,
   "metadata": {},
   "outputs": [
    {
     "data": {
      "text/plain": [
       "[36, 28, 56, 42, 37, 92, 34, 55, 106]"
      ]
     },
     "execution_count": 212,
     "metadata": {},
     "output_type": "execute_result"
    }
   ],
   "source": [
    "# Create sales quantity in thousands\n",
    "quantity_k = [36, 28, 56, 42, 37, 92, 34, 55, 106]\n",
    "quantity_k"
   ]
  },
  {
   "cell_type": "markdown",
   "metadata": {},
   "source": [
    "- We know we cannot just multiply quantity_k with the constant"
   ]
  },
  {
   "cell_type": "code",
   "execution_count": 213,
   "metadata": {},
   "outputs": [
    {
     "name": "stdout",
     "output_type": "stream",
     "text": [
      "[1, 2, 3, 1, 2, 3]\n",
      "xyzxyzxyzxyzxyz\n"
     ]
    }
   ],
   "source": [
    "# Examples\n",
    "print([1, 2, 3] * 2)\n",
    "print(\"xyz\" * 5)"
   ]
  },
  {
   "cell_type": "markdown",
   "metadata": {},
   "source": [
    "- But what should we do if we want to multiply the values?\n",
    "- Well, have to do this element by element, right?\n",
    "- But wait, there's yet another way!"
   ]
  },
  {
   "cell_type": "markdown",
   "metadata": {},
   "source": [
    "### But of course, we're not supposed to write a loop for something this basic\n",
    "- Rather, there should be a way for us to just multiply the number 1000 to every element in one step, not in a loop\n",
    "\n",
    "- But it's deeper than that: \n",
    "    - first, need to define a *homogeneous* data structure -- so that we can restrict every element to be the same type\n",
    "    - then, need functions and operators that can *\"vectorize\"* on that structure -- so that the operator applies element by element"
   ]
  },
  {
   "cell_type": "code",
   "execution_count": 214,
   "metadata": {},
   "outputs": [
    {
     "name": "stdout",
     "output_type": "stream",
     "text": [
      "[ 36000  28000  56000  42000  37000  92000  34000  55000 106000]\n"
     ]
    }
   ],
   "source": [
    "# Numpy solve this with elegance\n",
    "import numpy as np                      # standard to call numpy \"np\"\n",
    "quantity = np.array(quantity_k) * 1000   \n",
    "print(quantity)"
   ]
  },
  {
   "cell_type": "code",
   "execution_count": 215,
   "metadata": {},
   "outputs": [
    {
     "data": {
      "text/plain": [
       "numpy.ndarray"
      ]
     },
     "execution_count": 215,
     "metadata": {},
     "output_type": "execute_result"
    }
   ],
   "source": [
    "# You can also see that quantity is an ndarray\n",
    "type(quantity)"
   ]
  },
  {
   "cell_type": "markdown",
   "metadata": {},
   "source": [
    "### The importance of \"vectorized\" operations in data science\n",
    "- We work with data with many, many rows\n",
    "- It is very important that we have operators that directly access the entire columns in the dataset, instead of having to work through the elements\n",
    "- Likewise, we'll work on high-dimensional data, such as images, and there we want to work on the \"entire thing\" rather than each pixel\n",
    "- So to stress the importance of this point, my friend has done an interview last weekend when a few of our students went celebrating\n",
    "\n",
    "https://www.dropbox.com/scl/fi/7718tesabf1nb6gx3y031/clideo_editor_93ee4c4895444fe1a97e54fe59451136.mp4?rlkey=h6ojvqwk0r5durpx13rh5j453&st=7ufxw1k4&dl=0"
   ]
  },
  {
   "cell_type": "markdown",
   "metadata": {},
   "source": [
    "## This class\n",
    "- The core idea: arrays and array operations\n",
    "\n",
    "- NumPy (Numerical Python) is a library for the Python programming language that\n",
    "    - introduces multidimensional array data structures, especially `ndarray`\n",
    "    - provides a library of functions that operate on these data structures\n",
    "\n",
    "- Is the building block behind many other packages, such as Pandas\n",
    "    - it is not an exageration to view NumPy as the core of how modern Python code works"
   ]
  },
  {
   "cell_type": "markdown",
   "metadata": {},
   "source": [
    "- To install NumPy, recall that we typed `pip install numpy==1.26.4` within the Python environment (`gba464`) we created\n",
    "\n",
    "- For this class, you could skip specifying the version and install NumPy 2, but I step back a few versions for compatibility reasons\n",
    "\n",
    "- And when you need NumPy, need to import it first"
   ]
  },
  {
   "cell_type": "markdown",
   "metadata": {},
   "source": [
    "### Import NumPy"
   ]
  },
  {
   "cell_type": "code",
   "execution_count": 216,
   "metadata": {},
   "outputs": [],
   "source": [
    "# Import numpy (already did it, but doing it again to emphasize)\n",
    "import numpy as np"
   ]
  },
  {
   "cell_type": "markdown",
   "metadata": {},
   "source": [
    "### Outline\n",
    "1. Creating arrays\n",
    "\n",
    "2. An array's structure \n",
    "    - how to index and slice? \n",
    "    - how to restructure an array\n",
    "\n",
    "3. Element-wise operations and broadcasting\n",
    "\n",
    "4. Miscelaneous topics"
   ]
  },
  {
   "cell_type": "markdown",
   "metadata": {},
   "source": [
    "### Further reading\n",
    "If you find this class difficult, I suggest taking a look at NumPy's manual\n",
    "https://numpy.org/doc/stable/user/absolute_beginners.html"
   ]
  },
  {
   "cell_type": "markdown",
   "metadata": {},
   "source": []
  },
  {
   "cell_type": "markdown",
   "metadata": {},
   "source": [
    "## 1. Creating Arrays"
   ]
  },
  {
   "cell_type": "markdown",
   "metadata": {},
   "source": [
    "### 1.1 Creating Arrays from `List`\n",
    "- Can create arrays from an existing list\n",
    "\n",
    "- Canonical examples are to create arrays from a one-layer list or two-layer (structured) list\n",
    "\n",
    "- Can create higher-dimensional arrays from lists with more layers\n",
    "\n",
    "- Can specify data type using parameter `dtype`"
   ]
  },
  {
   "cell_type": "code",
   "execution_count": 217,
   "metadata": {},
   "outputs": [
    {
     "data": {
      "text/plain": [
       "array([1, 2, 3, 4])"
      ]
     },
     "execution_count": 217,
     "metadata": {},
     "output_type": "execute_result"
    }
   ],
   "source": [
    "# Create an array from a list\n",
    "arr_1d = np.array([1, 2, 3, 4])\n",
    "arr_1d"
   ]
  },
  {
   "cell_type": "code",
   "execution_count": 218,
   "metadata": {},
   "outputs": [
    {
     "data": {
      "text/plain": [
       "numpy.ndarray"
      ]
     },
     "execution_count": 218,
     "metadata": {},
     "output_type": "execute_result"
    }
   ],
   "source": [
    "# Note that there's an array() highlighting the object is an ndarray\n",
    "type(arr_1d)"
   ]
  },
  {
   "cell_type": "code",
   "execution_count": 219,
   "metadata": {},
   "outputs": [
    {
     "data": {
      "text/plain": [
       "array([[ 1,  2,  3,  4],\n",
       "       [ 5,  6,  7,  8],\n",
       "       [ 9, 10, 11, 12]])"
      ]
     },
     "execution_count": 219,
     "metadata": {},
     "output_type": "execute_result"
    }
   ],
   "source": [
    "# Can create a 2-dimensional (2D) array from a nested list\n",
    "#   explanation: first dimension is the outer layer, so [1, 2, 3, 4] is the first element of the first dimension\n",
    "#   second dimension is within the next layer, so 1, 2 are the first and second element along the second dimension\n",
    "arr_2d = np.array([[1, 2, 3, 4], [5, 6, 7, 8], [9, 10, 11, 12]]) \n",
    "arr_2d"
   ]
  },
  {
   "cell_type": "code",
   "execution_count": 220,
   "metadata": {},
   "outputs": [
    {
     "name": "stdout",
     "output_type": "stream",
     "text": [
      "[[[ 1  2  3  4]\n",
      "  [ 5  6  7  8]\n",
      "  [ 9 10 11 12]]\n",
      "\n",
      " [[13 14 15 16]\n",
      "  [17 18 19 20]\n",
      "  [21 22 23 24]]]\n"
     ]
    }
   ],
   "source": [
    "# Can even create higher-dimensional arrays from lists, but now the syntax gets trickier\n",
    "arr_3d = np.array([[[1, 2, 3, 4], [5, 6, 7, 8], [9, 10, 11, 12]], [[13, 14, 15, 16], [17, 18, 19, 20], [21, 22, 23, 24]]])\n",
    "print(arr_3d)"
   ]
  },
  {
   "cell_type": "markdown",
   "metadata": {},
   "source": [
    "#### What does the above object look like in 3D?\n",
    "- Note that \n",
    "    - dimension 1 corresponds to the outer list\n",
    "    - dimension 2 corresponds to the middle layer, e.g. `[[1, 2, 3, 4], [5, 6, 7, 8]]`\n",
    "    - and dimension 3 corresponds to the inner list `[1, 2, 3, 4]`"
   ]
  },
  {
   "cell_type": "markdown",
   "metadata": {},
   "source": [
    "#### `ndarray` is homogeneous\n",
    "- I.e., all data in one `ndarray` must be of the same type\n",
    "    - e.g., they can all be integers\n",
    "    - or float\n",
    "    - or even strings"
   ]
  },
  {
   "cell_type": "code",
   "execution_count": 221,
   "metadata": {},
   "outputs": [
    {
     "data": {
      "text/plain": [
       "array([1, 2, 3])"
      ]
     },
     "execution_count": 221,
     "metadata": {},
     "output_type": "execute_result"
    }
   ],
   "source": [
    "# an integer array\n",
    "arr_int = np.array([1, 2, 3])\n",
    "arr_int"
   ]
  },
  {
   "cell_type": "code",
   "execution_count": 222,
   "metadata": {},
   "outputs": [
    {
     "data": {
      "text/plain": [
       "array(['Hi', 'there', 'how', 'are', 'you?'], dtype='<U5')"
      ]
     },
     "execution_count": 222,
     "metadata": {},
     "output_type": "execute_result"
    }
   ],
   "source": [
    "# a string array\n",
    "arr_str = np.array([\"Hi\", \"there\", \"how\", \"are\", \"you?\"])\n",
    "arr_str"
   ]
  },
  {
   "cell_type": "markdown",
   "metadata": {},
   "source": [
    "In the above example, the string array \"looks like\" a sentence, but it is actually an array of five different strings"
   ]
  },
  {
   "cell_type": "markdown",
   "metadata": {},
   "source": [
    "More practically, string arrays are entries that have to be stored as strings. Such as an array of states"
   ]
  },
  {
   "cell_type": "code",
   "execution_count": 223,
   "metadata": {},
   "outputs": [
    {
     "data": {
      "text/plain": [
       "array(['CA', 'MA', 'MI', 'NY', 'PA'], dtype='<U2')"
      ]
     },
     "execution_count": 223,
     "metadata": {},
     "output_type": "execute_result"
    }
   ],
   "source": [
    "arr_states = np.array([\"CA\", \"MA\", \"MI\", \"NY\", \"PA\"])\n",
    "arr_states"
   ]
  },
  {
   "cell_type": "markdown",
   "metadata": {},
   "source": [
    "#### How to specify data type? \n",
    "Use parameter `dtype`"
   ]
  },
  {
   "cell_type": "code",
   "execution_count": 224,
   "metadata": {},
   "outputs": [
    {
     "data": {
      "text/plain": [
       "array([1, 2, 3])"
      ]
     },
     "execution_count": 224,
     "metadata": {},
     "output_type": "execute_result"
    }
   ],
   "source": [
    "arr_1d = np.array([1.0, 2.0, 3.0], dtype=int)   # or dtype=\"int\"\n",
    "arr_1d"
   ]
  },
  {
   "cell_type": "code",
   "execution_count": null,
   "metadata": {},
   "outputs": [],
   "source": []
  },
  {
   "cell_type": "markdown",
   "metadata": {},
   "source": []
  },
  {
   "cell_type": "markdown",
   "metadata": {},
   "source": [
    "### 1.2 Creating structured arrays \n",
    "- Create arrays of constants\n",
    "- Create arrays from arithmetic sequences (equi-distance numbers) or geometric sequences (equi-distance numbers in log space)\n",
    "- Create arrays of random numbers"
   ]
  },
  {
   "cell_type": "markdown",
   "metadata": {},
   "source": [
    "#### Arrays of Constants\n",
    "One can use `np.ones` and `np.zeros` to quickly create arrays of constants. Syntax is `np.zeros([dim1, dim2, ...], dtype)`."
   ]
  },
  {
   "cell_type": "code",
   "execution_count": 225,
   "metadata": {},
   "outputs": [
    {
     "data": {
      "text/plain": [
       "array([[0., 0., 0., 0.],\n",
       "       [0., 0., 0., 0.],\n",
       "       [0., 0., 0., 0.],\n",
       "       [0., 0., 0., 0.],\n",
       "       [0., 0., 0., 0.]])"
      ]
     },
     "execution_count": 225,
     "metadata": {},
     "output_type": "execute_result"
    }
   ],
   "source": [
    "# Arrays of zeros\n",
    "arr_1 = np.zeros([5, 4])    # note [dim1, dim2]\n",
    "arr_1"
   ]
  },
  {
   "cell_type": "code",
   "execution_count": 226,
   "metadata": {},
   "outputs": [
    {
     "data": {
      "text/plain": [
       "array([[1., 1., 1., 1.],\n",
       "       [1., 1., 1., 1.],\n",
       "       [1., 1., 1., 1.]])"
      ]
     },
     "execution_count": 226,
     "metadata": {},
     "output_type": "execute_result"
    }
   ],
   "source": [
    "# Array of ones\n",
    "arr_2 = np.ones([3, 4])\n",
    "arr_2"
   ]
  },
  {
   "cell_type": "markdown",
   "metadata": {},
   "source": [
    "And how to create an array of constants? E.g., how about an array of integers 2?"
   ]
  },
  {
   "cell_type": "code",
   "execution_count": 227,
   "metadata": {},
   "outputs": [
    {
     "data": {
      "text/plain": [
       "array([[2, 2, 2, 2],\n",
       "       [2, 2, 2, 2],\n",
       "       [2, 2, 2, 2]])"
      ]
     },
     "execution_count": 227,
     "metadata": {},
     "output_type": "execute_result"
    }
   ],
   "source": [
    "# First create an integer array of 1's, and then multiply it by 2\n",
    "arr_3 = 2 * np.ones([3, 4], dtype=int)\n",
    "arr_3"
   ]
  },
  {
   "cell_type": "markdown",
   "metadata": {},
   "source": [
    "#### Structured sequences\n",
    "One can create arrays from structured sequences. Very useful in practice. \n",
    "- `np.arange(start, stop, step, dtype)`\n",
    "\n",
    "- the same way we count when we slice\n",
    "\n",
    "- The only required parameter is `stop`, hence the syntax on the documentation https://numpy.org/doc/stable/reference/generated/numpy.arange.html\n",
    "\n"
   ]
  },
  {
   "cell_type": "code",
   "execution_count": 228,
   "metadata": {},
   "outputs": [
    {
     "data": {
      "text/plain": [
       "array([ 0,  1,  2,  3,  4,  5,  6,  7,  8,  9, 10])"
      ]
     },
     "execution_count": 228,
     "metadata": {},
     "output_type": "execute_result"
    }
   ],
   "source": [
    "# a range of integers from 0 to 10\n",
    "np.arange(11)"
   ]
  },
  {
   "cell_type": "code",
   "execution_count": 229,
   "metadata": {},
   "outputs": [
    {
     "data": {
      "text/plain": [
       "array([ 2,  4,  6,  8, 10])"
      ]
     },
     "execution_count": 229,
     "metadata": {},
     "output_type": "execute_result"
    }
   ],
   "source": [
    "# a range of integers, 2, 4, 6, 8, 10\n",
    "np.arange(2, 11, 2)\n",
    "# or more elaborately: np.arange(start=2, stop=11, step=2) \n",
    "# side note: we don't put spaces when we insert arguments in function calls (start=2 rather than start = 2)"
   ]
  },
  {
   "cell_type": "markdown",
   "metadata": {},
   "source": [
    "One can create arithmetic sequences, i.e., numbers that are equi-distant but are not necessarily integers\n",
    "- `np.linspace(start, stop, num, endpoint=True)` where `num` refers to the length of the object, and endpoint specifies whether we're keeping the end point in the sequence (defaults to True)\n",
    "\n",
    "Similarly, one can create geometric sequences, i.e., numbers that are equi-distant in log space. \n",
    "- `np.logspace(start, stop, num, endpoint, base)` and the sequence will go from `base**start` to `base**stop`"
   ]
  },
  {
   "cell_type": "code",
   "execution_count": 230,
   "metadata": {},
   "outputs": [
    {
     "data": {
      "text/plain": [
       "array([0., 1., 2., 3., 4., 5., 6., 7., 8., 9.])"
      ]
     },
     "execution_count": 230,
     "metadata": {},
     "output_type": "execute_result"
    }
   ],
   "source": [
    "# linear space (i.e., arithmetic squences) to get \"integer-like\" floats\n",
    "np.linspace(start=0, stop=10, num=10, endpoint=False)  # start from 0, stop at 10, and a length of 10 numbers\n",
    "#   note: I used stop=10 and then specified endpoint=False, to keep consistent with our previous convention\n"
   ]
  },
  {
   "cell_type": "code",
   "execution_count": 231,
   "metadata": {},
   "outputs": [
    {
     "data": {
      "text/plain": [
       "array([0. , 0.2, 0.4, 0.6, 0.8, 1. ])"
      ]
     },
     "execution_count": 231,
     "metadata": {},
     "output_type": "execute_result"
    }
   ],
   "source": [
    "# count by 0.2 (also keep end point, as we mostly do except for counting integers)\n",
    "np.linspace(start=0, stop=1, num=6)    # 0, 0.2, 0.4, 0.6, 0.8, 1"
   ]
  },
  {
   "cell_type": "code",
   "execution_count": 232,
   "metadata": {},
   "outputs": [
    {
     "data": {
      "text/plain": [
       "array([0. , 0.1, 0.2, 0.3, 0.4, 0.5, 0.6, 0.7, 0.8, 0.9, 1. ])"
      ]
     },
     "execution_count": 232,
     "metadata": {},
     "output_type": "execute_result"
    }
   ],
   "source": [
    "# count by 0.1 (simpler syntax)\n",
    "np.linspace(0, 1, 11)"
   ]
  },
  {
   "cell_type": "code",
   "execution_count": 233,
   "metadata": {},
   "outputs": [
    {
     "data": {
      "text/plain": [
       "array([   1,    2,    4,    8,   16,   32,   64,  128,  256,  512, 1024])"
      ]
     },
     "execution_count": 233,
     "metadata": {},
     "output_type": "execute_result"
    }
   ],
   "source": [
    "# log space (i.e., geometric sequences)\n",
    "np.logspace(0, 10, num=11, base=2, dtype=int)\n",
    "#   note: without dtype, we'll see scientific notations (1.024e3), but the underlying values are the same"
   ]
  },
  {
   "cell_type": "code",
   "execution_count": 234,
   "metadata": {},
   "outputs": [
    {
     "data": {
      "text/plain": [
       "array([   1,    2,    4,    8,   16,   32,   64,  128,  256,  512, 1024],\n",
       "      dtype=int32)"
      ]
     },
     "execution_count": 234,
     "metadata": {},
     "output_type": "execute_result"
    }
   ],
   "source": [
    "# in fact, we can convert an arithmetic sequence into a geometric sequence via: \n",
    "2 ** np.linspace(0, 10, num=11, dtype=int)"
   ]
  },
  {
   "cell_type": "markdown",
   "metadata": {},
   "source": [
    "#### Random numbers\n",
    "Finally, we can create random numbers by methods under `np.random` \n",
    "- There are many methods to generate random numbers according to different distributions (see more in your stats class)\n",
    "- `np.random.rand()` generates uniform random numbers. These are random numbers which follows a uniform distribution, meaning that any number in the support (e.g., between zero and one) is equally likely to be drawn.\n",
    "- `np.random.randn()` generates random numbers according to a normal distribution.\n",
    "- `np.random.seed()` sets seed and thus fixes what random numbers one generates. "
   ]
  },
  {
   "cell_type": "code",
   "execution_count": 235,
   "metadata": {},
   "outputs": [
    {
     "data": {
      "text/plain": [
       "array([0.17683783, 0.0677532 , 0.52007038, 0.23226287, 0.3250872 ])"
      ]
     },
     "execution_count": 235,
     "metadata": {},
     "output_type": "execute_result"
    }
   ],
   "source": [
    "# Generate five uniform random numbers\n",
    "np.random.rand(5)"
   ]
  },
  {
   "cell_type": "code",
   "execution_count": 236,
   "metadata": {},
   "outputs": [
    {
     "data": {
      "text/plain": [
       "array([0.72198595, 0.85157715, 0.53259596, 0.47351539, 0.78381185])"
      ]
     },
     "execution_count": 236,
     "metadata": {},
     "output_type": "execute_result"
    }
   ],
   "source": [
    "# Generate another five uniform random numbers\n",
    "np.random.rand(5)"
   ]
  },
  {
   "cell_type": "markdown",
   "metadata": {},
   "source": [
    "- Why do random numbers come out different each time?    \n",
    "    - computer draws \"pseudo random numbers,\" which are pre-determined numbers from a list that \"looks random\"\n",
    "    - fixing \"seed\" will fix from where you start drawing\n",
    "    - helps with **reproducibility**, which is the ability to fix results between runs and across computers"
   ]
  },
  {
   "cell_type": "code",
   "execution_count": 237,
   "metadata": {},
   "outputs": [
    {
     "data": {
      "text/plain": [
       "array([0.92961609, 0.31637555, 0.18391881, 0.20456028, 0.56772503])"
      ]
     },
     "execution_count": 237,
     "metadata": {},
     "output_type": "execute_result"
    }
   ],
   "source": [
    "# To set seed, use np.random.seed method\n",
    "np.random.seed(seed=12345)  # insert your favorite number\n",
    "np.random.rand(5)"
   ]
  },
  {
   "cell_type": "code",
   "execution_count": 238,
   "metadata": {},
   "outputs": [
    {
     "data": {
      "text/plain": [
       "array([0.92961609, 0.31637555, 0.18391881, 0.20456028, 0.56772503])"
      ]
     },
     "execution_count": 238,
     "metadata": {},
     "output_type": "execute_result"
    }
   ],
   "source": [
    "# Suppose you run this section again, now on a different computer\n",
    "np.random.seed(seed=12345) \n",
    "np.random.rand(5)"
   ]
  },
  {
   "cell_type": "markdown",
   "metadata": {},
   "source": [
    "To see the distribution, one way is to visualize its histogram"
   ]
  },
  {
   "cell_type": "code",
   "execution_count": 239,
   "metadata": {},
   "outputs": [],
   "source": [
    "# To see they are uniform, draw more numbers and later plot the histogram\n",
    "uniform_numbers = np.random.rand(50000)\n",
    "\n",
    "# similarly, draw normal random numbers\n",
    "normal_numbers = np.random.randn(50000)"
   ]
  },
  {
   "cell_type": "code",
   "execution_count": 240,
   "metadata": {},
   "outputs": [
    {
     "data": {
      "text/plain": [
       "(array([4996., 5096., 4863., 5058., 4967., 4964., 5008., 4973., 4906.,\n",
       "        5169.]),\n",
       " array([3.09247778e-05, 1.00027172e-01, 2.00023420e-01, 3.00019667e-01,\n",
       "        4.00015915e-01, 5.00012162e-01, 6.00008409e-01, 7.00004657e-01,\n",
       "        8.00000904e-01, 8.99997152e-01, 9.99993399e-01]),\n",
       " <BarContainer object of 10 artists>)"
      ]
     },
     "execution_count": 240,
     "metadata": {},
     "output_type": "execute_result"
    },
    {
     "data": {
      "image/png": "[encoded data removed]",
      "text/plain": [
       "<Figure size 640x480 with 1 Axes>"
      ]
     },
     "metadata": {},
     "output_type": "display_data"
    }
   ],
   "source": [
    "import matplotlib.pyplot as plt     # matplotlib for plots, we'll talk about it later\n",
    "plt.hist(uniform_numbers)"
   ]
  },
  {
   "cell_type": "code",
   "execution_count": 241,
   "metadata": {},
   "outputs": [
    {
     "data": {
      "text/plain": [
       "(array([3.0000e+01, 4.8300e+02, 3.5770e+03, 1.1959e+04, 1.8211e+04,\n",
       "        1.1788e+04, 3.4690e+03, 4.5800e+02, 2.4000e+01, 1.0000e+00]),\n",
       " array([-4.21635066, -3.2771148 , -2.33787894, -1.39864308, -0.45940722,\n",
       "         0.47982863,  1.41906449,  2.35830035,  3.29753621,  4.23677207,\n",
       "         5.17600792]),\n",
       " <BarContainer object of 10 artists>)"
      ]
     },
     "execution_count": 241,
     "metadata": {},
     "output_type": "execute_result"
    },
    {
     "data": {
      "image/png": "[encoded data removed]",
      "text/plain": [
       "<Figure size 640x480 with 1 Axes>"
      ]
     },
     "metadata": {},
     "output_type": "display_data"
    }
   ],
   "source": [
    "plt.hist(normal_numbers)"
   ]
  },
  {
   "cell_type": "markdown",
   "metadata": {},
   "source": []
  },
  {
   "cell_type": "markdown",
   "metadata": {},
   "source": [
    "### 1.3 Copy versus view\n",
    "- Now that we extensively work with a mutable data structure, `ndarray`, now is the point where *copy* versus *view* becomes important\n",
    "- Let's see two examples first"
   ]
  },
  {
   "cell_type": "markdown",
   "metadata": {},
   "source": [
    "Example 1\n",
    "- Changing `a` does not alter `b` because, as we discussed briefly last week, `a` and `b` are both mapping from the name space to an immutable object `1`\n",
    "- When we redefine `a`, we do not affect `b`'s mapping to `1`"
   ]
  },
  {
   "cell_type": "code",
   "execution_count": 242,
   "metadata": {},
   "outputs": [
    {
     "name": "stdout",
     "output_type": "stream",
     "text": [
      "1\n",
      "1\n"
     ]
    }
   ],
   "source": [
    "# Example 1\n",
    "a = 1\n",
    "b = a\n",
    "print(b)\n",
    "\n",
    "a = 2\n",
    "print(b)"
   ]
  },
  {
   "cell_type": "markdown",
   "metadata": {},
   "source": [
    "Example 2\n",
    "- However, defining a new variable by pointing it to a mutable object will create a **view**\n",
    "- When we change part of `a`, we change the underlying object (which is only possible if it is mutable)\n",
    "- In this case, we also alter all **views** of this object\n"
   ]
  },
  {
   "cell_type": "code",
   "execution_count": 243,
   "metadata": {},
   "outputs": [
    {
     "name": "stdout",
     "output_type": "stream",
     "text": [
      "[1 2 3 4]\n",
      "[  1   2   3 100]\n"
     ]
    }
   ],
   "source": [
    "# Example 2\n",
    "a = np.array([1, 2, 3, 4])\n",
    "b = a\n",
    "print(b)\n",
    "\n",
    "a[-1] = 100     # change last element to 100\n",
    "print(b)        # see that b, as a view, will be affected"
   ]
  },
  {
   "cell_type": "markdown",
   "metadata": {},
   "source": [
    "- But when we completely redefine variable `a`, we break `a`'s link to that object, hence not affecting other views \n",
    "- Also, if we explicitly create a copy, then we can operate on this new object independently"
   ]
  },
  {
   "cell_type": "code",
   "execution_count": 244,
   "metadata": {},
   "outputs": [
    {
     "name": "stdout",
     "output_type": "stream",
     "text": [
      "[1 2 3 4]\n",
      "[1 2 3 4]\n"
     ]
    }
   ],
   "source": [
    "# Example 2 con'd\n",
    "a = np.array([1, 2, 3, 4])\n",
    "b = a\n",
    "print(b)\n",
    "\n",
    "a = np.array([0, 1])    # redefine variable a will not affect b, because we simply reassign a different object to a\n",
    "print(b)"
   ]
  },
  {
   "cell_type": "code",
   "execution_count": 245,
   "metadata": {},
   "outputs": [
    {
     "name": "stdout",
     "output_type": "stream",
     "text": [
      "[1 2 3 4]\n",
      "[1 2 3 4]\n"
     ]
    }
   ],
   "source": [
    "# Example 2 con'd\n",
    "a = np.array([1, 2, 3, 4])\n",
    "b = a.copy()            # explicitly define b as a copy\n",
    "print(b)\n",
    "\n",
    "a[-1] = 100             # affecting a's underlying object will not affect b this time, because b is a copy, not a view\n",
    "print(b)"
   ]
  },
  {
   "cell_type": "markdown",
   "metadata": {},
   "source": [
    "Example 3\n",
    "- Same idea goes with any mutable structures\n",
    "- We can modify a or b to change *the* underlying object they represent"
   ]
  },
  {
   "cell_type": "code",
   "execution_count": 246,
   "metadata": {},
   "outputs": [
    {
     "name": "stdout",
     "output_type": "stream",
     "text": [
      "[0, 1, 2, 3] [0, 1, 2, 3]\n",
      "[-5, 1, 2, 3] [-5, 1, 2, 3]\n",
      "[-10, 1, 2, 3] [-10, 1, 2, 3]\n"
     ]
    }
   ],
   "source": [
    "# Example 3\n",
    "a = [0, 1, 2, 3]        # now a is a list\n",
    "b = a\n",
    "print(a, b)\n",
    "\n",
    "a[0] = -5\n",
    "print(a, b)\n",
    "\n",
    "b[0] = -10\n",
    "print(a, b)"
   ]
  },
  {
   "cell_type": "markdown",
   "metadata": {},
   "source": [
    "### 1.4 Summary\n",
    "- Can create an `ndarray`\n",
    "    - from a list or tuple\n",
    "    - in a structured manner (`np.arange`, `np.linspace`, ...)\n",
    "    - from random variables\n",
    "\n",
    "- When creating an array from a nested list, dimensions follow the way lists are nested and count from outer to inner layers\n",
    "\n",
    "- Contrast a copy and a view of a given object"
   ]
  },
  {
   "cell_type": "markdown",
   "metadata": {},
   "source": []
  },
  {
   "cell_type": "markdown",
   "metadata": {},
   "source": [
    "## 2. The Structure of an `ndarray`\n",
    "- We now talk about the structure of `ndarrays`, how we understand them and change them\n",
    "1. How to query the structure \n",
    "    - the number of dimensions of an array\n",
    "    - and the shape and size\n",
    "\n",
    "2. How to index an array and find elements?\n",
    "\n",
    "3. How to restructure an array? \n",
    "    - e.g. reshape and ravel\n",
    "    - e.g. concatenate and stack"
   ]
  },
  {
   "cell_type": "markdown",
   "metadata": {},
   "source": [
    "### 2.1 Quering Dimensions\n",
    "- How do we know the shape and structure of an array?\n",
    "\n",
    "- Key attributes to query dimensions of an array -- which are to understand the structural attributes of an array\n",
    "1. Number of dimensions - `ndim`\n",
    "2. Shape - `shape`\n",
    "3. Size -  `size`\n",
    "\n",
    "- These properties are essential for understanding the layout of the data and for performing various operations that require knowledge of the array's structure\n",
    "\n"
   ]
  },
  {
   "cell_type": "markdown",
   "metadata": {},
   "source": [
    "#### Number of Dimensions (`ndim`)\n",
    "\n",
    "This attribute returns the **number of dimensions** (or axes) of the array."
   ]
  },
  {
   "cell_type": "code",
   "execution_count": 247,
   "metadata": {},
   "outputs": [
    {
     "name": "stdout",
     "output_type": "stream",
     "text": [
      "No. of Dimensions of arr_1d: 1\n",
      "No. of Dimensions of arr_2d: 2\n",
      "No. of Dimensions of arr_2d: 3\n"
     ]
    }
   ],
   "source": [
    "arr_1d = np.array([1, 2, 3, 4])\n",
    "arr_2d = np.array([[1, 2, 3, 4], [5, 6, 7, 8], [9, 10, 11, 12]]) \n",
    "arr_3d = np.array([[[1, 2, 3, 4], [5, 6, 7, 8], [9, 10, 11, 12]], [[13, 14, 15, 16], [17, 18, 19, 20], [21, 22, 23, 24]]])\n",
    "\n",
    "print(f\"No. of Dimensions of arr_1d: {arr_1d.ndim}\")  \n",
    "print(f\"No. of Dimensions of arr_2d: {arr_2d.ndim}\")  \n",
    "print(f\"No. of Dimensions of arr_2d: {arr_3d.ndim}\")  "
   ]
  },
  {
   "cell_type": "markdown",
   "metadata": {},
   "source": [
    "#### Shape (`shape`)\n",
    "\n",
    "This attribute returns a tuple representing the dimensions of the array. Each element of the tuple represents the **size of the array along that dimension**."
   ]
  },
  {
   "cell_type": "code",
   "execution_count": 248,
   "metadata": {},
   "outputs": [
    {
     "name": "stdout",
     "output_type": "stream",
     "text": [
      "Shape of arr_1d: (4,)\n",
      "Shape of arr_2d: (3, 4)\n",
      "Shape of arr_3d: (2, 3, 4)\n"
     ]
    }
   ],
   "source": [
    "print(\"Shape of arr_1d:\", arr_1d.shape) \n",
    "print(\"Shape of arr_2d:\", arr_2d.shape)\n",
    "print(\"Shape of arr_3d:\", arr_3d.shape)\n",
    "# Note: the shape is a tuple\n",
    "# Note: 1-d shape is represented as (number,)"
   ]
  },
  {
   "cell_type": "markdown",
   "metadata": {},
   "source": [
    "#### Side note: unpacking \n",
    "If function outputs a list/tuple, can assign multiple variables if match this structure. Super useful when function returns a tuple but we want one element of it.\n",
    "\n",
    "Example:"
   ]
  },
  {
   "cell_type": "code",
   "execution_count": 249,
   "metadata": {},
   "outputs": [
    {
     "name": "stdout",
     "output_type": "stream",
     "text": [
      "x = 3, y = 4\n"
     ]
    }
   ],
   "source": [
    "(x, y) = arr_2d.shape\n",
    "print(f\"x = {x}, y = {y}\")"
   ]
  },
  {
   "cell_type": "markdown",
   "metadata": {},
   "source": [
    "#### Size (`size`)\n",
    "\n",
    "This attribute returns the **total number of elements** in the array."
   ]
  },
  {
   "cell_type": "code",
   "execution_count": 250,
   "metadata": {},
   "outputs": [
    {
     "name": "stdout",
     "output_type": "stream",
     "text": [
      "Size of arr_1d: 4\n",
      "Size of arr_2d: 12\n",
      "Size of arr_3d: 24\n"
     ]
    }
   ],
   "source": [
    "print(\"Size of arr_1d:\", arr_1d.size)\n",
    "print(\"Size of arr_2d:\", arr_2d.size)\n",
    "print(\"Size of arr_3d:\", arr_3d.size)"
   ]
  },
  {
   "cell_type": "markdown",
   "metadata": {},
   "source": [
    "#### Importance of Querying Dimensions\n",
    "- Performing operations that require specific shapes.\n",
    "- Debugging errors related to shape mismatches.\n",
    "- Efficiently manipulating and transforming data.\n",
    "- Ensuring compatibility with functions and methods that have shape requirements.\n",
    "\n",
    "By querying the dimensions of an array, you gain insight into its **structure**, which helps you to write more effective and error-free code.\n",
    "\n",
    "Example below"
   ]
  },
  {
   "cell_type": "code",
   "execution_count": 251,
   "metadata": {},
   "outputs": [
    {
     "name": "stdout",
     "output_type": "stream",
     "text": [
      "[[1 2 3]\n",
      " [4 5 6]]\n",
      "[[1 2]\n",
      " [3 4]\n",
      " [5 6]]\n"
     ]
    }
   ],
   "source": [
    "# Example: shape-mismatched array operations\n",
    "a = np.array([[1, 2, 3], [4, 5, 6]])\n",
    "b = np.array([[1, 2], [3, 4], [5, 6]])\n",
    "\n",
    "# a and b are different. Print them, which is only possible if they are small.\n",
    "print(a)\n",
    "print(b)\n"
   ]
  },
  {
   "cell_type": "code",
   "execution_count": 252,
   "metadata": {},
   "outputs": [],
   "source": [
    "# Example continued: \n",
    "\n",
    "# What happens if we run\n",
    "# a == b\n",
    "# -- we'll get: ValueError: operands could not be broadcast together with shapes (2,3) (3,2) \n",
    "# because `==` is an element-wise operator\n",
    "\n",
    "# and\n",
    "# a is b\n",
    "# -- we'll get: False"
   ]
  },
  {
   "cell_type": "code",
   "execution_count": 253,
   "metadata": {},
   "outputs": [
    {
     "name": "stdout",
     "output_type": "stream",
     "text": [
      "The shapes of arrays a and b are (2, 3) and (3, 2), respectively\n"
     ]
    }
   ],
   "source": [
    "# Example continued: \n",
    "# Now, to understand what had happened, we can check the shapes of the two arrays:\n",
    "print(f\"The shapes of arrays a and b are {a.shape} and {b.shape}, respectively\")"
   ]
  },
  {
   "cell_type": "markdown",
   "metadata": {},
   "source": []
  },
  {
   "cell_type": "markdown",
   "metadata": {},
   "source": [
    "### 2.2 Indexing and slicing according to the dimensions\n",
    "- Array elements are numeric indexed\n",
    "- Zero indexed -- count from zero\n",
    "- Same slicing rule as with lists\n",
    "- But, importantly, indices are specific to each dimension"
   ]
  },
  {
   "cell_type": "markdown",
   "metadata": {},
   "source": [
    "#### Example 1: indexing for one-dimensional arrays is the same as for lists\n",
    "For one-dimensional array `a`, indexing uses one index"
   ]
  },
  {
   "cell_type": "code",
   "execution_count": 254,
   "metadata": {},
   "outputs": [
    {
     "data": {
      "text/plain": [
       "array(['zero', 'one', 'two', 'three'], dtype='<U5')"
      ]
     },
     "execution_count": 254,
     "metadata": {},
     "output_type": "execute_result"
    }
   ],
   "source": [
    "a = np.array([\"zero\", \"one\", \"two\", \"three\"])   # a is a string array\n",
    "a"
   ]
  },
  {
   "cell_type": "code",
   "execution_count": 255,
   "metadata": {},
   "outputs": [
    {
     "name": "stdout",
     "output_type": "stream",
     "text": [
      "zero\n",
      "two\n",
      "three\n"
     ]
    }
   ],
   "source": [
    "print(a[0])    # first element\n",
    "print(a[2])    # third element\n",
    "print(a[-1])   # last element"
   ]
  },
  {
   "cell_type": "markdown",
   "metadata": {},
   "source": [
    "Slicing: same rule as in lists"
   ]
  },
  {
   "cell_type": "code",
   "execution_count": 256,
   "metadata": {},
   "outputs": [
    {
     "name": "stdout",
     "output_type": "stream",
     "text": [
      "['zero' 'one']\n"
     ]
    }
   ],
   "source": [
    "print(a[0:2])       # first and second element (stop = 3, not inclusive)"
   ]
  },
  {
   "cell_type": "code",
   "execution_count": 257,
   "metadata": {},
   "outputs": [
    {
     "name": "stdout",
     "output_type": "stream",
     "text": [
      "['zero' 'two']\n"
     ]
    }
   ],
   "source": [
    "print(a[0::2])      # odd elements"
   ]
  },
  {
   "cell_type": "code",
   "execution_count": 258,
   "metadata": {},
   "outputs": [
    {
     "name": "stdout",
     "output_type": "stream",
     "text": [
      "['three' 'two' 'one' 'zero']\n"
     ]
    }
   ],
   "source": [
    "print(a[-1::-1])    # count backwards"
   ]
  },
  {
   "cell_type": "markdown",
   "metadata": {},
   "source": [
    "#### Example 2: indexing for two-dimensional arrays\n",
    "For a two-dimensional array `b`, index by `b[dim1, dim2]`"
   ]
  },
  {
   "cell_type": "code",
   "execution_count": 259,
   "metadata": {},
   "outputs": [
    {
     "data": {
      "text/plain": [
       "array([['zero', 'one'],\n",
       "       ['two', 'three'],\n",
       "       ['four', 'five'],\n",
       "       ['six', 'seven']], dtype='<U5')"
      ]
     },
     "execution_count": 259,
     "metadata": {},
     "output_type": "execute_result"
    }
   ],
   "source": [
    "b = np.array([[\"zero\", \"one\"], [\"two\", \"three\"], [\"four\", \"five\"], [\"six\", \"seven\"]])\n",
    "b"
   ]
  },
  {
   "cell_type": "markdown",
   "metadata": {},
   "source": [
    "- Find the first element in dimension 1, and second element in dimension 2\n",
    "    - for two-dimensional arrays, this happens to be row 0, column 1 (first row, second column)\n",
    "    - but more generally, understand this as *\"first list, then second element in that list\"*"
   ]
  },
  {
   "cell_type": "code",
   "execution_count": 260,
   "metadata": {},
   "outputs": [
    {
     "name": "stdout",
     "output_type": "stream",
     "text": [
      "one\n"
     ]
    }
   ],
   "source": [
    "# dim 1 = first element, dim 2 = second element\n",
    "print(b[0, 1])"
   ]
  },
  {
   "cell_type": "markdown",
   "metadata": {},
   "source": [
    "- Can get entire dimensions (entire rows or columns) \n",
    "    - by leaving that dimension's argument empty\n",
    "    - or by using the symbol `:`"
   ]
  },
  {
   "cell_type": "code",
   "execution_count": 261,
   "metadata": {},
   "outputs": [
    {
     "name": "stdout",
     "output_type": "stream",
     "text": [
      "['zero' 'one']\n",
      "['zero' 'one']\n"
     ]
    }
   ],
   "source": [
    "# first element in dimension 1, all elements in dimension 2\n",
    "#   effectively, we're getting row 0\n",
    "print(b[0,])\n",
    "\n",
    "# equivalent is \n",
    "print(b[0, :])"
   ]
  },
  {
   "cell_type": "code",
   "execution_count": 262,
   "metadata": {},
   "outputs": [
    {
     "name": "stdout",
     "output_type": "stream",
     "text": [
      "['one' 'three' 'five' 'seven']\n"
     ]
    }
   ],
   "source": [
    "# last element of dimension 2, all elements of dimension 1\n",
    "#   effectively: last column, all rows\n",
    "print(b[:, -1])"
   ]
  },
  {
   "cell_type": "code",
   "execution_count": 263,
   "metadata": {},
   "outputs": [
    {
     "name": "stdout",
     "output_type": "stream",
     "text": [
      "['three' 'five']\n"
     ]
    }
   ],
   "source": [
    "# second to third element of dimension 1, second element of dimension 2\n",
    "print(b[1:3, 1])"
   ]
  },
  {
   "cell_type": "markdown",
   "metadata": {},
   "source": [
    "Side note: in PEP 8, we conventionally will do\n",
    "- space after comma but before the next argument, so `(2, 3)`, `[0, 1, 2]`\n",
    "- no space before the trailing bracket, so `(2,)`\n",
    "- no space before or after a colon, so `a[2:8:1]`"
   ]
  },
  {
   "cell_type": "markdown",
   "metadata": {},
   "source": [
    "#### Example 3: color images as three-dimensional arrays\n",
    "Now we have a three-dimensional array, and the same rule applies\n",
    "- note that we first created a one-dimensional array, and then restructured it into three dimensional\n",
    "- more on `.reshape()` later\n",
    "- side note: we wanted integers from 0 to 255 (those are RGB color codes, so we converted data types using `astype()` method)"
   ]
  },
  {
   "cell_type": "code",
   "execution_count": 264,
   "metadata": {},
   "outputs": [
    {
     "data": {
      "text/plain": [
       "(512, 512, 3)"
      ]
     },
     "execution_count": 264,
     "metadata": {},
     "output_type": "execute_result"
    }
   ],
   "source": [
    "# we now have a three-dimensional array c\n",
    "np.random.seed(seed=12345)                               # set seed\n",
    "c = np.random.rand(512*512*3).reshape(512, 512, 3)       # first two dimensions are pixels, third dimension specifies RGB channels\n",
    "\n",
    "# make c an integer from 0 to 255 -- more on this line later\n",
    "c = (255*c).astype(\"int\")\n",
    "\n",
    "# check shape\n",
    "c.shape"
   ]
  },
  {
   "cell_type": "markdown",
   "metadata": {},
   "source": [
    "Side note: **method chaining**. \n",
    "\n",
    "In the above code, instead of having to define intermediate variables, we can continue to apply methods (or functions) onto the same object as long as each method returns the same object (so that next method can be applied on that same object).\n"
   ]
  },
  {
   "cell_type": "code",
   "execution_count": 265,
   "metadata": {},
   "outputs": [],
   "source": [
    "# Example: \n",
    "# c = (255*c).astype(\"int\")"
   ]
  },
  {
   "cell_type": "markdown",
   "metadata": {},
   "source": [
    "Below: \n",
    "- we take the first eight pixels in dims 1 and 2, then the first element of dimension 3 (the red channel)"
   ]
  },
  {
   "cell_type": "code",
   "execution_count": 266,
   "metadata": {},
   "outputs": [
    {
     "data": {
      "text/plain": [
       "array([[237,  52, 245, 166,   2, 167, 245, 182],\n",
       "       [115,  98,  14, 243, 101, 242,  58, 141],\n",
       "       [ 13, 126, 101, 221, 180, 112, 158, 178],\n",
       "       [129, 221, 181, 177, 234,  26,  90, 190],\n",
       "       [219, 217,  48,   8, 239,  45, 172, 102],\n",
       "       [249,  66,  84, 252, 198, 245, 240, 228],\n",
       "       [195, 126, 154,  54,  86,  47, 249,  56],\n",
       "       [104, 233, 254,  85, 227, 199, 140, 211]])"
      ]
     },
     "execution_count": 266,
     "metadata": {},
     "output_type": "execute_result"
    }
   ],
   "source": [
    "# see a small area of c\n",
    "c[0:8, 0:8, 0]      # first element of dim 1, and then a corner of the other two dims"
   ]
  },
  {
   "cell_type": "markdown",
   "metadata": {},
   "source": [
    "[Just for the fun of it] We can then construct an image from this \n",
    "- Need the PIL library (PIL = Python Image Library)\n",
    "    - type `pip install Pillow` within the conda prompt and within the current environment `gba464`\n",
    "- Then need to load the library"
   ]
  },
  {
   "cell_type": "code",
   "execution_count": 267,
   "metadata": {},
   "outputs": [],
   "source": [
    "from PIL import Image"
   ]
  },
  {
   "cell_type": "code",
   "execution_count": 268,
   "metadata": {},
   "outputs": [],
   "source": [
    "rand_image = Image.fromarray(c, mode=\"RGB\")     # recognizes the 3d array as an RGB image\n",
    "rand_image.show()                               # show this image"
   ]
  },
  {
   "cell_type": "markdown",
   "metadata": {},
   "source": []
  },
  {
   "cell_type": "markdown",
   "metadata": {},
   "source": [
    "### 2.3 Using indices to locate elements\n",
    "\n",
    "When we first touch upon indexing, some of you asked how we can remember all the indices when we have larger objects.\n",
    "\n",
    "For example: below, `b` is the alphanumeric spelling of `a`. But we cannot sort `b` in a way we wanted (which is not alphabetical). And we cannot find values of `b` in a way we wanted (which is not based on the string itself, but its meaning). So we'll need to work on `a` and obtain some indices, using which we can operate on `b`.\n"
   ]
  },
  {
   "cell_type": "code",
   "execution_count": 269,
   "metadata": {},
   "outputs": [],
   "source": [
    "# Construct a and b\n",
    "a = np.array([1, 4, 2, 4, 5, 4, 9, 1, 2, 6])\n",
    "b = np.array([\"one\", \"four\", \"two\", \"four\", \"five\", \"four\", \"nine\", \"one\", \"two\", \"six\"])"
   ]
  },
  {
   "cell_type": "markdown",
   "metadata": {},
   "source": [
    "Indeed, if we sort `b`, we'll get alphabetical ordering"
   ]
  },
  {
   "cell_type": "code",
   "execution_count": 270,
   "metadata": {},
   "outputs": [
    {
     "name": "stdout",
     "output_type": "stream",
     "text": [
      "['five' 'four' 'four' 'four' 'nine' 'one' 'one' 'six' 'two' 'two']\n"
     ]
    }
   ],
   "source": [
    "print(np.sort(b))"
   ]
  },
  {
   "cell_type": "markdown",
   "metadata": {},
   "source": [
    "Note: I do not use `b.sort()` here because that will alter `b` directly. Try it out yourselves."
   ]
  },
  {
   "cell_type": "markdown",
   "metadata": {},
   "source": [
    "#### `argsort` will return index, using which one can then sort\n",
    "- `argsort` will sort and return an **index**, following which an item should be sorted\n",
    "    - \"arg\" refers to \"argument,\" which is like to return the index i used to perform the sort\n",
    "    - or, let i = argsort(x) for y = sort(x), then y = x[i]"
   ]
  },
  {
   "cell_type": "code",
   "execution_count": 271,
   "metadata": {},
   "outputs": [],
   "source": [
    "# Just to confirm we still have a and b\n",
    "a = np.array([1, 4, 2, 4, 5, 4, 9, 1, 2, 6])\n",
    "b = np.array([\"one\", \"four\", \"two\", \"four\", \"five\", \"four\", \"nine\", \"one\", \"two\", \"six\"])"
   ]
  },
  {
   "cell_type": "code",
   "execution_count": 272,
   "metadata": {},
   "outputs": [
    {
     "data": {
      "text/plain": [
       "array([0, 7, 2, 8, 1, 3, 5, 4, 9, 6], dtype=int64)"
      ]
     },
     "execution_count": 272,
     "metadata": {},
     "output_type": "execute_result"
    }
   ],
   "source": [
    "# argsort and get index, using which one can sort a\n",
    "np.argsort(a)"
   ]
  },
  {
   "cell_type": "code",
   "execution_count": 273,
   "metadata": {},
   "outputs": [
    {
     "data": {
      "text/plain": [
       "array([1, 1, 2, 2, 4, 4, 4, 5, 6, 9])"
      ]
     },
     "execution_count": 273,
     "metadata": {},
     "output_type": "execute_result"
    }
   ],
   "source": [
    "# What does it mean? Check out\n",
    "ind = np.argsort(a)\n",
    "a[ind]"
   ]
  },
  {
   "cell_type": "markdown",
   "metadata": {},
   "source": [
    "Okay, so `ind` is the array of indices, and using these indices we can sort `a`\n",
    "\n",
    "- So what?! Why not just `sort`?\n",
    "\n",
    "- Because we can do the following (!!!)"
   ]
  },
  {
   "cell_type": "code",
   "execution_count": 274,
   "metadata": {},
   "outputs": [
    {
     "data": {
      "text/plain": [
       "array(['one', 'one', 'two', 'two', 'four', 'four', 'four', 'five', 'six',\n",
       "       'nine'], dtype='<U4')"
      ]
     },
     "execution_count": 274,
     "metadata": {},
     "output_type": "execute_result"
    }
   ],
   "source": [
    "# We can now use the sorting order of `a` to sort `b`\n",
    "ind = np.argsort(a)\n",
    "b[ind]      "
   ]
  },
  {
   "cell_type": "markdown",
   "metadata": {},
   "source": [
    "Wait, so we have sorted `b` in the \"correct\" order if we were to interpret these strings as alphanumeric spelling of numbers\n",
    "\n",
    "And to do it in one step:"
   ]
  },
  {
   "cell_type": "code",
   "execution_count": 275,
   "metadata": {},
   "outputs": [
    {
     "data": {
      "text/plain": [
       "array(['one', 'one', 'two', 'two', 'four', 'four', 'four', 'five', 'six',\n",
       "       'nine'], dtype='<U4')"
      ]
     },
     "execution_count": 275,
     "metadata": {},
     "output_type": "execute_result"
    }
   ],
   "source": [
    "# Normally how we'll sort `b` according to `a`\n",
    "b[a.argsort()]"
   ]
  },
  {
   "cell_type": "markdown",
   "metadata": {},
   "source": [
    "#### Another example: `where` will find based on value and return index"
   ]
  },
  {
   "cell_type": "code",
   "execution_count": 276,
   "metadata": {},
   "outputs": [],
   "source": [
    "# Again, the same a and b\n",
    "a = np.array([1, 4, 2, 4, 5, 4, 9, 1, 2, 6])\n",
    "b = np.array([\"one\", \"four\", \"two\", \"four\", \"five\", \"four\", \"nine\", \"one\", \"two\", \"six\"])"
   ]
  },
  {
   "cell_type": "code",
   "execution_count": 277,
   "metadata": {},
   "outputs": [
    {
     "data": {
      "text/plain": [
       "array([ True,  True,  True,  True,  True,  True,  True,  True,  True,\n",
       "        True])"
      ]
     },
     "execution_count": 277,
     "metadata": {},
     "output_type": "execute_result"
    }
   ],
   "source": [
    "# Find values of b greater than or equal to \"five\"\n",
    "b >= \"five\""
   ]
  },
  {
   "cell_type": "code",
   "execution_count": 278,
   "metadata": {},
   "outputs": [
    {
     "data": {
      "text/plain": [
       "(array([4, 6, 9], dtype=int64),)"
      ]
     },
     "execution_count": 278,
     "metadata": {},
     "output_type": "execute_result"
    }
   ],
   "source": [
    "# Find values of a >= 5\n",
    "np.where(a >= 5)"
   ]
  },
  {
   "cell_type": "code",
   "execution_count": 279,
   "metadata": {},
   "outputs": [
    {
     "data": {
      "text/plain": [
       "array(['five', 'nine', 'six'], dtype='<U4')"
      ]
     },
     "execution_count": 279,
     "metadata": {},
     "output_type": "execute_result"
    }
   ],
   "source": [
    "# What are these values in alphanumeric terms (find them in b?)\n",
    "ind = np.where(a >= 5)\n",
    "b[ind]"
   ]
  },
  {
   "cell_type": "code",
   "execution_count": 280,
   "metadata": {},
   "outputs": [
    {
     "data": {
      "text/plain": [
       "array(['five', 'nine', 'six'], dtype='<U4')"
      ]
     },
     "execution_count": 280,
     "metadata": {},
     "output_type": "execute_result"
    }
   ],
   "source": [
    "# But note that we can just do this...\n",
    "b[a >= 5]"
   ]
  },
  {
   "cell_type": "markdown",
   "metadata": {},
   "source": [
    "#### For NumPy, we can also index by booleans \n",
    "Let `a` be an `ndarray`. Let `b` be a boolean `ndarray` of **matching shape**. Then we can index the items in `a` where `b` is `True`.\n",
    "\n",
    "This is formally called \"masking.\""
   ]
  },
  {
   "cell_type": "code",
   "execution_count": 281,
   "metadata": {},
   "outputs": [
    {
     "name": "stdout",
     "output_type": "stream",
     "text": [
      "[1 2 3 4] [False False  True  True]\n"
     ]
    }
   ],
   "source": [
    "a = np.array([1, 2, 3, 4])\n",
    "b = a >= 3          # we'll talk about vectorized calculations and broadcasting later\n",
    "print(a, b)"
   ]
  },
  {
   "cell_type": "markdown",
   "metadata": {},
   "source": [
    "Find `a` where `a` is greater than or equal to `3`"
   ]
  },
  {
   "cell_type": "code",
   "execution_count": 282,
   "metadata": {},
   "outputs": [
    {
     "data": {
      "text/plain": [
       "array([3, 4])"
      ]
     },
     "execution_count": 282,
     "metadata": {},
     "output_type": "execute_result"
    }
   ],
   "source": [
    "a[b]"
   ]
  },
  {
   "cell_type": "code",
   "execution_count": 283,
   "metadata": {},
   "outputs": [
    {
     "data": {
      "text/plain": [
       "array([3, 4])"
      ]
     },
     "execution_count": 283,
     "metadata": {},
     "output_type": "execute_result"
    }
   ],
   "source": [
    "# Or in one step\n",
    "a[a >= 3]"
   ]
  },
  {
   "cell_type": "markdown",
   "metadata": {},
   "source": [
    "Simple, right?!"
   ]
  },
  {
   "cell_type": "code",
   "execution_count": 284,
   "metadata": {},
   "outputs": [],
   "source": [
    "# This DOES NOT work with lists or other sequences\n",
    "# a = [1, 2, 3, 4]\n",
    "# b = [i >= 3 for i in a]     # have to do list comprehension because lists do not work with >= directly\n",
    "# a[b]  "
   ]
  },
  {
   "cell_type": "markdown",
   "metadata": {},
   "source": []
  },
  {
   "cell_type": "markdown",
   "metadata": {},
   "source": [
    "### 2.4 Restructuring an Array\n",
    "- Now that we know it is crucial to understand an array's shape, dimension, and size\n",
    "\n",
    "- The next question is: how do we restructure it into a different array, perhaps containing the same set of elements?\n",
    "\n",
    "- Now, let's talk about\n",
    "    - `reshape`, `ravel`, `flatten`, and `T` (transpose)\n",
    "    - `np.expand_dim` (`np.newaxis`) and `np.squeeze`\n",
    "    - `np.concatenate` and `np.stack`"
   ]
  },
  {
   "cell_type": "markdown",
   "metadata": {},
   "source": [
    "Start with a one-dimensional array"
   ]
  },
  {
   "cell_type": "code",
   "execution_count": 285,
   "metadata": {},
   "outputs": [
    {
     "name": "stdout",
     "output_type": "stream",
     "text": [
      "[0 1 2 3 4 5 6 7]\n",
      "(8,)\n"
     ]
    }
   ],
   "source": [
    "# One-dimensional array\n",
    "a_1 = np.arange(8) \n",
    "print(a_1)          \n",
    "print(a_1.shape)    # show that it is one-dimensional, shape (8,)"
   ]
  },
  {
   "cell_type": "markdown",
   "metadata": {},
   "source": [
    "#### `reshape()` will restructure an array into a given dimension\n",
    "- Syntax: `ndarray.reshape([new_shape])`\n",
    "- Will create a **view** of the original array\n",
    "- New shape and old shape must correspond to the same size"
   ]
  },
  {
   "cell_type": "code",
   "execution_count": 286,
   "metadata": {},
   "outputs": [
    {
     "name": "stdout",
     "output_type": "stream",
     "text": [
      "[[0 1 2 3]\n",
      " [4 5 6 7]]\n",
      "(2, 4)\n"
     ]
    }
   ],
   "source": [
    "# reshape into shape (2, 4)\n",
    "a_2 = a_1.reshape([2, 4])     # Note that the original a_1 is unaltered\n",
    "print(a_2)\n",
    "print(a_2.shape)"
   ]
  },
  {
   "cell_type": "markdown",
   "metadata": {},
   "source": [
    "How about 3-dimensions? Can do it in the same way"
   ]
  },
  {
   "cell_type": "code",
   "execution_count": 287,
   "metadata": {},
   "outputs": [
    {
     "name": "stdout",
     "output_type": "stream",
     "text": [
      "[[[0 1]\n",
      "  [2 3]]\n",
      "\n",
      " [[4 5]\n",
      "  [6 7]]]\n",
      "(2, 2, 2)\n"
     ]
    }
   ],
   "source": [
    "# Now reshape a_1 into (2, 2, 2), make it a_3\n",
    "a_3 = a_1.reshape([2, 2, 2])\n",
    "print(a_3)\n",
    "print(a_3.shape)"
   ]
  },
  {
   "cell_type": "code",
   "execution_count": 288,
   "metadata": {},
   "outputs": [],
   "source": [
    "# Note that if we reshape a_2 into (2, 2, 2), it would be the same result\n",
    "# Try it:"
   ]
  },
  {
   "cell_type": "markdown",
   "metadata": {},
   "source": [
    "#### `ravel()` to convert into a one-dimensional array\n",
    "- Marriam Webster Dictionary: \"to become unwoven, untwisted, or unwound\"\n",
    "- Syntax: `ndarray.ravel()`\n",
    "- Will convert into one-dimensional array of equal size\n",
    "- Also making a **view**, not a copy"
   ]
  },
  {
   "cell_type": "code",
   "execution_count": 289,
   "metadata": {},
   "outputs": [
    {
     "name": "stdout",
     "output_type": "stream",
     "text": [
      "[0 1 2 3 4 5 6 7]\n"
     ]
    }
   ],
   "source": [
    "# ravel\n",
    "a_1_new = a_3.ravel()\n",
    "print(a_1_new)"
   ]
  },
  {
   "cell_type": "markdown",
   "metadata": {},
   "source": [
    "#### `reshape` is often used as the inverse function of `ravel`\n",
    "For example, I can ravel a 2D array into 1D, perform necessary operations, and then reshape it back to 2D"
   ]
  },
  {
   "cell_type": "code",
   "execution_count": 290,
   "metadata": {},
   "outputs": [
    {
     "name": "stdout",
     "output_type": "stream",
     "text": [
      "[[0 1 2 3]\n",
      " [4 5 6 7]]\n"
     ]
    }
   ],
   "source": [
    "# Example\n",
    "# recall a_2\n",
    "print(a_2)"
   ]
  },
  {
   "cell_type": "code",
   "execution_count": 291,
   "metadata": {},
   "outputs": [
    {
     "name": "stdout",
     "output_type": "stream",
     "text": [
      "[[ 0  2  4  6]\n",
      " [ 8 10 12 14]]\n"
     ]
    }
   ],
   "source": [
    "# get shape\n",
    "a_2_shape = a_2.shape\n",
    "\n",
    "### perform some operations (imagine this is only valid for a 1D array)\n",
    "def f(a):\n",
    "    return a * 2\n",
    "a_2_altered = f(a_2.ravel())\n",
    "\n",
    "# convert it back\n",
    "a_2_altered = a_2_altered.reshape(a_2_shape)\n",
    "\n",
    "# print results\n",
    "print(a_2_altered)\n"
   ]
  },
  {
   "cell_type": "markdown",
   "metadata": {},
   "source": [
    "#### Note: `reshape` and `ravel` are both functions that create **views**, not copies\n",
    "- To see this, we can just alter one of the objects, and others will follow\n",
    "- Side note: `\"\\n\"` is a symbol for \"new line\" (more on that when we get to regular expressions)"
   ]
  },
  {
   "cell_type": "code",
   "execution_count": 292,
   "metadata": {},
   "outputs": [
    {
     "name": "stdout",
     "output_type": "stream",
     "text": [
      "a_1 is \n",
      "[ 0 -1  2  3  4  5  6  7] \n",
      "\n",
      " a_2 is \n",
      "[[ 0 -1  2  3]\n",
      " [ 4  5  6  7]] \n",
      "\n",
      " a_3 is \n",
      "[[[ 0 -1]\n",
      "  [ 2  3]]\n",
      "\n",
      " [[ 4  5]\n",
      "  [ 6  7]]] \n",
      "\n",
      " a_1_new is \n",
      "[ 0 -1  2  3  4  5  6  7]\n"
     ]
    }
   ],
   "source": [
    "# Reshape and ravel both create views\n",
    "a_2[0, 1] = -1   # first row second column, talk about this later\n",
    "print(f\"a_1 is \\n{a_1} \\n\\n a_2 is \\n{a_2} \\n\\n a_3 is \\n{a_3} \\n\\n a_1_new is \\n{a_1_new}\")"
   ]
  },
  {
   "cell_type": "markdown",
   "metadata": {},
   "source": [
    "### Side note: to explicitly copy\n",
    "- As we discussed above, `.copy()` creates a copy\n",
    "- `.flatten()` does the same job as `.reshape()` and creates a copy"
   ]
  },
  {
   "cell_type": "code",
   "execution_count": 293,
   "metadata": {},
   "outputs": [
    {
     "data": {
      "text/plain": [
       "array([0, 1, 2, 3, 4, 5, 6, 7])"
      ]
     },
     "execution_count": 293,
     "metadata": {},
     "output_type": "execute_result"
    }
   ],
   "source": [
    "# Example\n",
    "a_1 = np.arange(8)\n",
    "a_1"
   ]
  },
  {
   "cell_type": "code",
   "execution_count": 294,
   "metadata": {},
   "outputs": [
    {
     "data": {
      "text/plain": [
       "array([0, 1, 2, 3, 4, 5, 6, 7])"
      ]
     },
     "execution_count": 294,
     "metadata": {},
     "output_type": "execute_result"
    }
   ],
   "source": [
    "# create a view\n",
    "a_1v = a_1\n",
    "a_1v"
   ]
  },
  {
   "cell_type": "markdown",
   "metadata": {},
   "source": [
    "`.copy` creates a copy"
   ]
  },
  {
   "cell_type": "code",
   "execution_count": 295,
   "metadata": {},
   "outputs": [
    {
     "data": {
      "text/plain": [
       "array([0, 1, 2, 3, 4, 5, 6, 7])"
      ]
     },
     "execution_count": 295,
     "metadata": {},
     "output_type": "execute_result"
    }
   ],
   "source": [
    "# create a_1c as a copy of a_1\n",
    "a_1c = a_1.copy()\n",
    "a_1c"
   ]
  },
  {
   "cell_type": "markdown",
   "metadata": {},
   "source": [
    "We can then reshape `a_1c` to make sure this reshaped copy is not a view of the original `a_1`"
   ]
  },
  {
   "cell_type": "code",
   "execution_count": 296,
   "metadata": {},
   "outputs": [
    {
     "data": {
      "text/plain": [
       "array([[0, 1],\n",
       "       [2, 3],\n",
       "       [4, 5],\n",
       "       [6, 7]])"
      ]
     },
     "execution_count": 296,
     "metadata": {},
     "output_type": "execute_result"
    }
   ],
   "source": [
    "# reshape the copy\n",
    "a_2c = a_1c.reshape([4, 2])\n",
    "a_2c"
   ]
  },
  {
   "cell_type": "markdown",
   "metadata": {},
   "source": [
    "Can flatten with `.flatten`, also creating a copy"
   ]
  },
  {
   "cell_type": "code",
   "execution_count": 297,
   "metadata": {},
   "outputs": [
    {
     "data": {
      "text/plain": [
       "array([ 0, -1,  2,  3,  4,  5,  6,  7])"
      ]
     },
     "execution_count": 297,
     "metadata": {},
     "output_type": "execute_result"
    }
   ],
   "source": [
    "a_1c = a_2.flatten()\n",
    "a_1c"
   ]
  },
  {
   "cell_type": "markdown",
   "metadata": {},
   "source": [
    "Next example: a 3-dimensional array of RGB colors"
   ]
  },
  {
   "cell_type": "code",
   "execution_count": 298,
   "metadata": {},
   "outputs": [
    {
     "name": "stdout",
     "output_type": "stream",
     "text": [
      "196608\n"
     ]
    },
    {
     "data": {
      "text/plain": [
       "array([[194,  87,  29,  94, 212, 171,   5, 129],\n",
       "       [ 67,  28,  32,  10,  81,  99, 142, 122],\n",
       "       [125,  33, 254, 194, 164, 176,  37,  76],\n",
       "       [ 24,  33, 246,   7,  30, 101, 218, 100],\n",
       "       [105,  36,  75, 231,  93, 201, 155,  38],\n",
       "       [204, 199, 188, 253, 191, 155,  56, 118],\n",
       "       [ 27, 221,  20, 175,   8, 209, 133, 107],\n",
       "       [181, 106, 126, 221, 153,  12,  39, 141]])"
      ]
     },
     "execution_count": 298,
     "metadata": {},
     "output_type": "execute_result"
    }
   ],
   "source": [
    "# create a 3d array\n",
    "np.random.seed(seed = 123123123)\n",
    "a_3 = np.random.rand(256*256*3).reshape([256, 256, 3])\n",
    "\n",
    "# make it 0-255 integers\n",
    "a_3 = (a_3*255).astype(int)\n",
    "\n",
    "# size?\n",
    "print(a_3.size)\n",
    "\n",
    "# just print a slice\n",
    "a_3[0:8, 0:8, 0].round(3)"
   ]
  },
  {
   "cell_type": "code",
   "execution_count": 299,
   "metadata": {},
   "outputs": [
    {
     "name": "stdout",
     "output_type": "stream",
     "text": [
      "196608\n"
     ]
    },
    {
     "data": {
      "text/plain": [
       "array([194, 197, 101, ...,  37,  26,  30])"
      ]
     },
     "execution_count": 299,
     "metadata": {},
     "output_type": "execute_result"
    }
   ],
   "source": [
    "# flatten this array\n",
    "a_1 = a_3.flatten()\n",
    "print(a_1.size)\n",
    "a_1"
   ]
  },
  {
   "cell_type": "markdown",
   "metadata": {},
   "source": [
    "`np.may_share_memory` check whether two variable names are views of the same object"
   ]
  },
  {
   "cell_type": "code",
   "execution_count": 300,
   "metadata": {},
   "outputs": [
    {
     "data": {
      "text/plain": [
       "False"
      ]
     },
     "execution_count": 300,
     "metadata": {},
     "output_type": "execute_result"
    }
   ],
   "source": [
    "# can verify that flatten creates a copy\n",
    "np.may_share_memory(a_1, a_3)"
   ]
  },
  {
   "cell_type": "markdown",
   "metadata": {},
   "source": [
    "#### `.T` will transpose\n",
    "- Works for 2-dimensional arrays\n",
    "- Exchanges row and column"
   ]
  },
  {
   "cell_type": "code",
   "execution_count": 301,
   "metadata": {},
   "outputs": [
    {
     "data": {
      "text/plain": [
       "array([[1, 2, 3],\n",
       "       [4, 5, 6]])"
      ]
     },
     "execution_count": 301,
     "metadata": {},
     "output_type": "execute_result"
    }
   ],
   "source": [
    "# Construct a two-dimensional array\n",
    "a = np.array([[1, 2, 3], [4, 5, 6]])\n",
    "a"
   ]
  },
  {
   "cell_type": "code",
   "execution_count": 302,
   "metadata": {},
   "outputs": [
    {
     "data": {
      "text/plain": [
       "array([[1, 4],\n",
       "       [2, 5],\n",
       "       [3, 6]])"
      ]
     },
     "execution_count": 302,
     "metadata": {},
     "output_type": "execute_result"
    }
   ],
   "source": [
    "# Transpose\n",
    "a.T"
   ]
  },
  {
   "cell_type": "markdown",
   "metadata": {},
   "source": [
    "Note: transpose is different from reshape\n",
    "- The latter simply changes the shape \n",
    "- But the former also alters how elements are ordered"
   ]
  },
  {
   "cell_type": "code",
   "execution_count": 303,
   "metadata": {},
   "outputs": [
    {
     "data": {
      "text/plain": [
       "array([[1, 2],\n",
       "       [3, 4],\n",
       "       [5, 6]])"
      ]
     },
     "execution_count": 303,
     "metadata": {},
     "output_type": "execute_result"
    }
   ],
   "source": [
    "# Compare with reshape\n",
    "a.reshape([3, 2])"
   ]
  },
  {
   "cell_type": "markdown",
   "metadata": {},
   "source": [
    "#### `expand_dims` and `squeeze` will add or take away dimensions\n",
    "- `np.expand_dims(array, axis)` will expand one layer along the dimension in argument `axis`\n",
    "    - alternative to write it, which many people prefer, is to write `np.newaxis` on the dimension you're expanding in\n",
    "- `np.squeeze(array)` will remove singleton dimensions -- i.e. dimensions with shape of `1`"
   ]
  },
  {
   "cell_type": "code",
   "execution_count": 304,
   "metadata": {},
   "outputs": [
    {
     "name": "stdout",
     "output_type": "stream",
     "text": [
      "[0 1 2 3]\n",
      "(4,)\n"
     ]
    }
   ],
   "source": [
    "# create a one-dimensional array\n",
    "a_1 = np.arange(4)\n",
    "print(a_1)\n",
    "print(a_1.shape)"
   ]
  },
  {
   "cell_type": "markdown",
   "metadata": {},
   "source": [
    "Expand into the second dimension. That is, add new axis to the second dimension, and expand the previous elements into that dimension."
   ]
  },
  {
   "cell_type": "code",
   "execution_count": 305,
   "metadata": {},
   "outputs": [
    {
     "name": "stdout",
     "output_type": "stream",
     "text": [
      "[[0]\n",
      " [1]\n",
      " [2]\n",
      " [3]]\n",
      "(4, 1)\n"
     ]
    }
   ],
   "source": [
    "a_2c = a_1[:, np.newaxis]    # add new axis to the second dimension\n",
    "# alternative is to write: a_2c = np.expand_dims(a_1, axis=1)\n",
    "print(a_2c)\n",
    "print(a_2c.shape)    # now, a_2c is one column"
   ]
  },
  {
   "cell_type": "markdown",
   "metadata": {},
   "source": [
    "Expand into the first dimension. This time, we expand by putting np.newaxis onto the first argument."
   ]
  },
  {
   "cell_type": "code",
   "execution_count": 306,
   "metadata": {},
   "outputs": [
    {
     "name": "stdout",
     "output_type": "stream",
     "text": [
      "[[0 1 2 3]]\n",
      "(1, 4)\n"
     ]
    }
   ],
   "source": [
    "a_2r = a_1[np.newaxis, :]\n",
    "\n",
    "print(a_2r)\n",
    "print(a_2r.shape)    # now, a_2r is one row in a two-dimensional array"
   ]
  },
  {
   "cell_type": "markdown",
   "metadata": {},
   "source": [
    "To see this more explicitly, try query a_2c and a_2r's elements?"
   ]
  },
  {
   "cell_type": "code",
   "execution_count": 307,
   "metadata": {},
   "outputs": [
    {
     "name": "stdout",
     "output_type": "stream",
     "text": [
      "1 3\n"
     ]
    }
   ],
   "source": [
    "print(a_2c[1, 0], a_2c[3, 0])   # second and fourth row of the first column"
   ]
  },
  {
   "cell_type": "code",
   "execution_count": 308,
   "metadata": {},
   "outputs": [
    {
     "name": "stdout",
     "output_type": "stream",
     "text": [
      "1 3\n"
     ]
    }
   ],
   "source": [
    "print(a_2r[0, 1], a_2r[0, 3])   # second and fourth column of the first row"
   ]
  },
  {
   "cell_type": "markdown",
   "metadata": {},
   "source": [
    "Squeeze is the opposite of expand_dims"
   ]
  },
  {
   "cell_type": "code",
   "execution_count": 309,
   "metadata": {},
   "outputs": [
    {
     "name": "stdout",
     "output_type": "stream",
     "text": [
      "[[ 0 -1  2  3]\n",
      " [ 4  5  6  7]]\n",
      "(2, 4)\n"
     ]
    }
   ],
   "source": [
    "a_1n = np.squeeze(a_2)\n",
    "print(a_1n)\n",
    "print(a_1n.shape)"
   ]
  },
  {
   "cell_type": "markdown",
   "metadata": {},
   "source": []
  },
  {
   "cell_type": "markdown",
   "metadata": {},
   "source": [
    "#### `np.concatenate` and `np.stack` to combine arrays\n",
    "- `np.concatenate` will concatenate arrays along a given dimension\n",
    "- `np.stack` will stack arrays along a new dimension"
   ]
  },
  {
   "cell_type": "markdown",
   "metadata": {},
   "source": [
    "`np.concatenate((a, b), axis)` will concatenate arrays along a given (existing) dimension\n",
    "- note that arrays `a` and `b` are given as one tuple\n",
    "- need to specify the dimension we're concatenating along in `axis`\n",
    "- result is a copy"
   ]
  },
  {
   "cell_type": "markdown",
   "metadata": {},
   "source": [
    "Example 1: mimicking list concatenation with one-dimensional arrays"
   ]
  },
  {
   "cell_type": "code",
   "execution_count": 310,
   "metadata": {},
   "outputs": [
    {
     "name": "stdout",
     "output_type": "stream",
     "text": [
      "[0 1 2] [3 4 5]\n"
     ]
    }
   ],
   "source": [
    "# Example 1: \n",
    "a = np.array([0, 1, 2])\n",
    "b = np.array([3, 4, 5])\n",
    "print(a, b)"
   ]
  },
  {
   "cell_type": "code",
   "execution_count": 311,
   "metadata": {},
   "outputs": [
    {
     "data": {
      "text/plain": [
       "array([0, 1, 2, 3, 4, 5])"
      ]
     },
     "execution_count": 311,
     "metadata": {},
     "output_type": "execute_result"
    }
   ],
   "source": [
    "# concatenate along dimension 0\n",
    "np.concatenate((a, b), axis=0) "
   ]
  },
  {
   "cell_type": "code",
   "execution_count": 312,
   "metadata": {},
   "outputs": [],
   "source": [
    "# concatenate along dimension 1 (a new dimension)? Cannot do this!!\n",
    "# np.concatenate((a, b), axis=1)"
   ]
  },
  {
   "cell_type": "markdown",
   "metadata": {},
   "source": [
    "`np.stack((a, b), axis)` will stack arrays along a new dimension\n",
    "- arrays `a` and `b` also given as one tuple\n",
    "- need to specify the dimension we're concatenating along in `axis`, which is now a new dimension\n",
    "- result is a copy"
   ]
  },
  {
   "cell_type": "code",
   "execution_count": 313,
   "metadata": {},
   "outputs": [
    {
     "data": {
      "text/plain": [
       "array([[0, 3],\n",
       "       [1, 4],\n",
       "       [2, 5]])"
      ]
     },
     "execution_count": 313,
     "metadata": {},
     "output_type": "execute_result"
    }
   ],
   "source": [
    "# stack along dimension 1\n",
    "np.stack((a, b), axis=1) "
   ]
  },
  {
   "cell_type": "markdown",
   "metadata": {},
   "source": [
    "Comment: compare with `np.expand_dims` to understand the behavior of adding dimensions\n",
    "- you might find the new array's shape weird\n",
    "- but think in this way: the arrays are stacked along dimension `1`, making the previous `(3,)` arrays a `(3,2)` array"
   ]
  },
  {
   "cell_type": "code",
   "execution_count": 314,
   "metadata": {},
   "outputs": [
    {
     "name": "stdout",
     "output_type": "stream",
     "text": [
      "[[0 1]\n",
      " [2 3]]\n"
     ]
    }
   ],
   "source": [
    "# Example 2\n",
    "a = np.arange(4).reshape(2, 2)\n",
    "b = np.arange(4).reshape(2, 2)\n",
    "print(a)"
   ]
  },
  {
   "cell_type": "markdown",
   "metadata": {},
   "source": [
    "Now let's write this ourselves\n",
    "- concatenate `a` and `b` along the first dimension\n",
    "- along the second dimension\n",
    "- and stack them along the third dimension"
   ]
  },
  {
   "cell_type": "code",
   "execution_count": 315,
   "metadata": {},
   "outputs": [
    {
     "data": {
      "text/plain": [
       "array([[0, 1],\n",
       "       [2, 3],\n",
       "       [0, 1],\n",
       "       [2, 3]])"
      ]
     },
     "execution_count": 315,
     "metadata": {},
     "output_type": "execute_result"
    }
   ],
   "source": [
    "# Concatenate a and b along the first dimension\n",
    "# we should get [[0, 1], [2, 3], [0, 1], [2, 3]]\n",
    "np.concatenate((a, b), axis=0)\n"
   ]
  },
  {
   "cell_type": "code",
   "execution_count": 316,
   "metadata": {},
   "outputs": [
    {
     "data": {
      "text/plain": [
       "array([[0, 1, 0, 1],\n",
       "       [2, 3, 2, 3]])"
      ]
     },
     "execution_count": 316,
     "metadata": {},
     "output_type": "execute_result"
    }
   ],
   "source": [
    "# How about concatenating them along the second dimension?\n",
    "# we should get [[0, 1, 0, 1], [2, 3, 2, 3]]\n",
    "np.concatenate((a, b), axis=1)"
   ]
  },
  {
   "cell_type": "code",
   "execution_count": 317,
   "metadata": {},
   "outputs": [
    {
     "data": {
      "text/plain": [
       "array([[[0, 0],\n",
       "        [1, 1]],\n",
       "\n",
       "       [[2, 2],\n",
       "        [3, 3]]])"
      ]
     },
     "execution_count": 317,
     "metadata": {},
     "output_type": "execute_result"
    }
   ],
   "source": [
    "# How about stacking them along the third dimension?\n",
    "# we should get [[[0, 0], [1, 1]], [[2, 2], [3, 3]]]\n",
    "np.stack((a, b), axis=2)"
   ]
  },
  {
   "cell_type": "markdown",
   "metadata": {},
   "source": [
    "### 2.5 Summary\n",
    "- Arrays are structured by its dimensions (e.g., shape is `(2, 3)`)\n",
    "    - can query dimensions, shape, and size\n",
    "    - can index and slice by supplying indices **for each** dimension\n",
    "\n",
    "- Indexing is an important topic of its own\n",
    "    - we can obtain an index array from some operation, such as `argsort`, a logical operation, and so on\n",
    "    - and then we can use the obtained indices to operate on another array\n",
    "    - for NumPy, we can even use boolean indices, saving the effort to convert them to numbers using `np.where`\n",
    "\n",
    "- Can restructure arrays\n",
    "    - can change the shape of an array using `reshape` and `ravel` (contrast `flatten`)\n",
    "    - can expand and shrink dimensions using `np.expand_dims` and `np.squeeze`\n",
    "    - can concatenate and stack arrays using `np.concatenate` and `np.stack`"
   ]
  },
  {
   "cell_type": "markdown",
   "metadata": {},
   "source": []
  },
  {
   "cell_type": "markdown",
   "metadata": {},
   "source": [
    "## 3. Array operations\n",
    "\n",
    "- Recall: what do we need NumPy for?\n",
    "    - to define `ndarray` (and other related data structures)\n",
    "    - to define a set of operations that can be applied to `ndarray`'s\n",
    "    - to build many other packages, such as Pandas, on top of these data structure and operations\n",
    "\n",
    "- So, array operations (including creating and restructuring arrays) are core to NumPy\n",
    "\n",
    "- We already covered creating and restructuring arrays \n",
    "\n",
    "- What's left is mostly the easy parts: vectorized array operations and aggregations"
   ]
  },
  {
   "cell_type": "markdown",
   "metadata": {},
   "source": [
    "### 3.1 Vectorized operations\n",
    "- Vectorized (or element-wise) operations work on each element of shape-matching arrays\n",
    "    - work on two arrays if they have identical shape\n",
    "    - or, when the two arrays' dimensions match except for some **singleton** dimensions, we have **broadcasting** that automatically expands the singleton dimensions to match shape\n",
    "\n",
    "- Many functions work in this manner -- arithmetic operators, many math functions, comparison functions, logical functions, and so on\n",
    "\n",
    "- These vectorized functions are called **\"universal functions\"** or \"ufunc\" for NumPy, which \n",
    "    - operate on items element-by-element\n",
    "    - automatic broadcast\n",
    "    - automatic type-casts, i.e., convert data types before calculations"
   ]
  },
  {
   "cell_type": "markdown",
   "metadata": {},
   "source": [
    "#### Arithmetic operations\n",
    "- Math operators, `+`, `-`, `*`, ..., work with arrays in an element-wise fashion\n",
    "- They correspond to (although not 100% equivalent to) a class of NumPy arithmetic functions `np.add`, `np.subtract`, `np.multiply`, ...\n",
    "    - but, in most cases, I'd recommend just using the math operators for syntax simplicity"
   ]
  },
  {
   "cell_type": "code",
   "execution_count": 318,
   "metadata": {},
   "outputs": [
    {
     "name": "stdout",
     "output_type": "stream",
     "text": [
      "[[1 2 3]\n",
      " [4 5 6]]\n",
      "[[0.3 1.  0.3]\n",
      " [0.8 0.7 0.5]]\n"
     ]
    }
   ],
   "source": [
    "# Arithmetic operations with identically-shaped arrays\n",
    "\n",
    "# a is an array from 1 to 6\n",
    "a = np.arange(1, 7).reshape([2, 3])\n",
    "print(a)\n",
    "\n",
    "# b is a random sequence, then reshape and round to one decimal\n",
    "np.random.seed(123123)\n",
    "b = np.random.rand(6).reshape([2, 3]).round(1)\n",
    "print(b)"
   ]
  },
  {
   "cell_type": "markdown",
   "metadata": {},
   "source": [
    "Btw, in the above code, remember method chaining?"
   ]
  },
  {
   "cell_type": "code",
   "execution_count": 319,
   "metadata": {},
   "outputs": [
    {
     "data": {
      "text/plain": [
       "array([[1.3, 3. , 3.3],\n",
       "       [4.8, 5.7, 6.5]])"
      ]
     },
     "execution_count": 319,
     "metadata": {},
     "output_type": "execute_result"
    }
   ],
   "source": [
    "# add a and b\n",
    "a + b\n",
    "\n",
    "# equivalent: np.add(a, b)"
   ]
  },
  {
   "cell_type": "code",
   "execution_count": 320,
   "metadata": {},
   "outputs": [
    {
     "data": {
      "text/plain": [
       "array([[0.7, 1. , 2.7],\n",
       "       [3.2, 4.3, 5.5]])"
      ]
     },
     "execution_count": 320,
     "metadata": {},
     "output_type": "execute_result"
    }
   ],
   "source": [
    "# subtract b from a\n",
    "a - b"
   ]
  },
  {
   "cell_type": "code",
   "execution_count": 321,
   "metadata": {},
   "outputs": [
    {
     "name": "stdout",
     "output_type": "stream",
     "text": [
      "[[0.3 2.  0.9]\n",
      " [3.2 3.5 3. ]]\n",
      "[[ 3.33333333  2.         10.        ]\n",
      " [ 5.          7.14285714 12.        ]]\n",
      "[[0.3      1.       0.027   ]\n",
      " [0.4096   0.16807  0.015625]]\n",
      "[[ 3.  2. 10.]\n",
      " [ 4.  7. 12.]]\n",
      "[[1.00000000e-01 0.00000000e+00 1.11022302e-16]\n",
      " [8.00000000e-01 1.00000000e-01 0.00000000e+00]]\n"
     ]
    }
   ],
   "source": [
    "# other operations\n",
    "print(a * b)\n",
    "\n",
    "print(a / b)\n",
    "\n",
    "print(b ** a)           # power\n",
    "\n",
    "print(a // b)           # integer divide\n",
    "\n",
    "print(a % b)            # modulous\n"
   ]
  },
  {
   "cell_type": "markdown",
   "metadata": {},
   "source": [
    "Number and array operations work intuitively"
   ]
  },
  {
   "cell_type": "code",
   "execution_count": 322,
   "metadata": {},
   "outputs": [
    {
     "name": "stdout",
     "output_type": "stream",
     "text": [
      "[[3 4 5]\n",
      " [6 7 8]]\n"
     ]
    }
   ],
   "source": [
    "# recall what is a\n",
    "a = np.arange(1, 7).reshape([2, 3])\n",
    "\n",
    "# a plus constant 2\n",
    "print(a + 2)"
   ]
  },
  {
   "cell_type": "markdown",
   "metadata": {},
   "source": [
    "#### Math functions"
   ]
  },
  {
   "cell_type": "code",
   "execution_count": 323,
   "metadata": {},
   "outputs": [
    {
     "data": {
      "text/plain": [
       "array([[  2.718,   7.389,  20.086],\n",
       "       [ 54.598, 148.413, 403.429]])"
      ]
     },
     "execution_count": 323,
     "metadata": {},
     "output_type": "execute_result"
    }
   ],
   "source": [
    "# exponential and round to 3 decimal points\n",
    "np.exp(a).round(3)"
   ]
  },
  {
   "cell_type": "code",
   "execution_count": 324,
   "metadata": {},
   "outputs": [
    {
     "data": {
      "text/plain": [
       "array([[0.   , 0.693, 1.099],\n",
       "       [1.386, 1.609, 1.792]])"
      ]
     },
     "execution_count": 324,
     "metadata": {},
     "output_type": "execute_result"
    }
   ],
   "source": [
    "# log and round to 3 decimal points\n",
    "np.log(a).round(3)"
   ]
  },
  {
   "cell_type": "code",
   "execution_count": 325,
   "metadata": {},
   "outputs": [
    {
     "data": {
      "text/plain": [
       "array([[4, 4, 4],\n",
       "       [4, 5, 6]])"
      ]
     },
     "execution_count": 325,
     "metadata": {},
     "output_type": "execute_result"
    }
   ],
   "source": [
    "# take *pairwise* maximum (i.e., for each element of a and 4, take the max between the two)\n",
    "np.maximum(a, 4)"
   ]
  },
  {
   "cell_type": "code",
   "execution_count": 326,
   "metadata": {},
   "outputs": [
    {
     "data": {
      "text/plain": [
       "array([[1, 2, 3],\n",
       "       [4, 4, 4]])"
      ]
     },
     "execution_count": 326,
     "metadata": {},
     "output_type": "execute_result"
    }
   ],
   "source": [
    "# ... and minimum\n",
    "np.minimum(a, 4)"
   ]
  },
  {
   "cell_type": "markdown",
   "metadata": {},
   "source": [
    "#### Comparison and logical functions"
   ]
  },
  {
   "cell_type": "code",
   "execution_count": 327,
   "metadata": {},
   "outputs": [
    {
     "data": {
      "text/plain": [
       "array([[False, False, False],\n",
       "       [ True,  True,  True]])"
      ]
     },
     "execution_count": 327,
     "metadata": {},
     "output_type": "execute_result"
    }
   ],
   "source": [
    "# recall what is a\n",
    "a = np.arange(1, 7).reshape([2, 3])\n",
    "\n",
    "# a >= 4?\n",
    "a >= 4"
   ]
  },
  {
   "cell_type": "code",
   "execution_count": 328,
   "metadata": {},
   "outputs": [
    {
     "data": {
      "text/plain": [
       "array([[ True,  True,  True],\n",
       "       [ True, False,  True]])"
      ]
     },
     "execution_count": 328,
     "metadata": {},
     "output_type": "execute_result"
    }
   ],
   "source": [
    "# a != 5?\n",
    "a != 5"
   ]
  },
  {
   "cell_type": "code",
   "execution_count": 329,
   "metadata": {},
   "outputs": [
    {
     "data": {
      "text/plain": [
       "array([[False, False, False],\n",
       "       [ True, False,  True]])"
      ]
     },
     "execution_count": 329,
     "metadata": {},
     "output_type": "execute_result"
    }
   ],
   "source": [
    "# logical functions: & for and\n",
    "(a >= 4) & (a != 5)     # `&` is the vectorized logical function `and`"
   ]
  },
  {
   "cell_type": "code",
   "execution_count": 330,
   "metadata": {},
   "outputs": [
    {
     "data": {
      "text/plain": [
       "array([[False, False, False],\n",
       "       [False,  True, False]])"
      ]
     },
     "execution_count": 330,
     "metadata": {},
     "output_type": "execute_result"
    }
   ],
   "source": [
    "# logical functions: ~ for not\n",
    "~ (a != 5)"
   ]
  },
  {
   "cell_type": "markdown",
   "metadata": {},
   "source": [
    "Comment on the above\n",
    "- `&` and `|` are the vectorized logical functions for \"and\" and \"or\" \n",
    "- `~` is the vectorized function for \"not\"\n",
    "- `and` and `or` cannot be used for any non-scalar operations\n",
    "- pay attention to order the precedence -- for logical functions we have to add parenthesis"
   ]
  },
  {
   "cell_type": "markdown",
   "metadata": {},
   "source": [
    "### 3.2 Broadcasting\n",
    "\n",
    "Broadcasting refers to the ability of the library to perform element-wise operations on arrays of different shapes. It allows NumPy to work with arrays of different dimensions in a way that the smaller array is virtually expanded to the size of the larger array without actually copying the data, thus making operations more efficient both in terms of memory and performance.\n",
    "\n",
    "Broadcasting is a clever way for NumPy to handle calculations with arrays of different sizes. Instead of doing calculations one by one (which is slow), it finds a way to \"stretch\" or \"repeat\" the smaller array to match the shape of the larger array. This lets NumPy perform calculations much faster.\n"
   ]
  },
  {
   "cell_type": "markdown",
   "metadata": {},
   "source": [
    "#### Broadcasting requires \n",
    "1. Arrays' shapes match\n",
    "2. Or, if certain dimensions do not match, for one of the two arrays it must be that\n",
    "    - the unmatched dimension is a singleton\n",
    "    - the array is short on that dimension"
   ]
  },
  {
   "cell_type": "markdown",
   "metadata": {},
   "source": [
    "#### Example 1: number and array\n",
    "- `2` can be broadcasted to match with `[1, 2, 3]` \n",
    "- one can think of it as first duplicating `2` into `[2, 2, 2]`, although broadcasting is way more efficient than this"
   ]
  },
  {
   "cell_type": "code",
   "execution_count": 331,
   "metadata": {},
   "outputs": [
    {
     "data": {
      "text/plain": [
       "array([2, 4, 6])"
      ]
     },
     "execution_count": 331,
     "metadata": {},
     "output_type": "execute_result"
    }
   ],
   "source": [
    "# Example 1\n",
    "2 * np.array([1, 2, 3])"
   ]
  },
  {
   "cell_type": "markdown",
   "metadata": {},
   "source": [
    "#### Example 2: arrays with singleton dimensions\n",
    "- e.g., `[[1, 2, 3], [4, 5, 6]]` and `[[7, 8, 9]]`\n",
    "- You can see that `a`'s first dimension has shape 2, whereas `b`'s first dimension is singular"
   ]
  },
  {
   "cell_type": "code",
   "execution_count": 332,
   "metadata": {},
   "outputs": [
    {
     "name": "stdout",
     "output_type": "stream",
     "text": [
      "(2, 3) (1, 3)\n"
     ]
    }
   ],
   "source": [
    "# Example 2\n",
    "a = np.array([[1, 2, 3], [4, 5, 6]])\n",
    "b = np.array([[7, 8, 9]])\n",
    "print(a.shape, b.shape)"
   ]
  },
  {
   "cell_type": "code",
   "execution_count": 333,
   "metadata": {},
   "outputs": [
    {
     "data": {
      "text/plain": [
       "array([[6, 6, 6],\n",
       "       [3, 3, 3]])"
      ]
     },
     "execution_count": 333,
     "metadata": {},
     "output_type": "execute_result"
    }
   ],
   "source": [
    "# b minus a\n",
    "b - a"
   ]
  },
  {
   "cell_type": "markdown",
   "metadata": {},
   "source": [
    "#### Example 3: arrays of a lower dimension\n",
    "- e.g., `[[1, 2, 3], [4, 5, 6]]` and `[7, 8, 9]`\n",
    "- Now `b`'s dimension is `(3,)`, pad `b`'s dimension from the **left** side and make it `(1,3)` (note: this rule is fixed)"
   ]
  },
  {
   "cell_type": "code",
   "execution_count": 334,
   "metadata": {},
   "outputs": [
    {
     "name": "stdout",
     "output_type": "stream",
     "text": [
      "(2, 3) (3,)\n"
     ]
    }
   ],
   "source": [
    "# Example 3\n",
    "a = np.array([[1, 2, 3], [4, 5, 6]])\n",
    "b = np.array([7, 8, 9])\n",
    "print(a.shape, b.shape)"
   ]
  },
  {
   "cell_type": "code",
   "execution_count": 335,
   "metadata": {},
   "outputs": [
    {
     "data": {
      "text/plain": [
       "array([[6, 6, 6],\n",
       "       [3, 3, 3]])"
      ]
     },
     "execution_count": 335,
     "metadata": {},
     "output_type": "execute_result"
    }
   ],
   "source": [
    "# b minus a\n",
    "b - a"
   ]
  },
  {
   "cell_type": "markdown",
   "metadata": {},
   "source": [
    "#### Example 4: arrays each with one single dimension\n",
    "- e.g., `[[1, 2]]` versus `[[3], [4], [5]]`\n",
    "- `a`'s dimension is `(1, 2)` and `b`'s dimension is `(3, 1)`\n",
    "- will broadcast `a` and `b` into each other"
   ]
  },
  {
   "cell_type": "code",
   "execution_count": 336,
   "metadata": {},
   "outputs": [
    {
     "name": "stdout",
     "output_type": "stream",
     "text": [
      "(1, 2) (3, 1)\n"
     ]
    }
   ],
   "source": [
    "# Example 4\n",
    "a = np.array([[1, 2]])\n",
    "b = np.array([[3], [4], [5]])\n",
    "print(a.shape, b.shape)\n"
   ]
  },
  {
   "cell_type": "code",
   "execution_count": 337,
   "metadata": {},
   "outputs": [
    {
     "data": {
      "text/plain": [
       "array([[4, 5],\n",
       "       [5, 6],\n",
       "       [6, 7]])"
      ]
     },
     "execution_count": 337,
     "metadata": {},
     "output_type": "execute_result"
    }
   ],
   "source": [
    "# print\n",
    "a + b       # shape (3, 2)"
   ]
  },
  {
   "cell_type": "markdown",
   "metadata": {},
   "source": [
    "### 3.3 Aggregation\n",
    "- E.g., sum, mean, variance, standard deviation, min, max, etc.\n",
    "- Can aggregate along dimensions by specifying `axis=`\n",
    "\n",
    "\n"
   ]
  },
  {
   "cell_type": "code",
   "execution_count": 338,
   "metadata": {},
   "outputs": [],
   "source": [
    "# construct an array\n",
    "a = np.array([1, 4, 2, 4, 5, 4, 9, 1, 2, 6])"
   ]
  },
  {
   "cell_type": "code",
   "execution_count": 339,
   "metadata": {},
   "outputs": [
    {
     "name": "stdout",
     "output_type": "stream",
     "text": [
      "3.8\n"
     ]
    }
   ],
   "source": [
    "# mean\n",
    "print(a.mean())\n",
    "#   or: np.mean(a)"
   ]
  },
  {
   "cell_type": "code",
   "execution_count": 340,
   "metadata": {},
   "outputs": [
    {
     "name": "stdout",
     "output_type": "stream",
     "text": [
      "2.358 5.56\n"
     ]
    }
   ],
   "source": [
    "# standard deviation and variance (rounded to 3rd decimal)\n",
    "print(a.std().round(3), a.var().round(3))"
   ]
  },
  {
   "cell_type": "code",
   "execution_count": 341,
   "metadata": {},
   "outputs": [
    {
     "data": {
      "text/plain": [
       "38"
      ]
     },
     "execution_count": 341,
     "metadata": {},
     "output_type": "execute_result"
    }
   ],
   "source": [
    "# sum\n",
    "a.sum()\n",
    "\n",
    "# note: can obtain the sum using mean and size\n",
    "# a.mean() * a.size"
   ]
  },
  {
   "cell_type": "code",
   "execution_count": 342,
   "metadata": {},
   "outputs": [
    {
     "name": "stdout",
     "output_type": "stream",
     "text": [
      "9 1\n"
     ]
    }
   ],
   "source": [
    "# max and min\n",
    "print(a.max(), a.min())"
   ]
  },
  {
   "cell_type": "code",
   "execution_count": 343,
   "metadata": {},
   "outputs": [
    {
     "name": "stdout",
     "output_type": "stream",
     "text": [
      "6 0\n"
     ]
    }
   ],
   "source": [
    "# argmax and argmin -- index that gives the max and min (connect this with argsort)\n",
    "print(a.argmax(), a.argmin())"
   ]
  },
  {
   "cell_type": "markdown",
   "metadata": {},
   "source": [
    "How about higher-dimensional arrays? Can you sum or take mean along a dimension?"
   ]
  },
  {
   "cell_type": "code",
   "execution_count": 344,
   "metadata": {},
   "outputs": [
    {
     "data": {
      "text/plain": [
       "(2, 10)"
      ]
     },
     "execution_count": 344,
     "metadata": {},
     "output_type": "execute_result"
    }
   ],
   "source": [
    "# construct a two-dimensional array, `b`\n",
    "b = np.array([[1, 4, 2, 4, 5, 4, 9, 1, 2, 6], [1, 2, 7, 3, 2, 6, 2, 3, 1, 9]])\n",
    "b.shape"
   ]
  },
  {
   "cell_type": "code",
   "execution_count": 345,
   "metadata": {},
   "outputs": [
    {
     "data": {
      "text/plain": [
       "array([38, 36])"
      ]
     },
     "execution_count": 345,
     "metadata": {},
     "output_type": "execute_result"
    }
   ],
   "source": [
    "# we can take mean over the second dimension, i.e., within each list of 10, but not across lists\n",
    "np.sum(b, axis=1)"
   ]
  },
  {
   "cell_type": "markdown",
   "metadata": {},
   "source": [
    "### 3.4 Summary\n",
    "- Universal functions (\"ufunc\") for arrays are those that\n",
    "    - operate on each element (\"vectorized\")\n",
    "    - type casts (converts data types)\n",
    "    - broadcasts if necessary\n",
    "\n",
    "- Broadcasting rules\n",
    "\n",
    "- Aggregation functions will turn an array into numbers or smaller arrays"
   ]
  },
  {
   "cell_type": "markdown",
   "metadata": {},
   "source": []
  },
  {
   "cell_type": "markdown",
   "metadata": {},
   "source": [
    "## 4. Miscelaneous\n",
    "Here we have a few other topics\n",
    "- Converting arrays back to lists\n",
    "- Matrix\n",
    "- Misc. methods\n"
   ]
  },
  {
   "cell_type": "markdown",
   "metadata": {},
   "source": [
    "### 4.1 Converting ndarrays back to lists\n",
    "This is a straightforward topic :D"
   ]
  },
  {
   "cell_type": "code",
   "execution_count": 346,
   "metadata": {},
   "outputs": [
    {
     "data": {
      "text/plain": [
       "array([[1, 2, 3],\n",
       "       [4, 5, 6]])"
      ]
     },
     "execution_count": 346,
     "metadata": {},
     "output_type": "execute_result"
    }
   ],
   "source": [
    "# Let a be an ndarray\n",
    "a = np.array([[1, 2, 3], [4, 5, 6]])\n",
    "a"
   ]
  },
  {
   "cell_type": "code",
   "execution_count": 347,
   "metadata": {},
   "outputs": [
    {
     "data": {
      "text/plain": [
       "[[1, 2, 3], [4, 5, 6]]"
      ]
     },
     "execution_count": 347,
     "metadata": {},
     "output_type": "execute_result"
    }
   ],
   "source": [
    "# Convert `a` back to a list\n",
    "a1 = a.tolist()\n",
    "a1"
   ]
  },
  {
   "cell_type": "markdown",
   "metadata": {},
   "source": [
    "### 4.2 Matrices\n",
    "- Unlike R and Matlab, matrices and two-dimensional `ndarrays` are different in NumPy\n",
    "- Matrices are specifically designed for linear algebra (they have matrix multiply and matrix inverse)"
   ]
  },
  {
   "cell_type": "code",
   "execution_count": 348,
   "metadata": {},
   "outputs": [
    {
     "data": {
      "text/plain": [
       "array([[1, 2, 3],\n",
       "       [4, 5, 6]])"
      ]
     },
     "execution_count": 348,
     "metadata": {},
     "output_type": "execute_result"
    }
   ],
   "source": [
    "# a is a two-dimensional ndarray\n",
    "a = np.array([[1, 2, 3], [4, 5, 6]])\n",
    "a"
   ]
  },
  {
   "cell_type": "code",
   "execution_count": 349,
   "metadata": {},
   "outputs": [
    {
     "data": {
      "text/plain": [
       "matrix([[1, 2, 3],\n",
       "        [4, 5, 6]])"
      ]
     },
     "execution_count": 349,
     "metadata": {},
     "output_type": "execute_result"
    }
   ],
   "source": [
    "# m is a matrix\n",
    "m = np.matrix([[1, 2, 3], [4, 5, 6]])\n",
    "m"
   ]
  },
  {
   "cell_type": "markdown",
   "metadata": {},
   "source": [
    "The key difference, for our purposes, is that array retains vectorized ufuncs, whereas matrices replace some of these operations with matrix algebra"
   ]
  },
  {
   "cell_type": "code",
   "execution_count": 350,
   "metadata": {},
   "outputs": [
    {
     "data": {
      "text/plain": [
       "array([[ 1,  4,  9],\n",
       "       [16, 25, 36]])"
      ]
     },
     "execution_count": 350,
     "metadata": {},
     "output_type": "execute_result"
    }
   ],
   "source": [
    "# a times a is vectorized\n",
    "a * a"
   ]
  },
  {
   "cell_type": "code",
   "execution_count": 351,
   "metadata": {},
   "outputs": [],
   "source": [
    "# m times m cannot be performed because the shape does not comply with matrix multiply\n",
    "# m * m"
   ]
  },
  {
   "cell_type": "code",
   "execution_count": 352,
   "metadata": {},
   "outputs": [
    {
     "data": {
      "text/plain": [
       "matrix([[14, 32],\n",
       "        [32, 77]])"
      ]
     },
     "execution_count": 352,
     "metadata": {},
     "output_type": "execute_result"
    }
   ],
   "source": [
    "# instead, can do m times m.T\n",
    "m * m.T"
   ]
  },
  {
   "cell_type": "markdown",
   "metadata": {},
   "source": [
    "### 4.3 Miscelaneous Methods in NumPy\n",
    "We couldn't cover all methods at once. So here are a few useful methods I didn't cover before."
   ]
  },
  {
   "cell_type": "markdown",
   "metadata": {},
   "source": [
    "`np.eye(k)` creates an identity matrix as a 2D array of `k` rows and columns."
   ]
  },
  {
   "cell_type": "code",
   "execution_count": 353,
   "metadata": {},
   "outputs": [
    {
     "data": {
      "text/plain": [
       "array([[1, 0, 0, 0, 0],\n",
       "       [0, 1, 0, 0, 0],\n",
       "       [0, 0, 1, 0, 0],\n",
       "       [0, 0, 0, 1, 0],\n",
       "       [0, 0, 0, 0, 1]])"
      ]
     },
     "execution_count": 353,
     "metadata": {},
     "output_type": "execute_result"
    }
   ],
   "source": [
    "# np.eye\n",
    "np.eye(5).astype(int)"
   ]
  },
  {
   "cell_type": "markdown",
   "metadata": {},
   "source": [
    "`np.empty(shape)` creates an empty array of a given shape. It's not an array of missing values. It's just an array where we don't care about its values."
   ]
  },
  {
   "cell_type": "code",
   "execution_count": 354,
   "metadata": {},
   "outputs": [
    {
     "data": {
      "text/plain": [
       "array([[0.3, 1. , 0.3],\n",
       "       [0.8, 0.7, 0.5]])"
      ]
     },
     "execution_count": 354,
     "metadata": {},
     "output_type": "execute_result"
    }
   ],
   "source": [
    "np.empty([2, 3])"
   ]
  },
  {
   "cell_type": "markdown",
   "metadata": {},
   "source": [
    "`np.random.randint(low, high, size)` creates random integer between `low` and `high` of shape `size`."
   ]
  },
  {
   "cell_type": "code",
   "execution_count": 355,
   "metadata": {},
   "outputs": [
    {
     "data": {
      "text/plain": [
       "array([[7, 9],\n",
       "       [6, 6]])"
      ]
     },
     "execution_count": 355,
     "metadata": {},
     "output_type": "execute_result"
    }
   ],
   "source": [
    "# random integers\n",
    "np.random.seed(seed=123123)\n",
    "np.random.randint(0, 10, [2, 2])"
   ]
  },
  {
   "cell_type": "markdown",
   "metadata": {},
   "source": [
    "`np.percentile()` finds the percentile of an array."
   ]
  },
  {
   "cell_type": "code",
   "execution_count": 356,
   "metadata": {},
   "outputs": [
    {
     "data": {
      "text/plain": [
       "array([2., 3., 5.])"
      ]
     },
     "execution_count": 356,
     "metadata": {},
     "output_type": "execute_result"
    }
   ],
   "source": [
    "# percentile\n",
    "a = np.array([1, 5, 2, 5, 2, 1, 3, 5, 7])\n",
    "np.percentile(a, [25, 50, 75])  # 25, 50, and 75th percentiles"
   ]
  },
  {
   "cell_type": "markdown",
   "metadata": {},
   "source": [
    "`np.unique()` finds unique values."
   ]
  },
  {
   "cell_type": "code",
   "execution_count": 357,
   "metadata": {},
   "outputs": [
    {
     "data": {
      "text/plain": [
       "array([1, 2, 3, 5, 7])"
      ]
     },
     "execution_count": 357,
     "metadata": {},
     "output_type": "execute_result"
    }
   ],
   "source": [
    "# unique values\n",
    "a = np.array([1, 5, 2, 5, 2, 1, 3, 5, 7])\n",
    "np.unique(a)"
   ]
  },
  {
   "cell_type": "markdown",
   "metadata": {},
   "source": []
  },
  {
   "cell_type": "markdown",
   "metadata": {},
   "source": [
    "## Big summary\n",
    "- NumPy is one of the cores in modern Python\n",
    "    - I would say **the** core for our purposes, which is heavily numerical\n",
    "\n",
    "- Essential building blocks for `Pandas`, `Matplotlib`, and later `scikit-learn`, `CuPy`, ...\n",
    "\n",
    "- Similar syntax followed by other packages, e.g. `PyTorch`"
   ]
  },
  {
   "cell_type": "markdown",
   "metadata": {},
   "source": [
    "#### The essential four points\n",
    "If you're going to forget about the rest, remember these four points. Hopefully you remember more ;D\n",
    "\n",
    "1. NumPy defines `ndarrays`, which are homogeneous (thus have well-defined type) and have well-defined shape\n",
    "\n",
    "2. Elements are numeric indexed (zero-indexed), so indexing and slicing works, but we also saw more advanced use of indexing than last week\n",
    "\n",
    "3. We can restructure an array. We can `reshape` (opposite is `ravel` or `flatten`), transpose (`T`), add and reduce dimensions, and `concatenate` and `stack`. \n",
    "\n",
    "4. The very important reason to use NumPy is for its universal functions, which are vectorized (element-wise) operations on the same data type. If shapes do not match, we *broadcast*. If types do not match, we type cast. "
   ]
  },
  {
   "cell_type": "markdown",
   "metadata": {},
   "source": []
  },
  {
   "cell_type": "markdown",
   "metadata": {},
   "source": [
    "## Exercises"
   ]
  },
  {
   "cell_type": "markdown",
   "metadata": {},
   "source": [
    "### 1. Visualize a function's surface using NumPy operations\n",
    "We would like to visualize a function, `f(x, y) = x**2 + y**2`, on the two-dimensional space `(x, y)` using heat maps. This is a simple exercise that shows the powerful yet simple syntaxes with NumPy. \n",
    "\n",
    "To perform this task, of course we first need the function `f`. Note that `f` itself just specifies the operator on some objects `x` and `y`, which are not defined as data structures. \n"
   ]
  },
  {
   "cell_type": "code",
   "execution_count": 358,
   "metadata": {},
   "outputs": [],
   "source": [
    "# Define function f\n",
    "def f(x, y):\n",
    "    return x**2 + y**2"
   ]
  },
  {
   "cell_type": "markdown",
   "metadata": {},
   "source": [
    "Next, we would like to plot the function `f` on the axis `(x, y)`. A typical way is to create grid points on two separate axes, and then plot the function on these grids. With NumPy, this is done in a very simple manner with `np.linspace` and `np.newaxis`. `np.linspace` creates grid points. `np.newaxis` will expand it to given dimensions. "
   ]
  },
  {
   "cell_type": "code",
   "execution_count": 359,
   "metadata": {},
   "outputs": [
    {
     "name": "stdout",
     "output_type": "stream",
     "text": [
      "(50, 1) (1, 50)\n"
     ]
    }
   ],
   "source": [
    "grid_x = np.linspace(0, 1, 50)[:, np.newaxis]   # shape is (50, 1) \n",
    "grid_y = np.linspace(0, 1, 50)[np.newaxis, :]   # shape is (1, 50) \n",
    "print(grid_x.shape, grid_y.shape)"
   ]
  },
  {
   "cell_type": "markdown",
   "metadata": {},
   "source": [
    "The rest is very simple. We simply run `f` on the two axes. Note that when we do so, we implicitly use **broadcasting** to interact `x` and `y` that live in different dimensions. The result is a `50x50` grid of function values. "
   ]
  },
  {
   "cell_type": "code",
   "execution_count": 360,
   "metadata": {},
   "outputs": [
    {
     "data": {
      "text/plain": [
       "(50, 50)"
      ]
     },
     "execution_count": 360,
     "metadata": {},
     "output_type": "execute_result"
    }
   ],
   "source": [
    "z = f(grid_x, grid_y)\n",
    "z.shape                                         # find that z is of shape (50, 50)"
   ]
  },
  {
   "cell_type": "markdown",
   "metadata": {},
   "source": [
    "Finally, just for the fun of it, we visualize `z`. "
   ]
  },
  {
   "cell_type": "code",
   "execution_count": 361,
   "metadata": {},
   "outputs": [
    {
     "data": {
      "image/png": "[encoded data removed]",
      "text/plain": [
       "<Figure size 640x480 with 2 Axes>"
      ]
     },
     "metadata": {},
     "output_type": "display_data"
    }
   ],
   "source": [
    "import matplotlib.pyplot as plt\n",
    "plt.imshow(z, cmap='Blues_r', interpolation='nearest')\n",
    "plt.colorbar()\n",
    "plt.title('Heatmap of f(x, y)')\n",
    "plt.show()"
   ]
  },
  {
   "cell_type": "markdown",
   "metadata": {},
   "source": [
    "### 2. Read and work on a \"data frame\"\n",
    "Let's read a data frame into a dictionary, with each element being string:ndarray (column name and column values). The reading of the data is not the easiest (that will be fixed next week when we talk about Pandas). But after that is done, we gain the ability to work on these data mostly in modern manners. Pandas will ease up the syntax, but won't add too much else (but Polars will add efficient memory management and parallelization)."
   ]
  },
  {
   "cell_type": "markdown",
   "metadata": {},
   "source": [
    "We have a data set of student names, entry year, test scores (when they entered the program), year in which they took this class, and numeric grade for this class. Let's enter the dataset in the form of a dictionary.\n",
    "\n",
    "We are interested in:\n",
    "- Find each student's improvement in score (class score minus test score at entry), store in a variable \"score_change\"\n",
    "- Find whether there is a correlation (using `np.corrcoef`) between test score at entry and class score \n",
    "- Find, for students who entered in or after 2021, their average score and standard deviation of scores\n",
    "- Find which students scored above 90, return their name and class scores (ranked in descending order of score)"
   ]
  },
  {
   "cell_type": "code",
   "execution_count": 362,
   "metadata": {},
   "outputs": [],
   "source": [
    "# Create such a student data\n",
    "students_data = {\n",
    "    \"name\": [\n",
    "        \"Alice Smith\", \"Bob Johnson\", \"Charlie Brown\", \"Diana Prince\", \"Ethan Hunt\",\n",
    "        \"Fiona Gallagher\", \"George Clooney\", \"Hannah Montana\", \"Ian McKellen\", \"Julia Roberts\",\n",
    "        \"Kevin Bacon\", \"Lara Croft\", \"Megan Fox\", \"Nathan Drake\", \"Olivia Wilde\",\n",
    "        \"Peter Parker\", \"Quincy Adams\", \"Rachel Green\", \"Sam Winchester\", \"Tina Fey\",\n",
    "        \"Uma Thurman\", \"Vin Diesel\", \"Will Smith\", \"Xander Cage\", \"Yvonne Strahovski\",\n",
    "        \"Zachary Levi\", \"Amber Heard\", \"Bruce Wayne\", \"Clark Kent\", \"Daisy Ridley\"\n",
    "    ],\n",
    "    \"entry_year\": [\n",
    "        2020, 2019, 2021, 2018, 2020, 2019, 2021, 2018, 2020, 2019,\n",
    "        2020, 2018, 2021, 2019, 2020, 2018, 2021, 2019, 2020, 2021,\n",
    "        2018, 2019, 2020, 2021, 2018, 2019, 2021, 2020, 2019, 2021\n",
    "    ],\n",
    "    \"test_score_at_entry\": [\n",
    "        82, 75, 83, 89, 87, 80, 90, 91, 92, 89,\n",
    "        88, 90, 91, 80, 91, 88, 89, 92, 79, 89,\n",
    "        83, 90, 81, 82, 91, 89, 82, 91, 85, 88\n",
    "    ],\n",
    "    \"class_year\": [\n",
    "        2022, 2021, 2023, 2020, 2022, 2021, 2023, 2020, 2022, 2021,\n",
    "        2022, 2020, 2023, 2021, 2022, 2020, 2023, 2021, 2022, 2023,\n",
    "        2020, 2021, 2022, 2023, 2020, 2021, 2023, 2022, 2021, 2023\n",
    "    ],\n",
    "    \"class_score\": [\n",
    "        84, 80, 86, 90, 90, 81, 91, 91, 92, 89,       \n",
    "        88, 90, 92, 81, 90, 88, 88, 91, 80, 90,\n",
    "        84, 90, 81, 82, 91, 88, 82, 92, 86, 88\n",
    "    ]\n",
    "}"
   ]
  },
  {
   "cell_type": "markdown",
   "metadata": {},
   "source": [
    "Let's first try to compute a new column, \"score_change = class_score - test_score_at_entry.\" We cannot use list differences. So we'll have to do for loop or list comprehension. "
   ]
  },
  {
   "cell_type": "code",
   "execution_count": 363,
   "metadata": {},
   "outputs": [
    {
     "data": {
      "text/plain": [
       "[2, 5, 3, 1, 3]"
      ]
     },
     "execution_count": 363,
     "metadata": {},
     "output_type": "execute_result"
    }
   ],
   "source": [
    "# for loop way\n",
    "nrow = len(students_data[\"class_score\"])\n",
    "test_var = []\n",
    "for i in range(nrow):\n",
    "    test_var.append(students_data[\"class_score\"][i] - students_data[\"test_score_at_entry\"][i])\n",
    "\n",
    "# print, find indeed the numbers are correct\n",
    "test_var[0:5]"
   ]
  },
  {
   "cell_type": "code",
   "execution_count": 364,
   "metadata": {},
   "outputs": [
    {
     "data": {
      "text/plain": [
       "[2, 5, 3, 1, 3]"
      ]
     },
     "execution_count": 364,
     "metadata": {},
     "output_type": "execute_result"
    }
   ],
   "source": [
    "# How to write this in the list comprehension way?\n",
    "nrow = len(students_data[\"class_score\"])\n",
    "test_var = [students_data[\"class_score\"][i] - students_data[\"test_score_at_entry\"][i] for i in range(nrow)]\n",
    "test_var[0:5]\n"
   ]
  },
  {
   "cell_type": "markdown",
   "metadata": {},
   "source": [
    "But we quickly realize looping here and there is not the ideal. So we'll convert every list (every element in the dictionary) into a NumPy array. First we test this. Then we'll scale up the code to apply to all columns."
   ]
  },
  {
   "cell_type": "code",
   "execution_count": 365,
   "metadata": {},
   "outputs": [
    {
     "data": {
      "text/plain": [
       "array(['Alice Smith', 'Bob Johnson', 'Charlie Brown', 'Diana Prince',\n",
       "       'Ethan Hunt', 'Fiona Gallagher', 'George Clooney',\n",
       "       'Hannah Montana', 'Ian McKellen', 'Julia Roberts', 'Kevin Bacon',\n",
       "       'Lara Croft', 'Megan Fox', 'Nathan Drake', 'Olivia Wilde',\n",
       "       'Peter Parker', 'Quincy Adams', 'Rachel Green', 'Sam Winchester',\n",
       "       'Tina Fey', 'Uma Thurman', 'Vin Diesel', 'Will Smith',\n",
       "       'Xander Cage', 'Yvonne Strahovski', 'Zachary Levi', 'Amber Heard',\n",
       "       'Bruce Wayne', 'Clark Kent', 'Daisy Ridley'], dtype='<U17')"
      ]
     },
     "execution_count": 365,
     "metadata": {},
     "output_type": "execute_result"
    }
   ],
   "source": [
    "# Just a test\n",
    "test_array = np.array(students_data[\"name\"])\n",
    "test_array"
   ]
  },
  {
   "cell_type": "code",
   "execution_count": 366,
   "metadata": {},
   "outputs": [
    {
     "data": {
      "text/plain": [
       "{'name': array(['Alice Smith', 'Bob Johnson', 'Charlie Brown', 'Diana Prince',\n",
       "        'Ethan Hunt', 'Fiona Gallagher', 'George Clooney',\n",
       "        'Hannah Montana', 'Ian McKellen', 'Julia Roberts', 'Kevin Bacon',\n",
       "        'Lara Croft', 'Megan Fox', 'Nathan Drake', 'Olivia Wilde',\n",
       "        'Peter Parker', 'Quincy Adams', 'Rachel Green', 'Sam Winchester',\n",
       "        'Tina Fey', 'Uma Thurman', 'Vin Diesel', 'Will Smith',\n",
       "        'Xander Cage', 'Yvonne Strahovski', 'Zachary Levi', 'Amber Heard',\n",
       "        'Bruce Wayne', 'Clark Kent', 'Daisy Ridley'], dtype='<U17'),\n",
       " 'entry_year': array([2020, 2019, 2021, 2018, 2020, 2019, 2021, 2018, 2020, 2019, 2020,\n",
       "        2018, 2021, 2019, 2020, 2018, 2021, 2019, 2020, 2021, 2018, 2019,\n",
       "        2020, 2021, 2018, 2019, 2021, 2020, 2019, 2021]),\n",
       " 'test_score_at_entry': array([82, 75, 83, 89, 87, 80, 90, 91, 92, 89, 88, 90, 91, 80, 91, 88, 89,\n",
       "        92, 79, 89, 83, 90, 81, 82, 91, 89, 82, 91, 85, 88]),\n",
       " 'class_year': array([2022, 2021, 2023, 2020, 2022, 2021, 2023, 2020, 2022, 2021, 2022,\n",
       "        2020, 2023, 2021, 2022, 2020, 2023, 2021, 2022, 2023, 2020, 2021,\n",
       "        2022, 2023, 2020, 2021, 2023, 2022, 2021, 2023]),\n",
       " 'class_score': array([84, 80, 86, 90, 90, 81, 91, 91, 92, 89, 88, 90, 92, 81, 90, 88, 88,\n",
       "        91, 80, 90, 84, 90, 81, 82, 91, 88, 82, 92, 86, 88])}"
      ]
     },
     "execution_count": 366,
     "metadata": {},
     "output_type": "execute_result"
    }
   ],
   "source": [
    "# Complete the code that converts all columns into an ndarray\n",
    "\n",
    "set_keys = students_data.keys()\n",
    "for col in set_keys:\n",
    "    students_data[col] = np.array(students_data[col])\n",
    "\n",
    "students_data\n",
    "\n",
    "# list comprehension way of writing a dictionary\n",
    "# student_data = {col:np.array(students_data[col]) for col in students_data.keys()}\n"
   ]
  },
  {
   "cell_type": "markdown",
   "metadata": {},
   "source": [
    "Now, we can work on the same question much easier! For example, we can now compute the score differences using one line."
   ]
  },
  {
   "cell_type": "code",
   "execution_count": 367,
   "metadata": {},
   "outputs": [
    {
     "data": {
      "text/plain": [
       "array([2, 5, 3, 1, 3])"
      ]
     },
     "execution_count": 367,
     "metadata": {},
     "output_type": "execute_result"
    }
   ],
   "source": [
    "# Compute the score differences using one line of code.\n",
    "students_data[\"score_difference\"] = students_data[\"class_score\"] - students_data[\"test_score_at_entry\"]\n",
    "\n",
    "# show first five\n",
    "students_data[\"score_difference\"][0:5]"
   ]
  },
  {
   "cell_type": "markdown",
   "metadata": {},
   "source": [
    "Immediately, we also find that other questions are so much easier. "
   ]
  },
  {
   "cell_type": "code",
   "execution_count": 368,
   "metadata": {},
   "outputs": [
    {
     "data": {
      "text/plain": [
       "array([[1.   , 0.965],\n",
       "       [0.965, 1.   ]])"
      ]
     },
     "execution_count": 368,
     "metadata": {},
     "output_type": "execute_result"
    }
   ],
   "source": [
    "# Find the correlation between entry test score and class score\n",
    "np.corrcoef(students_data[\"test_score_at_entry\"], students_data[\"class_score\"]).round(3)\n",
    "\n",
    "#   we get a correlation matrix, the upper-right and bottom-left are correlation coefficient"
   ]
  },
  {
   "cell_type": "code",
   "execution_count": 369,
   "metadata": {},
   "outputs": [
    {
     "name": "stdout",
     "output_type": "stream",
     "text": [
      "87.375 12.734\n"
     ]
    }
   ],
   "source": [
    "# Find the average and standard deviations of class scores for students who entered in or after 2021\n",
    "entered_post_2021 = students_data[\"entry_year\"] >= 2021\n",
    "score_array = students_data[\"class_score\"][entered_post_2021]\n",
    "\n",
    "print(score_array.mean().round(3), score_array.var().round(3))  # print mean and variance\n"
   ]
  },
  {
   "cell_type": "code",
   "execution_count": 370,
   "metadata": {},
   "outputs": [
    {
     "data": {
      "text/plain": [
       "array(['Ian McKellen', 'Megan Fox', 'Bruce Wayne', 'George Clooney',\n",
       "       'Hannah Montana', 'Rachel Green', 'Yvonne Strahovski',\n",
       "       'Diana Prince', 'Ethan Hunt', 'Lara Croft', 'Olivia Wilde',\n",
       "       'Tina Fey', 'Vin Diesel'], dtype='<U17')"
      ]
     },
     "execution_count": 370,
     "metadata": {},
     "output_type": "execute_result"
    }
   ],
   "source": [
    "# Find the list of students who scored above 90 (inclusive). Return their names ordered in descending order of their scores. \n",
    "score_above_90 = students_data[\"class_score\"] >= 90     # this time use bool as mask\n",
    "student_names = students_data[\"name\"][score_above_90]   # selects student names in this set\n",
    "student_scores = students_data[\"class_score\"][score_above_90]   # selects student scores in this set\n",
    "student_names[np.argsort(-student_scores)]\n"
   ]
  },
  {
   "cell_type": "markdown",
   "metadata": {},
   "source": [
    "### 3. Read and modify an image\n",
    "As you can see in section 2.2's example 3, color images can be viewed as a width x height x 3 (RGB) array. So that means, we can read an image, alter it, and export it to look at what we have done. So we'll do three things with an image. The first is to alter the color profile, i.e., mix with our own color schemes. Second, to sample fewer pixels to reduce the image's size. On the latter, we can apply much more efficient algorithms to reduce image size, but that's beyond this exercise."
   ]
  },
  {
   "cell_type": "markdown",
   "metadata": {},
   "source": [
    "Okay let's do so by working on one image first, and then let's scale this exercise to more images. We can first read the image and covert it to an array of RGBs, using PIL. "
   ]
  },
  {
   "cell_type": "markdown",
   "metadata": {},
   "source": [
    "This is the input\n",
    "\n",
    "<img src=\"./images/1.jpg\" width=\"500\"/>"
   ]
  },
  {
   "cell_type": "code",
   "execution_count": 371,
   "metadata": {},
   "outputs": [
    {
     "data": {
      "text/plain": [
       "(4592, 3448, 3)"
      ]
     },
     "execution_count": 371,
     "metadata": {},
     "output_type": "execute_result"
    }
   ],
   "source": [
    "# read one image from the subfolder \"./images\" (dot indicates we start from the code's folder and move to the subfolder \"images\")\n",
    "\n",
    "# We've loaded both libraries, but just to reiterate we needed these\n",
    "from PIL import Image\n",
    "import numpy as np\n",
    "\n",
    "# read the image\n",
    "image = Image.open('./images/1.jpg')\n",
    "\n",
    "# convert it to ndarray\n",
    "image_array = np.array(image)\n",
    "\n",
    "# check shape -- looks like width x height x 3 (RGB)\n",
    "image_array.shape"
   ]
  },
  {
   "cell_type": "code",
   "execution_count": 372,
   "metadata": {},
   "outputs": [
    {
     "data": {
      "text/plain": [
       "array([[103, 103, 103, 103, 103, 104, 104, 104, 102, 102],\n",
       "       [103, 103, 103, 103, 103, 103, 104, 104, 102, 102],\n",
       "       [105, 105, 104, 104, 104, 104, 104, 104, 103, 103],\n",
       "       [105, 105, 105, 105, 104, 104, 104, 104, 103, 103],\n",
       "       [106, 106, 105, 105, 104, 104, 103, 103, 103, 103],\n",
       "       [106, 106, 105, 105, 104, 103, 103, 103, 103, 103],\n",
       "       [108, 107, 107, 106, 105, 104, 103, 103, 104, 104],\n",
       "       [108, 107, 107, 106, 105, 104, 103, 103, 104, 104],\n",
       "       [106, 106, 107, 107, 107, 107, 106, 106, 103, 104],\n",
       "       [106, 106, 107, 108, 108, 107, 106, 106, 104, 104]], dtype=uint8)"
      ]
     },
     "execution_count": 372,
     "metadata": {},
     "output_type": "execute_result"
    }
   ],
   "source": [
    "# check the values are RGB\n",
    "image_array[0:10, 0:10, 0]"
   ]
  },
  {
   "cell_type": "markdown",
   "metadata": {},
   "source": [
    "And for whatever we do to this image, we can export it to an output folder, `./output/`. Do not overwrite the original image (or you have to download again).\n",
    "\n",
    "We haven't done anything to it, but let's just write that file."
   ]
  },
  {
   "cell_type": "code",
   "execution_count": 373,
   "metadata": {},
   "outputs": [],
   "source": [
    "# make sure values are between 0 and 255 and type is int\n",
    "image_array = np.maximum(image_array, 0)        # if image_array is below 0, take 0\n",
    "image_array = np.minimum(image_array, 255)      # is above 255, take 255\n",
    "image_array = image_array.astype(\"uint8\")       # has to be uint8, required by PIL\n",
    "\n",
    "# convert and export\n",
    "image_out = Image.fromarray(image_array)    \n",
    "image_out.save(\"./output/1.jpg\")"
   ]
  },
  {
   "cell_type": "markdown",
   "metadata": {},
   "source": [
    "This is the output. We haven't change it just yet.\n",
    "\n",
    "<img src=\"./output/1.jpg\" width=\"500\"/>"
   ]
  },
  {
   "cell_type": "markdown",
   "metadata": {},
   "source": [
    "Now that we can open an image and save it to a file, the remaining tasks are three-fold:\n",
    "\n",
    "1. Make the image warmer brighter. To do so, take each of the R, G, and B channels and increase by a percentage.\n",
    "\n",
    "2. We don't need that many pixels. Sample one in every three pixels to make the image's width and height approximately a third of what they are.\n",
    "\n",
    "3. Write these modifications together with the code to open and close an image. Package everything into a function `process_image`. Then write a loop that iterates it across all 12 images (image numbers 1 to 12).\n",
    "\n"
   ]
  },
  {
   "cell_type": "code",
   "execution_count": 374,
   "metadata": {},
   "outputs": [],
   "source": [
    "# Test code: increase RGB by the same percentage. Suppose we already have `image_array`.\n",
    "constant = 15\n",
    "image_array[:, :, 0] = image_array[:, :, 0] * (1 + constant/100)        # R\n",
    "image_array[:, :, 1] = image_array[:, :, 1] * (1 + constant/100)        # G\n",
    "image_array[:, :, 2] = image_array[:, :, 2] * (1 + constant/100)        # B"
   ]
  },
  {
   "cell_type": "code",
   "execution_count": 375,
   "metadata": {},
   "outputs": [],
   "source": [
    "# test it out\n",
    "image_new = np.maximum(image_new, 0)        \n",
    "image_new = np.minimum(image_new, 255)      \n",
    "image_new = image_new.astype(\"uint8\")       \n",
    "image_new_out = Image.fromarray(image_new)    \n",
    "image_new_out.show()"
   ]
  },
  {
   "cell_type": "code",
   "execution_count": 376,
   "metadata": {},
   "outputs": [],
   "source": [
    "# Test code: shrink the image by sampling one in three pixels\n",
    "(x, y, z) = image_array.shape                   # recall: packaging\n",
    "image_new = image_array[0:x-1:3, 0:y-1:3, :]    # recall: slicing"
   ]
  },
  {
   "cell_type": "code",
   "execution_count": 377,
   "metadata": {},
   "outputs": [
    {
     "name": "stdout",
     "output_type": "stream",
     "text": [
      "processing image 1\n",
      "processing image 2\n",
      "processing image 3\n",
      "processing image 4\n",
      "processing image 5\n",
      "processing image 6\n",
      "processing image 7\n",
      "processing image 8\n",
      "processing image 9\n",
      "processing image 10\n",
      "processing image 11\n",
      "processing image 12\n"
     ]
    }
   ],
   "source": [
    "# Complete this whole code please\n",
    "\n",
    "# Load libraries\n",
    "from PIL import Image\n",
    "import numpy as np\n",
    "\n",
    "# function that processes image\n",
    "def process_image(img, val):\n",
    "\n",
    "    # read the image\n",
    "    image = Image.open(f'./images/{img}.jpg')\n",
    "\n",
    "    # convert it to ndarray\n",
    "    image_array = np.array(image)\n",
    "\n",
    "    # process colors\n",
    "    image_array[:, :, 0] = image_array[:, :, 0] * (1 + val/100)        # R\n",
    "    image_array[:, :, 1] = image_array[:, :, 1] * (1 + val/100)        # G\n",
    "    image_array[:, :, 2] = image_array[:, :, 2] * (1 + val/100)        # B    \n",
    "\n",
    "    # shrink the image by sampling one in three pixels\n",
    "    (x, y, z) = image_array.shape                   # recall: packaging\n",
    "    image_new = image_array[0:x-1:3, 0:y-1:3, :]    # recall: slicing\n",
    "\n",
    "    # finalize the image\n",
    "    image_new = np.maximum(image_new, 0)        \n",
    "    image_new = np.minimum(image_new, 255)      \n",
    "    image_new = image_new.astype(\"uint8\")       \n",
    "    image_new_out = Image.fromarray(image_new)    \n",
    "\n",
    "    # convert and export\n",
    "    image_new_out.save(f\"./output/{img}.jpg\")\n",
    "\n",
    "# run all\n",
    "for img in range(1, 13):\n",
    "    print(f\"processing image {img}\")\n",
    "    process_image(img, -15)\n",
    "\n"
   ]
  }
 ],
 "metadata": {
  "kernelspec": {
   "display_name": "gba464",
   "language": "python",
   "name": "python3"
  },
  "language_info": {
   "codemirror_mode": {
    "name": "ipython",
    "version": 3
   },
   "file_extension": ".py",
   "mimetype": "text/x-python",
   "name": "python",
   "nbconvert_exporter": "python",
   "pygments_lexer": "ipython3",
   "version": "3.9.19"
  }
 },
 "nbformat": 4,
 "nbformat_minor": 2
}
